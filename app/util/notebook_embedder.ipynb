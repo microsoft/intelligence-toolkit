{
 "cells": [
  {
   "cell_type": "markdown",
   "metadata": {},
   "source": [
    "# Old embedder:"
   ]
  },
  {
   "cell_type": "code",
   "execution_count": null,
   "metadata": {},
   "outputs": [],
   "source": [
    "from openai import OpenAI\n",
    "import tiktoken\n",
    "import os\n",
    "import json\n",
    "import numpy as np\n",
    "\n",
    "gen_model = 'gpt-4-turbo-preview'\n",
    "embed_model = 'text-embedding-3-small'\n",
    "text_encoder = 'cl100k_base'\n",
    "max_gen_tokens = 4096\n",
    "max_input_tokens = 128000\n",
    "default_temperature = 0\n",
    "max_embed_tokens = 8191\n",
    "\n",
    "client = OpenAI()\n",
    "encoder = tiktoken.get_encoding(text_encoder)\n",
    "\n",
    "class Embedder1:\n",
    "    def __init__(self, cache, model=embed_model, encoder=text_encoder, max_tokens=max_embed_tokens) -> None:\n",
    "        self.model = model\n",
    "        self.encoder = tiktoken.get_encoding(encoder)\n",
    "        self.max_tokens = max_tokens\n",
    "        self.cache = cache\n",
    "        if not os.path.exists(cache):\n",
    "            os.makedirs(cache)\n",
    "\n",
    "    def encode_all(self, texts):\n",
    "        final_embeddings = [None] * len(texts)\n",
    "        new_texts  = []\n",
    "        for ix, text in enumerate(texts):\n",
    "            text = text.replace(\"\\n\", \" \")\n",
    "            hsh = hash(text)\n",
    "            path = os.path.join(self.cache, f'{hsh}.txt')\n",
    "            if not os.path.exists(path):\n",
    "                new_texts.append((ix, text))\n",
    "            else:\n",
    "                final_embeddings[ix] = np.array([float(x) for x in open(path, 'r').read().split('\\n') if len(x) > 0])\n",
    "        print(f'Got {len(new_texts)} new texts')\n",
    "        # split into batches of 2000\n",
    "        for i in range(0, len(new_texts), 2000):\n",
    "            batch = new_texts[i:i+2000]\n",
    "            batch_texts = [x[1] for x in batch]\n",
    "            embeddings = [x.embedding for x in client.embeddings.create(input = batch_texts, model=self.model).data]\n",
    "            for j, (ix, text) in enumerate(batch):\n",
    "                hsh = hash(text)\n",
    "                path = os.path.join(self.cache, f'{hsh}.txt')\n",
    "                np.savetxt(path, embeddings[j], delimiter=',')\n",
    "                final_embeddings[ix] = np.array(embeddings[j])\n",
    "        return np.array(final_embeddings)\n",
    "\n",
    "    def encode(self, text):\n",
    "        text = text.replace(\"\\n\", \" \")\n",
    "        hsh = hash(text)\n",
    "        path = os.path.join(self.cache, f'{hsh}.txt')\n",
    "        if os.path.exists(path):\n",
    "            return np.array([float(x) for x in open(path, 'r').read().split('\\n') if len(x) > 0])\n",
    "        else:\n",
    "            tokens = len(self.encoder.encode(text))\n",
    "            if tokens > self.max_tokens:\n",
    "                text = text[:self.max_tokens]\n",
    "                print('Truncated text to max tokens')\n",
    "            try:\n",
    "                embedding = client.embeddings.create(input = [text], model=self.model).data[0].embedding\n",
    "                np.savetxt(path, embedding, delimiter=',')\n",
    "                return np.array(embedding)\n",
    "            except:\n",
    "                print(f'Error embedding text: {text}')\n",
    "                return None\n",
    "\n",
    "def create_embedder(cache, model=embed_model, encoder=text_encoder, max_tokens=max_embed_tokens):\n",
    "    return Embedder(cache, model, encoder, max_tokens)"
   ]
  },
  {
   "cell_type": "code",
   "execution_count": 3,
   "metadata": {},
   "outputs": [
    {
     "ename": "CatalogException",
     "evalue": "Catalog Error: Table with name tbl does not exist!\nDid you mean \"information_schema.tables\"?",
     "output_type": "error",
     "traceback": [
      "\u001b[1;31m---------------------------------------------------------------------------\u001b[0m",
      "\u001b[1;31mCatalogException\u001b[0m                          Traceback (most recent call last)",
      "Cell \u001b[1;32mIn[3], line 3\u001b[0m\n\u001b[0;32m      1\u001b[0m \u001b[38;5;28;01mimport\u001b[39;00m \u001b[38;5;21;01mduckdb\u001b[39;00m\n\u001b[0;32m      2\u001b[0m con \u001b[38;5;241m=\u001b[39m duckdb\u001b[38;5;241m.\u001b[39mconnect(\u001b[38;5;124m\"\u001b[39m\u001b[38;5;124m:default:\u001b[39m\u001b[38;5;124m\"\u001b[39m)\n\u001b[1;32m----> 3\u001b[0m \u001b[43mcon\u001b[49m\u001b[38;5;241;43m.\u001b[39;49m\u001b[43msql\u001b[49m\u001b[43m(\u001b[49m\u001b[38;5;124;43m\"\u001b[39;49m\u001b[38;5;124;43mSELECT * FROM tbl\u001b[39;49m\u001b[38;5;124;43m\"\u001b[39;49m\u001b[43m)\u001b[49m\n",
      "\u001b[1;31mCatalogException\u001b[0m: Catalog Error: Table with name tbl does not exist!\nDid you mean \"information_schema.tables\"?"
     ]
    }
   ],
   "source": [
    "import duckdb\n",
    "con = duckdb.connect(\":default:\")\n",
    "con.sql(\"SELECT * FROM tbl\")"
   ]
  },
  {
   "cell_type": "code",
   "execution_count": 8,
   "metadata": {},
   "outputs": [
    {
     "name": "stdout",
     "output_type": "stream",
     "text": [
      "[\n",
      "oib [\n"
     ]
    },
    {
     "name": "stderr",
     "output_type": "stream",
     "text": [
      "C:\\Users\\ddesouza\\AppData\\Local\\Temp\\ipykernel_24456\\863069983.py:6: DeprecationWarning: string or file could not be read to its end due to unmatched data; this will raise a ValueError in the future.\n",
      "  oab = np.fromstring(oib, sep=' ')\n"
     ]
    }
   ],
   "source": [
    "import numpy as np\n",
    "exists = [('[ 0.04866408  0.00642491 -0.00871138 ...  0.00014402  0.01314187\\n -0.00945217]',)]\n",
    "print(exists[0][0])\n",
    "oib = exists[0][0]\n",
    "print('oib', oib)\n",
    "oab = np.fromstring(oib, sep=' ')\n",
    "print(type(oab))"
   ]
  }
 ],
 "metadata": {
  "kernelspec": {
   "display_name": "venv",
   "language": "python",
   "name": "python3"
  },
  "language_info": {
   "codemirror_mode": {
    "name": "ipython",
    "version": 3
   },
   "file_extension": ".py",
   "mimetype": "text/x-python",
   "name": "python",
   "nbconvert_exporter": "python",
   "pygments_lexer": "ipython3",
   "version": "3.11.8"
  }
 },
 "nbformat": 4,
 "nbformat_minor": 2
}
