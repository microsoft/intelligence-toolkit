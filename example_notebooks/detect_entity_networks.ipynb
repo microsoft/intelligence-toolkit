{
 "cells": [
  {
   "cell_type": "code",
   "execution_count": 8,
   "metadata": {},
   "outputs": [],
   "source": [
    "import sys\n",
    "\n",
    "sys.path.append(\"..\")\n",
    "import os\n",
    "from toolkit.detect_entity_networks.api import DetectEntityNetworks\n",
    "from toolkit.AI.openai_configuration import OpenAIConfiguration\n",
    "import polars as pl"
   ]
  },
  {
   "cell_type": "code",
   "execution_count": 9,
   "metadata": {},
   "outputs": [
    {
     "name": "stdout",
     "output_type": "stream",
     "text": [
      "Loaded data\n"
     ]
    }
   ],
   "source": [
    "# Create the workflow object\n",
    "den = DetectEntityNetworks()\n",
    "# Set the AI configuration\n",
    "ai_configuration = OpenAIConfiguration(\n",
    "    {\n",
    "        \"api_type\": \"OpenAI\",\n",
    "        \"api_key\": os.environ[\"OPENAI_API_KEY\"],\n",
    "        \"model\": \"gpt-4o\",\n",
    "    }\n",
    ")\n",
    "den.set_ai_configuration(ai_configuration)\n",
    "\n",
    "data_path = \"../example_outputs/detect_entity_networks/company_grievances/company_grievances_input.csv\"\n",
    "entity_df = pl.read_csv(data_path)\n",
    "\n",
    "print(\"Loaded data\")"
   ]
  },
  {
   "cell_type": "code",
   "execution_count": 10,
   "metadata": {},
   "outputs": [
    {
     "name": "stdout",
     "output_type": "stream",
     "text": [
      "Summary\n",
      "Number of entities: 3602, Number of attributes: 18549, Number of flags: 0, Number of groups: 0, Number of links: 41727\n"
     ]
    }
   ],
   "source": [
    "# set entity-attributes\n",
    "from toolkit.detect_entity_networks.prepare_model import format_data_columns\n",
    "\n",
    "\n",
    "entity_id_column = \"name\"\n",
    "columns_to_link = [\"address\", \"city\", \"email\", \"phone\", \"owner\"]\n",
    "entity_df = format_data_columns(entity_df, columns_to_link, entity_id_column)\n",
    "den.add_attribute_links(entity_df, entity_id_column, columns_to_link)\n",
    "\n",
    "summary = den.get_model_summary_value()\n",
    "print(\"Summary\")\n",
    "print(summary)"
   ]
  },
  {
   "cell_type": "code",
   "execution_count": 4,
   "metadata": {},
   "outputs": [
    {
     "name": "stdout",
     "output_type": "stream",
     "text": [
      "Summary\n",
      "Number of entities: 3687, Number of attributes: 18663, Number of flags: 8108, Number of groups: 0, Number of links: 41971\n"
     ]
    }
   ],
   "source": [
    "# set flags\n",
    "from toolkit.detect_entity_networks.classes import FlagAggregatorType\n",
    "\n",
    "\n",
    "entity_id_column = \"name\"\n",
    "columns_to_link = [\n",
    "    \"safety_grievances\",\n",
    "    \"pay_grievances\",\n",
    "    \"conditions_grievances\",\n",
    "    \"treatment_grievances\",\n",
    "    \"workload_grievances\",\n",
    "]\n",
    "flag_format = FlagAggregatorType.Count\n",
    "den.add_flag_links(entity_df, entity_id_column, columns_to_link, flag_format)\n",
    "summary = den.get_model_summary_value()\n",
    "print(\"Summary\")\n",
    "print(summary)"
   ]
  },
  {
   "cell_type": "code",
   "execution_count": 5,
   "metadata": {},
   "outputs": [
    {
     "name": "stdout",
     "output_type": "stream",
     "text": [
      "Summary\n",
      "Number of entities: 3687, Number of attributes: 18663, Number of flags: 8108, Number of groups: 634, Number of links: 41971\n"
     ]
    }
   ],
   "source": [
    "# set groups\n",
    "entity_id_column = \"name\"\n",
    "columns_to_link = [\"sector\", \"country\"]\n",
    "den.add_groups(entity_df, entity_id_column, columns_to_link)\n",
    "\n",
    "summary = den.get_model_summary_value()\n",
    "print(\"Summary\")\n",
    "print(summary)"
   ]
  }
 ],
 "metadata": {
  "kernelspec": {
   "display_name": ".venv",
   "language": "python",
   "name": "python3"
  },
  "language_info": {
   "codemirror_mode": {
    "name": "ipython",
    "version": 3
   },
   "file_extension": ".py",
   "mimetype": "text/x-python",
   "name": "python",
   "nbconvert_exporter": "python",
   "pygments_lexer": "ipython3",
   "version": "3.11.9"
  }
 },
 "nbformat": 4,
 "nbformat_minor": 2
}
