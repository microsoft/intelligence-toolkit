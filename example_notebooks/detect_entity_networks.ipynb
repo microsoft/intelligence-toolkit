{
 "cells": [
  {
   "cell_type": "code",
   "execution_count": 1,
   "metadata": {},
   "outputs": [
    {
     "name": "stderr",
     "output_type": "stream",
     "text": [
      "/home/ddesouza/Projects/intelligence-toolkit/.venv/lib/python3.11/site-packages/tqdm/auto.py:21: TqdmWarning: IProgress not found. Please update jupyter and ipywidgets. See https://ipywidgets.readthedocs.io/en/stable/user_install.html\n",
      "  from .autonotebook import tqdm as notebook_tqdm\n"
     ]
    }
   ],
   "source": [
    "import sys\n",
    "\n",
    "sys.path.append(\"..\")\n",
    "import os\n",
    "from toolkit.detect_entity_networks.api import DetectEntityNetworks\n",
    "from toolkit.AI.openai_configuration import OpenAIConfiguration\n",
    "import polars as pl"
   ]
  },
  {
   "cell_type": "code",
   "execution_count": 2,
   "metadata": {},
   "outputs": [
    {
     "name": "stdout",
     "output_type": "stream",
     "text": [
      "Loaded data\n"
     ]
    }
   ],
   "source": [
    "# Create the workflow object\n",
    "den = DetectEntityNetworks()\n",
    "# Set the AI configuration\n",
    "ai_configuration = OpenAIConfiguration(\n",
    "    {\n",
    "        \"api_type\": \"OpenAI\",\n",
    "        \"api_key\": os.environ[\"OPENAI_API_KEY\"],\n",
    "        \"model\": \"gpt-4o\",\n",
    "    }\n",
    ")\n",
    "den.set_ai_configuration(ai_configuration)\n",
    "\n",
    "data_path = \"../example_outputs/detect_entity_networks/company_grievances/company_grievances_input.csv\"\n",
    "entity_df = pl.read_csv(data_path)\n",
    "\n",
    "print(\"Loaded data\")"
   ]
  },
  {
   "cell_type": "code",
   "execution_count": 3,
   "metadata": {},
   "outputs": [
    {
     "name": "stdout",
     "output_type": "stream",
     "text": [
      "Summary\n",
      "Number of entities: 3602, Number of attributes: 18549, Number of flags: 0, Number of groups: 0, Number of links: 41727\n"
     ]
    }
   ],
   "source": [
    "# set entity-attributes\n",
    "from toolkit.detect_entity_networks.prepare_model import format_data_columns\n",
    "\n",
    "\n",
    "entity_id_column = \"name\"\n",
    "columns_to_link = [\"address\", \"city\", \"email\", \"phone\", \"owner\"]\n",
    "entity_df = format_data_columns(entity_df, columns_to_link, entity_id_column)\n",
    "den.add_attribute_links(entity_df, entity_id_column, columns_to_link)\n",
    "\n",
    "summary = den.get_model_summary_value()\n",
    "print(\"Summary\")\n",
    "print(summary)"
   ]
  },
  {
   "cell_type": "code",
   "execution_count": 4,
   "metadata": {},
   "outputs": [
    {
     "name": "stdout",
     "output_type": "stream",
     "text": [
      "Summary\n",
      "Number of entities: 3602, Number of attributes: 18549, Number of flags: 8108, Number of groups: 0, Number of links: 41727\n"
     ]
    }
   ],
   "source": [
    "# set flags\n",
    "from toolkit.detect_entity_networks.classes import FlagAggregatorType\n",
    "\n",
    "\n",
    "entity_id_column = \"name\"\n",
    "columns_to_link = [\n",
    "    \"safety_grievances\",\n",
    "    \"pay_grievances\",\n",
    "    \"conditions_grievances\",\n",
    "    \"treatment_grievances\",\n",
    "    \"workload_grievances\",\n",
    "]\n",
    "flag_format = FlagAggregatorType.Count\n",
    "den.add_flag_links(entity_df, entity_id_column, columns_to_link, flag_format)\n",
    "summary = den.get_model_summary_value()\n",
    "print(\"Summary\")\n",
    "print(summary)"
   ]
  },
  {
   "cell_type": "code",
   "execution_count": 5,
   "metadata": {},
   "outputs": [
    {
     "name": "stdout",
     "output_type": "stream",
     "text": [
      "Summary\n",
      "Number of entities: 3602, Number of attributes: 18549, Number of flags: 8108, Number of groups: 634, Number of links: 41727\n"
     ]
    }
   ],
   "source": [
    "# set groups\n",
    "entity_id_column = \"name\"\n",
    "columns_to_link = [\"sector\", \"country\"]\n",
    "den.add_groups(entity_df, entity_id_column, columns_to_link)\n",
    "\n",
    "summary = den.get_model_summary_value()\n",
    "print(\"Summary\")\n",
    "print(summary)"
   ]
  },
  {
   "cell_type": "code",
   "execution_count": 6,
   "metadata": {},
   "outputs": [
    {
     "name": "stdout",
     "output_type": "stream",
     "text": [
      "Got 3602 existing texts\n",
      "Got 0 new texts\n",
      "Number of nodes indexed: 3602\n"
     ]
    }
   ],
   "source": [
    "await den.index_nodes([\"ENTITY\"])\n",
    "if len(den.embedded_texts) > 0:\n",
    "    print(f\"Number of nodes indexed: {len(den.embedded_texts)}\")"
   ]
  },
  {
   "cell_type": "code",
   "execution_count": 7,
   "metadata": {},
   "outputs": [
    {
     "name": "stdout",
     "output_type": "stream",
     "text": [
      "Number of links inferred: 2242\n",
      "shape: (3_547, 2)\n",
      "┌───────────────────────┬────────────────────────┐\n",
      "│ text                  ┆ similar                │\n",
      "│ ---                   ┆ ---                    │\n",
      "│ str                   ┆ str                    │\n",
      "╞═══════════════════════╪════════════════════════╡\n",
      "│ Adventure Gear        ┆ Adventure Gear Co      │\n",
      "│ Adventure Gear        ┆ Adventure Gear Company │\n",
      "│ Adventure Gear        ┆ AdventureGear          │\n",
      "│ Adventure Gear Co     ┆ Adventure Gear Company │\n",
      "│ Adventure Gear Co     ┆ AdventureGear Co       │\n",
      "│ …                     ┆ …                      │\n",
      "│ WindPower Corp        ┆ WindPower Inc          │\n",
      "│ WindPower Solutions   ┆ WindPower Solutons     │\n",
      "│ Windy Heights Limited ┆ Windy Heights Ltd      │\n",
      "│ WindyCity Energy      ┆ WindyCity Power        │\n",
      "│ Zephyr Energy Co      ┆ Zephyr Energy Inc      │\n",
      "└───────────────────────┴────────────────────────┘\n"
     ]
    }
   ],
   "source": [
    "############REMOVE FN from toolkit.detect_entity_networks.index_and_infer import build_inferred_df\n",
    "\n",
    "\n",
    "threshold = 0.03\n",
    "await den.infer_nodes(threshold)\n",
    "\n",
    "inferred_links_count = len(den.inferred_links)\n",
    "if inferred_links_count > 0:\n",
    "    print(f\"Number of links inferred: {inferred_links_count}\")\n",
    "    inferred_df = den.inferred_nodes_df()\n",
    "    print(inferred_df)\n",
    "else:\n",
    "    print(\"No inferred links\")"
   ]
  },
  {
   "cell_type": "code",
   "execution_count": 8,
   "metadata": {},
   "outputs": [],
   "source": [
    "# Remove attributes\n"
   ]
  },
  {
   "cell_type": "code",
   "execution_count": 9,
   "metadata": {},
   "outputs": [],
   "source": [
    "den.identify()"
   ]
  },
  {
   "cell_type": "code",
   "execution_count": 10,
   "metadata": {},
   "outputs": [
    {
     "name": "stdout",
     "output_type": "stream",
     "text": [
      "Networks identified: 433 (433 with multiple entities, maximum 19)\n",
      "Attributes removed because of high degree: 443\n",
      "shape: (443, 2)\n",
      "┌──────────────────────────┬─────────────────┐\n",
      "│ Attribute                ┆ Linked Entities │\n",
      "│ ---                      ┆ ---             │\n",
      "│ str                      ┆ i64             │\n",
      "╞══════════════════════════╪═════════════════╡\n",
      "│ owner==Morgan Build      ┆ 11              │\n",
      "│ city==ArtCity            ┆ 11              │\n",
      "│ city==Port City          ┆ 11              │\n",
      "│ phone==9876543220        ┆ 11              │\n",
      "│ address==123 Silicon Ave ┆ 11              │\n",
      "│ …                        ┆ …               │\n",
      "│ city==Construct City     ┆ 189             │\n",
      "│ city==Eco City           ┆ 189             │\n",
      "│ city==Techville          ┆ 223             │\n",
      "│ phone==5566778899        ┆ 225             │\n",
      "│ phone==1122334455        ┆ 335             │\n",
      "└──────────────────────────┴─────────────────┘\n"
     ]
    }
   ],
   "source": [
    "print(den.get_records_summary())\n",
    "print(f\"Attributes removed because of high degree: {len(den.trimmed_attributes)}\")\n",
    "print(den.trimmed_attributes)"
   ]
  },
  {
   "cell_type": "code",
   "execution_count": 11,
   "metadata": {},
   "outputs": [
    {
     "data": {
      "text/html": [
       "<div><style>\n",
       ".dataframe > thead > tr,\n",
       ".dataframe > tbody > tr {\n",
       "  text-align: right;\n",
       "  white-space: pre-wrap;\n",
       "}\n",
       "</style>\n",
       "<small>shape: (5, 8)</small><table border=\"1\" class=\"dataframe\"><thead><tr><th>entity_id</th><th>entity_flags</th><th>network_id</th><th>network_entities</th><th>network_flags</th><th>flagged</th><th>flags/entity</th><th>flagged/unflagged</th></tr><tr><td>str</td><td>i64</td><td>i64</td><td>i64</td><td>i64</td><td>i64</td><td>f64</td><td>f64</td></tr></thead><tbody><tr><td>&quot;MediaWave Stud…</td><td>6</td><td>213</td><td>10</td><td>93</td><td>9</td><td>9.3</td><td>9.0</td></tr><tr><td>&quot;WaveTech Produ…</td><td>7</td><td>213</td><td>10</td><td>93</td><td>9</td><td>9.3</td><td>9.0</td></tr><tr><td>&quot;MediaWave Prod…</td><td>16</td><td>213</td><td>10</td><td>93</td><td>9</td><td>9.3</td><td>9.0</td></tr><tr><td>&quot;Creative Visio…</td><td>0</td><td>213</td><td>10</td><td>93</td><td>9</td><td>9.3</td><td>9.0</td></tr><tr><td>&quot;Wave Media Gro…</td><td>4</td><td>213</td><td>10</td><td>93</td><td>9</td><td>9.3</td><td>9.0</td></tr></tbody></table></div>"
      ],
      "text/plain": [
       "shape: (5, 8)\n",
       "┌────────────┬────────────┬────────────┬────────────┬────────────┬─────────┬───────────┬───────────┐\n",
       "│ entity_id  ┆ entity_fla ┆ network_id ┆ network_en ┆ network_fl ┆ flagged ┆ flags/ent ┆ flagged/u │\n",
       "│ ---        ┆ gs         ┆ ---        ┆ tities     ┆ ags        ┆ ---     ┆ ity       ┆ nflagged  │\n",
       "│ str        ┆ ---        ┆ i64        ┆ ---        ┆ ---        ┆ i64     ┆ ---       ┆ ---       │\n",
       "│            ┆ i64        ┆            ┆ i64        ┆ i64        ┆         ┆ f64       ┆ f64       │\n",
       "╞════════════╪════════════╪════════════╪════════════╪════════════╪═════════╪═══════════╪═══════════╡\n",
       "│ MediaWave  ┆ 6          ┆ 213        ┆ 10         ┆ 93         ┆ 9       ┆ 9.3       ┆ 9.0       │\n",
       "│ Studios    ┆            ┆            ┆            ┆            ┆         ┆           ┆           │\n",
       "│ WaveTech   ┆ 7          ┆ 213        ┆ 10         ┆ 93         ┆ 9       ┆ 9.3       ┆ 9.0       │\n",
       "│ Production ┆            ┆            ┆            ┆            ┆         ┆           ┆           │\n",
       "│ s          ┆            ┆            ┆            ┆            ┆         ┆           ┆           │\n",
       "│ MediaWave  ┆ 16         ┆ 213        ┆ 10         ┆ 93         ┆ 9       ┆ 9.3       ┆ 9.0       │\n",
       "│ Production ┆            ┆            ┆            ┆            ┆         ┆           ┆           │\n",
       "│ s Inc      ┆            ┆            ┆            ┆            ┆         ┆           ┆           │\n",
       "│ Creative   ┆ 0          ┆ 213        ┆ 10         ┆ 93         ┆ 9       ┆ 9.3       ┆ 9.0       │\n",
       "│ Visions    ┆            ┆            ┆            ┆            ┆         ┆           ┆           │\n",
       "│ Wave Media ┆ 4          ┆ 213        ┆ 10         ┆ 93         ┆ 9       ┆ 9.3       ┆ 9.0       │\n",
       "│ Group      ┆            ┆            ┆            ┆            ┆         ┆           ┆           │\n",
       "└────────────┴────────────┴────────────┴────────────┴────────────┴─────────┴───────────┴───────────┘"
      ]
     },
     "execution_count": 11,
     "metadata": {},
     "output_type": "execute_result"
    }
   ],
   "source": [
    "# with entities\n",
    "den.get_entity_df().head()"
   ]
  },
  {
   "cell_type": "code",
   "execution_count": 12,
   "metadata": {},
   "outputs": [
    {
     "data": {
      "text/html": [
       "<div><style>\n",
       ".dataframe > thead > tr,\n",
       ".dataframe > tbody > tr {\n",
       "  text-align: right;\n",
       "  white-space: pre-wrap;\n",
       "}\n",
       "</style>\n",
       "<small>shape: (5, 10)</small><table border=\"1\" class=\"dataframe\"><thead><tr><th>entity_id</th><th>entity_flags</th><th>network_id</th><th>network_entities</th><th>network_flags</th><th>flagged</th><th>flags/entity</th><th>flagged/unflagged</th><th>sector</th><th>country</th></tr><tr><td>str</td><td>i64</td><td>i64</td><td>i64</td><td>i64</td><td>i64</td><td>f64</td><td>f64</td><td>str</td><td>str</td></tr></thead><tbody><tr><td>&quot;MediaWave Stud…</td><td>6</td><td>213</td><td>10</td><td>93</td><td>9</td><td>9.3</td><td>9.0</td><td>&quot;Media&quot;</td><td>&quot;Broadcastland&quot;</td></tr><tr><td>&quot;WaveTech Produ…</td><td>7</td><td>213</td><td>10</td><td>93</td><td>9</td><td>9.3</td><td>9.0</td><td>&quot;Media&quot;</td><td>&quot;Broadcastland&quot;</td></tr><tr><td>&quot;MediaWave Prod…</td><td>16</td><td>213</td><td>10</td><td>93</td><td>9</td><td>9.3</td><td>9.0</td><td>&quot;Media&quot;</td><td>&quot;Broadcastland&quot;</td></tr><tr><td>&quot;Creative Visio…</td><td>0</td><td>213</td><td>10</td><td>93</td><td>9</td><td>9.3</td><td>9.0</td><td>&quot;Art&quot;</td><td>&quot;Artland&quot;</td></tr><tr><td>&quot;Wave Media Gro…</td><td>4</td><td>213</td><td>10</td><td>93</td><td>9</td><td>9.3</td><td>9.0</td><td>&quot;Media&quot;</td><td>&quot;Broadcastland&quot;</td></tr></tbody></table></div>"
      ],
      "text/plain": [
       "shape: (5, 10)\n",
       "┌────────────┬────────────┬───────────┬───────────┬───┬───────────┬───────────┬────────┬───────────┐\n",
       "│ entity_id  ┆ entity_fla ┆ network_i ┆ network_e ┆ … ┆ flags/ent ┆ flagged/u ┆ sector ┆ country   │\n",
       "│ ---        ┆ gs         ┆ d         ┆ ntities   ┆   ┆ ity       ┆ nflagged  ┆ ---    ┆ ---       │\n",
       "│ str        ┆ ---        ┆ ---       ┆ ---       ┆   ┆ ---       ┆ ---       ┆ str    ┆ str       │\n",
       "│            ┆ i64        ┆ i64       ┆ i64       ┆   ┆ f64       ┆ f64       ┆        ┆           │\n",
       "╞════════════╪════════════╪═══════════╪═══════════╪═══╪═══════════╪═══════════╪════════╪═══════════╡\n",
       "│ MediaWave  ┆ 6          ┆ 213       ┆ 10        ┆ … ┆ 9.3       ┆ 9.0       ┆ Media  ┆ Broadcast │\n",
       "│ Studios    ┆            ┆           ┆           ┆   ┆           ┆           ┆        ┆ land      │\n",
       "│ WaveTech   ┆ 7          ┆ 213       ┆ 10        ┆ … ┆ 9.3       ┆ 9.0       ┆ Media  ┆ Broadcast │\n",
       "│ Production ┆            ┆           ┆           ┆   ┆           ┆           ┆        ┆ land      │\n",
       "│ s          ┆            ┆           ┆           ┆   ┆           ┆           ┆        ┆           │\n",
       "│ MediaWave  ┆ 16         ┆ 213       ┆ 10        ┆ … ┆ 9.3       ┆ 9.0       ┆ Media  ┆ Broadcast │\n",
       "│ Production ┆            ┆           ┆           ┆   ┆           ┆           ┆        ┆ land      │\n",
       "│ s Inc      ┆            ┆           ┆           ┆   ┆           ┆           ┆        ┆           │\n",
       "│ Creative   ┆ 0          ┆ 213       ┆ 10        ┆ … ┆ 9.3       ┆ 9.0       ┆ Art    ┆ Artland   │\n",
       "│ Visions    ┆            ┆           ┆           ┆   ┆           ┆           ┆        ┆           │\n",
       "│ Wave Media ┆ 4          ┆ 213       ┆ 10        ┆ … ┆ 9.3       ┆ 9.0       ┆ Media  ┆ Broadcast │\n",
       "│ Group      ┆            ┆           ┆           ┆   ┆           ┆           ┆        ┆ land      │\n",
       "└────────────┴────────────┴───────────┴───────────┴───┴───────────┴───────────┴────────┴───────────┘"
      ]
     },
     "execution_count": 12,
     "metadata": {},
     "output_type": "execute_result"
    }
   ],
   "source": [
    "# with entities and groups\n",
    "group_df = den.get_grouped_df()\n",
    "group_df.head()"
   ]
  },
  {
   "cell_type": "code",
   "execution_count": 13,
   "metadata": {},
   "outputs": [
    {
     "name": "stdout",
     "output_type": "stream",
     "text": [
      "##### Evaluation of Entity Network 115\n",
      "\n",
      "In this analysis, we are examining the network of entities connected through shared attributes such as ownership and city location. The network includes several entities, some of which are directly linked to flags, while others are connected indirectly through shared attributes.\n",
      "\n",
      "**Entities and Connections:**\n",
      "\n",
      "1. **Farmer Jill** is an owner connected to three entities:\n",
      "   - **Agri Coop**\n",
      "   - **AgriLand Produce**\n",
      "   - A group of entities collectively referred to as **Harvest Co; HarvestTime Co; Harvesters Co; Harvest Corp; HarvestTech Inc; Harvesters Inc; HarvestTech; TechHarvest Ltd; HarvestTech Co**. This group has a flag count of 3.\n",
      "\n",
      "2. **Agri Coop** is linked to:\n",
      "   - **Farmer Jill** (owner)\n",
      "   - **Agri Town** (city)\n",
      "\n",
      "3. **AgriLand Produce** is linked to:\n",
      "   - **Farmer Jill** (owner)\n",
      "   - **Harvest City** (city)\n",
      "\n",
      "4. The group of entities (Harvest Co, etc.) is linked to:\n",
      "   - **Farmer Jill** (owner)\n",
      "   - **Agri Town** (city)\n",
      "   - **Harvest City** (city)\n",
      "\n",
      "**Flag Exposure:**\n",
      "\n",
      "The group of entities (Harvest Co, etc.) is directly flagged with a count of 3. This is relatively low compared to the maximum flag count of 248 and the mean flag count of 16.38 for flagged entities. However, the presence of any flags indicates a potential area of interest or concern.\n",
      "\n",
      "**Analysis of Entity Similarity:**\n",
      "\n",
      "The group of entities with similar names (Harvest Co, HarvestTime Co, etc.) suggests they may be variations or subsidiaries of a single parent entity. This could imply a broader network of operations under a common management or ownership, potentially increasing the significance of the flags associated with them.\n",
      "\n",
      "**Conclusion:**\n",
      "\n",
      "While the direct flag count for the group of entities is low, the interconnectedness through shared ownership and city locations suggests a network that could be of interest. The potential for these entities to be variations of a single entity should be considered in further investigations, as it may impact the overall risk assessment and flag exposure for the network.\n"
     ]
    }
   ],
   "source": [
    "# report\n",
    "selected_network = 115\n",
    "selected_entity = \"\"\n",
    "report = den.generate_report(selected_network=selected_network)\n",
    "print(report)"
   ]
  }
 ],
 "metadata": {
  "kernelspec": {
   "display_name": ".venv",
   "language": "python",
   "name": "python3"
  },
  "language_info": {
   "codemirror_mode": {
    "name": "ipython",
    "version": 3
   },
   "file_extension": ".py",
   "mimetype": "text/x-python",
   "name": "python",
   "nbconvert_exporter": "python",
   "pygments_lexer": "ipython3",
   "version": "3.11.9"
  }
 },
 "nbformat": 4,
 "nbformat_minor": 2
}
