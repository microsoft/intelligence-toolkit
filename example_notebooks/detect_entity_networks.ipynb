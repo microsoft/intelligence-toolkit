{
 "cells": [
  {
   "cell_type": "code",
   "execution_count": 1,
   "metadata": {},
   "outputs": [
    {
     "name": "stderr",
     "output_type": "stream",
     "text": [
      "/home/ddesouza/Projects/intelligence-toolkit/.venv/lib/python3.11/site-packages/tqdm/auto.py:21: TqdmWarning: IProgress not found. Please update jupyter and ipywidgets. See https://ipywidgets.readthedocs.io/en/stable/user_install.html\n",
      "  from .autonotebook import tqdm as notebook_tqdm\n"
     ]
    }
   ],
   "source": [
    "import sys\n",
    "\n",
    "sys.path.append(\"..\")\n",
    "import os\n",
    "from toolkit.detect_entity_networks.api import DetectEntityNetworks\n",
    "from toolkit.AI.openai_configuration import OpenAIConfiguration\n",
    "import polars as pl"
   ]
  },
  {
   "cell_type": "code",
   "execution_count": 2,
   "metadata": {},
   "outputs": [
    {
     "name": "stdout",
     "output_type": "stream",
     "text": [
      "Loaded data\n"
     ]
    }
   ],
   "source": [
    "# Create the workflow object\n",
    "den = DetectEntityNetworks()\n",
    "# Set the AI configuration\n",
    "ai_configuration = OpenAIConfiguration(\n",
    "    {\n",
    "        \"api_type\": \"OpenAI\",\n",
    "        \"api_key\": os.environ[\"OPENAI_API_KEY\"],\n",
    "        \"model\": \"gpt-4o\",\n",
    "    }\n",
    ")\n",
    "den.set_ai_configuration(ai_configuration)\n",
    "\n",
    "data_path = \"../example_outputs/detect_entity_networks/company_grievances/company_grievances_input.csv\"\n",
    "entity_df = pl.read_csv(data_path)\n",
    "\n",
    "print(\"Loaded data\")"
   ]
  },
  {
   "cell_type": "code",
   "execution_count": 3,
   "metadata": {},
   "outputs": [
    {
     "name": "stdout",
     "output_type": "stream",
     "text": [
      "Summary\n",
      "Number of entities: 3602, Number of attributes: 18549, Number of flags: 0, Number of groups: 0, Number of links: 41727\n"
     ]
    }
   ],
   "source": [
    "# set entity-attributes\n",
    "from toolkit.detect_entity_networks.prepare_model import format_data_columns\n",
    "\n",
    "\n",
    "entity_id_column = \"name\"\n",
    "columns_to_link = [\"address\", \"city\", \"email\", \"phone\", \"owner\"]\n",
    "entity_df = format_data_columns(entity_df, columns_to_link, entity_id_column)\n",
    "den.add_attribute_links(entity_df, entity_id_column, columns_to_link)\n",
    "\n",
    "summary = den.get_model_summary_value()\n",
    "print(\"Summary\")\n",
    "print(summary)"
   ]
  },
  {
   "cell_type": "code",
   "execution_count": 4,
   "metadata": {},
   "outputs": [
    {
     "name": "stdout",
     "output_type": "stream",
     "text": [
      "Summary\n",
      "Number of entities: 3602, Number of attributes: 18549, Number of flags: 8108, Number of groups: 0, Number of links: 41727\n"
     ]
    }
   ],
   "source": [
    "# set flags\n",
    "from toolkit.detect_entity_networks.classes import FlagAggregatorType\n",
    "\n",
    "\n",
    "entity_id_column = \"name\"\n",
    "columns_to_link = [\n",
    "    \"safety_grievances\",\n",
    "    \"pay_grievances\",\n",
    "    \"conditions_grievances\",\n",
    "    \"treatment_grievances\",\n",
    "    \"workload_grievances\",\n",
    "]\n",
    "flag_format = FlagAggregatorType.Count\n",
    "den.add_flag_links(entity_df, entity_id_column, columns_to_link, flag_format)\n",
    "summary = den.get_model_summary_value()\n",
    "print(\"Summary\")\n",
    "print(summary)"
   ]
  },
  {
   "cell_type": "code",
   "execution_count": 5,
   "metadata": {},
   "outputs": [
    {
     "name": "stdout",
     "output_type": "stream",
     "text": [
      "Summary\n",
      "Number of entities: 3602, Number of attributes: 18549, Number of flags: 8108, Number of groups: 634, Number of links: 41727\n"
     ]
    }
   ],
   "source": [
    "# set groups\n",
    "entity_id_column = \"name\"\n",
    "columns_to_link = [\"sector\", \"country\"]\n",
    "den.add_groups(entity_df, entity_id_column, columns_to_link)\n",
    "\n",
    "summary = den.get_model_summary_value()\n",
    "print(\"Summary\")\n",
    "print(summary)"
   ]
  },
  {
   "cell_type": "code",
   "execution_count": 6,
   "metadata": {},
   "outputs": [
    {
     "name": "stdout",
     "output_type": "stream",
     "text": [
      "Got 3602 existing texts\n",
      "Got 0 new texts\n",
      "Number of nodes indexed: 3602\n"
     ]
    }
   ],
   "source": [
    "await den.index_nodes([\"ENTITY\"])\n",
    "if len(den.embedded_texts) > 0:\n",
    "    print(f\"Number of nodes indexed: {len(den.embedded_texts)}\")"
   ]
  },
  {
   "cell_type": "code",
   "execution_count": 7,
   "metadata": {},
   "outputs": [
    {
     "name": "stdout",
     "output_type": "stream",
     "text": [
      "Number of links inferred: 2242\n",
      "shape: (3_547, 2)\n",
      "┌───────────────────────┬────────────────────────┐\n",
      "│ text                  ┆ similar                │\n",
      "│ ---                   ┆ ---                    │\n",
      "│ str                   ┆ str                    │\n",
      "╞═══════════════════════╪════════════════════════╡\n",
      "│ Adventure Gear        ┆ Adventure Gear Co      │\n",
      "│ Adventure Gear        ┆ Adventure Gear Company │\n",
      "│ Adventure Gear        ┆ AdventureGear          │\n",
      "│ Adventure Gear Co     ┆ Adventure Gear Company │\n",
      "│ Adventure Gear Co     ┆ AdventureGear Co       │\n",
      "│ …                     ┆ …                      │\n",
      "│ WindPower Corp        ┆ WindPower Inc          │\n",
      "│ WindPower Solutions   ┆ WindPower Solutons     │\n",
      "│ Windy Heights Limited ┆ Windy Heights Ltd      │\n",
      "│ WindyCity Energy      ┆ WindyCity Power        │\n",
      "│ Zephyr Energy Co      ┆ Zephyr Energy Inc      │\n",
      "└───────────────────────┴────────────────────────┘\n"
     ]
    }
   ],
   "source": [
    "from toolkit.detect_entity_networks.index_and_infer import build_inferred_df\n",
    "\n",
    "\n",
    "threshold = 0.03\n",
    "await den.infer_nodes(threshold)\n",
    "\n",
    "inferred_links_count = len(den.inferred_links)\n",
    "if inferred_links_count > 0:\n",
    "    print(f\"Number of links inferred: {inferred_links_count}\")\n",
    "    inferred_df = build_inferred_df(den.inferred_links)\n",
    "    print(inferred_df)\n",
    "else:\n",
    "    print(\"No inferred links\")"
   ]
  },
  {
   "cell_type": "code",
   "execution_count": 8,
   "metadata": {},
   "outputs": [],
   "source": [
    "# Remove attributes\n"
   ]
  },
  {
   "cell_type": "code",
   "execution_count": 9,
   "metadata": {},
   "outputs": [
    {
     "ename": "TypeError",
     "evalue": "unsupported operand type(s) for |: 'NoneType' and 'int'",
     "output_type": "error",
     "traceback": [
      "\u001b[0;31m---------------------------------------------------------------------------\u001b[0m",
      "\u001b[0;31mTypeError\u001b[0m                                 Traceback (most recent call last)",
      "Cell \u001b[0;32mIn[9], line 3\u001b[0m\n\u001b[1;32m      1\u001b[0m \u001b[38;5;66;03m# Identify\u001b[39;00m\n\u001b[0;32m----> 3\u001b[0m \u001b[43mden\u001b[49m\u001b[38;5;241;43m.\u001b[39;49m\u001b[43midentify\u001b[49m\u001b[43m(\u001b[49m\u001b[43m)\u001b[49m\n\u001b[1;32m      4\u001b[0m entity_df \u001b[38;5;241m=\u001b[39m pl\u001b[38;5;241m.\u001b[39mDataFrame(\n\u001b[1;32m      5\u001b[0m     den\u001b[38;5;241m.\u001b[39mentity_records,\n\u001b[1;32m      6\u001b[0m     schema\u001b[38;5;241m=\u001b[39m[\n\u001b[0;32m   (...)\u001b[0m\n\u001b[1;32m     15\u001b[0m     ],\n\u001b[1;32m     16\u001b[0m )\n\u001b[1;32m     17\u001b[0m entity_df \u001b[38;5;241m=\u001b[39m entity_df\u001b[38;5;241m.\u001b[39msort(by\u001b[38;5;241m=\u001b[39m[\u001b[38;5;124m\"\u001b[39m\u001b[38;5;124mflagged/unflagged\u001b[39m\u001b[38;5;124m\"\u001b[39m], descending\u001b[38;5;241m=\u001b[39m\u001b[38;5;28;01mTrue\u001b[39;00m)\n",
      "File \u001b[0;32m~/Projects/intelligence-toolkit/toolkit/detect_entity_networks/api.py:156\u001b[0m, in \u001b[0;36mDetectEntityNetworks.identify\u001b[0;34m(self, max_network_entities, max_attribute_degree, supporting_attribute_types)\u001b[0m\n\u001b[1;32m    150\u001b[0m \u001b[38;5;28;01mdef\u001b[39;00m \u001b[38;5;21midentify\u001b[39m(\n\u001b[1;32m    151\u001b[0m     \u001b[38;5;28mself\u001b[39m,\n\u001b[1;32m    152\u001b[0m     max_network_entities: \u001b[38;5;28mint\u001b[39m \u001b[38;5;241m|\u001b[39m \u001b[38;5;28;01mNone\u001b[39;00m \u001b[38;5;241m=\u001b[39m \u001b[38;5;28;01mNone\u001b[39;00m,\n\u001b[1;32m    153\u001b[0m     max_attribute_degree: \u001b[38;5;28mint\u001b[39m \u001b[38;5;241m|\u001b[39m \u001b[38;5;28;01mNone\u001b[39;00m \u001b[38;5;241m=\u001b[39m \u001b[38;5;28;01mNone\u001b[39;00m,\n\u001b[1;32m    154\u001b[0m     supporting_attribute_types: \u001b[38;5;28mlist\u001b[39m[\u001b[38;5;28mstr\u001b[39m] \u001b[38;5;241m|\u001b[39m \u001b[38;5;28;01mNone\u001b[39;00m \u001b[38;5;241m=\u001b[39m \u001b[38;5;28;01mNone\u001b[39;00m,\n\u001b[1;32m    155\u001b[0m ) \u001b[38;5;241m-\u001b[39m\u001b[38;5;241m>\u001b[39m \u001b[38;5;28;01mNone\u001b[39;00m:\n\u001b[0;32m--> 156\u001b[0m     (trimmed_degrees, trimmed_nodes) \u001b[38;5;241m=\u001b[39m \u001b[43mtrim_nodeset\u001b[49m\u001b[43m(\u001b[49m\n\u001b[1;32m    157\u001b[0m \u001b[43m        \u001b[49m\u001b[38;5;28;43mself\u001b[39;49m\u001b[38;5;241;43m.\u001b[39;49m\u001b[43mgraph\u001b[49m\u001b[43m,\u001b[49m\u001b[43m \u001b[49m\u001b[38;5;28;43mself\u001b[39;49m\u001b[38;5;241;43m.\u001b[39;49m\u001b[43madditional_trimmed_attributes\u001b[49m\u001b[43m,\u001b[49m\u001b[43m \u001b[49m\u001b[43mmax_attribute_degree\u001b[49m\n\u001b[1;32m    158\u001b[0m \u001b[43m    \u001b[49m\u001b[43m)\u001b[49m\n\u001b[1;32m    160\u001b[0m     \u001b[38;5;28mself\u001b[39m\u001b[38;5;241m.\u001b[39mtrimmed_attributes\u001b[38;5;241m.\u001b[39mvalue \u001b[38;5;241m=\u001b[39m pl\u001b[38;5;241m.\u001b[39mDataFrame(\n\u001b[1;32m    161\u001b[0m         trimmed_degrees,\n\u001b[1;32m    162\u001b[0m         schema\u001b[38;5;241m=\u001b[39m[\u001b[38;5;124m\"\u001b[39m\u001b[38;5;124mAttribute\u001b[39m\u001b[38;5;124m\"\u001b[39m, \u001b[38;5;124m\"\u001b[39m\u001b[38;5;124mLinked Entities\u001b[39m\u001b[38;5;124m\"\u001b[39m],\n\u001b[1;32m    163\u001b[0m     )\u001b[38;5;241m.\u001b[39msort(\u001b[38;5;124m\"\u001b[39m\u001b[38;5;124mLinked Entities\u001b[39m\u001b[38;5;124m\"\u001b[39m)\n\u001b[1;32m    165\u001b[0m     (\n\u001b[1;32m    166\u001b[0m         community_nodes,\n\u001b[1;32m    167\u001b[0m         \u001b[38;5;28mself\u001b[39m\u001b[38;5;241m.\u001b[39mentity_to_community_ix,\n\u001b[0;32m   (...)\u001b[0m\n\u001b[1;32m    173\u001b[0m         max_network_entities,\n\u001b[1;32m    174\u001b[0m     )\n",
      "File \u001b[0;32m~/Projects/intelligence-toolkit/toolkit/detect_entity_networks/identify_networks.py:30\u001b[0m, in \u001b[0;36mtrim_nodeset\u001b[0;34m(graph, additional_trimmed_attributes, max_attribute_degree)\u001b[0m\n\u001b[1;32m     27\u001b[0m trimmed_degrees \u001b[38;5;241m=\u001b[39m \u001b[38;5;28mset\u001b[39m()\n\u001b[1;32m     28\u001b[0m \u001b[38;5;28;01mfor\u001b[39;00m node, degree \u001b[38;5;129;01min\u001b[39;00m graph\u001b[38;5;241m.\u001b[39mdegree():\n\u001b[1;32m     29\u001b[0m     \u001b[38;5;28;01mif\u001b[39;00m \u001b[38;5;129;01mnot\u001b[39;00m node\u001b[38;5;241m.\u001b[39mstartswith(ENTITY_LABEL) \u001b[38;5;129;01mand\u001b[39;00m degree \u001b[38;5;241m>\u001b[39m (\n\u001b[0;32m---> 30\u001b[0m         \u001b[43mmax_attribute_degree\u001b[49m\u001b[43m \u001b[49m\u001b[38;5;241;43m|\u001b[39;49m\u001b[43m \u001b[49m\u001b[43mDEFAULT_MAX_ATTRIBUTE_DEGREE\u001b[49m\n\u001b[1;32m     31\u001b[0m     ):\n\u001b[1;32m     32\u001b[0m         trimmed_degrees\u001b[38;5;241m.\u001b[39madd((node, degree))\n\u001b[1;32m     34\u001b[0m trimmed_nodes \u001b[38;5;241m=\u001b[39m {t[\u001b[38;5;241m0\u001b[39m] \u001b[38;5;28;01mfor\u001b[39;00m t \u001b[38;5;129;01min\u001b[39;00m trimmed_degrees}\u001b[38;5;241m.\u001b[39munion(additional_trimmed_attributes)\n",
      "\u001b[0;31mTypeError\u001b[0m: unsupported operand type(s) for |: 'NoneType' and 'int'"
     ]
    }
   ],
   "source": [
    "# Identify\n",
    "\n",
    "den.identify()\n",
    "entity_df = pl.DataFrame(\n",
    "    den.entity_records,\n",
    "    schema=[\n",
    "        \"entity_id\",\n",
    "        \"entity_flags\",\n",
    "        \"network_id\",\n",
    "        \"network_entities\",\n",
    "        \"network_flags\",\n",
    "        \"flagged\",\n",
    "        \"flags/entity\",\n",
    "        \"flagged/unflagged\",\n",
    "    ],\n",
    ")\n",
    "entity_df = entity_df.sort(by=[\"flagged/unflagged\"], descending=True)"
   ]
  }
 ],
 "metadata": {
  "kernelspec": {
   "display_name": ".venv",
   "language": "python",
   "name": "python3"
  },
  "language_info": {
   "codemirror_mode": {
    "name": "ipython",
    "version": 3
   },
   "file_extension": ".py",
   "mimetype": "text/x-python",
   "name": "python",
   "nbconvert_exporter": "python",
   "pygments_lexer": "ipython3",
   "version": "3.11.9"
  }
 },
 "nbformat": 4,
 "nbformat_minor": 2
}
