{
    "cells": [
        {
            "cell_type": "markdown",
            "metadata": {},
            "source": [
                "# Query Text Data workflow with \"Lazy GraphRAG\" retrieval mechanism\n",
                "\n",
                "Vector-based semantic search is a \"best first\" search approach for relevant chunks - it simply takes the top k most similar chunks based on embedding distances. It has no sense of the breadth of semantic content in the dataset.\n",
                "\n",
                "Full [GraphRAG](https://aka.ms/graphrag) is a \"breadth first\" search approach for relevant content in community summaries - it always queries each community. It has no sense of which communities are best.\n",
                "\n",
                "Lazy GraphRAG is a hybrid approach that requires no summarization-based index (which is expensive, especially if the user only has a few queries). Instead, it relies purely on an embedding-based index for input text chunks (cheap, fast) augmented by the concept graph of noun-phrase cooccurrences extracted from these chunks (free, fast). It works as follows:\n",
                "\n",
                "- Given a query, text chunks are ranked using vector-based semantic search.\n",
                "- Chunk rankings are used to determine community rankings in the concept graph.\n",
                "- In community rank order, the top k chunks are subject to a rapid relevant test (cheap, fast). If relevant chunks are found, the community is retained, otherwise it is discarded.\n",
                "- After n communities fail to return any relevant chunks, the \"iterative narrowing\" process repeats with remaining communities in rank order.\n",
                "- The process terminates when no more testable chunks exist or a predefined testing budget is reached (e.g., 100 relevance tests).\n",
                "\n",
                "The advantages of this approach include:\n",
                "\n",
                "- A balance of best-first (semantic search) and breadth-first (community structure) approaches for any testing budget\n",
                "- Very fast and almost free - suitable for one-off and exploratory queries before committing to a full indexing\n",
                "- Easily accommodates dynamic contexts where new texts/chunks are streaming in to the dataset (supported in the current implementation)\n",
                "- Provides a consistent level of \"effort\" for a fixed test budget, providing various standards of answers to questions (e.g., global questions) for which there is no ground truth (e.g., 1000 chunks = gold standard, 500 chunks = silver standard, 100 chunks = bronze standard, etc.)\n"
            ]
        },
        {
            "cell_type": "code",
            "execution_count": 145,
            "metadata": {},
            "outputs": [],
            "source": [
                "import sys\n",
                "\n",
                "sys.path.append(\"..\")"
            ]
        },
        {
            "cell_type": "code",
            "execution_count": 146,
            "metadata": {},
            "outputs": [],
            "source": [
                "import os\n",
                "import asyncio\n",
                "import io\n",
                "import pandas as pd\n",
                "from toolkit.AI.openai_configuration import OpenAIConfiguration\n",
                "from toolkit.AI.openai_embedder import OpenAIEmbedder\n",
                "from toolkit.helpers.constants import CACHE_PATH\n",
                "\n",
                "import toolkit.query_text_data.input_processor as input_processor\n",
                "import toolkit.query_text_data.relevance_assessor as relevance_assessor\n",
                "import toolkit.query_text_data.answer_builder as answer_builder\n",
                "import toolkit.query_text_data.graph_builder as graph_builder\n",
                "import toolkit.query_text_data.pattern_detector as pattern_detector\n",
                "import toolkit.graph.graph_fusion_encoder_embedding as gfee\n",
                "import toolkit.query_text_data.helper_functions as helper_functions\n",
                "import nest_asyncio # Necessary to run async code in ipynb\n",
                "\n",
                "nest_asyncio.apply()"
            ]
        },
        {
            "cell_type": "code",
            "execution_count": 147,
            "metadata": {},
            "outputs": [
                {
                    "name": "stderr",
                    "output_type": "stream",
                    "text": [
                        "[nltk_data] Downloading package brown to\n",
                        "[nltk_data]     C:\\Users\\daedge\\AppData\\Roaming\\nltk_data...\n",
                        "[nltk_data]   Package brown is already up-to-date!\n",
                        "[nltk_data] Downloading package punkt to\n",
                        "[nltk_data]     C:\\Users\\daedge\\AppData\\Roaming\\nltk_data...\n",
                        "[nltk_data]   Package punkt is already up-to-date!\n",
                        "[nltk_data] Downloading package punkt_tab to\n",
                        "[nltk_data]     C:\\Users\\daedge\\AppData\\Roaming\\nltk_data...\n",
                        "[nltk_data]   Package punkt_tab is already up-to-date!\n"
                    ]
                },
                {
                    "data": {
                        "text/plain": [
                            "<module 'toolkit.query_text_data.graph_builder' from 'c:\\\\Users\\\\daedge\\\\Code\\\\ITK\\\\intelligence-toolkit\\\\example_notebooks\\\\..\\\\toolkit\\\\query_text_data\\\\graph_builder.py'>"
                        ]
                    },
                    "execution_count": 147,
                    "metadata": {},
                    "output_type": "execute_result"
                }
            ],
            "source": [
                "# Comment/uncomment the following lines to toggle access to library code updates\n",
                "import importlib\n",
                "importlib.reload(input_processor)\n",
                "importlib.reload(pattern_detector)\n",
                "importlib.reload(helper_functions)\n",
                "importlib.reload(relevance_assessor)\n",
                "importlib.reload(answer_builder)\n",
                "importlib.reload(graph_builder)"
            ]
        },
        {
            "cell_type": "code",
            "execution_count": 148,
            "metadata": {},
            "outputs": [],
            "source": [
                "# Set up the AI model and embedding model\n",
                "ai_configuration = OpenAIConfiguration(\n",
                "    {\n",
                "        \"api_type\": \"OpenAI\",\n",
                "        \"api_key\": os.environ[\"OPENAI_API_KEY\"],\n",
                "        \"model\": \"gpt-4o-2024-08-06\",\n",
                "    }\n",
                ")\n",
                "\n",
                "text_embedder = OpenAIEmbedder(\n",
                "    configuration=ai_configuration,\n",
                ")"
            ]
        },
        {
            "cell_type": "code",
            "execution_count": 149,
            "metadata": {},
            "outputs": [
                {
                    "name": "stdout",
                    "output_type": "stream",
                    "text": [
                        "Chunked input text\n"
                    ]
                }
            ],
            "source": [
                "# Provide text inputs as rows of a dataframe\n",
                "input_path = \"../example_outputs/query_text_data/news_articles/news_articles_texts.csv\"\n",
                "file_name = input_path.split(\"/\")[-1]\n",
                "file_to_chunks = input_processor.process_file_bytes({file_name: open(input_path, 'rb').read()}, input_processor.PeriodOption.NONE)\n",
                "print(\"Chunked input text\")"
            ]
        },
        {
            "cell_type": "code",
            "execution_count": 150,
            "metadata": {},
            "outputs": [
                {
                    "name": "stdout",
                    "output_type": "stream",
                    "text": [
                        "Processed chunks\n"
                    ]
                }
            ],
            "source": [
                "max_cluster_size = 25 # The maximum number of concepts in a leaf-level community in the concept graph\n",
                "# Process the chunks into the index data structures\n",
                "(\n",
                "    cid_to_text,\n",
                "    text_to_cid,\n",
                "    period_concept_graphs,\n",
                "    hierarchical_communities,\n",
                "    community_to_label,\n",
                "    concept_to_cids,\n",
                "    cid_to_concepts,\n",
                "    previous_cid,\n",
                "    next_cid,\n",
                "    period_to_cids,\n",
                "    node_period_counts,\n",
                "    edge_period_counts,\n",
                ") = input_processor.process_chunks(file_to_chunks=file_to_chunks, max_cluster_size=max_cluster_size)\n",
                "print(f\"Processed chunks\")"
            ]
        },
        {
            "cell_type": "code",
            "execution_count": 151,
            "metadata": {},
            "outputs": [
                {
                    "name": "stdout",
                    "output_type": "stream",
                    "text": [
                        "Got 501 existing texts\n",
                        "Got 0 new texts\n",
                        "Embedded chunk text\n"
                    ]
                }
            ],
            "source": [
                "# Embed the text chunks\n",
                "cid_to_vector = await helper_functions.embed_texts(\n",
                "    cid_to_text=cid_to_text,\n",
                "    text_embedder=text_embedder,\n",
                ")\n",
                "print(f\"Embedded chunk text\")"
            ]
        },
        {
            "cell_type": "code",
            "execution_count": 152,
            "metadata": {},
            "outputs": [
                {
                    "name": "stdout",
                    "output_type": "stream",
                    "text": [
                        "New level -1 loop after 0 tests\n",
                        "Assessing relevance for topic 1 with 5 chunks\n"
                    ]
                },
                {
                    "name": "stderr",
                    "output_type": "stream",
                    "text": [
                        "100%|██████████| 5/5 [00:00<00:00,  5.04it/s]\n"
                    ]
                },
                {
                    "name": "stdout",
                    "output_type": "stream",
                    "text": [
                        "Batch 1 of 1: 5 relevant chunks\n",
                        "Community 1 relevant? True\n",
                        "Incrementing level\n",
                        "New level 0 loop after 5 tests\n",
                        "Assessing relevance for topic 1.4 with 5 chunks\n"
                    ]
                },
                {
                    "name": "stderr",
                    "output_type": "stream",
                    "text": [
                        "100%|██████████| 5/5 [00:01<00:00,  2.68it/s]\n"
                    ]
                },
                {
                    "name": "stdout",
                    "output_type": "stream",
                    "text": [
                        "Batch 1 of 1: 5 relevant chunks\n",
                        "Community 1.4 relevant? True\n",
                        "Assessing relevance for topic 1.1 with 5 chunks\n"
                    ]
                },
                {
                    "name": "stderr",
                    "output_type": "stream",
                    "text": [
                        "100%|██████████| 5/5 [00:00<00:00,  8.18it/s]\n"
                    ]
                },
                {
                    "name": "stdout",
                    "output_type": "stream",
                    "text": [
                        "Batch 1 of 1: 5 relevant chunks\n",
                        "Community 1.1 relevant? True\n",
                        "Assessing relevance for topic 1.7 with 5 chunks\n"
                    ]
                },
                {
                    "name": "stderr",
                    "output_type": "stream",
                    "text": [
                        "100%|██████████| 5/5 [00:00<00:00,  7.13it/s]\n"
                    ]
                },
                {
                    "name": "stdout",
                    "output_type": "stream",
                    "text": [
                        "Batch 1 of 1: 5 relevant chunks\n",
                        "Community 1.7 relevant? True\n",
                        "Assessing relevance for topic 1.10 with 5 chunks\n"
                    ]
                },
                {
                    "name": "stderr",
                    "output_type": "stream",
                    "text": [
                        "100%|██████████| 5/5 [00:00<00:00,  9.10it/s]\n"
                    ]
                },
                {
                    "name": "stdout",
                    "output_type": "stream",
                    "text": [
                        "Batch 1 of 1: 5 relevant chunks\n",
                        "Community 1.10 relevant? True\n",
                        "Assessing relevance for topic 1.5 with 5 chunks\n"
                    ]
                },
                {
                    "name": "stderr",
                    "output_type": "stream",
                    "text": [
                        "100%|██████████| 5/5 [00:00<00:00,  8.28it/s]\n"
                    ]
                },
                {
                    "name": "stdout",
                    "output_type": "stream",
                    "text": [
                        "Batch 1 of 1: 5 relevant chunks\n",
                        "Community 1.5 relevant? True\n",
                        "Assessing relevance for topic 1.3 with 5 chunks\n"
                    ]
                },
                {
                    "name": "stderr",
                    "output_type": "stream",
                    "text": [
                        "100%|██████████| 5/5 [00:01<00:00,  3.08it/s]\n"
                    ]
                },
                {
                    "name": "stdout",
                    "output_type": "stream",
                    "text": [
                        "Batch 1 of 1: 5 relevant chunks\n",
                        "Community 1.3 relevant? True\n",
                        "Assessing relevance for topic 1.13 with 5 chunks\n"
                    ]
                },
                {
                    "name": "stderr",
                    "output_type": "stream",
                    "text": [
                        "100%|██████████| 5/5 [00:00<00:00,  9.07it/s]\n"
                    ]
                },
                {
                    "name": "stdout",
                    "output_type": "stream",
                    "text": [
                        "Batch 1 of 1: 5 relevant chunks\n",
                        "Community 1.13 relevant? True\n",
                        "Assessing relevance for topic 1.6 with 5 chunks\n"
                    ]
                },
                {
                    "name": "stderr",
                    "output_type": "stream",
                    "text": [
                        "100%|██████████| 5/5 [00:01<00:00,  4.45it/s]\n"
                    ]
                },
                {
                    "name": "stdout",
                    "output_type": "stream",
                    "text": [
                        "Batch 1 of 1: 3 relevant chunks\n",
                        "Community 1.6 relevant? True\n",
                        "Assessing relevance for topic 1.8 with 5 chunks\n"
                    ]
                },
                {
                    "name": "stderr",
                    "output_type": "stream",
                    "text": [
                        "100%|██████████| 5/5 [00:00<00:00,  5.33it/s]\n"
                    ]
                },
                {
                    "name": "stdout",
                    "output_type": "stream",
                    "text": [
                        "Batch 1 of 1: 5 relevant chunks\n",
                        "Community 1.8 relevant? True\n",
                        "Assessing relevance for topic 1.18 with 5 chunks\n"
                    ]
                },
                {
                    "name": "stderr",
                    "output_type": "stream",
                    "text": [
                        "100%|██████████| 5/5 [00:00<00:00,  6.57it/s]\n"
                    ]
                },
                {
                    "name": "stdout",
                    "output_type": "stream",
                    "text": [
                        "Batch 1 of 1: 2 relevant chunks\n",
                        "Community 1.18 relevant? True\n",
                        "Assessing relevance for topic 1.9 with 5 chunks\n"
                    ]
                },
                {
                    "name": "stderr",
                    "output_type": "stream",
                    "text": [
                        "100%|██████████| 5/5 [00:01<00:00,  4.33it/s]\n"
                    ]
                },
                {
                    "name": "stdout",
                    "output_type": "stream",
                    "text": [
                        "Batch 1 of 1: 5 relevant chunks\n",
                        "Community 1.9 relevant? True\n",
                        "Assessing relevance for topic 1.11 with 5 chunks\n"
                    ]
                },
                {
                    "name": "stderr",
                    "output_type": "stream",
                    "text": [
                        "100%|██████████| 5/5 [00:02<00:00,  1.72it/s]\n"
                    ]
                },
                {
                    "name": "stdout",
                    "output_type": "stream",
                    "text": [
                        "Batch 1 of 1: 5 relevant chunks\n",
                        "Community 1.11 relevant? True\n",
                        "Assessing relevance for topic 1.17 with 5 chunks\n"
                    ]
                },
                {
                    "name": "stderr",
                    "output_type": "stream",
                    "text": [
                        "100%|██████████| 5/5 [00:00<00:00,  5.57it/s]\n"
                    ]
                },
                {
                    "name": "stdout",
                    "output_type": "stream",
                    "text": [
                        "Batch 1 of 1: 4 relevant chunks\n",
                        "Community 1.17 relevant? True\n",
                        "Assessing relevance for topic 1.15 with 5 chunks\n"
                    ]
                },
                {
                    "name": "stderr",
                    "output_type": "stream",
                    "text": [
                        "100%|██████████| 5/5 [00:00<00:00,  6.68it/s]\n"
                    ]
                },
                {
                    "name": "stdout",
                    "output_type": "stream",
                    "text": [
                        "Batch 1 of 1: 3 relevant chunks\n",
                        "Community 1.15 relevant? True\n",
                        "Assessing relevance for topic 1.19 with 5 chunks\n"
                    ]
                },
                {
                    "name": "stderr",
                    "output_type": "stream",
                    "text": [
                        "100%|██████████| 5/5 [00:01<00:00,  4.42it/s]\n"
                    ]
                },
                {
                    "name": "stdout",
                    "output_type": "stream",
                    "text": [
                        "Batch 1 of 1: 5 relevant chunks\n",
                        "Community 1.19 relevant? True\n",
                        "Assessing relevance for topic 1.14 with 5 chunks\n"
                    ]
                },
                {
                    "name": "stderr",
                    "output_type": "stream",
                    "text": [
                        "100%|██████████| 5/5 [00:00<00:00,  7.98it/s]\n"
                    ]
                },
                {
                    "name": "stdout",
                    "output_type": "stream",
                    "text": [
                        "Batch 1 of 1: 5 relevant chunks\n",
                        "Community 1.14 relevant? True\n",
                        "Assessing relevance for topic 1.2 with 5 chunks\n"
                    ]
                },
                {
                    "name": "stderr",
                    "output_type": "stream",
                    "text": [
                        "100%|██████████| 5/5 [00:01<00:00,  4.27it/s]\n"
                    ]
                },
                {
                    "name": "stdout",
                    "output_type": "stream",
                    "text": [
                        "Batch 1 of 1: 5 relevant chunks\n",
                        "Community 1.2 relevant? True\n",
                        "Assessing relevance for topic 1.16 with 5 chunks\n"
                    ]
                },
                {
                    "name": "stderr",
                    "output_type": "stream",
                    "text": [
                        "100%|██████████| 5/5 [00:00<00:00,  7.10it/s]\n"
                    ]
                },
                {
                    "name": "stdout",
                    "output_type": "stream",
                    "text": [
                        "Batch 1 of 1: 5 relevant chunks\n",
                        "Community 1.16 relevant? True\n",
                        "Assessing relevance for topic 1.12 with 5 chunks\n"
                    ]
                },
                {
                    "name": "stderr",
                    "output_type": "stream",
                    "text": [
                        "100%|██████████| 5/5 [00:00<00:00,  5.81it/s]"
                    ]
                },
                {
                    "name": "stdout",
                    "output_type": "stream",
                    "text": [
                        "Batch 1 of 1: 5 relevant chunks\n",
                        "Community 1.12 relevant? True\n",
                        "Incrementing level\n",
                        "Assessing relevance for neighbours with 0 chunks\n",
                        "[('topic 1.12', 392, 'Yes'), ('topic 1.12', 137, 'Yes'), ('topic 1.12', 268, 'Yes')]\n",
                        "**Chunks relevant/tested: 92/100** (topic 1: 5/5; topic 1.4: 5/5; topic 1.1: 5/5; topic 1.7: 5/5; topic 1.10: 5/5; topic 1.5: 5/5; topic 1.3: 5/5; topic 1.13: 5/5; topic 1.6: 3/5; topic 1.8: 5/5; topic 1.18: 2/5; topic 1.9: 5/5; topic 1.11: 5/5; topic 1.17: 4/5; topic 1.15: 3/5; topic 1.19: 5/5; topic 1.14: 5/5; topic 1.2: 5/5; topic 1.16: 5/5; topic 1.12: 5/5)\n",
                        "Mined relevant chunks\n"
                    ]
                },
                {
                    "name": "stderr",
                    "output_type": "stream",
                    "text": [
                        "\n"
                    ]
                }
            ],
            "source": [
                "question = \"What events are discussed?\"\n",
                "relevance_test_budget = 100 # How many relevance tests are permitted per query. Higher values may provide higher quality results at higher cost\n",
                "adjacent_search_steps = 1 # How many chunks before and after each relevant chunk to test, once the relevance test budget is near or the search process has terminted\n",
                "community_relevance_tests = 5 # How many relevance tests to run on each community in turn\n",
                "relevance_test_batch_size = 5 # How many relevance tests to run in parallel at a time\n",
                "community_ranking_chunks = 5 # How many chunks to use to rank communities by relevance\n",
                "irrelevant_community_restart = 3 # When to restart testing communities in relevance order\n",
                "\n",
                "# Mine relevant chunks to the question\n",
                "async def mine_relevant_chunks():\n",
                "    (\n",
                "        relevant_cids,\n",
                "        chunk_progress,\n",
                "    ) = await relevance_assessor.detect_relevant_chunks(\n",
                "        ai_configuration=ai_configuration,\n",
                "        question=question,\n",
                "        cid_to_text=cid_to_text,\n",
                "        cid_to_concepts=cid_to_concepts,\n",
                "        cid_to_vector=cid_to_vector,\n",
                "        hierarchical_communities=hierarchical_communities,\n",
                "        community_to_label=community_to_label,\n",
                "        previous_cid=previous_cid,\n",
                "        next_cid=next_cid,\n",
                "        embedder=text_embedder,\n",
                "        embedding_cache=CACHE_PATH,\n",
                "        select_logit_bias=5,\n",
                "        adjacent_search_steps=adjacent_search_steps,\n",
                "        community_ranking_chunks=community_ranking_chunks,\n",
                "        relevance_test_budget=relevance_test_budget,\n",
                "        community_relevance_tests=community_relevance_tests,\n",
                "        relevance_test_batch_size=relevance_test_batch_size,\n",
                "        irrelevant_community_restart=irrelevant_community_restart,\n",
                "    )\n",
                "    return relevant_cids, chunk_progress\n",
                "\n",
                "if __name__ == \"__main__\":\n",
                "    relevant_cids, chunk_progress = await mine_relevant_chunks()\n",
                "    print(f\"Mined relevant chunks\")\n",
                "    \n"
            ]
        },
        {
            "cell_type": "code",
            "execution_count": 153,
            "metadata": {},
            "outputs": [
                {
                    "name": "stdout",
                    "output_type": "stream",
                    "text": [
                        "Answered question\n"
                    ]
                }
            ],
            "source": [
                "answer_batch_size = 10 # How many chunks to integrate into the answer at a time\n",
                "# Generate an extended answer to the question, which could then be summarized\n",
                "(\n",
                "    partial_answers,\n",
                "    answer_progress,\n",
                ") = answer_builder.answer_question(\n",
                "    ai_configuration=ai_configuration,\n",
                "    question=question,\n",
                "    relevant_cids=relevant_cids,\n",
                "    cid_to_text=cid_to_text,\n",
                "    answer_batch_size=answer_batch_size,\n",
                ")\n",
                "print(f\"Answered question\")"
            ]
        },
        {
            "cell_type": "code",
            "execution_count": 154,
            "metadata": {},
            "outputs": [
                {
                    "name": "stdout",
                    "output_type": "stream",
                    "text": [
                        "**Chunks relevant/tested: 92/100** (topic 1: 5/5; topic 1.4: 5/5; topic 1.1: 5/5; topic 1.7: 5/5; topic 1.10: 5/5; topic 1.5: 5/5; topic 1.3: 5/5; topic 1.13: 5/5; topic 1.6: 3/5; topic 1.8: 5/5; topic 1.18: 2/5; topic 1.9: 5/5; topic 1.11: 5/5; topic 1.17: 4/5; topic 1.15: 3/5; topic 1.19: 5/5; topic 1.14: 5/5; topic 1.2: 5/5; topic 1.16: 5/5; topic 1.12: 5/5)\n",
                        "**Chunks referenced/relevant: 68/92** (answer 1: 10/10, answer 2: 6/10, answer 3: 7/10, answer 4: 8/10, answer 5: 8/10, answer 6: 7/10, answer 7: 8/10, answer 8: 6/10, answer 9: 6/10, answer 10: 2/2)\n"
                    ]
                }
            ],
            "source": [
                "# Output some process summarry information\n",
                "print(chunk_progress)\n",
                "print(answer_progress)"
            ]
        },
        {
            "cell_type": "code",
            "execution_count": 155,
            "metadata": {},
            "outputs": [
                {
                    "name": "stdout",
                    "output_type": "stream",
                    "text": [
                        "# A Review of Recent Notable Events\n",
                        "\n",
                        "*In response to: What events are discussed?*\n",
                        "\n",
                        "## Introduction\n",
                        "\n",
                        "This report provides an overview of several notable events across different domains, including sports, international diplomacy, cultural festivals, art exhibitions, community initiatives, and environmental efforts. The events are grouped into the following categories:\n",
                        "\n",
                        "- **Sports Events**\n",
                        "  - Greenfield Hawks Triumph in Championship Final\n",
                        "  - Madrid FC Celebrates Victory Parade\n",
                        "  - Alex Torres Signs New Contract with Madrid FC\n",
                        "  - European Football League Announces New Season Schedule\n",
                        "  - Manchester United Secures Rising Star Alex Johnson\n",
                        "  - Hillside Marathon Sees Record Participation\n",
                        "  - Jordan Banks Scores Hat-Trick in Thrilling Exhibition Match in Lisbon\n",
                        "  - LA Lakers Secure Championship with Historic Win\n",
                        "  - LeBron James Shatters Records in Thrilling Lakers Victory\n",
                        "  - City League Basketball Finals Set for December at Downtown Arena\n",
                        "  - Serena Blake Advances to Finals in Melbourne with Thrilling Victory\n",
                        "  - Federer Returns to Wimbledon: A Triumphant Comeback\n",
                        "\n",
                        "- **International Diplomacy and Trade**\n",
                        "  - EU Leaders Meet for Crucial Talks in Berlin\n",
                        "  - Trade Talks Between Islamabad and WTO Yield Positive Outcomes\n",
                        "  - Vienna Summit Focuses on Trade Agreements\n",
                        "  - Diplomatic Talks Continue in Geneva: A Step Towards Global Peace\n",
                        "  - Peace Talks to Resume in Geneva with International Focus\n",
                        "  - Canadian Parliament Engages in Heated Debates Over Policy Reform\n",
                        "  - UN Steps In as Political Tensions Rise in Caracas\n",
                        "  - India Engages in Strategic Talks with IMF for Economic Growth\n",
                        "  - Economic Outlook for Asia-Pacific Region Amid Global Challenges\n",
                        "\n",
                        "- **Cultural and Art Events**\n",
                        "  - Miami Spring Festival: A Cultural Extravaganza\n",
                        "  - Springfield to Host Annual Community Festival\n",
                        "  - Art Enthusiasts Gather for Emily Rivera's Latest Exhibition\n",
                        "  - Harmony Festival Expands to Sunset Boulevard\n",
                        "  - Modern Art Museum Hosts Engaging Panel on Technology in Art\n",
                        "  - Juan Lopez's New Film Premieres at Hollywood Gala\n",
                        "  - Art in Paris: A Cultural Exploration with Emma Thompson\n",
                        "  - Elena Russo's Exhibition Opens in Florence\n",
                        "  - Louvre Museum Unveils Dazzling Asian Art Exhibition Curated by Sophia Lin\n",
                        "  - Liam Howard Releases New Album 'Echoes'\n",
                        "  - Helen Brock Unveils Latest Novel at City Library\n",
                        "  - City Book Fair Celebrates Local Authors at City Library\n",
                        "  - Hollywood Hosts Grand Film Premiere: A Night to Remember\n",
                        "  - Cannes Film Festival Honors Emerging Filmmakers\n",
                        "  - Holiday Spirit Fills Symphony Hall with City Symphony Orchestra's Concert\n",
                        "  - Sofia Kim's New Film Premieres at Los Angeles Film Festival\n",
                        "  - Sophie Chen's Exhibition Opens at Louvre: A Celebration of Abstract Art\n",
                        "  - Springfield Art Fair Brings Creativity and Community Together\n",
                        "  - Berlin Music Festival Kicks Off with DJ Luna\n",
                        "  - Maria Lopez Conducts Winter Serenade at City Concert Hall\n",
                        "  - Barcelona Spring Festival Kicks Off with a Bang\n",
                        "  - Fashion Forward Group Hosts Winter Fashion Show at Downtown Mall\n",
                        "  - Leo Martinez Unveils New Collection in Milan\n",
                        "  - New Town Film Festival Celebrates Independent Cinema\n",
                        "\n",
                        "- **Community and Environmental Initiatives**\n",
                        "  - World Climate Council Urges Swift Action in Face of Escalating Crisis\n",
                        "  - Westfield Hope Foundation Raises Funds for Local Charities at Annual Gala\n",
                        "  - Charity Run in Columbus Draws Thousands\n",
                        "  - Mayor Unveils New Community Initiatives in New York City\n",
                        "  - Annual Charity Run Set to Take Place at Riverfront Park\n",
                        "  - San Francisco Hosts Annual Green Earth Festival\n",
                        "  - New Environmental Bill Proposed in Senate\n",
                        "  - Cape Town Conference Highlights Climate Challenges\n",
                        "  - San Francisco Launches New Community Initiative\n",
                        "  - River City Hosts Annual Wellness Retreat\n",
                        "  - Springfield Residents Enjoy Community Picnic at River Park\n",
                        "  - New Wellness Center Opens Downtown, Aiming to Transform Community Health\n",
                        "  - Global Conservation Group Intensifies Efforts to Protect the Amazon Rainforest\n",
                        "  - Boston Health Institute Unveils Groundbreaking Study on Mediterranean Diet Benefits\n",
                        "  - Governor White Signs Landmark Environmental Legislation at State Capitol\n",
                        "  - Seattle Rallies for Environmental Awareness: A Community Unites for a Greener Future\n",
                        "\n",
                        "- **Disaster Relief Efforts**\n",
                        "  - Aftershocks in Indonesia: Local and International Aid Continues\n",
                        "  - International Aid Bolsters Indonesian Relief Efforts\n",
                        "  - Global Relief Network Rallies Support in Jakarta Following Natural Disaster\n",
                        "  - Medical Teams Deployed to Indonesian Islands Post-Quake\n",
                        "\n",
                        "- **Education and Innovation**\n",
                        "  - Capital City Hosts Policy Debate on Education Reform\n",
                        "  - Boston Public Schools Launch Ambitious STEM Initiative\n",
                        "  - New Health Legislation Passes in Senate Amid Extensive Debate\n",
                        "  - Austin School District Unveils New Education Initiative\n",
                        "\n",
                        "- **Travel and Leisure**\n",
                        "  - Discover Hidden Gems at Sunny Beach Resort\n",
                        "\n",
                        "- **Philanthropy and Charity**\n",
                        "  - Emma Brown Leads Charity Drive in Chicago to Support Local Communities\n",
                        "\n",
                        "- **Political Developments**\n",
                        "  - Senator Lisa Wong Announces Candidacy for Governor of New York\n",
                        "  - Governor Lisa Thompson Launches Re-election Campaign in Chicago\n",
                        "  - Councilman Lee Announces Re-Election Campaign in Riverton\n",
                        "\n",
                        "## Analysis\n",
                        "\n",
                        "### Greenfield Hawks Triumph in Championship Final\n",
                        "\n",
                        "The Greenfield Hawks achieved a remarkable victory in the football championship final held at Greenfield Stadium on December 1, 2022. The match was a display of skill and teamwork, led by Coach Mike Thompson, and ended with the Hawks' triumph, celebrated by fans and players alike [source: news_articles_texts.csv_26 (1)].\n",
                        "\n",
                        "### Madrid FC Celebrates Victory Parade\n",
                        "\n",
                        "On May 10, 2021, Madrid FC celebrated their championship victory with a grand parade through the city center. Thousands of fans joined the festivities, which highlighted the unity and spirit of the football community in Madrid [source: news_articles_texts.csv_41 (1)].\n",
                        "\n",
                        "### Alex Torres Signs New Contract with Madrid FC\n",
                        "\n",
                        "On June 1, 2021, Madrid Football Club announced the extension of Alex Torres's contract for an additional two years. This move was celebrated by fans and analysts, as Torres has been a pivotal player for the team. The signing ceremony, held at the club's headquarters, was attended by key members of the organization and the media. Torres expressed his excitement about continuing with the club, emphasizing his commitment to its success. The club's manager, Miguel Santos, highlighted Torres's leadership and talent as crucial to maintaining the team's competitive edge [source: news_articles_texts.csv_43 (1)].\n",
                        "\n",
                        "### Medical Teams Deployed to Indonesian Islands Post-Quake\n",
                        "\n",
                        "Following a devastating earthquake in Indonesia, international and local efforts are intensifying to provide relief and medical assistance. The Global Relief Network, in collaboration with the World Health Organization, has mobilized medical teams to deliver essential healthcare services to the affected areas, focusing on both immediate and long-term recovery [source: news_articles_texts.csv_3 (1)].\n",
                        "\n",
                        "### Manchester United Secures Rising Star Alex Johnson\n",
                        "\n",
                        "Manchester United FC announced the signing of Alex Johnson, a promising young midfielder, on July 21, 2023. This strategic acquisition aims to strengthen their lineup for the upcoming football season. Johnson, known for his exceptional skills, is expected to bring a new dynamic to the team's midfield, enhancing their competitiveness in both domestic and international competitions [source: news_articles_texts.csv_6 (1)].\n",
                        "\n",
                        "### Hillside Marathon Sees Record Participation\n",
                        "\n",
                        "On November 16, 2022, the Hillside Marathon Club celebrated a record turnout for its annual marathon event. The marathon, known for its challenging course through the scenic Hillside Trail, attracted participants from across the country, highlighting the growing appeal of the event and the spirit of community and fitness it promotes [source: news_articles_texts.csv_40 (1)].\n",
                        "\n",
                        "### Jordan Banks Scores Hat-Trick in Thrilling Exhibition Match in Lisbon\n",
                        "\n",
                        "In a mesmerizing display of football prowess, Jordan Banks captured the hearts of fans with an outstanding hat-trick in a riveting exhibition match held in Lisbon on June 20, 2021. The match, organized by the European Football League, drew spectators eager to witness some of the finest talents in the sport. Banks' performance was nothing short of spectacular, scoring three remarkable goals and leaving the audience in awe [source: news_articles_texts.csv_44 (1)].\n",
                        "\n",
                        "### LA Lakers Secure Championship with Historic Win\n",
                        "\n",
                        "The city of Los Angeles celebrated as the LA Lakers clinched the championship title with a historic victory on August 3, 2023. The electrifying match at the Staples Center saw the Lakers defeating their rivals, with star player Jordan Lee leading the charge. Lee's exceptional performance was instrumental in securing the win, cementing his legacy as one of the greats in the sport [source: news_articles_texts.csv_18 (1)].\n",
                        "\n",
                        "### LeBron James Shatters Records in Thrilling Lakers Victory\n",
                        "\n",
                        "On August 20, 2023, LeBron James delivered an electrifying performance, setting new records during a Lakers game in Los Angeles. His skillful play and strategic maneuvers were key to the Lakers' victory, further cementing his legacy in the world of sports [source: news_articles_texts.csv_132 (1)].\n",
                        "\n",
                        "### City League Basketball Finals Set for December at Downtown Arena\n",
                        "\n",
                        "The City Basketball League finals are set for December 2023 at the Downtown Arena, promising an exhilarating showdown. Star player Mark Jacobs has been pivotal in his team's journey to the finals, and the event is expected to be a celebration of the community's passion for basketball [source: news_articles_texts.csv_74 (1)].\n",
                        "\n",
                        "### Serena Blake Advances to Finals in Melbourne with Thrilling Victory\n",
                        "\n",
                        "In an exhilarating match held at Melbourne's prestigious Grand Slam tournament on April 10, 2023, tennis star Serena Blake secured her place in the finals. Known for her powerful serve and strategic play, Blake delivered a masterclass in skill and determination, leaving her opponent scrambling. This victory marks a significant milestone in her career, drawing her one step closer to claiming the coveted Grand Slam title [source: news_articles_texts.csv_393 (1)].\n",
                        "\n",
                        "### Federer Returns to Wimbledon: A Triumphant Comeback\n",
                        "\n",
                        "Roger Federer made a spectacular return to Wimbledon, captivating fans worldwide. Known for his elegance and precision, Federer's presence was met with roaring applause, reminding everyone of the magic he brings to the game. His performance was skillful and strategic, marking a significant moment for both Federer and the sport of tennis. This return highlights the enduring appeal of one of tennis's most beloved figures [source: news_articles_texts.csv_138 (1)].\n",
                        "\n",
                        "### EU Leaders Meet for Crucial Talks in Berlin\n",
                        "\n",
                        "On August 22, 2023, EU leaders gathered in Berlin for important discussions on international relations and policy issues. The meeting aimed to address economic instability, security threats, and climate change, with Angela Merkel's presence underscoring the significance of the talks [source: news_articles_texts.csv_133 (1)].\n",
                        "\n",
                        "### Trade Talks Between Islamabad and WTO Yield Positive Outcomes\n",
                        "\n",
                        "In July 2023, Islamabad hosted successful trade negotiations with the WTO, leading to agreements that are expected to enhance Pakistan's global trade relations. Prime Minister Anwar Khan played a key role in these discussions [source: news_articles_texts.csv_13 (1)].\n",
                        "\n",
                        "### Diplomatic Talks Continue in Geneva: A Step Towards Global Peace\n",
                        "\n",
                        "On November 22, 2022, Geneva hosted a gathering of international diplomats under the auspices of the United Nations, aiming to foster global peace and cooperation. The talks focused on conflict resolution, sustainable development, and economic cooperation, with Dr. Elena Martinez playing a key role. The discussions were marked by cautious optimism, with hopes of paving the way for more stable international relations [source: news_articles_texts.csv_25 (1)].\n",
                        "\n",
                        "### Peace Talks to Resume in Geneva with International Focus\n",
                        "\n",
                        "Diplomats from various nations are set to reconvene in Geneva on March 15, 2023, to address ongoing regional conflicts. Facilitated by the United Nations, these talks aim to mediate tensions and establish frameworks for future cooperation. Ambassador John Smith expressed optimism about the discussions, highlighting the importance of dialogue in achieving long-term stability [source: news_articles_texts.csv_65 (1)].\n",
                        "\n",
                        "### Canadian Parliament Engages in Heated Debates Over Policy Reform\n",
                        "\n",
                        "On September 8, 2023, the Canadian Parliament engaged in fervent discussions over proposed policy reforms aimed at spurring economic growth. Led by James Bennett, the debates focused on initiatives such as tax incentives for small businesses and investments in green technology. While the proposals aim to bolster economic resilience, they have sparked contention over budgetary impacts and environmental concerns [source: news_articles_texts.csv_139 (1)].\n",
                        "\n",
                        "### UN Steps In as Political Tensions Rise in Caracas\n",
                        "\n",
                        "The political climate in Caracas has reached a boiling point, prompting the United Nations to step in as a mediator. As tensions escalate, the international body is urging all parties involved to seek peaceful resolutions. The situation has drawn the attention of global leaders, including President Carlos Vega, who has been at the forefront of calls for dialogue and negotiation. The UN's involvement comes at a critical juncture, as the city has been gripped by protests and public demonstrations. The international organization has emphasized the importance of maintaining peace and stability, urging all parties to engage in constructive dialogue [source: news_articles_texts.csv_10 (1)].\n",
                        "\n",
                        "### India Engages in Strategic Talks with IMF for Economic Growth\n",
                        "\n",
                        "In a pivotal move to enhance the nation's economic trajectory, Finance Minister Raj Patel met with representatives from the International Monetary Fund (IMF) in Delhi on August 1, 2023. The discussions focused on formulating new economic policies aimed at bolstering growth in India. This collaboration is seen as a critical measure to ensure sustainable growth amidst global economic uncertainties [source: news_articles_texts.csv_16 (1)].\n",
                        "\n",
                        "### Economic Outlook for Asia-Pacific Region Amid Global Challenges\n",
                        "\n",
                        "The economic landscape of the Asia-Pacific region is under scrutiny as recent reports from the World Economic Forum highlight key trends and challenges. The region is navigating complex conditions, including fluctuating trade dynamics and geopolitical tensions. A shift towards digital and green economies is expected to drive future growth, requiring significant investment in infrastructure and human capital [source: news_articles_texts.csv_130 (1)].\n",
                        "\n",
                        "### Springfield to Host Annual Community Festival\n",
                        "\n",
                        "Springfield announced the return of its Community Festival in April 2023, promising a vibrant celebration of local culture and talent. The festival will feature local artists, craftsmen, and live performances [source: news_articles_texts.csv_66 (1)].\n",
                        "\n",
                        "### Boston Health Institute Unveils Groundbreaking Study on Mediterranean Diet Benefits\n",
                        "\n",
                        "The Boston Health Institute released a comprehensive study on July 24, 2023, highlighting the benefits of the Mediterranean diet. Led by Dr. Michael O'Neil, the research provides robust evidence of the diet's efficacy in promoting cardiovascular health and longevity. The study's findings advocate for dietary shifts towards plant-based and whole-food consumption, offering a sustainable path to better health [source: news_articles_texts.csv_9 (1)].\n",
                        "\n",
                        "### Harmony Festival Expands to Sunset Boulevard\n",
                        "\n",
                        "The Harmony Music Festival announced its expansion to Sunset Boulevard on November 29, 2022. Known for its eclectic mix of genres, the festival will feature DJ Alex Groove as the headlining act. The expansion aims to accommodate a larger audience and enhance the festival experience [source: news_articles_texts.csv_164 (1)].\n",
                        "\n",
                        "### Juan Lopez's New Film Premieres at Hollywood Gala\n",
                        "\n",
                        "Director Juan Lopez premiered his latest film at the Hollywood Film Society's annual gala on April 8, 2023. The event, held in Los Angeles, was a star-studded affair that celebrated Lopez's unique storytelling and directorial prowess. The film's premiere was met with enthusiasm, reaffirming Lopez's status as a leading voice in contemporary cinema [source: news_articles_texts.csv_391 (1)].\n",
                        "\n",
                        "### Art in Paris: A Cultural Exploration with Emma Thompson\n",
                        "\n",
                        "Emma Thompson embarked on a cultural journey through Paris on September 1, 2023, exploring the city's vibrant art scene. Her visit included a tour of the Louvre Museum, where she admired the extensive collections that reflect Paris's rich artistic heritage. Thompson's exploration highlights the city's enduring allure as a global hub for art and culture [source: news_articles_texts.csv_269 (1)].\n",
                        "\n",
                        "### Louvre Museum Unveils Dazzling Asian Art Exhibition Curated by Sophia Lin\n",
                        "\n",
                        "The Louvre Museum in Paris opened a new exhibition of Asian art on July 23, 2023, curated by art historian Sophia Lin. The exhibition features a diverse collection of artworks from across Asia, highlighting the continent's rich cultural heritage and artistic traditions. This exhibition underscores the Louvre's commitment to cultural diversity and education [source: news_articles_texts.csv_8 (1)].\n",
                        "\n",
                        "### Springfield Art Fair Brings Creativity and Community Together\n",
                        "\n",
                        "The Springfield Art Fair transformed the town into a vibrant hub of artistic expression. Organized by the Springfield Arts Council, the event attracted artists and art lovers from the region. Mayor Jonathan Rivera opened the fair, celebrating the community's commitment to fostering creativity. The fair featured live demonstrations and interactive workshops, serving as a platform for artists to connect with the community [source: news_articles_texts.csv_24 (1)].\n",
                        "\n",
                        "### Helen Brock Unveils Latest Novel at City Library\n",
                        "\n",
                        "On October 10, 2023, renowned author Helen Brock launched her latest novel at the City Library, drawing bibliophiles from near and far. The event featured a reading of select passages, a lively Q&A session, and a book signing, showcasing Brock's compelling storytelling and engaging narrative style [source: news_articles_texts.csv_260 (1)].\n",
                        "\n",
                        "### City Book Fair Celebrates Local Authors at City Library\n",
                        "\n",
                        "The annual City Book Fair, held on November 29, 2022, at the City Library, celebrated local literary talent with readings and book signings. Organized by the City Literary Society, the event featured workshops and panel discussions, highlighting the importance of literature in fostering community bonds [source: news_articles_texts.csv_37 (1)].\n",
                        "\n",
                        "### Sofia Kim's New Film Premieres at Los Angeles Film Festival\n",
                        "\n",
                        "Acclaimed director Sofia Kim premiered her latest film at the Los Angeles Film Festival on January 15, 2023. The film, praised for its compelling narrative and visual artistry, has already garnered rave reviews. Hosted by the Hollywood Film Association, the festival highlighted Kim's contribution to cinematic excellence, positioning her work as a strong contender in upcoming award seasons [source: news_articles_texts.csv_148 (1)].\n",
                        "\n",
                        "### Sophie Chen's Exhibition Opens at Louvre: A Celebration of Abstract Art\n",
                        "\n",
                        "On January 22, 2022, the Louvre Museum in Paris unveiled a new exhibition by renowned artist Sophie Chen. Known for her innovative approach to abstract art, Chen's latest series challenges perceptions and invites viewers into a realm of vivid imagination. The exhibition underscores the impact of her work in the global art scene, drawing large crowds eager to experience her visionary art [source: news_articles_texts.csv_50 (1)].\n",
                        "\n",
                        "### Austin School District Unveils New Education Initiative\n",
                        "\n",
                        "The Austin School District launched a new initiative to enhance educational opportunities and resources for students. The initiative includes updated digital resources, expanded extracurricular activities, and new professional development opportunities for teachers. This move aims to improve student outcomes and foster a more inclusive learning environment [source: news_articles_texts.csv_11 (1)].\n",
                        "\n",
                        "### Westfield Hope Foundation Raises Funds for Local Charities at Annual Gala\n",
                        "\n",
                        "On November 10, 2022, the Westfield Hope Foundation hosted a successful charity gala at the Westfield Community Center, raising funds for local community projects. The event featured fundraising activities such as a silent auction and raffle, with contributions from local businesses. The funds will support educational programs, healthcare initiatives, and community development projects [source: news_articles_texts.csv_36 (1)].\n",
                        "\n",
                        "### Charity Run in Columbus Draws Thousands\n",
                        "\n",
                        "On August 2, 2023, thousands participated in a charity run in Columbus to raise funds for the Columbus Food Bank. The event highlighted the city's vibrant neighborhoods and parks, with participants and spectators contributing to a lively atmosphere. The funds raised will support the Food Bank's essential services [source: news_articles_texts.csv_17 (1)].\n",
                        "\n",
                        "### Berlin Music Festival Kicks Off with DJ Luna\n",
                        "\n",
                        "The Berlin Music Festival began on July 29, 2023, with an electrifying performance by DJ Luna. Known for its diverse lineup, the festival celebrates artistic expression and cultural diversity, drawing attendees from around the world. DJ Luna's performance set a high bar for the event, showcasing her unique style [source: news_articles_texts.csv_14 (1)].\n",
                        "\n",
                        "### Annual Charity Run Set to Take Place at Riverfront Park\n",
                        "\n",
                        "The Helping Hands Foundation announced its Annual Charity Run, scheduled for January 15, 2024, at Riverfront Park. The event aims to promote health and community support, with funds raised going towards local initiatives. Participants can engage in various activities, including a 5k run and family walk, in a scenic and community-friendly setting [source: news_articles_texts.csv_78 (1)].\n",
                        "\n",
                        "### San Francisco Hosts Annual Green Earth Festival\n",
                        "\n",
                        "On October 23, 2021, San Francisco hosted the annual Green Earth Festival, organized by the Green Earth Initiative. The event focused on promoting sustainability and featured workshops, demonstrations, and eco-friendly vendors. The festival highlighted the city's commitment to environmental stewardship and inspired participants to contribute to a greener future [source: news_articles_texts.csv_48 (1)].\n",
                        "\n",
                        "### New Environmental Bill Proposed in Senate\n",
                        "\n",
                        "On August 4, 2023, Senator Maria Costa introduced a new environmental bill in the U.S. Senate aimed at strengthening the EPA's authority and enhancing protections for natural resources. The bill proposes increased funding for the EPA and measures to reduce carbon emissions, reflecting a significant step towards addressing climate change [source: news_articles_texts.csv_19 (1)].\n",
                        "\n",
                        "### Cape Town Conference Highlights Climate Challenges\n",
                        "\n",
                        "On December 2, 2022, Cape Town hosted a conference organized by the Global Climate Initiative, focusing on innovative solutions for climate change. The event brought together scientists and policymakers to discuss renewable energy, conservation, and the impact of climate change on vulnerable communities. The conference emphasized the need for international cooperation and transformative policies [source: news_articles_texts.csv_30 (1)].\n",
                        "\n",
                        "### San Francisco Launches New Community Initiative\n",
                        "\n",
                        "On March 12, 2023, San Francisco announced a new community outreach program aimed at enhancing neighborhood quality of life. Spearheaded by the SF Community Fund, the initiative focuses on fostering connections, improving safety, and enhancing amenities, marking a significant step in promoting civic engagement [source: news_articles_texts.csv_86 (1)].\n",
                        "\n",
                        "### River City Hosts Annual Wellness Retreat\n",
                        "\n",
                        "On November 21, 2022, River City hosted its Annual Wellness Retreat, attracting wellness enthusiasts to engage in activities promoting mental and physical health. The event featured workshops on stress reduction, mindfulness, and fitness, emphasizing the importance of holistic well-being [source: news_articles_texts.csv_29 (1)].\n",
                        "\n",
                        "### New Wellness Center Opens Downtown, Aiming to Transform Community Health\n",
                        "\n",
                        "On July 20, 2023, a new Wellness Center opened downtown, spearheaded by Dr. Susan Clark. The center, part of the Health First Initiative, offers a range of services including yoga, meditation, and nutrition counseling, aiming to promote holistic health and preventative care [source: news_articles_texts.csv_69 (1)].\n",
                        "\n",
                        "### Global Conservation Group Intensifies Efforts to Protect the Amazon Rainforest\n",
                        "\n",
                        "The Global Conservation Group has intensified efforts to protect the Amazon Rainforest, addressing threats like deforestation and fires. Led by Dr. Maria Gonzalez, the initiatives include reforestation and support for indigenous land rights, aiming to preserve this vital ecosystem [source: news_articles_texts.csv_271 (1)].\n",
                        "\n",
                        "### Governor White Signs Landmark Environmental Legislation at State Capitol\n",
                        "\n",
                        "Governor Sam White signed a groundbreaking environmental legislation at the State Capitol, marking a triumph for environmental advocacy. The new law aims to reduce carbon emissions, promote renewable energy, and enhance conservation efforts. This legislation positions the state as a leader in environmental stewardship, reflecting years of hard work and collaboration between government and advocacy groups [source: news_articles_texts.csv_257 (1)].\n",
                        "\n",
                        "### Seattle Rallies for Environmental Awareness: A Community Unites for a Greener Future\n",
                        "\n",
                        "On August 18, 2023, Seattle's citizens gathered to raise awareness about environmental issues. Spearheaded by the Green Earth Initiative, the rally featured workshops and demonstrations promoting sustainable practices. Environmental advocate Greta Stone emphasized the need for collective action to combat climate change [source: news_articles_texts.csv_131 (1)].\n",
                        "\n",
                        "### Aftershocks in Indonesia: Local and International Aid Continues\n",
                        "\n",
                        "Following a devastating earthquake in Indonesia on July 16, 2023, aftershocks continue to affect the region. Local and international organizations, including the Global Relief Network and the Indonesian Red Cross, are actively providing aid and support to the affected communities. Efforts focus on immediate relief and building resilience for future seismic events [source: news_articles_texts.csv_1 (1)].\n",
                        "\n",
                        "### Global Relief Network Rallies Support in Jakarta Following Natural Disaster\n",
                        "\n",
                        "Following a natural disaster in Jakarta, the Global Relief Network has been actively coordinating relief operations. Led by Aid Worker Emily Johnson, the organization is providing food, water, and medical supplies to affected communities. The Global Relief Network is appealing for additional international support to sustain long-term recovery efforts [source: news_articles_texts.csv_397 (1)].\n",
                        "\n",
                        "### Capital City Hosts Policy Debate on Education Reform\n",
                        "\n",
                        "On December 4, 2022, Capital City hosted a policy debate on education reform, organized by the Capital Policy Institute. The event focused on curriculum updates, funding disparities, and technology integration, with experts like Rachel Adams emphasizing the need for innovative strategies [source: news_articles_texts.csv_39 (1)].\n",
                        "\n",
                        "### Boston Public Schools Launch Ambitious STEM Initiative\n",
                        "\n",
                        "Boston Public Schools announced a new STEM initiative on October 13, 2023, aimed at revolutionizing technology education. The program, led by Principal Susan White, will integrate advanced technology and hands-on learning to prepare students for high-tech industries [source: news_articles_texts.csv_417 (1)].\n",
                        "\n",
                        "### New Health Legislation Passes in Senate Amid Extensive Debate\n",
                        "\n",
                        "On February 17, 2023, the Senate passed new health legislation aimed at expanding access to healthcare across the nation. The bill, championed by Senator James O'Neill, represents a crucial step forward in healthcare reform. Despite challenges, the legislation's approval marks a victory for healthcare advocates and sets the stage for further discussions in the House of Representatives [source: news_articles_texts.csv_60 (1)].\n",
                        "\n",
                        "### Governor Lisa Thompson Launches Re-election Campaign in Chicago\n",
                        "\n",
                        "Governor Lisa Thompson announced her bid for re-election in Chicago, emphasizing her administration's achievements in economic growth and healthcare improvements. Her campaign will focus on engaging with communities across the state, building upon the successes of her current tenure. The Midwest Political Association supports her campaign, praising her leadership and vision [source: news_articles_texts.csv_390 (1)].\n",
                        "\n",
                        "### Councilman Lee Announces Re-Election Campaign in Riverton\n",
                        "\n",
                        "On August 25, 2023, Councilman Jason Lee announced his re-election campaign for the Riverton City Council. Emphasizing urban development and public safety, Lee highlighted his accomplishments and plans for the city's future, engaging with constituents through town hall meetings and public forums [source: news_articles_texts.csv_70 (1)].\n",
                        "\n",
                        "### Emma Brown Leads Charity Drive in Chicago to Support Local Communities\n",
                        "\n",
                        "On October 15, 2023, Emma Brown led a charity drive in Chicago to support local communities, organized by the Chicago Charity Foundation. The event raised funds and gathered resources for underprivileged communities, highlighting the power of community action and philanthropy [source: news_articles_texts.csv_332 (1)].\n",
                        "\n",
                        "### New Town Film Festival Celebrates Independent Cinema\n",
                        "\n",
                        "The New Town Film Festival, held on November 18, 2022, celebrated independent cinema with a week-long event featuring diverse narratives and innovative filmmaking. Organized by the New Town Film Society, the festival attracted filmmakers and cinephiles from around the world. The opening ceremony was attended by renowned director Alan Ford, who shared insights with attendees. The festival's lineup included a variety of films that challenged conventional narratives, providing a platform for emerging talent and fostering a deeper appreciation of film as an art form [source: news_articles_texts.csv_28 (1)].\n",
                        "\n",
                        "## Conclusion\n",
                        "\n",
                        "This report highlights a diverse array of events that have recently taken place across the globe. From thrilling sports victories and significant diplomatic meetings to vibrant cultural festivals and insightful art exhibitions, these events reflect the dynamic and interconnected nature of our world. Additionally, community and environmental initiatives underscore the importance of collective action in addressing global challenges. The report also emphasizes the critical role of international cooperation in disaster relief efforts, as seen in the response to the Indonesian earthquake. In education, new initiatives are paving the way for future generations. Each event, whether in sports, diplomacy, culture, or community engagement, contributes to the rich tapestry of global experiences, offering insights and opportunities for engagement and reflection.\n",
                        "\n",
                        "\n"
                    ]
                }
            ],
            "source": [
                "# Output the final extended answer\n",
                "final_answer = partial_answers[-1]\n",
                "print(final_answer)"
            ]
        }
    ],
    "metadata": {
        "kernelspec": {
            "display_name": ".venv",
            "language": "python",
            "name": "python3"
        },
        "language_info": {
            "codemirror_mode": {
                "name": "ipython",
                "version": 3
            },
            "file_extension": ".py",
            "mimetype": "text/x-python",
            "name": "python",
            "nbconvert_exporter": "python",
            "pygments_lexer": "ipython3",
            "version": "3.11.9"
        }
    },
    "nbformat": 4,
    "nbformat_minor": 2
}
