{
 "cells": [
  {
   "cell_type": "markdown",
   "metadata": {},
   "source": [
    "# Anonymize Case Data\n",
    "\n",
    "Demonstrates use of the Intelligence Toolkit library to anonymize a case dataset.\n",
    "\n",
    "See [readme](https://github.com/microsoft/intelligence-toolkit/blob/main/app/workflows/anonymize_case_data/README.md) for more details."
   ]
  },
  {
   "cell_type": "code",
   "execution_count": 12,
   "metadata": {},
   "outputs": [],
   "source": [
    "import sys\n",
    "\n",
    "sys.path.append(\"..\")\n",
    "from intelligence_toolkit.anonymize_case_data.api import (\n",
    "    AnonymizeCaseData,\n",
    "    SynthesizabilityStatistics,\n",
    ")\n",
    "from intelligence_toolkit.anonymize_case_data.visuals import color_schemes\n",
    "import pandas as pd"
   ]
  },
  {
   "cell_type": "code",
   "execution_count": null,
   "metadata": {},
   "outputs": [],
   "source": [
    "# Create the workflow object\n",
    "\n",
    "from intelligence_toolkit.helpers import df_functions\n",
    "\n",
    "\n",
    "acd = AnonymizeCaseData()\n",
    "# Load the sensitive data\n",
    "data_path = \"../example_outputs/anonymize_case_data/customer_complaints/customer_complaints_prepared.csv\"\n",
    "sensitive_data = pd.read_csv(data_path)\n",
    "# Map missing values and binary False to empty strings, since we only care about the presence of attributes\n",
    "sensitive_data = df_functions.supress_boolean_binary(sensitive_data)\n",
    "print(\"Loaded data\")"
   ]
  },
  {
   "cell_type": "code",
   "execution_count": null,
   "metadata": {},
   "outputs": [],
   "source": [
    "# Check the synthesizabiluty of the data\n",
    "synthesizability_stats: SynthesizabilityStatistics = acd.analyze_synthesizability(\n",
    "    sensitive_data\n",
    ")\n",
    "print(synthesizability_stats)"
   ]
  },
  {
   "cell_type": "code",
   "execution_count": null,
   "metadata": {},
   "outputs": [],
   "source": [
    "# Anonymize the data\n",
    "acd.anonymize_case_data(\n",
    "    df=sensitive_data,\n",
    "    epsilon=12.0,\n",
    ")\n",
    "print(\"Anonymized data\")"
   ]
  },
  {
   "cell_type": "code",
   "execution_count": null,
   "metadata": {},
   "outputs": [],
   "source": [
    "# Inspect the anonymous aggregate data\n",
    "acd.aggregate_df.head()"
   ]
  },
  {
   "cell_type": "code",
   "execution_count": null,
   "metadata": {},
   "outputs": [],
   "source": [
    "# Inspect the error report for the aggregate data\n",
    "# Length represents the length of the attribute value combination being counted\n",
    "# Error represents the mean absolute error in the count of the attribute value combination,\n",
    "# calculated as the absolute difference between the actual count and the anonymized/protected count divided by the actual count\n",
    "# Suppressed % represents the percentage of attribute value combination counts that were suppressed, out of the total count of attribute value combinations\n",
    "# Fabricated % represents the percentage of attribute value combination counts that were fabricated, out of the total count of attribute value combinations\n",
    "\n",
    "print(acd.aggregate_error_report)"
   ]
  },
  {
   "cell_type": "code",
   "execution_count": null,
   "metadata": {},
   "outputs": [],
   "source": [
    "# Create example top attributes bar chart\n",
    "bar_chart, bar_chart_df = acd.get_bar_chart_fig(\n",
    "    selection=[],  # Prefilter the dataset by adding attribute values here\n",
    "    show_attributes=[],\n",
    "    unit=\"Customer\",\n",
    "    width=1000,\n",
    "    height=600,\n",
    "    scheme=color_schemes[\"Alphabet\"],\n",
    "    num_values=10,\n",
    ")\n",
    "bar_chart.show()"
   ]
  },
  {
   "cell_type": "code",
   "execution_count": null,
   "metadata": {},
   "outputs": [],
   "source": [
    "# Create example time series line chart\n",
    "line_chart, line_chart_df = acd.get_line_chart_fig(\n",
    "    selection=[],  # Prefilter the dataset by adding attribute values here\n",
    "    series_attributes=[\n",
    "        \"quality_issue\",\n",
    "        \"price_issue\",\n",
    "        \"service_issue\",\n",
    "        \"delivery_issue\",\n",
    "        \"description_issue\",\n",
    "    ],\n",
    "    time_attribute=\"period\",\n",
    "    unit=\"Customer\",\n",
    "    width=1000,\n",
    "    height=600,\n",
    "    scheme=color_schemes[\"Alphabet\"],\n",
    ")\n",
    "line_chart.show()"
   ]
  },
  {
   "cell_type": "code",
   "execution_count": null,
   "metadata": {},
   "outputs": [],
   "source": [
    "# Create example alluvial/flow chart of city-product relationships\n",
    "flow_chart, flow_chart_df = acd.get_flow_chart_fig(\n",
    "    selection=[],  # Prefilter the dataset by adding attribute values here\n",
    "    source_attribute=\"city\",\n",
    "    target_attribute=\"product_code\",\n",
    "    highlight_attribute=\"price_issue:True\",\n",
    "    unit=\"Customer\",\n",
    "    width=1000,\n",
    "    height=600,\n",
    "    scheme=color_schemes[\"Alphabet\"],\n",
    ")\n",
    "flow_chart.show()"
   ]
  }
 ],
 "metadata": {
  "kernelspec": {
   "display_name": ".venv",
   "language": "python",
   "name": "python3"
  },
  "language_info": {
   "codemirror_mode": {
    "name": "ipython",
    "version": 3
   },
   "file_extension": ".py",
   "mimetype": "text/x-python",
   "name": "python",
   "nbconvert_exporter": "python",
   "pygments_lexer": "ipython3",
   "version": "3.11.9"
  }
 },
 "nbformat": 4,
 "nbformat_minor": 2
}
