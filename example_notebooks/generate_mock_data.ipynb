{
 "cells": [
  {
   "cell_type": "markdown",
   "metadata": {},
   "source": [
    "# Generate Mock Data\n",
    "\n",
    "Demonstrates use of the Intelligence Toolkit library to generate mock data, both structured records and unstructured texts.\n",
    "\n",
    "See [readme](https://github.com/microsoft/intelligence-toolkit/blob/main/app/workflows/generate_mock_data/README.md) for more details."
   ]
  },
  {
   "cell_type": "code",
   "execution_count": 1,
   "metadata": {},
   "outputs": [],
   "source": [
    "import sys\n",
    "\n",
    "sys.path.append(\"..\")\n",
    "import os\n",
    "from intelligence_toolkit.generate_mock_data import GenerateMockData\n",
    "from intelligence_toolkit.AI.openai_configuration import OpenAIConfiguration\n",
    "import pandas as pd\n",
    "import json"
   ]
  },
  {
   "cell_type": "code",
   "execution_count": 2,
   "metadata": {},
   "outputs": [
    {
     "name": "stdout",
     "output_type": "stream",
     "text": [
      "Loaded data schema\n",
      "{'$schema': 'http://json-schema.org/draft/2020-12/schema', 'title': 'Customer complaints', 'description': 'An example schema storing an array of customer complaints', 'type': 'object', 'properties': {'customer_complaints': {'type': 'array', 'description': 'The list of customers and their complaints', 'items': {'type': 'object', 'properties': {'name': {'type': 'string', 'description': 'The name of the customer'}, 'street': {'type': 'string', 'description': 'The street of the customer, including property name/number'}, 'city': {'type': 'string', 'description': 'The city of the customer'}, 'age': {'type': 'number', 'description': 'The age of the customer'}, 'email': {'type': 'string', 'description': 'The email address of the customer'}, 'price_issue': {'type': 'boolean', 'description': 'The complaint is a price issue'}, 'quality_issue': {'type': 'boolean', 'description': 'The complaint is a quality issue'}, 'service_issue': {'type': 'boolean', 'description': 'The complaint is a service issue'}, 'delivery_issue': {'type': 'boolean', 'description': 'The complaint is a delivery issue'}, 'description_issue': {'type': 'boolean', 'description': 'The complaint is a description issue'}, 'product_code': {'type': 'string', 'description': 'The product code targeted by the complaint', 'enum': ['A', 'B', 'C', 'D', 'E', 'F', 'G', 'H']}, 'quarter': {'type': 'string', 'description': 'The quarter in which the complaint was made (since 2020-Q1)'}}, 'required': ['name', 'street', 'city', 'age', 'email', 'price_issue', 'quality_issue', 'service_issue', 'delivery_issue', 'description_issue', 'product_code', 'quarter'], 'additionalProperties': False}}}, 'required': ['customer_complaints'], 'additionalProperties': False}\n"
     ]
    }
   ],
   "source": [
    "# Create the workflow object\n",
    "gmd = GenerateMockData()\n",
    "# Set the AI configuration\n",
    "ai_configuration = OpenAIConfiguration(\n",
    "    {\n",
    "        \"api_type\": \"OpenAI\",\n",
    "        \"api_key\": os.environ[\"OPENAI_API_KEY\"],\n",
    "        \"model\": \"gpt-4o\",\n",
    "    }\n",
    ")\n",
    "gmd.set_ai_configuration(ai_configuration)\n",
    "# Load the data schema\n",
    "schema_path = \"../example_outputs/generate_mock_data/customer_complaints/customer_complaints_schema.json\"\n",
    "json_schema = json.loads(open(schema_path, \"r\").read())\n",
    "# Set the schema\n",
    "gmd.set_schema(json_schema)\n",
    "print(\"Loaded data schema\")\n",
    "print(json_schema)"
   ]
  },
  {
   "cell_type": "code",
   "execution_count": 3,
   "metadata": {},
   "outputs": [
    {
     "name": "stderr",
     "output_type": "stream",
     "text": [
      "100%|██████████| 10/10 [00:20<00:00,  2.09s/it]"
     ]
    },
    {
     "name": "stdout",
     "output_type": "stream",
     "text": [
      "Generated data records\n"
     ]
    },
    {
     "name": "stderr",
     "output_type": "stream",
     "text": [
      "\n"
     ]
    }
   ],
   "source": [
    "# Generate mock data records\n",
    "await gmd.generate_data_records(\n",
    "    num_records_overall=100,\n",
    "    records_per_batch=10,\n",
    "    duplicate_records_per_batch=1,\n",
    "    related_records_per_batch=1,\n",
    ")\n",
    "print(\"Generated data records\")"
   ]
  },
  {
   "cell_type": "code",
   "execution_count": 4,
   "metadata": {},
   "outputs": [
    {
     "name": "stdout",
     "output_type": "stream",
     "text": [
      "{'customer_complaints': [{'name': 'Jon Doe', 'street': '123 Elm St.', 'city': 'Springfield', 'age': 35, 'email': 'jon.doe@example.com', 'price_issue': True, 'quality_issue': False, 'service_issue': False, 'delivery_issue': False, 'description_issue': False, 'product_code': 'A', 'quarter': '2022-Q3'}, {'name': 'Jane Doe', 'street': '123 Elm Street', 'city': 'Springfield', 'age': 32, 'email': 'janedoe@example.com', 'price_issue': False, 'quality_issue': True, 'service_issue': False, 'delivery_issue': False, 'description_issue': False, 'product_code': 'A', 'quarter': '2022-Q3'}, {'name': 'Alice Smith', 'street': '456 Oak Avenue', 'city': 'Shelbyville', 'age': 28, 'email': 'alice.smith@example.com', 'price_issue': False, 'quality_issue': True, 'service_issue': False, 'delivery_issue': False, 'description_issue': True, 'product_code': 'B', 'quarter': '2022-Q4'}, {'name': 'Bob Johnson', 'street': '789 Pine Road', 'city': 'Capital City', 'age': 45, 'email': 'b.johnson@example.com', 'price_issue': True, 'quality_issue': True, 'service_issue': False, 'delivery_issue': False, 'description_issue': False, 'product_code': 'C', 'quarter': '2022-Q3'}, {'name': 'Eve Adams', 'street': '321 Maple Lane', 'city': 'Ogdenville', 'age': 39, 'email': 'eve.adams@example.com', 'price_issue': False, 'quality_issue': False, 'service_issue': True, 'delivery_issue': False, 'description_issue': False, 'product_code': 'D', 'quarter': '2022-Q2'}, {'name': 'Charlie Brown', 'street': '654 Birch Boulevard', 'city': 'North Haverbrook', 'age': 30, 'email': 'charlie.brown@example.com', 'price_issue': False, 'quality_issue': False, 'service_issue': False, 'delivery_issue': True, 'description_issue': False, 'product_code': 'E', 'quarter': '2022-Q1'}, {'name': 'Diana Prince', 'street': '987 Cedar Court', 'city': 'Springfield', 'age': 29, 'email': 'diana.prince@example.com', 'price_issue': False, 'quality_issue': False, 'service_issue': False, 'delivery_issue': False, 'description_issue': True, 'product_code': 'F', 'quarter': '2022-Q3'}, {'name': 'Frank Castle', 'street': '159 Spruce Drive', 'city': 'Capital City', 'age': 50, 'email': 'frank.castle@example.com', 'price_issue': True, 'quality_issue': False, 'service_issue': True, 'delivery_issue': False, 'description_issue': False, 'product_code': 'G', 'quarter': '2022-Q4'}, {'name': 'Grace Hopper', 'street': '753 Willow Way', 'city': 'Shelbyville', 'age': 42, 'email': 'grace.hopper@example.com', 'price_issue': False, 'quality_issue': True, 'service_issue': False, 'delivery_issue': True, 'description_issue': False, 'product_code': 'H', 'quarter': '2022-Q2'}, {'name': 'Henry Ford', 'street': '852 Ash Street', 'city': 'North Haverbrook', 'age': 37, 'email': 'henry.ford@example.com', 'price_issue': False, 'quality_issue': False, 'service_issue': True, 'delivery_issue': False, 'description_issue': True, 'product_code': 'A', 'quarter': '2022-Q1'}, {'name': 'Jane Smythe', 'street': '456 Maple Ave', 'city': 'Riverside', 'age': 28, 'email': 'jane.smythe@example.com', 'price_issue': False, 'quality_issue': True, 'service_issue': False, 'delivery_issue': False, 'description_issue': False, 'product_code': 'B', 'quarter': '2023-Q1'}, {'name': 'John Smith', 'street': '456 Maple Avenue', 'city': 'Riverside', 'age': 30, 'email': 'johnsmith@example.com', 'price_issue': False, 'quality_issue': True, 'service_issue': True, 'delivery_issue': False, 'description_issue': False, 'product_code': 'B', 'quarter': '2023-Q1'}, {'name': 'Emily Johnson', 'street': '789 Oak Street', 'city': 'Springfield', 'age': 35, 'email': 'emilyj@example.com', 'price_issue': True, 'quality_issue': False, 'service_issue': False, 'delivery_issue': True, 'description_issue': False, 'product_code': 'A', 'quarter': '2023-Q2'}, {'name': 'Michael Brown', 'street': '123 Pine Road', 'city': 'Mapleton', 'age': 42, 'email': 'michaelb@example.com', 'price_issue': False, 'quality_issue': False, 'service_issue': True, 'delivery_issue': False, 'description_issue': True, 'product_code': 'C', 'quarter': '2023-Q1'}, {'name': 'Jessica Taylor', 'street': '321 Birch Lane', 'city': 'Greenville', 'age': 29, 'email': 'jessicat@example.com', 'price_issue': True, 'quality_issue': True, 'service_issue': False, 'delivery_issue': False, 'description_issue': False, 'product_code': 'D', 'quarter': '2023-Q3'}, {'name': 'Daniel Martinez', 'street': '654 Cedar Ave', 'city': 'Lakeside', 'age': 37, 'email': 'danielm@example.com', 'price_issue': False, 'quality_issue': False, 'service_issue': False, 'delivery_issue': True, 'description_issue': True, 'product_code': 'E', 'quarter': '2023-Q4'}, {'name': 'Sophia Lee', 'street': '987 Elm Street', 'city': 'Hilltown', 'age': 25, 'email': 'sophial@example.com', 'price_issue': True, 'quality_issue': False, 'service_issue': True, 'delivery_issue': False, 'description_issue': False, 'product_code': 'F', 'quarter': '2023-Q1'}, {'name': 'James Wilson', 'street': '159 Spruce Blvd', 'city': 'Riverdale', 'age': 31, 'email': 'jamesw@example.com', 'price_issue': False, 'quality_issue': True, 'service_issue': False, 'delivery_issue': False, 'description_issue': True, 'product_code': 'G', 'quarter': '2023-Q2'}, {'name': 'Olivia Harris', 'street': '753 Willow Way', 'city': 'Brookfield', 'age': 40, 'email': 'oliviah@example.com', 'price_issue': True, 'quality_issue': False, 'service_issue': False, 'delivery_issue': True, 'description_issue': False, 'product_code': 'H', 'quarter': '2023-Q3'}, {'name': 'Liam Clark', 'street': '246 Aspen Drive', 'city': 'Meadowview', 'age': 33, 'email': 'liamc@example.com', 'price_issue': False, 'quality_issue': False, 'service_issue': True, 'delivery_issue': True, 'description_issue': False, 'product_code': 'A', 'quarter': '2023-Q4'}, {'name': 'Alice Johnston', 'street': '789 Oak Lane', 'city': 'Greendale', 'age': 42, 'email': 'alice.johnston@example.com', 'price_issue': False, 'quality_issue': False, 'service_issue': True, 'delivery_issue': False, 'description_issue': False, 'product_code': 'C', 'quarter': '2021-Q4'}, {'name': 'Bob Johnson', 'street': '123 Pine Street', 'city': 'Greendale', 'age': 44, 'email': 'bobjohnson@example.com', 'price_issue': False, 'quality_issue': False, 'service_issue': True, 'delivery_issue': True, 'description_issue': False, 'product_code': 'C', 'quarter': '2021-Q4'}, {'name': 'Clara Smith', 'street': '456 Maple Avenue', 'city': 'Rivertown', 'age': 35, 'email': 'clarasmith@example.com', 'price_issue': True, 'quality_issue': False, 'service_issue': False, 'delivery_issue': False, 'description_issue': True, 'product_code': 'A', 'quarter': '2022-Q1'}, {'name': 'Daniel Brown', 'street': '789 Elm Street', 'city': 'Lakeside', 'age': 50, 'email': 'danielbrown@example.com', 'price_issue': False, 'quality_issue': True, 'service_issue': False, 'delivery_issue': False, 'description_issue': False, 'product_code': 'B', 'quarter': '2022-Q2'}, {'name': 'Evelyn White', 'street': '101 Birch Road', 'city': 'Hilltown', 'age': 28, 'email': 'evelynwhite@example.com', 'price_issue': False, 'quality_issue': False, 'service_issue': False, 'delivery_issue': True, 'description_issue': False, 'product_code': 'D', 'quarter': '2021-Q3'}, {'name': 'Frank Green', 'street': '202 Willow Lane', 'city': 'Meadowville', 'age': 60, 'email': 'frankgreen@example.com', 'price_issue': True, 'quality_issue': True, 'service_issue': False, 'delivery_issue': False, 'description_issue': False, 'product_code': 'E', 'quarter': '2021-Q4'}, {'name': 'Grace Lee', 'street': '303 Spruce Street', 'city': 'Rivertown', 'age': 37, 'email': 'gracelee@example.com', 'price_issue': False, 'quality_issue': False, 'service_issue': False, 'delivery_issue': False, 'description_issue': True, 'product_code': 'F', 'quarter': '2022-Q2'}, {'name': 'Henry Adams', 'street': '404 Cedar Avenue', 'city': 'Greendale', 'age': 45, 'email': 'henryadams@example.com', 'price_issue': True, 'quality_issue': False, 'service_issue': False, 'delivery_issue': True, 'description_issue': False, 'product_code': 'G', 'quarter': '2021-Q4'}, {'name': 'Isla Martinez', 'street': '505 Ash Boulevard', 'city': 'Lakeside', 'age': 33, 'email': 'islamartinez@example.com', 'price_issue': False, 'quality_issue': True, 'service_issue': True, 'delivery_issue': False, 'description_issue': False, 'product_code': 'H', 'quarter': '2022-Q1'}, {'name': 'Jackie Wilson', 'street': '606 Pine Lane', 'city': 'Hilltown', 'age': 29, 'email': 'jackiewilson@example.com', 'price_issue': False, 'quality_issue': False, 'service_issue': False, 'delivery_issue': False, 'description_issue': True, 'product_code': 'A', 'quarter': '2021-Q2'}, {'name': 'Robert Brown', 'street': '101 Pine Rd', 'city': 'Hilltown', 'age': 50, 'email': 'bob.brown@example.com', 'price_issue': False, 'quality_issue': False, 'service_issue': False, 'delivery_issue': True, 'description_issue': False, 'product_code': 'D', 'quarter': '2020-Q2'}, {'name': 'Alice Brown', 'street': '102 Pine Road', 'city': 'Hilltown', 'age': 48, 'email': 'alicebrown@example.com', 'price_issue': False, 'quality_issue': False, 'service_issue': False, 'delivery_issue': True, 'description_issue': False, 'product_code': 'D', 'quarter': '2020-Q3'}, {'name': 'Charlie Smith', 'street': '22 Oak Avenue', 'city': 'Riverton', 'age': 34, 'email': 'charliesmith@example.com', 'price_issue': True, 'quality_issue': False, 'service_issue': False, 'delivery_issue': False, 'description_issue': False, 'product_code': 'A', 'quarter': '2020-Q4'}, {'name': 'Diana Jones', 'street': '45 Maple Street', 'city': 'Lakeside', 'age': 29, 'email': 'diana.jones@example.com', 'price_issue': False, 'quality_issue': True, 'service_issue': False, 'delivery_issue': False, 'description_issue': False, 'product_code': 'B', 'quarter': '2021-Q1'}, {'name': 'Ethan Black', 'street': '78 Willow Lane', 'city': 'Hilltown', 'age': 41, 'email': 'ethan.black@example.com', 'price_issue': False, 'quality_issue': False, 'service_issue': True, 'delivery_issue': False, 'description_issue': False, 'product_code': 'C', 'quarter': '2021-Q2'}, {'name': 'Fiona White', 'street': '89 Birch Blvd', 'city': 'Meadowville', 'age': 37, 'email': 'fiona.white@example.com', 'price_issue': False, 'quality_issue': False, 'service_issue': False, 'delivery_issue': False, 'description_issue': True, 'product_code': 'E', 'quarter': '2021-Q3'}, {'name': 'George Green', 'street': '56 Elm Drive', 'city': 'Hilltown', 'age': 60, 'email': 'george.green@example.com', 'price_issue': True, 'quality_issue': True, 'service_issue': False, 'delivery_issue': False, 'description_issue': False, 'product_code': 'F', 'quarter': '2021-Q4'}, {'name': 'Hannah White', 'street': '7 Cedar Court', 'city': 'Riverton', 'age': 45, 'email': 'hannah.white@example.com', 'price_issue': False, 'quality_issue': False, 'service_issue': False, 'delivery_issue': True, 'description_issue': False, 'product_code': 'G', 'quarter': '2022-Q1'}, {'name': 'Ian Brown', 'street': '15 Spruce Lane', 'city': 'Hilltown', 'age': 55, 'email': 'ian.brown@example.com', 'price_issue': False, 'quality_issue': True, 'service_issue': True, 'delivery_issue': False, 'description_issue': False, 'product_code': 'H', 'quarter': '2022-Q2'}, {'name': 'Jessica Adams', 'street': '34 Pine Road', 'city': 'Hilltown', 'age': 39, 'email': 'jessica.adams@example.com', 'price_issue': False, 'quality_issue': False, 'service_issue': False, 'delivery_issue': True, 'description_issue': False, 'product_code': 'D', 'quarter': '2022-Q3'}, {'name': 'Caroline White', 'street': '202 Birch Blvd', 'city': 'Lakeside', 'age': 37, 'email': 'carolinewhite@example.com', 'price_issue': False, 'quality_issue': False, 'service_issue': False, 'delivery_issue': False, 'description_issue': True, 'product_code': 'E', 'quarter': '2021-Q1'}, {'name': 'John White', 'street': '204 Birch Boulevard', 'city': 'Lakeside', 'age': 40, 'email': 'johnwhite@example.com', 'price_issue': False, 'quality_issue': False, 'service_issue': False, 'delivery_issue': True, 'description_issue': False, 'product_code': 'E', 'quarter': '2021-Q2'}, {'name': 'Alice Brown', 'street': '15 Oak Lane', 'city': 'Greenfield', 'age': 29, 'email': 'alicebrown@example.com', 'price_issue': True, 'quality_issue': False, 'service_issue': False, 'delivery_issue': False, 'description_issue': False, 'product_code': 'A', 'quarter': '2021-Q3'}, {'name': 'David Smith', 'street': '98 Pine Street', 'city': 'Rivertown', 'age': 45, 'email': 'davidsmith@example.com', 'price_issue': False, 'quality_issue': True, 'service_issue': False, 'delivery_issue': False, 'description_issue': False, 'product_code': 'B', 'quarter': '2021-Q4'}, {'name': 'Emily Johnson', 'street': '77 Maple Avenue', 'city': 'Hillcrest', 'age': 34, 'email': 'emilyjohnson@example.com', 'price_issue': False, 'quality_issue': False, 'service_issue': True, 'delivery_issue': False, 'description_issue': False, 'product_code': 'C', 'quarter': '2022-Q1'}, {'name': 'Michael Brown', 'street': '33 Cedar Road', 'city': 'Brookside', 'age': 52, 'email': 'michaelbrown@example.com', 'price_issue': False, 'quality_issue': False, 'service_issue': False, 'delivery_issue': True, 'description_issue': False, 'product_code': 'D', 'quarter': '2022-Q2'}, {'name': 'Laura Green', 'street': '22 Elm Street', 'city': 'Meadowville', 'age': 28, 'email': 'lauragreen@example.com', 'price_issue': True, 'quality_issue': False, 'service_issue': False, 'delivery_issue': False, 'description_issue': False, 'product_code': 'F', 'quarter': '2022-Q3'}, {'name': 'James Black', 'street': '9 Willow Way', 'city': 'Springfield', 'age': 39, 'email': 'jamesblack@example.com', 'price_issue': False, 'quality_issue': True, 'service_issue': False, 'delivery_issue': False, 'description_issue': False, 'product_code': 'G', 'quarter': '2022-Q4'}, {'name': 'Sophia Wilson', 'street': '58 Spruce Court', 'city': 'Lakeside', 'age': 31, 'email': 'sophiawilson@example.com', 'price_issue': False, 'quality_issue': False, 'service_issue': False, 'delivery_issue': True, 'description_issue': False, 'product_code': 'H', 'quarter': '2023-Q1'}, {'name': 'Robert Taylor', 'street': '12 Birch Boulevard', 'city': 'Lakeside', 'age': 50, 'email': 'roberttaylor@example.com', 'price_issue': True, 'quality_issue': False, 'service_issue': False, 'delivery_issue': False, 'description_issue': False, 'product_code': 'E', 'quarter': '2023-Q2'}, {'name': 'David Greene', 'street': '303 Cedar Lane', 'city': 'Ridgefield', 'age': 29, 'email': 'david.greene@example.com', 'price_issue': True, 'quality_issue': True, 'service_issue': False, 'delivery_issue': False, 'description_issue': False, 'product_code': 'F', 'quarter': '2023-Q2'}, {'name': 'Sarah Green', 'street': '305 Cedar Court', 'city': 'Ridgefield', 'age': 27, 'email': 'sarahgreen@example.com', 'price_issue': False, 'quality_issue': True, 'service_issue': False, 'delivery_issue': True, 'description_issue': False, 'product_code': 'F', 'quarter': '2023-Q2'}, {'name': 'John Smith', 'street': '123 Maple Street', 'city': 'Springfield', 'age': 45, 'email': 'johnsmith@example.com', 'price_issue': False, 'quality_issue': False, 'service_issue': True, 'delivery_issue': False, 'description_issue': True, 'product_code': 'A', 'quarter': '2023-Q3'}, {'name': 'Emily Johnson', 'street': '456 Oak Avenue', 'city': 'Greenville', 'age': 32, 'email': 'emilyj@example.com', 'price_issue': True, 'quality_issue': False, 'service_issue': True, 'delivery_issue': False, 'description_issue': False, 'product_code': 'B', 'quarter': '2023-Q1'}, {'name': 'Michael Brown', 'street': '789 Pine Road', 'city': 'Lakeside', 'age': 38, 'email': 'michael.brown@example.com', 'price_issue': False, 'quality_issue': True, 'service_issue': False, 'delivery_issue': True, 'description_issue': False, 'product_code': 'C', 'quarter': '2022-Q4'}, {'name': 'Jessica Taylor', 'street': '101 Birch Boulevard', 'city': 'Hilltown', 'age': 29, 'email': 'jessica.taylor@example.com', 'price_issue': True, 'quality_issue': False, 'service_issue': False, 'delivery_issue': False, 'description_issue': True, 'product_code': 'D', 'quarter': '2023-Q2'}, {'name': 'Robert Wilson', 'street': '202 Elm Street', 'city': 'River City', 'age': 54, 'email': 'robert.w@example.com', 'price_issue': False, 'quality_issue': True, 'service_issue': True, 'delivery_issue': False, 'description_issue': False, 'product_code': 'E', 'quarter': '2023-Q1'}, {'name': 'Linda Martinez', 'street': '303 Cedar Court', 'city': 'Ridgefield', 'age': 41, 'email': 'lindamartinez@example.com', 'price_issue': False, 'quality_issue': False, 'service_issue': True, 'delivery_issue': True, 'description_issue': False, 'product_code': 'F', 'quarter': '2023-Q2'}, {'name': 'Kevin Lee', 'street': '404 Willow Way', 'city': 'Seaside', 'age': 36, 'email': 'kevin.lee@example.com', 'price_issue': True, 'quality_issue': False, 'service_issue': False, 'delivery_issue': False, 'description_issue': True, 'product_code': 'G', 'quarter': '2023-Q3'}, {'name': 'Nancy White', 'street': '505 Cypress Circle', 'city': 'Mountain View', 'age': 50, 'email': 'nancy.white@example.com', 'price_issue': False, 'quality_issue': True, 'service_issue': True, 'delivery_issue': False, 'description_issue': False, 'product_code': 'H', 'quarter': '2023-Q4'}, {'name': 'Eva Black', 'street': '404 Willow Way', 'city': 'Meadowville', 'age': 31, 'email': 'evablack@example.com', 'price_issue': False, 'quality_issue': False, 'service_issue': True, 'delivery_issue': True, 'description_issue': False, 'product_code': 'G', 'quarter': '2020-Q4'}, {'name': 'Adam Black', 'street': '405 Willow Way', 'city': 'Meadowville', 'age': 35, 'email': 'adamblack@example.com', 'price_issue': False, 'quality_issue': True, 'service_issue': False, 'delivery_issue': True, 'description_issue': False, 'product_code': 'G', 'quarter': '2020-Q4'}, {'name': 'Sophia Green', 'street': '123 Elm Street', 'city': 'Greenville', 'age': 28, 'email': 'sophiagreen@example.com', 'price_issue': True, 'quality_issue': False, 'service_issue': False, 'delivery_issue': False, 'description_issue': True, 'product_code': 'A', 'quarter': '2021-Q1'}, {'name': 'John Doe', 'street': '789 Maple Avenue', 'city': 'Springfield', 'age': 45, 'email': 'johndoe@example.com', 'price_issue': False, 'quality_issue': True, 'service_issue': True, 'delivery_issue': False, 'description_issue': False, 'product_code': 'B', 'quarter': '2021-Q3'}, {'name': 'Jane Smith', 'street': '321 Oak Lane', 'city': 'Rivertown', 'age': 30, 'email': 'janesmith@example.com', 'price_issue': True, 'quality_issue': True, 'service_issue': False, 'delivery_issue': False, 'description_issue': False, 'product_code': 'C', 'quarter': '2022-Q2'}, {'name': 'Lucas Brown', 'street': '456 Pine Road', 'city': 'Hillside', 'age': 50, 'email': 'lucasbrown@example.com', 'price_issue': False, 'quality_issue': False, 'service_issue': True, 'delivery_issue': True, 'description_issue': True, 'product_code': 'D', 'quarter': '2022-Q4'}, {'name': 'Emily White', 'street': '789 Birch Boulevard', 'city': 'Seaside', 'age': 22, 'email': 'emilywhite@example.com', 'price_issue': True, 'quality_issue': False, 'service_issue': True, 'delivery_issue': False, 'description_issue': False, 'product_code': 'E', 'quarter': '2023-Q1'}, {'name': 'Michael Johnson', 'street': '101 Cedar Circle', 'city': 'Mountainview', 'age': 60, 'email': 'michaeljohnson@example.com', 'price_issue': False, 'quality_issue': True, 'service_issue': False, 'delivery_issue': True, 'description_issue': True, 'product_code': 'F', 'quarter': '2023-Q2'}, {'name': 'Olivia Davis', 'street': '202 Spruce Street', 'city': 'Forestville', 'age': 29, 'email': 'oliviadavis@example.com', 'price_issue': True, 'quality_issue': True, 'service_issue': True, 'delivery_issue': False, 'description_issue': False, 'product_code': 'H', 'quarter': '2023-Q3'}, {'name': 'Liam Wilson', 'street': '303 Chestnut Court', 'city': 'Lakeside', 'age': 40, 'email': 'liamwilson@example.com', 'price_issue': False, 'quality_issue': False, 'service_issue': False, 'delivery_issue': True, 'description_issue': True, 'product_code': 'A', 'quarter': '2023-Q4'}, {'name': 'Frank Blue', 'street': '507 Cherry Circle', 'city': 'Stonebridge', 'age': 45, 'email': 'frank.blue@samplemail.com', 'price_issue': True, 'quality_issue': False, 'service_issue': False, 'delivery_issue': True, 'description_issue': False, 'product_code': 'H', 'quarter': '2022-Q1'}, {'name': 'Susan Blue', 'street': '505 Cherry Circle', 'city': 'Stonebridge', 'age': 42, 'email': 'susanblue@example.com', 'price_issue': False, 'quality_issue': True, 'service_issue': False, 'delivery_issue': True, 'description_issue': False, 'product_code': 'H', 'quarter': '2022-Q2'}, {'name': 'Alice Green', 'street': '123 Maple Avenue', 'city': 'Rivertown', 'age': 36, 'email': 'alice.green@domain.com', 'price_issue': False, 'quality_issue': True, 'service_issue': False, 'delivery_issue': False, 'description_issue': False, 'product_code': 'B', 'quarter': '2021-Q4'}, {'name': 'John Doe', 'street': '789 Oak Street', 'city': 'Lakeside', 'age': 29, 'email': 'johndoe@fakemail.com', 'price_issue': True, 'quality_issue': False, 'service_issue': True, 'delivery_issue': False, 'description_issue': False, 'product_code': 'C', 'quarter': '2022-Q3'}, {'name': 'Emily White', 'street': '456 Pine Road', 'city': 'Hilltop', 'age': 50, 'email': 'emily.white@webmail.com', 'price_issue': False, 'quality_issue': False, 'service_issue': True, 'delivery_issue': True, 'description_issue': False, 'product_code': 'A', 'quarter': '2023-Q1'}, {'name': 'Michael Black', 'street': '321 Birch Lane', 'city': 'Valleyview', 'age': 40, 'email': 'michael.black@internet.com', 'price_issue': True, 'quality_issue': True, 'service_issue': False, 'delivery_issue': False, 'description_issue': True, 'product_code': 'D', 'quarter': '2020-Q2'}, {'name': 'Jessica Brown', 'street': '654 Cedar Court', 'city': 'Meadowfield', 'age': 33, 'email': 'jessica.brown@onlinemail.com', 'price_issue': False, 'quality_issue': False, 'service_issue': True, 'delivery_issue': False, 'description_issue': True, 'product_code': 'E', 'quarter': '2021-Q1'}, {'name': 'David Smith', 'street': '987 Spruce Street', 'city': 'Brookside', 'age': 47, 'email': 'david.smith@webservice.com', 'price_issue': False, 'quality_issue': False, 'service_issue': False, 'delivery_issue': True, 'description_issue': True, 'product_code': 'F', 'quarter': '2023-Q2'}, {'name': 'Laura Johnson', 'street': '159 Elm Avenue', 'city': 'Greenhill', 'age': 52, 'email': 'laura.johnson@fastmail.com', 'price_issue': True, 'quality_issue': False, 'service_issue': False, 'delivery_issue': False, 'description_issue': True, 'product_code': 'G', 'quarter': '2020-Q4'}, {'name': 'Kevin Brown', 'street': '753 Walnut Drive', 'city': 'Pinecrest', 'age': 38, 'email': 'kevin.brown@freemail.com', 'price_issue': False, 'quality_issue': True, 'service_issue': True, 'delivery_issue': False, 'description_issue': False, 'product_code': 'H', 'quarter': '2022-Q4'}, {'name': 'Grace Pinkerton', 'street': '606 Aspen Ave', 'city': 'Brookfield', 'age': 39, 'email': 'grace.pinkerton@example.com', 'price_issue': False, 'quality_issue': True, 'service_issue': False, 'delivery_issue': False, 'description_issue': True, 'product_code': 'A', 'quarter': '2023-Q3'}, {'name': 'Gary Pink', 'street': '607 Aspen Avenue', 'city': 'Brookfield', 'age': 42, 'email': 'garypink@example.com', 'price_issue': False, 'quality_issue': True, 'service_issue': False, 'delivery_issue': False, 'description_issue': False, 'product_code': 'A', 'quarter': '2023-Q3'}, {'name': 'Alice Johnson', 'street': '123 Maple Street', 'city': 'Springfield', 'age': 28, 'email': 'alice.johnson@example.com', 'price_issue': True, 'quality_issue': False, 'service_issue': False, 'delivery_issue': True, 'description_issue': False, 'product_code': 'B', 'quarter': '2023-Q2'}, {'name': 'John Smith', 'street': '789 Oak Drive', 'city': 'Rivertown', 'age': 45, 'email': 'john.smith@example.com', 'price_issue': False, 'quality_issue': False, 'service_issue': True, 'delivery_issue': False, 'description_issue': False, 'product_code': 'C', 'quarter': '2023-Q1'}, {'name': 'Emily Davis', 'street': '456 Pine Lane', 'city': 'Lakeside', 'age': 33, 'email': 'emily.davis@example.com', 'price_issue': True, 'quality_issue': True, 'service_issue': False, 'delivery_issue': False, 'description_issue': True, 'product_code': 'D', 'quarter': '2023-Q3'}, {'name': 'Michael Brown', 'street': '321 Birch Road', 'city': 'Hilltop', 'age': 50, 'email': 'michael.brown@example.com', 'price_issue': False, 'quality_issue': False, 'service_issue': False, 'delivery_issue': True, 'description_issue': False, 'product_code': 'E', 'quarter': '2023-Q4'}, {'name': 'Sophia Martinez', 'street': '654 Cedar Avenue', 'city': 'Greenville', 'age': 37, 'email': 'sophia.martinez@example.com', 'price_issue': True, 'quality_issue': False, 'service_issue': True, 'delivery_issue': False, 'description_issue': False, 'product_code': 'F', 'quarter': '2023-Q2'}, {'name': 'Liam Wilson', 'street': '987 Elm Street', 'city': 'Sunnyvale', 'age': 29, 'email': 'liam.wilson@example.com', 'price_issue': False, 'quality_issue': True, 'service_issue': False, 'delivery_issue': False, 'description_issue': True, 'product_code': 'G', 'quarter': '2023-Q1'}, {'name': 'Olivia Taylor', 'street': '777 Spruce Court', 'city': 'Meadowville', 'age': 41, 'email': 'olivia.taylor@example.com', 'price_issue': False, 'quality_issue': False, 'service_issue': True, 'delivery_issue': True, 'description_issue': False, 'product_code': 'H', 'quarter': '2023-Q3'}, {'name': 'Noah Anderson', 'street': '159 Fir Avenue', 'city': 'Riverside', 'age': 36, 'email': 'noah.anderson@example.com', 'price_issue': True, 'quality_issue': False, 'service_issue': False, 'delivery_issue': False, 'description_issue': True, 'product_code': 'A', 'quarter': '2023-Q4'}, {'name': 'Henry Oranges', 'street': '707 Poplar St.', 'city': 'Cliffside', 'age': 33, 'email': 'henry.oranges@example.com', 'price_issue': False, 'quality_issue': False, 'service_issue': True, 'delivery_issue': False, 'description_issue': True, 'product_code': 'B', 'quarter': '2021-Q2'}, {'name': 'Helen Orange', 'street': '708 Poplar Street', 'city': 'Cliffside', 'age': 31, 'email': 'helenorange@example.com', 'price_issue': False, 'quality_issue': True, 'service_issue': False, 'delivery_issue': False, 'description_issue': False, 'product_code': 'B', 'quarter': '2021-Q2'}, {'name': 'James Green', 'street': '123 Elm Avenue', 'city': 'Riverside', 'age': 45, 'email': 'jamesgreen@example.com', 'price_issue': True, 'quality_issue': False, 'service_issue': False, 'delivery_issue': False, 'description_issue': False, 'product_code': 'A', 'quarter': '2022-Q1'}, {'name': 'Lisa Brown', 'street': '456 Oak Road', 'city': 'Hilltop', 'age': 29, 'email': 'lisabrown@example.com', 'price_issue': False, 'quality_issue': True, 'service_issue': False, 'delivery_issue': True, 'description_issue': False, 'product_code': 'C', 'quarter': '2021-Q4'}, {'name': 'Michael White', 'street': '789 Pine Lane', 'city': 'Valleyview', 'age': 38, 'email': 'michaelwhite@example.com', 'price_issue': False, 'quality_issue': True, 'service_issue': True, 'delivery_issue': False, 'description_issue': False, 'product_code': 'D', 'quarter': '2020-Q3'}, {'name': 'Sarah Black', 'street': '321 Maple Street', 'city': 'Summerville', 'age': 41, 'email': 'sarahblack@example.com', 'price_issue': True, 'quality_issue': False, 'service_issue': False, 'delivery_issue': False, 'description_issue': True, 'product_code': 'E', 'quarter': '2022-Q2'}, {'name': 'Tom Blue', 'street': '654 Birch Boulevard', 'city': 'Lakeside', 'age': 36, 'email': 'tomblue@example.com', 'price_issue': False, 'quality_issue': False, 'service_issue': False, 'delivery_issue': True, 'description_issue': True, 'product_code': 'F', 'quarter': '2020-Q4'}, {'name': 'Emily Red', 'street': '987 Cedar Court', 'city': 'Mountainview', 'age': 27, 'email': 'emilyred@example.com', 'price_issue': True, 'quality_issue': True, 'service_issue': False, 'delivery_issue': False, 'description_issue': False, 'product_code': 'G', 'quarter': '2022-Q3'}, {'name': 'Oliver Yellow', 'street': '159 Spruce Street', 'city': 'Seaside', 'age': 50, 'email': 'oliveryellow@example.com', 'price_issue': False, 'quality_issue': False, 'service_issue': True, 'delivery_issue': True, 'description_issue': False, 'product_code': 'H', 'quarter': '2021-Q1'}, {'name': 'Grace Violet', 'street': '753 Willow Way', 'city': 'Forestville', 'age': 34, 'email': 'graceviolet@example.com', 'price_issue': True, 'quality_issue': False, 'service_issue': False, 'delivery_issue': False, 'description_issue': True, 'product_code': 'B', 'quarter': '2020-Q2'}]}\n"
     ]
    }
   ],
   "source": [
    "# Inspect the data as JSON\n",
    "print(gmd.json_object)"
   ]
  },
  {
   "cell_type": "code",
   "execution_count": 5,
   "metadata": {},
   "outputs": [
    {
     "name": "stdout",
     "output_type": "stream",
     "text": [
      "{'customer_complaints':              name               street          city  age  \\\n",
      "0         Jon Doe          123 Elm St.   Springfield   35   \n",
      "1        Jane Doe       123 Elm Street   Springfield   32   \n",
      "2     Alice Smith       456 Oak Avenue   Shelbyville   28   \n",
      "3     Bob Johnson        789 Pine Road  Capital City   45   \n",
      "4       Eve Adams       321 Maple Lane    Ogdenville   39   \n",
      "..            ...                  ...           ...  ...   \n",
      "95    Sarah Black     321 Maple Street   Summerville   41   \n",
      "96       Tom Blue  654 Birch Boulevard      Lakeside   36   \n",
      "97      Emily Red      987 Cedar Court  Mountainview   27   \n",
      "98  Oliver Yellow    159 Spruce Street       Seaside   50   \n",
      "99   Grace Violet       753 Willow Way   Forestville   34   \n",
      "\n",
      "                       email  price_issue  quality_issue  service_issue  \\\n",
      "0        jon.doe@example.com         True          False          False   \n",
      "1        janedoe@example.com        False           True          False   \n",
      "2    alice.smith@example.com        False           True          False   \n",
      "3      b.johnson@example.com         True           True          False   \n",
      "4      eve.adams@example.com        False          False           True   \n",
      "..                       ...          ...            ...            ...   \n",
      "95    sarahblack@example.com         True          False          False   \n",
      "96       tomblue@example.com        False          False          False   \n",
      "97      emilyred@example.com         True           True          False   \n",
      "98  oliveryellow@example.com        False          False           True   \n",
      "99   graceviolet@example.com         True          False          False   \n",
      "\n",
      "    delivery_issue  description_issue product_code  quarter  \n",
      "0            False              False            A  2022-Q3  \n",
      "1            False              False            A  2022-Q3  \n",
      "2            False               True            B  2022-Q4  \n",
      "3            False              False            C  2022-Q3  \n",
      "4            False              False            D  2022-Q2  \n",
      "..             ...                ...          ...      ...  \n",
      "95           False               True            E  2022-Q2  \n",
      "96            True               True            F  2020-Q4  \n",
      "97           False              False            G  2022-Q3  \n",
      "98            True              False            H  2021-Q1  \n",
      "99           False               True            B  2020-Q2  \n",
      "\n",
      "[100 rows x 12 columns]}\n"
     ]
    }
   ],
   "source": [
    "# Inspect the data as dataframes (one per array field)\n",
    "print(gmd.array_dfs)"
   ]
  },
  {
   "cell_type": "code",
   "execution_count": 6,
   "metadata": {},
   "outputs": [
    {
     "name": "stderr",
     "output_type": "stream",
     "text": [
      "  0%|          | 0/10 [00:00<?, ?it/s]"
     ]
    },
    {
     "name": "stderr",
     "output_type": "stream",
     "text": [
      "100%|██████████| 10/10 [00:16<00:00,  1.69s/it]"
     ]
    },
    {
     "name": "stdout",
     "output_type": "stream",
     "text": [
      "Generated text data\n"
     ]
    },
    {
     "name": "stderr",
     "output_type": "stream",
     "text": [
      "\n"
     ]
    }
   ],
   "source": [
    "# Use the customer_complaints dataframe to generate mock text data (first 10 records only)\n",
    "df = gmd.array_dfs[\"customer_complaints\"][:10]\n",
    "await gmd.generate_text_data(df)\n",
    "print(\"Generated text data\")"
   ]
  },
  {
   "cell_type": "code",
   "execution_count": 7,
   "metadata": {},
   "outputs": [
    {
     "name": "stdout",
     "output_type": "stream",
     "text": [
      "                                           mock_text\n",
      "0  **Customer Feedback Report**\\n\\n**Customer Inf...\n",
      "1  **Customer Feedback Report**\\n\\n**Customer Inf...\n",
      "2  ---\\n\\n**Customer Feedback Report**\\n\\n**Custo...\n",
      "3  ---\\n\\n**Customer Feedback Report**\\n\\n**Name:...\n",
      "4  # Customer Service Report\\n\\n## Customer Infor...\n",
      "5  **Customer Support Report**\\n\\n**Customer Info...\n",
      "6  **Customer Complaint Report**\\n\\n**Customer In...\n",
      "7  **Customer Feedback Report**\\n\\n**Customer Inf...\n",
      "8  **Customer Service Report**\\n\\n**Customer Info...\n",
      "9  # Customer Feedback Report\\n\\n## Customer Info...\n"
     ]
    }
   ],
   "source": [
    "# Inspect texts as dataframe\n",
    "print(gmd.text_df)"
   ]
  }
 ],
 "metadata": {
  "kernelspec": {
   "display_name": ".venv",
   "language": "python",
   "name": "python3"
  },
  "language_info": {
   "codemirror_mode": {
    "name": "ipython",
    "version": 3
   },
   "file_extension": ".py",
   "mimetype": "text/x-python",
   "name": "python",
   "nbconvert_exporter": "python",
   "pygments_lexer": "ipython3",
   "version": "3.11.9"
  }
 },
 "nbformat": 4,
 "nbformat_minor": 2
}
