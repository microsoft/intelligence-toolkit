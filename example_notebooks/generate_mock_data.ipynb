{
 "cells": [
  {
   "cell_type": "markdown",
   "metadata": {},
   "source": [
    "# Generate Mock Data\n",
    "\n",
    "Demonstrates use of the Intelligence Toolkit library to generate mock data, both structured records and unstructured texts.\n",
    "\n",
    "See [readme](https://github.com/microsoft/intelligence-toolkit/blob/main/app/workflows/generate_mock_data/README.md) for more details."
   ]
  },
  {
   "cell_type": "code",
   "execution_count": 1,
   "metadata": {},
   "outputs": [
    {
     "name": "stderr",
     "output_type": "stream",
     "text": [
      "c:\\Users\\daedge\\AppData\\Local\\pypoetry\\Cache\\virtualenvs\\intelligence-toolkit-lXFNld9n-py3.11\\Lib\\site-packages\\tqdm\\auto.py:21: TqdmWarning: IProgress not found. Please update jupyter and ipywidgets. See https://ipywidgets.readthedocs.io/en/stable/user_install.html\n",
      "  from .autonotebook import tqdm as notebook_tqdm\n"
     ]
    }
   ],
   "source": [
    "import sys\n",
    "sys.path.append(\"..\")\n",
    "import os\n",
    "from toolkit.generate_mock_data import GenerateMockData\n",
    "from toolkit.AI.openai_configuration import OpenAIConfiguration\n",
    "import pandas as pd\n",
    "import json"
   ]
  },
  {
   "cell_type": "code",
   "execution_count": 2,
   "metadata": {},
   "outputs": [
    {
     "name": "stdout",
     "output_type": "stream",
     "text": [
      "Loaded data schema\n",
      "{'$schema': 'http://json-schema.org/draft/2020-12/schema', 'title': 'Customer complaints', 'description': 'An example schema storing an array of customer complaints', 'type': 'object', 'properties': {'customer_complaints': {'type': 'array', 'description': 'The list of customers and their complaints', 'items': {'type': 'object', 'description': 'An object list item', 'properties': {'name': {'type': 'string', 'description': 'The name of the customer'}, 'street': {'type': 'string', 'description': 'The street of the customer, including property name/number'}, 'city': {'type': 'string', 'description': 'The city of the customer'}, 'age': {'type': 'number', 'description': 'The age of the customer'}, 'email': {'type': 'string', 'description': 'The email address of the customer'}, 'price_issue': {'type': 'boolean', 'description': 'The complaint is a price issue'}, 'quality_issue': {'type': 'boolean', 'description': 'The complaint is a quality issue'}, 'service_issue': {'type': 'boolean', 'description': 'The complaint is a service issue'}, 'delivery_issue': {'type': 'boolean', 'description': 'The complaint is a delivery issue'}, 'description_issue': {'type': 'boolean', 'description': 'The complaint is a description issue'}, 'product_code': {'type': 'string', 'description': 'The product code targeted by the complaint', 'enum': ['A', 'B', 'C', 'D', 'E', 'F', 'G', 'H']}, 'quarter': {'type': 'string', 'description': 'The quarter in which the complaint was made (since 2020-Q1)'}}, 'required': ['name', 'street', 'city', 'age', 'email', 'price_issue', 'quality_issue', 'service_issue', 'delivery_issue', 'description_issue', 'product_code', 'quarter'], 'additionalProperties': False}}}, 'required': ['customer_complaints'], 'additionalProperties': False}\n"
     ]
    }
   ],
   "source": [
    "# Create the workflow object\n",
    "gmd = GenerateMockData()\n",
    "# Set the AI configuration\n",
    "ai_configuration = OpenAIConfiguration(\n",
    "    {\n",
    "        \"api_type\": \"OpenAI\",\n",
    "        \"api_key\": os.environ[\"OPENAI_API_KEY\"],\n",
    "        \"model\": \"gpt-4o\",\n",
    "    }\n",
    ")\n",
    "gmd.set_ai_configuration(ai_configuration)\n",
    "# Load the data schema\n",
    "schema_path = \"../example_outputs/generate_mock_data/customer_complaints/customer_complaints_schema.json\"\n",
    "json_schema = json.loads(open(schema_path, \"r\").read())\n",
    "# Set the schema\n",
    "gmd.set_schema(json_schema)\n",
    "print(\"Loaded data schema\")\n",
    "print(json_schema)"
   ]
  },
  {
   "cell_type": "code",
   "execution_count": 3,
   "metadata": {},
   "outputs": [
    {
     "name": "stderr",
     "output_type": "stream",
     "text": [
      "100%|██████████| 10/10 [00:20<00:00,  2.08s/it]"
     ]
    },
    {
     "name": "stdout",
     "output_type": "stream",
     "text": [
      "Generated data records\n"
     ]
    },
    {
     "name": "stderr",
     "output_type": "stream",
     "text": [
      "\n"
     ]
    }
   ],
   "source": [
    "# Generate mock data records\n",
    "await gmd.generate_data_records(\n",
    "    num_records_overall=100,\n",
    "    records_per_batch=10,\n",
    "    duplicate_records_per_batch=1,\n",
    "    related_records_per_batch=1,\n",
    ")\n",
    "print(\"Generated data records\")"
   ]
  },
  {
   "cell_type": "code",
   "execution_count": 4,
   "metadata": {},
   "outputs": [
    {
     "name": "stdout",
     "output_type": "stream",
     "text": [
      "{'customer_complaints': [{'name': 'Alicia Johnson', 'street': '123 Maple St.', 'city': 'Springfield', 'age': 34, 'email': 'alicia.johnson@example.com', 'price_issue': True, 'quality_issue': False, 'service_issue': False, 'delivery_issue': False, 'description_issue': False, 'product_code': 'A', 'quarter': '2021-Q3'}, {'name': 'Robert Johnson', 'street': '124 Maple Street', 'city': 'Springfield', 'age': 36, 'email': 'robert.johnson@example.com', 'price_issue': False, 'quality_issue': False, 'service_issue': True, 'delivery_issue': False, 'description_issue': False, 'product_code': 'A', 'quarter': '2021-Q3'}, {'name': 'Emily Clark', 'street': '456 Oak Avenue', 'city': 'Riverside', 'age': 28, 'email': 'emily.clark@example.com', 'price_issue': False, 'quality_issue': True, 'service_issue': False, 'delivery_issue': False, 'description_issue': False, 'product_code': 'B', 'quarter': '2021-Q4'}, {'name': 'Michael Brown', 'street': '789 Pine Road', 'city': 'Greenfield', 'age': 42, 'email': 'michael.brown@example.com', 'price_issue': False, 'quality_issue': False, 'service_issue': False, 'delivery_issue': True, 'description_issue': False, 'product_code': 'C', 'quarter': '2022-Q1'}, {'name': 'Jessica Smith', 'street': '321 Cedar Lane', 'city': 'Lakeside', 'age': 30, 'email': 'jessica.smith@example.com', 'price_issue': True, 'quality_issue': True, 'service_issue': False, 'delivery_issue': False, 'description_issue': False, 'product_code': 'D', 'quarter': '2022-Q2'}, {'name': 'David Wilson', 'street': '654 Birch Street', 'city': 'Hilltown', 'age': 37, 'email': 'david.wilson@example.com', 'price_issue': False, 'quality_issue': False, 'service_issue': False, 'delivery_issue': False, 'description_issue': True, 'product_code': 'E', 'quarter': '2022-Q3'}, {'name': 'Sophia Martinez', 'street': '987 Elm Street', 'city': 'Brookside', 'age': 25, 'email': 'sophia.martinez@example.com', 'price_issue': True, 'quality_issue': False, 'service_issue': False, 'delivery_issue': False, 'description_issue': True, 'product_code': 'F', 'quarter': '2022-Q4'}, {'name': 'Liam Johnson', 'street': '123 Maple Street', 'city': 'Springfield', 'age': 40, 'email': 'liam.johnson@example.com', 'price_issue': False, 'quality_issue': True, 'service_issue': False, 'delivery_issue': False, 'description_issue': False, 'product_code': 'G', 'quarter': '2023-Q1'}, {'name': 'Olivia Garcia', 'street': '111 Walnut Way', 'city': 'Riverside', 'age': 29, 'email': 'olivia.garcia@example.com', 'price_issue': False, 'quality_issue': False, 'service_issue': True, 'delivery_issue': True, 'description_issue': False, 'product_code': 'H', 'quarter': '2023-Q2'}, {'name': 'James Lee', 'street': '222 Spruce Drive', 'city': 'Hilltown', 'age': 45, 'email': 'james.lee@example.com', 'price_issue': True, 'quality_issue': False, 'service_issue': False, 'delivery_issue': False, 'description_issue': False, 'product_code': 'A', 'quarter': '2023-Q3'}, {'name': 'Robert Smith', 'street': '456 Oak Avenue', 'city': 'Rivertown', 'age': 45, 'email': 'robert.smith@example.com', 'price_issue': False, 'quality_issue': True, 'service_issue': False, 'delivery_issue': False, 'description_issue': False, 'product_code': 'B', 'quarter': '2022-Q1'}, {'name': 'Alice Smith', 'street': '456 Oak Avenue', 'city': 'Rivertown', 'age': 42, 'email': 'alice.smith@example.com', 'price_issue': False, 'quality_issue': False, 'service_issue': True, 'delivery_issue': False, 'description_issue': False, 'product_code': 'B', 'quarter': '2022-Q2'}, {'name': 'John Doe', 'street': '789 Pine Street', 'city': 'Lakeside', 'age': 30, 'email': 'john.doe@example.com', 'price_issue': True, 'quality_issue': False, 'service_issue': False, 'delivery_issue': False, 'description_issue': False, 'product_code': 'A', 'quarter': '2022-Q3'}, {'name': 'Jane Roe', 'street': '123 Elm Street', 'city': 'Mountainview', 'age': 35, 'email': 'jane.roe@example.com', 'price_issue': False, 'quality_issue': False, 'service_issue': True, 'delivery_issue': False, 'description_issue': True, 'product_code': 'C', 'quarter': '2022-Q4'}, {'name': 'Charlie Brown', 'street': '321 Maple Avenue', 'city': 'Seaside', 'age': 28, 'email': 'charlie.brown@example.com', 'price_issue': False, 'quality_issue': True, 'service_issue': False, 'delivery_issue': True, 'description_issue': False, 'product_code': 'D', 'quarter': '2022-Q1'}, {'name': 'Emily White', 'street': '654 Oak Avenue', 'city': 'Rivertown', 'age': 50, 'email': 'emily.white@example.com', 'price_issue': True, 'quality_issue': False, 'service_issue': False, 'delivery_issue': True, 'description_issue': False, 'product_code': 'E', 'quarter': '2022-Q2'}, {'name': 'Samuel Green', 'street': '987 Birch Road', 'city': 'Hilltown', 'age': 40, 'email': 'samuel.green@example.com', 'price_issue': False, 'quality_issue': False, 'service_issue': True, 'delivery_issue': False, 'description_issue': False, 'product_code': 'F', 'quarter': '2022-Q3'}, {'name': 'Lisa Black', 'street': '222 Cedar Lane', 'city': 'Riverbend', 'age': 33, 'email': 'lisa.black@example.com', 'price_issue': True, 'quality_issue': False, 'service_issue': False, 'delivery_issue': False, 'description_issue': True, 'product_code': 'G', 'quarter': '2022-Q4'}, {'name': 'Michael Blue', 'street': '555 Spruce Street', 'city': 'Forestville', 'age': 29, 'email': 'michael.blue@example.com', 'price_issue': False, 'quality_issue': True, 'service_issue': False, 'delivery_issue': False, 'description_issue': False, 'product_code': 'H', 'quarter': '2022-Q1'}, {'name': 'Rachel Grey', 'street': '888 Willow Way', 'city': 'Brookside', 'age': 37, 'email': 'rachel.grey@example.com', 'price_issue': False, 'quality_issue': False, 'service_issue': False, 'delivery_issue': True, 'description_issue': False, 'product_code': 'A', 'quarter': '2022-Q2'}, {'name': 'Catherine Brown', 'street': '789 Pine Rd', 'city': 'Lakeside', 'age': 29, 'email': 'catherine.brown@example.com', 'price_issue': False, 'quality_issue': False, 'service_issue': True, 'delivery_issue': False, 'description_issue': False, 'product_code': 'C', 'quarter': '2020-Q4'}, {'name': 'Michael Brown', 'street': '789 Pine Road', 'city': 'Lakeside', 'age': 31, 'email': 'michael.brown@example.com', 'price_issue': False, 'quality_issue': True, 'service_issue': False, 'delivery_issue': False, 'description_issue': False, 'product_code': 'C', 'quarter': '2021-Q1'}, {'name': 'Alice Smith', 'street': '123 Maple Avenue', 'city': 'Springfield', 'age': 45, 'email': 'alice.smith@example.com', 'price_issue': True, 'quality_issue': False, 'service_issue': False, 'delivery_issue': False, 'description_issue': False, 'product_code': 'A', 'quarter': '2021-Q2'}, {'name': 'John Doe', 'street': '456 Oak Street', 'city': 'Rivertown', 'age': 38, 'email': 'john.doe@example.com', 'price_issue': False, 'quality_issue': True, 'service_issue': False, 'delivery_issue': True, 'description_issue': False, 'product_code': 'B', 'quarter': '2020-Q3'}, {'name': 'Emma Wilson', 'street': '789 Elm Street', 'city': 'Mountainview', 'age': 52, 'email': 'emma.wilson@example.com', 'price_issue': False, 'quality_issue': False, 'service_issue': True, 'delivery_issue': False, 'description_issue': True, 'product_code': 'D', 'quarter': '2021-Q4'}, {'name': 'Liam Johnson', 'street': '321 Birch Lane', 'city': 'Greenfield', 'age': 27, 'email': 'liam.johnson@example.com', 'price_issue': True, 'quality_issue': False, 'service_issue': False, 'delivery_issue': False, 'description_issue': False, 'product_code': 'E', 'quarter': '2022-Q1'}, {'name': 'Olivia Martinez', 'street': '654 Cedar Court', 'city': 'Lakeside', 'age': 33, 'email': 'olivia.martinez@example.com', 'price_issue': False, 'quality_issue': True, 'service_issue': False, 'delivery_issue': False, 'description_issue': False, 'product_code': 'F', 'quarter': '2022-Q2'}, {'name': 'Noah Davis', 'street': '987 Spruce Street', 'city': 'Hilltown', 'age': 40, 'email': 'noah.davis@example.com', 'price_issue': False, 'quality_issue': False, 'service_issue': False, 'delivery_issue': True, 'description_issue': False, 'product_code': 'G', 'quarter': '2021-Q1'}, {'name': 'Sophia Hernandez', 'street': '111 Willow Way', 'city': 'Seaside', 'age': 29, 'email': 'sophia.hernandez@example.com', 'price_issue': False, 'quality_issue': False, 'service_issue': False, 'delivery_issue': False, 'description_issue': True, 'product_code': 'H', 'quarter': '2020-Q4'}, {'name': 'James Lee', 'street': '222 Palm Avenue', 'city': 'Rivertown', 'age': 36, 'email': 'james.lee@example.com', 'price_issue': True, 'quality_issue': False, 'service_issue': False, 'delivery_issue': False, 'description_issue': False, 'product_code': 'A', 'quarter': '2020-Q2'}, {'name': 'David Greene', 'street': '321 Birch Lane', 'city': 'Hilltop', 'age': 52, 'email': 'david.greene@example.com', 'price_issue': False, 'quality_issue': False, 'service_issue': False, 'delivery_issue': True, 'description_issue': False, 'product_code': 'D', 'quarter': '2023-Q2'}, {'name': 'Sarah Green', 'street': '321 Birch Lane', 'city': 'Hilltop', 'age': 49, 'email': 'sarah.green@example.com', 'price_issue': False, 'quality_issue': False, 'service_issue': True, 'delivery_issue': False, 'description_issue': False, 'product_code': 'D', 'quarter': '2023-Q2'}, {'name': 'Emily Johnson', 'street': '456 Oak Street', 'city': 'Riverside', 'age': 34, 'email': 'emily.johnson@example.com', 'price_issue': True, 'quality_issue': False, 'service_issue': False, 'delivery_issue': False, 'description_issue': False, 'product_code': 'A', 'quarter': '2023-Q1'}, {'name': 'Michael Smith', 'street': '789 Pine Avenue', 'city': 'Lakeside', 'age': 45, 'email': 'michael.smith@example.com', 'price_issue': False, 'quality_issue': True, 'service_issue': False, 'delivery_issue': False, 'description_issue': False, 'product_code': 'B', 'quarter': '2023-Q3'}, {'name': 'Jessica Brown', 'street': '101 Maple Drive', 'city': 'Hilltop', 'age': 29, 'email': 'jessica.brown@example.com', 'price_issue': False, 'quality_issue': False, 'service_issue': False, 'delivery_issue': True, 'description_issue': True, 'product_code': 'E', 'quarter': '2023-Q2'}, {'name': 'Robert Wilson', 'street': '202 Cedar Road', 'city': 'Hilltop', 'age': 38, 'email': 'robert.wilson@example.com', 'price_issue': True, 'quality_issue': False, 'service_issue': False, 'delivery_issue': False, 'description_issue': False, 'product_code': 'C', 'quarter': '2023-Q4'}, {'name': 'Linda Martinez', 'street': '303 Spruce Lane', 'city': 'Riverside', 'age': 56, 'email': 'linda.martinez@example.com', 'price_issue': False, 'quality_issue': True, 'service_issue': False, 'delivery_issue': False, 'description_issue': False, 'product_code': 'F', 'quarter': '2023-Q1'}, {'name': 'James Anderson', 'street': '404 Elm Street', 'city': 'Lakeside', 'age': 61, 'email': 'james.anderson@example.com', 'price_issue': False, 'quality_issue': False, 'service_issue': True, 'delivery_issue': False, 'description_issue': False, 'product_code': 'G', 'quarter': '2023-Q3'}, {'name': 'Patricia Thomas', 'street': '505 Willow Way', 'city': 'Riverside', 'age': 47, 'email': 'patricia.thomas@example.com', 'price_issue': False, 'quality_issue': False, 'service_issue': False, 'delivery_issue': True, 'description_issue': False, 'product_code': 'H', 'quarter': '2023-Q4'}, {'name': 'Christopher Garcia', 'street': '606 Cherry Court', 'city': 'Lakeside', 'age': 53, 'email': 'christopher.garcia@example.com', 'price_issue': True, 'quality_issue': True, 'service_issue': False, 'delivery_issue': False, 'description_issue': False, 'product_code': 'A', 'quarter': '2023-Q2'}, {'name': 'Eva W.', 'street': '654 Cedar Dr.', 'city': 'Meadowville', 'age': 41, 'email': 'eva.w@example.com', 'price_issue': False, 'quality_issue': False, 'service_issue': False, 'delivery_issue': False, 'description_issue': True, 'product_code': 'E', 'quarter': '2021-Q1'}, {'name': 'John White', 'street': '654 Cedar Drive', 'city': 'Meadowville', 'age': 43, 'email': 'john.white@example.com', 'price_issue': False, 'quality_issue': True, 'service_issue': False, 'delivery_issue': False, 'description_issue': False, 'product_code': 'E', 'quarter': '2021-Q1'}, {'name': 'Alice Johnson', 'street': '123 Maple Street', 'city': 'Lakeview', 'age': 35, 'email': 'alice.j@example.com', 'price_issue': True, 'quality_issue': False, 'service_issue': False, 'delivery_issue': False, 'description_issue': False, 'product_code': 'A', 'quarter': '2021-Q2'}, {'name': 'Mark Smith', 'street': '789 Pine Avenue', 'city': 'Riverdale', 'age': 28, 'email': 'mark.smith@example.com', 'price_issue': False, 'quality_issue': True, 'service_issue': True, 'delivery_issue': False, 'description_issue': False, 'product_code': 'B', 'quarter': '2021-Q3'}, {'name': 'Nancy Drew', 'street': '321 Oak Lane', 'city': 'Hilltown', 'age': 50, 'email': 'nancy.drew@example.com', 'price_issue': False, 'quality_issue': False, 'service_issue': False, 'delivery_issue': True, 'description_issue': False, 'product_code': 'C', 'quarter': '2021-Q4'}, {'name': 'Tom Hardy', 'street': '987 Birch Road', 'city': 'Woodland', 'age': 37, 'email': 'tom.h@example.com', 'price_issue': True, 'quality_issue': False, 'service_issue': False, 'delivery_issue': False, 'description_issue': True, 'product_code': 'D', 'quarter': '2022-Q1'}, {'name': 'Lucy Hale', 'street': '456 Elm Street', 'city': 'Greenville', 'age': 29, 'email': 'lucy.h@example.com', 'price_issue': False, 'quality_issue': True, 'service_issue': False, 'delivery_issue': True, 'description_issue': False, 'product_code': 'F', 'quarter': '2022-Q2'}, {'name': 'George King', 'street': '654 Cedar Drive', 'city': 'Meadowville', 'age': 41, 'email': 'george.king@example.com', 'price_issue': True, 'quality_issue': False, 'service_issue': False, 'delivery_issue': False, 'description_issue': False, 'product_code': 'G', 'quarter': '2022-Q3'}, {'name': 'Sophia Brown', 'street': '222 Willow Way', 'city': 'Springfield', 'age': 45, 'email': 'sophia.b@example.com', 'price_issue': False, 'quality_issue': False, 'service_issue': True, 'delivery_issue': False, 'description_issue': False, 'product_code': 'H', 'quarter': '2022-Q4'}, {'name': 'James Black', 'street': '111 Cedar Drive', 'city': 'Meadowville', 'age': 39, 'email': 'james.black@example.com', 'price_issue': False, 'quality_issue': False, 'service_issue': False, 'delivery_issue': True, 'description_issue': True, 'product_code': 'E', 'quarter': '2023-Q1'}, {'name': 'Frank B.', 'street': '987 Spruce Ct', 'city': 'Brookside', 'age': 37, 'email': 'frank.b@example.com', 'price_issue': True, 'quality_issue': True, 'service_issue': False, 'delivery_issue': False, 'description_issue': False, 'product_code': 'F', 'quarter': '2022-Q3'}, {'name': 'John Black', 'street': '123 Maple Avenue', 'city': 'Brookside', 'age': 35, 'email': 'john.black@example.com', 'price_issue': False, 'quality_issue': True, 'service_issue': True, 'delivery_issue': False, 'description_issue': False, 'product_code': 'F', 'quarter': '2022-Q3'}, {'name': 'Alice Green', 'street': '456 Oak Street', 'city': 'Springfield', 'age': 29, 'email': 'alice.green@example.com', 'price_issue': False, 'quality_issue': False, 'service_issue': True, 'delivery_issue': True, 'description_issue': False, 'product_code': 'A', 'quarter': '2022-Q1'}, {'name': 'Bob Smith', 'street': '789 Pine Lane', 'city': 'Riverside', 'age': 42, 'email': 'bob.smith@example.com', 'price_issue': True, 'quality_issue': False, 'service_issue': False, 'delivery_issue': True, 'description_issue': True, 'product_code': 'B', 'quarter': '2023-Q2'}, {'name': 'Cathy Jones', 'street': '321 Cedar Road', 'city': 'Lakeside', 'age': 34, 'email': 'cathy.jones@example.com', 'price_issue': False, 'quality_issue': False, 'service_issue': True, 'delivery_issue': False, 'description_issue': True, 'product_code': 'C', 'quarter': '2021-Q4'}, {'name': 'David Brown', 'street': '654 Birch Boulevard', 'city': 'Greenville', 'age': 50, 'email': 'david.brown@example.com', 'price_issue': True, 'quality_issue': True, 'service_issue': True, 'delivery_issue': False, 'description_issue': False, 'product_code': 'D', 'quarter': '2023-Q1'}, {'name': 'Eva White', 'street': '987 Spruce Court', 'city': 'Brookside', 'age': 28, 'email': 'eva.white@example.com', 'price_issue': False, 'quality_issue': True, 'service_issue': False, 'delivery_issue': True, 'description_issue': True, 'product_code': 'E', 'quarter': '2022-Q4'}, {'name': 'George King', 'street': '159 Elm Street', 'city': 'Hilltop', 'age': 39, 'email': 'george.king@example.com', 'price_issue': True, 'quality_issue': False, 'service_issue': False, 'delivery_issue': False, 'description_issue': True, 'product_code': 'G', 'quarter': '2023-Q3'}, {'name': 'Hannah Lee', 'street': '753 Willow Way', 'city': 'Seaside', 'age': 45, 'email': 'hannah.lee@example.com', 'price_issue': False, 'quality_issue': True, 'service_issue': True, 'delivery_issue': True, 'description_issue': False, 'product_code': 'H', 'quarter': '2023-Q2'}, {'name': 'Ian Clark', 'street': '852 Chestnut Circle', 'city': 'Mountainview', 'age': 31, 'email': 'ian.clark@example.com', 'price_issue': False, 'quality_issue': False, 'service_issue': False, 'delivery_issue': False, 'description_issue': True, 'product_code': 'A', 'quarter': '2020-Q3'}, {'name': 'Grace Li', 'street': '159 Elm St', 'city': 'Riverbend', 'age': 28, 'email': 'grace.li@example.com', 'price_issue': False, 'quality_issue': False, 'service_issue': True, 'delivery_issue': True, 'description_issue': False, 'product_code': 'G', 'quarter': '2023-Q1'}, {'name': 'Ethan Lee', 'street': '160 Elm Street', 'city': 'Riverbend', 'age': 32, 'email': 'ethan.lee@example.com', 'price_issue': False, 'quality_issue': True, 'service_issue': False, 'delivery_issue': True, 'description_issue': False, 'product_code': 'G', 'quarter': '2023-Q2'}, {'name': 'Sophia Johnson', 'street': '45 Pine Avenue', 'city': 'Mapleton', 'age': 45, 'email': 'sophia.j@example.com', 'price_issue': True, 'quality_issue': False, 'service_issue': False, 'delivery_issue': False, 'description_issue': True, 'product_code': 'A', 'quarter': '2023-Q3'}, {'name': 'Michael Brown', 'street': '78 Oak Lane', 'city': 'Lakeside', 'age': 37, 'email': 'michael.b@example.com', 'price_issue': False, 'quality_issue': True, 'service_issue': True, 'delivery_issue': False, 'description_issue': False, 'product_code': 'B', 'quarter': '2023-Q1'}, {'name': 'Emily Davis', 'street': '23 Cedar Street', 'city': 'Hillsborough', 'age': 29, 'email': 'emily.d@example.com', 'price_issue': True, 'quality_issue': True, 'service_issue': False, 'delivery_issue': False, 'description_issue': False, 'product_code': 'C', 'quarter': '2023-Q2'}, {'name': 'James Wilson', 'street': '90 Birch Road', 'city': 'Greenfield', 'age': 52, 'email': 'james.w@example.com', 'price_issue': False, 'quality_issue': False, 'service_issue': False, 'delivery_issue': True, 'description_issue': True, 'product_code': 'D', 'quarter': '2023-Q4'}, {'name': 'Olivia Martinez', 'street': '12 Spruce Court', 'city': 'Sunnyvale', 'age': 34, 'email': 'olivia.m@example.com', 'price_issue': True, 'quality_issue': False, 'service_issue': True, 'delivery_issue': False, 'description_issue': False, 'product_code': 'E', 'quarter': '2023-Q1'}, {'name': 'Liam Garcia', 'street': '56 Maple Street', 'city': 'Brookfield', 'age': 41, 'email': 'liam.g@example.com', 'price_issue': False, 'quality_issue': True, 'service_issue': False, 'delivery_issue': True, 'description_issue': False, 'product_code': 'F', 'quarter': '2023-Q2'}, {'name': 'Ava Rodriguez', 'street': '34 Willow Lane', 'city': 'Riverside', 'age': 26, 'email': 'ava.r@example.com', 'price_issue': False, 'quality_issue': False, 'service_issue': True, 'delivery_issue': False, 'description_issue': True, 'product_code': 'H', 'quarter': '2023-Q3'}, {'name': 'Noah Smith', 'street': '89 Chestnut Boulevard', 'city': 'Meadowville', 'age': 39, 'email': 'noah.s@example.com', 'price_issue': True, 'quality_issue': False, 'service_issue': False, 'delivery_issue': False, 'description_issue': True, 'product_code': 'A', 'quarter': '2023-Q4'}, {'name': 'Henry Adamson', 'street': '753 Willow Lane', 'city': 'Sunnydale', 'age': 51, 'email': 'h.adamson@example.com', 'price_issue': False, 'quality_issue': False, 'service_issue': False, 'delivery_issue': False, 'description_issue': True, 'product_code': 'H', 'quarter': '2020-Q2'}, {'name': 'Helen Adams', 'street': '755 Willow Way', 'city': 'Sunnydale', 'age': 48, 'email': 'helen.adams@example.com', 'price_issue': False, 'quality_issue': True, 'service_issue': False, 'delivery_issue': False, 'description_issue': False, 'product_code': 'H', 'quarter': '2020-Q3'}, {'name': 'John Smith', 'street': '123 Elm Street', 'city': 'Rivertown', 'age': 34, 'email': 'john.smith@example.com', 'price_issue': True, 'quality_issue': False, 'service_issue': False, 'delivery_issue': False, 'description_issue': False, 'product_code': 'A', 'quarter': '2021-Q1'}, {'name': 'Alice Johnson', 'street': '456 Oak Avenue', 'city': 'Lakeview', 'age': 29, 'email': 'alice.j@example.com', 'price_issue': False, 'quality_issue': True, 'service_issue': False, 'delivery_issue': False, 'description_issue': False, 'product_code': 'B', 'quarter': '2021-Q2'}, {'name': 'Bob Brown', 'street': '789 Pine Road', 'city': 'Hillside', 'age': 42, 'email': 'bob.brown@example.com', 'price_issue': False, 'quality_issue': False, 'service_issue': True, 'delivery_issue': False, 'description_issue': False, 'product_code': 'C', 'quarter': '2021-Q3'}, {'name': 'Clara White', 'street': '321 Birch Blvd', 'city': 'Seaview', 'age': 37, 'email': 'clara.white@example.com', 'price_issue': False, 'quality_issue': False, 'service_issue': False, 'delivery_issue': True, 'description_issue': False, 'product_code': 'D', 'quarter': '2021-Q4'}, {'name': 'David Green', 'street': '654 Cedar Street', 'city': 'Mountainville', 'age': 45, 'email': 'david.green@example.com', 'price_issue': True, 'quality_issue': True, 'service_issue': False, 'delivery_issue': False, 'description_issue': False, 'product_code': 'E', 'quarter': '2022-Q1'}, {'name': 'Eva Black', 'street': '987 Maple Lane', 'city': 'Riverside', 'age': 53, 'email': 'eva.black@example.com', 'price_issue': False, 'quality_issue': False, 'service_issue': True, 'delivery_issue': True, 'description_issue': False, 'product_code': 'F', 'quarter': '2022-Q2'}, {'name': 'Frank Gray', 'street': '159 Spruce Street', 'city': 'Brookfield', 'age': 39, 'email': 'frank.gray@example.com', 'price_issue': True, 'quality_issue': False, 'service_issue': True, 'delivery_issue': False, 'description_issue': False, 'product_code': 'G', 'quarter': '2022-Q3'}, {'name': 'Grace Blue', 'street': '753 Willow Way', 'city': 'Sunnydale', 'age': 50, 'email': 'grace.blue@example.com', 'price_issue': False, 'quality_issue': False, 'service_issue': False, 'delivery_issue': False, 'description_issue': True, 'product_code': 'H', 'quarter': '2022-Q4'}, {'name': 'Isabella Clarke', 'street': '246 Ash Blvd', 'city': 'Greenwood', 'age': 33, 'email': 'isabella.clarke@example.com', 'price_issue': True, 'quality_issue': False, 'service_issue': True, 'delivery_issue': False, 'description_issue': False, 'product_code': 'A', 'quarter': '2023-Q3'}, {'name': 'Michael Clark', 'street': '246 Ash Boulevard', 'city': 'Greenwood', 'age': 35, 'email': 'michael.clark@example.com', 'price_issue': False, 'quality_issue': True, 'service_issue': False, 'delivery_issue': True, 'description_issue': False, 'product_code': 'A', 'quarter': '2023-Q3'}, {'name': 'Emily Johnson', 'street': '789 Oak Street', 'city': 'Springfield', 'age': 29, 'email': 'emily.johnson@example.com', 'price_issue': False, 'quality_issue': True, 'service_issue': False, 'delivery_issue': False, 'description_issue': True, 'product_code': 'B', 'quarter': '2023-Q1'}, {'name': 'David Smith', 'street': '123 Maple Avenue', 'city': 'Riverton', 'age': 41, 'email': 'david.smith@example.com', 'price_issue': True, 'quality_issue': False, 'service_issue': False, 'delivery_issue': True, 'description_issue': False, 'product_code': 'C', 'quarter': '2023-Q2'}, {'name': 'Sophia Brown', 'street': '456 Pine Road', 'city': 'Lakeside', 'age': 37, 'email': 'sophia.brown@example.com', 'price_issue': False, 'quality_issue': False, 'service_issue': True, 'delivery_issue': True, 'description_issue': False, 'product_code': 'D', 'quarter': '2023-Q1'}, {'name': 'James Wilson', 'street': '321 Birch Lane', 'city': 'Hilltown', 'age': 28, 'email': 'james.wilson@example.com', 'price_issue': True, 'quality_issue': True, 'service_issue': False, 'delivery_issue': False, 'description_issue': False, 'product_code': 'E', 'quarter': '2023-Q3'}, {'name': 'Olivia Martinez', 'street': '789 Elm Street', 'city': 'Riverbend', 'age': 45, 'email': 'olivia.martinez@example.com', 'price_issue': False, 'quality_issue': False, 'service_issue': False, 'delivery_issue': True, 'description_issue': True, 'product_code': 'F', 'quarter': '2023-Q2'}, {'name': 'Liam Taylor', 'street': '654 Cedar Avenue', 'city': 'Mountainview', 'age': 32, 'email': 'liam.taylor@example.com', 'price_issue': True, 'quality_issue': False, 'service_issue': True, 'delivery_issue': False, 'description_issue': False, 'product_code': 'G', 'quarter': '2023-Q2'}, {'name': 'Ava Thomas', 'street': '987 Willow Way', 'city': 'Brookside', 'age': 39, 'email': 'ava.thomas@example.com', 'price_issue': False, 'quality_issue': True, 'service_issue': True, 'delivery_issue': False, 'description_issue': False, 'product_code': 'H', 'quarter': '2023-Q4'}, {'name': 'Ethan White', 'street': '111 Poplar Street', 'city': 'Meadowland', 'age': 50, 'email': 'ethan.white@example.com', 'price_issue': True, 'quality_issue': False, 'service_issue': False, 'delivery_issue': True, 'description_issue': True, 'product_code': 'A', 'quarter': '2023-Q1'}, {'name': 'Jackie Milner', 'street': '135 Poplar St.', 'city': 'Forestville', 'age': 44, 'email': 'jackie.milner@example.com', 'price_issue': False, 'quality_issue': True, 'service_issue': False, 'delivery_issue': True, 'description_issue': False, 'product_code': 'B', 'quarter': '2022-Q4'}, {'name': 'John Miller', 'street': '137 Poplar Street', 'city': 'Forestville', 'age': 46, 'email': 'john.miller@example.com', 'price_issue': False, 'quality_issue': True, 'service_issue': True, 'delivery_issue': False, 'description_issue': False, 'product_code': 'B', 'quarter': '2022-Q4'}, {'name': 'Emily Johnson', 'street': '742 Evergreen Terrace', 'city': 'Springfield', 'age': 32, 'email': 'emily.j@example.com', 'price_issue': True, 'quality_issue': False, 'service_issue': False, 'delivery_issue': False, 'description_issue': False, 'product_code': 'A', 'quarter': '2023-Q1'}, {'name': 'Michael Smith', 'street': '100 Main Street', 'city': 'Rivertown', 'age': 29, 'email': 'michael.smith@example.com', 'price_issue': False, 'quality_issue': False, 'service_issue': True, 'delivery_issue': True, 'description_issue': False, 'product_code': 'C', 'quarter': '2023-Q2'}, {'name': 'Olivia Brown', 'street': '456 Elm Street', 'city': 'Lakeside', 'age': 36, 'email': 'olivia.b@example.com', 'price_issue': True, 'quality_issue': False, 'service_issue': False, 'delivery_issue': False, 'description_issue': True, 'product_code': 'D', 'quarter': '2023-Q3'}, {'name': 'Liam Davis', 'street': '789 Pine Avenue', 'city': 'Hilltown', 'age': 41, 'email': 'liam.d@example.com', 'price_issue': False, 'quality_issue': True, 'service_issue': False, 'delivery_issue': False, 'description_issue': False, 'product_code': 'E', 'quarter': '2023-Q1'}, {'name': 'Sophia Wilson', 'street': '321 Oak Lane', 'city': 'Greenfield', 'age': 27, 'email': 'sophia.w@example.com', 'price_issue': False, 'quality_issue': False, 'service_issue': True, 'delivery_issue': True, 'description_issue': False, 'product_code': 'F', 'quarter': '2023-Q2'}, {'name': 'James Martinez', 'street': '654 Maple Road', 'city': 'Riverside', 'age': 50, 'email': 'james.m@example.com', 'price_issue': True, 'quality_issue': False, 'service_issue': False, 'delivery_issue': False, 'description_issue': False, 'product_code': 'G', 'quarter': '2023-Q3'}, {'name': 'Isabella Garcia', 'street': '987 Birch Boulevard', 'city': 'Sunnydale', 'age': 39, 'email': 'isabella.g@example.com', 'price_issue': False, 'quality_issue': True, 'service_issue': False, 'delivery_issue': False, 'description_issue': True, 'product_code': 'H', 'quarter': '2023-Q1'}, {'name': 'Ethan Martinez', 'street': '123 Cedar Street', 'city': 'Riverbend', 'age': 33, 'email': 'ethan.m@example.com', 'price_issue': False, 'quality_issue': False, 'service_issue': True, 'delivery_issue': False, 'description_issue': True, 'product_code': 'A', 'quarter': '2023-Q4'}]}\n"
     ]
    }
   ],
   "source": [
    "# Inspect the data as JSON\n",
    "print(gmd.json_object)"
   ]
  },
  {
   "cell_type": "code",
   "execution_count": 5,
   "metadata": {},
   "outputs": [
    {
     "name": "stdout",
     "output_type": "stream",
     "text": [
      "{'customer_complaints':                name               street         city  age  \\\n",
      "0    Alicia Johnson        123 Maple St.  Springfield   34   \n",
      "1    Robert Johnson     124 Maple Street  Springfield   36   \n",
      "2       Emily Clark       456 Oak Avenue    Riverside   28   \n",
      "3     Michael Brown        789 Pine Road   Greenfield   42   \n",
      "4     Jessica Smith       321 Cedar Lane     Lakeside   30   \n",
      "..              ...                  ...          ...  ...   \n",
      "95       Liam Davis      789 Pine Avenue     Hilltown   41   \n",
      "96    Sophia Wilson         321 Oak Lane   Greenfield   27   \n",
      "97   James Martinez       654 Maple Road    Riverside   50   \n",
      "98  Isabella Garcia  987 Birch Boulevard    Sunnydale   39   \n",
      "99   Ethan Martinez     123 Cedar Street    Riverbend   33   \n",
      "\n",
      "                         email  price_issue  quality_issue  service_issue  \\\n",
      "0   alicia.johnson@example.com         True          False          False   \n",
      "1   robert.johnson@example.com        False          False           True   \n",
      "2      emily.clark@example.com        False           True          False   \n",
      "3    michael.brown@example.com        False          False          False   \n",
      "4    jessica.smith@example.com         True           True          False   \n",
      "..                         ...          ...            ...            ...   \n",
      "95          liam.d@example.com        False           True          False   \n",
      "96        sophia.w@example.com        False          False           True   \n",
      "97         james.m@example.com         True          False          False   \n",
      "98      isabella.g@example.com        False           True          False   \n",
      "99         ethan.m@example.com        False          False           True   \n",
      "\n",
      "    delivery_issue  description_issue product_code  quarter  \n",
      "0            False              False            A  2021-Q3  \n",
      "1            False              False            A  2021-Q3  \n",
      "2            False              False            B  2021-Q4  \n",
      "3             True              False            C  2022-Q1  \n",
      "4            False              False            D  2022-Q2  \n",
      "..             ...                ...          ...      ...  \n",
      "95           False              False            E  2023-Q1  \n",
      "96            True              False            F  2023-Q2  \n",
      "97           False              False            G  2023-Q3  \n",
      "98           False               True            H  2023-Q1  \n",
      "99           False               True            A  2023-Q4  \n",
      "\n",
      "[100 rows x 12 columns]}\n"
     ]
    }
   ],
   "source": [
    "# Inspect the data as dataframes (one per array field)\n",
    "print(gmd.array_dfs)"
   ]
  },
  {
   "cell_type": "code",
   "execution_count": 6,
   "metadata": {},
   "outputs": [
    {
     "name": "stderr",
     "output_type": "stream",
     "text": [
      "100%|██████████| 10/10 [00:28<00:00,  2.89s/it]"
     ]
    },
    {
     "name": "stdout",
     "output_type": "stream",
     "text": [
      "Generated text data\n"
     ]
    },
    {
     "name": "stderr",
     "output_type": "stream",
     "text": [
      "\n"
     ]
    }
   ],
   "source": [
    "# Use the customer_complaints dataframe to generate mock text data (first 10 records only)\n",
    "df = gmd.array_dfs[\"customer_complaints\"][:10]\n",
    "await gmd.generate_text_data(df)\n",
    "print(\"Generated text data\")"
   ]
  },
  {
   "cell_type": "code",
   "execution_count": 7,
   "metadata": {},
   "outputs": [
    {
     "name": "stdout",
     "output_type": "stream",
     "text": [
      "                                           mock_text\n",
      "0  **Customer Feedback Report**\\n\\n**Customer Inf...\n",
      "1  ---\\n\\n**Customer Service Report**\\n\\n**Custom...\n",
      "2  **Customer Feedback Report**\\n\\n**Customer Inf...\n",
      "3  **Customer Service Report**\\n\\n**Customer Info...\n",
      "4  **Customer Feedback Report**\\n\\n**Customer Inf...\n",
      "5  ---\\n\\n**Customer Feedback Report**\\n\\n**Custo...\n",
      "6  **Customer Feedback Report**\\n\\n**Customer Inf...\n",
      "7  **Customer Feedback Report**\\n\\n**Customer Inf...\n",
      "8  **Customer Service Report**\\n\\n**Customer Info...\n",
      "9  **Customer Complaint Report**\\n\\n**Customer De...\n"
     ]
    }
   ],
   "source": [
    "# Inspect texts as dataframe\n",
    "print(gmd.text_df)"
   ]
  }
 ],
 "metadata": {
  "kernelspec": {
   "display_name": "intelligence-toolkit-lXFNld9n-py3.11",
   "language": "python",
   "name": "python3"
  },
  "language_info": {
   "codemirror_mode": {
    "name": "ipython",
    "version": 3
   },
   "file_extension": ".py",
   "mimetype": "text/x-python",
   "name": "python",
   "nbconvert_exporter": "python",
   "pygments_lexer": "ipython3",
   "version": "3.11.9"
  }
 },
 "nbformat": 4,
 "nbformat_minor": 2
}
