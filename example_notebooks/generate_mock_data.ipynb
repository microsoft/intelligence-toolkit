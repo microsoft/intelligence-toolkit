{
 "cells": [
  {
   "cell_type": "markdown",
   "metadata": {},
   "source": [
    "# Generate Mock Data\n",
    "\n",
    "Demonstrates use of the Intelligence Toolkit library to generate mock data, both structured records and unstructured texts.\n",
    "\n",
    "See [readme](https://github.com/microsoft/intelligence-toolkit/blob/main/app/workflows/generate_mock_data/README.md) for more details."
   ]
  },
  {
   "cell_type": "code",
   "execution_count": 1,
   "metadata": {},
   "outputs": [],
   "source": [
    "import sys\n",
    "\n",
    "sys.path.append(\"..\")\n",
    "import os\n",
    "from intelligence_toolkit.generate_mock_data.api import GenerateMockData\n",
    "from intelligence_toolkit.AI.openai_configuration import OpenAIConfiguration\n",
    "import json"
   ]
  },
  {
   "cell_type": "code",
   "execution_count": 2,
   "metadata": {},
   "outputs": [
    {
     "name": "stdout",
     "output_type": "stream",
     "text": [
      "Loaded data schema\n",
      "{'$schema': 'http://json-schema.org/draft/2020-12/schema', 'title': 'Customer complaints', 'description': 'An example schema storing an array of customer complaints', 'type': 'object', 'properties': {'customer_complaints': {'type': 'array', 'description': 'The list of customers and their complaints', 'items': {'type': 'object', 'properties': {'name': {'type': 'string', 'description': 'The name of the customer'}, 'street': {'type': 'string', 'description': 'The street of the customer, including property name/number'}, 'city': {'type': 'string', 'description': 'The city of the customer'}, 'age': {'type': 'number', 'description': 'The age of the customer'}, 'email': {'type': 'string', 'description': 'The email address of the customer'}, 'price_issue': {'type': 'boolean', 'description': 'The complaint is a price issue'}, 'quality_issue': {'type': 'boolean', 'description': 'The complaint is a quality issue'}, 'service_issue': {'type': 'boolean', 'description': 'The complaint is a service issue'}, 'delivery_issue': {'type': 'boolean', 'description': 'The complaint is a delivery issue'}, 'description_issue': {'type': 'boolean', 'description': 'The complaint is a description issue'}, 'product_code': {'type': 'string', 'description': 'The product code targeted by the complaint', 'enum': ['A', 'B', 'C', 'D', 'E', 'F', 'G', 'H']}, 'quarter': {'type': 'string', 'description': 'The quarter in which the complaint was made (since 2020-Q1)'}}, 'required': ['name', 'street', 'city', 'age', 'email', 'price_issue', 'quality_issue', 'service_issue', 'delivery_issue', 'description_issue', 'product_code', 'quarter'], 'additionalProperties': False}}}, 'required': ['customer_complaints'], 'additionalProperties': False}\n"
     ]
    }
   ],
   "source": [
    "# Create the workflow object\n",
    "gmd = GenerateMockData()\n",
    "# Set the AI configuration\n",
    "ai_configuration = OpenAIConfiguration(\n",
    "    {\n",
    "        \"api_type\": \"OpenAI\",\n",
    "        \"api_key\": os.environ[\"OPENAI_API_KEY\"],\n",
    "        \"model\": \"gpt-4o\",\n",
    "    }\n",
    ")\n",
    "gmd.set_ai_configuration(ai_configuration)\n",
    "# Load the data schema\n",
    "schema_path = \"../example_outputs/generate_mock_data/customer_complaints/customer_complaints_schema.json\"\n",
    "json_schema = json.loads(open(schema_path, \"r\").read())\n",
    "# Set the schema\n",
    "gmd.set_schema(json_schema)\n",
    "print(\"Loaded data schema\")\n",
    "print(json_schema)"
   ]
  },
  {
   "cell_type": "code",
   "execution_count": 3,
   "metadata": {},
   "outputs": [
    {
     "name": "stderr",
     "output_type": "stream",
     "text": [
      "100%|██████████| 9/9 [00:10<00:00,  1.15s/it]"
     ]
    },
    {
     "name": "stdout",
     "output_type": "stream",
     "text": [
      "Generated data records\n"
     ]
    },
    {
     "name": "stderr",
     "output_type": "stream",
     "text": [
      "\n"
     ]
    }
   ],
   "source": [
    "# Generate mock data records\n",
    "await gmd.generate_data_records(\n",
    "    num_records_overall=100,\n",
    "    records_per_batch=10,\n",
    "    duplicate_records_per_batch=1,\n",
    "    related_records_per_batch=1,\n",
    ")\n",
    "print(\"Generated data records\")\n",
    "\n",
    "# 28s"
   ]
  },
  {
   "cell_type": "code",
   "execution_count": 4,
   "metadata": {},
   "outputs": [
    {
     "name": "stdout",
     "output_type": "stream",
     "text": [
      "{'customer_complaints': [{'name': 'John Doe', 'street': '123 Elm Street', 'city': 'Springfield', 'age': 35, 'email': 'john.doe@example.com', 'price_issue': True, 'quality_issue': False, 'service_issue': False, 'delivery_issue': False, 'description_issue': False, 'product_code': 'A', 'quarter': '2023-Q1'}, {'name': 'Jane Smith', 'street': '456 Oak Avenue', 'city': 'Riverton', 'age': 28, 'email': 'jane.smith@example.com', 'price_issue': False, 'quality_issue': True, 'service_issue': False, 'delivery_issue': False, 'description_issue': False, 'product_code': 'B', 'quarter': '2022-Q4'}, {'name': 'Alice Johnson', 'street': '789 Pine Road', 'city': 'Laketown', 'age': 42, 'email': 'alice.johnson@example.com', 'price_issue': False, 'quality_issue': False, 'service_issue': True, 'delivery_issue': False, 'description_issue': False, 'product_code': 'C', 'quarter': '2021-Q3'}, {'name': 'Bob Brown', 'street': '101 Maple Street', 'city': 'Hill Valley', 'age': 50, 'email': 'bob.brown@example.com', 'price_issue': False, 'quality_issue': False, 'service_issue': False, 'delivery_issue': True, 'description_issue': False, 'product_code': 'D', 'quarter': '2020-Q2'}, {'name': 'Carol White', 'street': '202 Birch Lane', 'city': 'Sunnydale', 'age': 37, 'email': 'carol.white@example.com', 'price_issue': False, 'quality_issue': False, 'service_issue': False, 'delivery_issue': False, 'description_issue': True, 'product_code': 'E', 'quarter': '2023-Q3'}, {'name': 'Dave Green', 'street': '303 Cedar Court', 'city': 'River City', 'age': 29, 'email': 'dave.green@example.com', 'price_issue': True, 'quality_issue': True, 'service_issue': False, 'delivery_issue': False, 'description_issue': False, 'product_code': 'F', 'quarter': '2022-Q2'}, {'name': 'Eve Black', 'street': '404 Willow Way', 'city': 'Gotham', 'age': 45, 'email': 'eve.black@example.com', 'price_issue': False, 'quality_issue': False, 'service_issue': True, 'delivery_issue': True, 'description_issue': False, 'product_code': 'G', 'quarter': '2021-Q1'}, {'name': 'Frank Blue', 'street': '505 Cherry Lane', 'city': 'Metropolis', 'age': 33, 'email': 'frank.blue@example.com', 'price_issue': False, 'quality_issue': True, 'service_issue': False, 'delivery_issue': False, 'description_issue': True, 'product_code': 'H', 'quarter': '2020-Q4'}, {'name': 'Grace Yellow', 'street': '606 Poplar Street', 'city': 'Star City', 'age': 39, 'email': 'grace.yellow@example.com', 'price_issue': True, 'quality_issue': False, 'service_issue': True, 'delivery_issue': False, 'description_issue': False, 'product_code': 'A', 'quarter': '2023-Q2'}, {'name': 'Henry Orange', 'street': '707 Elm Avenue', 'city': 'Central City', 'age': 31, 'email': 'henry.orange@example.com', 'price_issue': False, 'quality_issue': True, 'service_issue': False, 'delivery_issue': True, 'description_issue': True, 'product_code': 'B', 'quarter': '2022-Q1'}, {'name': 'Alice Johnson', 'street': '789 Pine St', 'city': 'Laketown', 'age': 42, 'email': 'alice.johnson@samplemail.com', 'price_issue': False, 'quality_issue': False, 'service_issue': True, 'delivery_issue': False, 'description_issue': False, 'product_code': 'C', 'quarter': '2021-Q3'}, {'name': 'Bob Johnson', 'street': '789 Pine Road', 'city': 'Laketown', 'age': 45, 'email': 'bob.johnson@example.com', 'price_issue': False, 'quality_issue': True, 'service_issue': False, 'delivery_issue': False, 'description_issue': False, 'product_code': 'C', 'quarter': '2021-Q3'}, {'name': 'Charlie Smith', 'street': '123 Maple Avenue', 'city': 'Rivertown', 'age': 35, 'email': 'charlie.smith@domain.com', 'price_issue': True, 'quality_issue': False, 'service_issue': False, 'delivery_issue': False, 'description_issue': False, 'product_code': 'A', 'quarter': '2021-Q2'}, {'name': 'Dana White', 'street': '456 Oak Street', 'city': 'Hilltop', 'age': 29, 'email': 'dana.white@service.com', 'price_issue': False, 'quality_issue': True, 'service_issue': False, 'delivery_issue': False, 'description_issue': True, 'product_code': 'B', 'quarter': '2021-Q4'}, {'name': 'Evan Green', 'street': '789 Birch Lane', 'city': 'Forestville', 'age': 52, 'email': 'evan.green@company.org', 'price_issue': False, 'quality_issue': False, 'service_issue': False, 'delivery_issue': True, 'description_issue': False, 'product_code': 'D', 'quarter': '2022-Q1'}, {'name': 'Fiona Brown', 'street': '321 Cedar Court', 'city': 'Lakeside', 'age': 41, 'email': 'fiona.brown@webmail.com', 'price_issue': False, 'quality_issue': False, 'service_issue': True, 'delivery_issue': False, 'description_issue': False, 'product_code': 'E', 'quarter': '2022-Q2'}, {'name': 'George Black', 'street': '654 Elm Street', 'city': 'Summerville', 'age': 38, 'email': 'george.black@internet.com', 'price_issue': True, 'quality_issue': True, 'service_issue': False, 'delivery_issue': False, 'description_issue': False, 'product_code': 'F', 'quarter': '2022-Q3'}, {'name': 'Helen Blue', 'street': '987 Spruce Drive', 'city': 'Rivercity', 'age': 47, 'email': 'helen.blue@provider.net', 'price_issue': False, 'quality_issue': False, 'service_issue': False, 'delivery_issue': True, 'description_issue': True, 'product_code': 'G', 'quarter': '2022-Q4'}, {'name': 'Ian Gray', 'street': '159 Pine Road', 'city': 'Laketown', 'age': 50, 'email': 'ian.gray@samplemail.com', 'price_issue': False, 'quality_issue': False, 'service_issue': True, 'delivery_issue': False, 'description_issue': False, 'product_code': 'C', 'quarter': '2021-Q3'}, {'name': 'Jill White', 'street': '753 Willow Way', 'city': 'Seaside', 'age': 36, 'email': 'jill.white@online.org', 'price_issue': False, 'quality_issue': True, 'service_issue': False, 'delivery_issue': True, 'description_issue': False, 'product_code': 'H', 'quarter': '2023-Q1'}, {'name': 'Robert Brown', 'street': '101 Maple Ave', 'city': 'Hill Valley', 'age': 51, 'email': 'rob.brown@example.com', 'price_issue': False, 'quality_issue': False, 'service_issue': False, 'delivery_issue': True, 'description_issue': False, 'product_code': 'D', 'quarter': '2020-Q2'}, {'name': 'Alice Brown', 'street': '101 Maple Street', 'city': 'Hill Valley', 'age': 48, 'email': 'alice.brown@example.com', 'price_issue': False, 'quality_issue': True, 'service_issue': False, 'delivery_issue': False, 'description_issue': False, 'product_code': 'D', 'quarter': '2020-Q2'}, {'name': 'Charlie Smith', 'street': '202 Oak Lane', 'city': 'Springfield', 'age': 34, 'email': 'charlie.smith@example.com', 'price_issue': True, 'quality_issue': False, 'service_issue': False, 'delivery_issue': False, 'description_issue': False, 'product_code': 'A', 'quarter': '2021-Q1'}, {'name': 'Diana Evans', 'street': '300 Pine Road', 'city': 'Riverside', 'age': 28, 'email': 'diana.evans@example.com', 'price_issue': False, 'quality_issue': True, 'service_issue': False, 'delivery_issue': False, 'description_issue': False, 'product_code': 'B', 'quarter': '2021-Q3'}, {'name': 'Ethan Clark', 'street': '404 Elm Street', 'city': 'Hill Valley', 'age': 45, 'email': 'ethan.clark@example.com', 'price_issue': False, 'quality_issue': False, 'service_issue': True, 'delivery_issue': False, 'description_issue': False, 'product_code': 'C', 'quarter': '2021-Q4'}, {'name': 'Fiona Green', 'street': '505 Birch Blvd', 'city': 'Mapleton', 'age': 32, 'email': 'fiona.green@example.com', 'price_issue': False, 'quality_issue': False, 'service_issue': False, 'delivery_issue': True, 'description_issue': False, 'product_code': 'E', 'quarter': '2022-Q2'}, {'name': 'George Harris', 'street': '606 Cedar Drive', 'city': 'Lakeside', 'age': 39, 'email': 'george.harris@example.com', 'price_issue': True, 'quality_issue': False, 'service_issue': False, 'delivery_issue': False, 'description_issue': False, 'product_code': 'F', 'quarter': '2022-Q3'}, {'name': 'Hannah White', 'street': '707 Ash Avenue', 'city': 'Sunnydale', 'age': 29, 'email': 'hannah.white@example.com', 'price_issue': False, 'quality_issue': False, 'service_issue': True, 'delivery_issue': False, 'description_issue': False, 'product_code': 'G', 'quarter': '2022-Q4'}, {'name': 'Ian Black', 'street': '808 Cherry Street', 'city': 'Brookfield', 'age': 53, 'email': 'ian.black@example.com', 'price_issue': False, 'quality_issue': True, 'service_issue': False, 'delivery_issue': False, 'description_issue': False, 'product_code': 'H', 'quarter': '2023-Q1'}, {'name': 'Julie Adams', 'street': '909 Walnut Way', 'city': 'Hill Valley', 'age': 37, 'email': 'julie.adams@example.com', 'price_issue': False, 'quality_issue': False, 'service_issue': False, 'delivery_issue': True, 'description_issue': False, 'product_code': 'D', 'quarter': '2023-Q2'}, {'name': 'Janet Smith', 'street': '456 Oak Avenue', 'city': 'Riverton', 'age': 28, 'email': 'janet.smith@example.com', 'price_issue': False, 'quality_issue': True, 'service_issue': False, 'delivery_issue': False, 'description_issue': False, 'product_code': 'B', 'quarter': '2022-Q4'}, {'name': 'John Smith', 'street': '456 Oak Avenue', 'city': 'Riverton', 'age': 32, 'email': 'john.smith@example.com', 'price_issue': False, 'quality_issue': True, 'service_issue': True, 'delivery_issue': False, 'description_issue': False, 'product_code': 'B', 'quarter': '2022-Q3'}, {'name': 'Emily Johnson', 'street': '789 Pine Street', 'city': 'Lakeside', 'age': 45, 'email': 'emily.johnson@example.com', 'price_issue': True, 'quality_issue': False, 'service_issue': False, 'delivery_issue': False, 'description_issue': True, 'product_code': 'C', 'quarter': '2023-Q1'}, {'name': 'Michael Brown', 'street': '321 Maple Lane', 'city': 'Hilltop', 'age': 37, 'email': 'michael.brown@example.com', 'price_issue': False, 'quality_issue': False, 'service_issue': True, 'delivery_issue': True, 'description_issue': False, 'product_code': 'D', 'quarter': '2023-Q2'}, {'name': 'Sophia Davis', 'street': '654 Elm Street', 'city': 'Riverton', 'age': 29, 'email': 'sophia.davis@example.com', 'price_issue': True, 'quality_issue': False, 'service_issue': False, 'delivery_issue': False, 'description_issue': False, 'product_code': 'A', 'quarter': '2022-Q4'}, {'name': 'Liam Wilson', 'street': '987 Birch Road', 'city': 'Summit', 'age': 41, 'email': 'liam.wilson@example.com', 'price_issue': False, 'quality_issue': True, 'service_issue': False, 'delivery_issue': True, 'description_issue': False, 'product_code': 'E', 'quarter': '2023-Q3'}, {'name': 'Olivia Martinez', 'street': '123 Cedar Boulevard', 'city': 'Lakeside', 'age': 34, 'email': 'olivia.martinez@example.com', 'price_issue': False, 'quality_issue': False, 'service_issue': True, 'delivery_issue': False, 'description_issue': True, 'product_code': 'F', 'quarter': '2022-Q2'}, {'name': 'Noah Anderson', 'street': '741 Spruce Drive', 'city': 'Hilltop', 'age': 50, 'email': 'noah.anderson@example.com', 'price_issue': True, 'quality_issue': False, 'service_issue': False, 'delivery_issue': False, 'description_issue': False, 'product_code': 'G', 'quarter': '2023-Q4'}, {'name': 'Isabella Thomas', 'street': '258 Chestnut Avenue', 'city': 'Riverton', 'age': 26, 'email': 'isabella.thomas@example.com', 'price_issue': False, 'quality_issue': False, 'service_issue': True, 'delivery_issue': True, 'description_issue': False, 'product_code': 'H', 'quarter': '2022-Q1'}, {'name': 'Ethan White', 'street': '369 Willow Way', 'city': 'Summit', 'age': 38, 'email': 'ethan.white@example.com', 'price_issue': True, 'quality_issue': True, 'service_issue': False, 'delivery_issue': False, 'description_issue': False, 'product_code': 'B', 'quarter': '2023-Q2'}, {'name': 'Frank Blue', 'street': '505 Cherry Lane', 'city': 'Metropolis', 'age': 34, 'email': 'frank.blu@example.com', 'price_issue': False, 'quality_issue': True, 'service_issue': False, 'delivery_issue': False, 'description_issue': True, 'product_code': 'H', 'quarter': '2020-Q4'}, {'name': 'Anna Blue', 'street': '505 Cherry Lane', 'city': 'Metropolis', 'age': 31, 'email': 'anna.blue@example.com', 'price_issue': False, 'quality_issue': False, 'service_issue': True, 'delivery_issue': False, 'description_issue': False, 'product_code': 'H', 'quarter': '2020-Q4'}, {'name': 'Jessica Green', 'street': '123 Maple Street', 'city': 'Springfield', 'age': 28, 'email': 'jessica.green@example.com', 'price_issue': True, 'quality_issue': False, 'service_issue': False, 'delivery_issue': False, 'description_issue': False, 'product_code': 'A', 'quarter': '2021-Q1'}, {'name': 'Michael Brown', 'street': '789 Oak Avenue', 'city': 'Centerville', 'age': 45, 'email': 'michael.brown@example.com', 'price_issue': False, 'quality_issue': True, 'service_issue': True, 'delivery_issue': False, 'description_issue': False, 'product_code': 'B', 'quarter': '2021-Q2'}, {'name': 'Samantha White', 'street': '456 Pine Road', 'city': 'Rivertown', 'age': 37, 'email': 'samantha.white@example.com', 'price_issue': True, 'quality_issue': True, 'service_issue': False, 'delivery_issue': True, 'description_issue': False, 'product_code': 'C', 'quarter': '2021-Q3'}, {'name': 'John Black', 'street': '321 Elm Street', 'city': 'Lakeside', 'age': 50, 'email': 'john.black@example.com', 'price_issue': False, 'quality_issue': False, 'service_issue': True, 'delivery_issue': True, 'description_issue': True, 'product_code': 'D', 'quarter': '2021-Q4'}, {'name': 'Emily Red', 'street': '654 Cedar Drive', 'city': 'Hilltown', 'age': 29, 'email': 'emily.red@example.com', 'price_issue': True, 'quality_issue': False, 'service_issue': False, 'delivery_issue': False, 'description_issue': True, 'product_code': 'E', 'quarter': '2022-Q1'}, {'name': 'William Yellow', 'street': '987 Birch Boulevard', 'city': 'Forest City', 'age': 42, 'email': 'william.yellow@example.com', 'price_issue': False, 'quality_issue': True, 'service_issue': False, 'delivery_issue': True, 'description_issue': False, 'product_code': 'F', 'quarter': '2022-Q2'}, {'name': 'Olivia Purple', 'street': '159 Spruce Lane', 'city': 'Riverbend', 'age': 36, 'email': 'olivia.purple@example.com', 'price_issue': True, 'quality_issue': True, 'service_issue': False, 'delivery_issue': False, 'description_issue': False, 'product_code': 'G', 'quarter': '2022-Q3'}, {'name': 'Lucas Orange', 'street': '753 Willow Way', 'city': 'Stoneville', 'age': 31, 'email': 'lucas.orange@example.com', 'price_issue': False, 'quality_issue': False, 'service_issue': True, 'delivery_issue': False, 'description_issue': True, 'product_code': 'H', 'quarter': '2022-Q4'}, {'name': 'Cara White', 'street': '204 Birch Lane', 'city': 'Sunnydale', 'age': 37, 'email': 'cara.white@example.com', 'price_issue': False, 'quality_issue': False, 'service_issue': False, 'delivery_issue': False, 'description_issue': True, 'product_code': 'E', 'quarter': '2023-Q3'}, {'name': 'John White', 'street': '202 Birch Lane', 'city': 'Sunnydale', 'age': 40, 'email': 'john.white@example.com', 'price_issue': False, 'quality_issue': False, 'service_issue': True, 'delivery_issue': False, 'description_issue': False, 'product_code': 'E', 'quarter': '2023-Q3'}, {'name': 'Alice Green', 'street': '123 Oak Street', 'city': 'Mapleton', 'age': 29, 'email': 'alice.green@example.com', 'price_issue': True, 'quality_issue': False, 'service_issue': False, 'delivery_issue': False, 'description_issue': False, 'product_code': 'A', 'quarter': '2023-Q1'}, {'name': 'Michael Brown', 'street': '456 Pine Avenue', 'city': 'Rivertown', 'age': 43, 'email': 'michael.brown@example.com', 'price_issue': False, 'quality_issue': True, 'service_issue': False, 'delivery_issue': False, 'description_issue': False, 'product_code': 'B', 'quarter': '2023-Q2'}, {'name': 'Laura Smith', 'street': '789 Cedar Boulevard', 'city': 'Hillcrest', 'age': 35, 'email': 'laura.smith@example.com', 'price_issue': False, 'quality_issue': False, 'service_issue': False, 'delivery_issue': True, 'description_issue': False, 'product_code': 'C', 'quarter': '2022-Q4'}, {'name': 'Robert Johnson', 'street': '321 Maple Drive', 'city': 'Lakeside', 'age': 52, 'email': 'robert.johnson@example.com', 'price_issue': True, 'quality_issue': False, 'service_issue': False, 'delivery_issue': False, 'description_issue': False, 'product_code': 'D', 'quarter': '2023-Q3'}, {'name': 'Emily Davis', 'street': '654 Spruce Road', 'city': 'Forestview', 'age': 30, 'email': 'emily.davis@example.com', 'price_issue': False, 'quality_issue': True, 'service_issue': False, 'delivery_issue': True, 'description_issue': False, 'product_code': 'F', 'quarter': '2023-Q2'}, {'name': 'Daniel Martinez', 'street': '987 Willow Way', 'city': 'Brookfield', 'age': 27, 'email': 'daniel.martinez@example.com', 'price_issue': False, 'quality_issue': False, 'service_issue': True, 'delivery_issue': False, 'description_issue': False, 'product_code': 'G', 'quarter': '2023-Q1'}, {'name': 'Sophia Wilson', 'street': '159 Elm Street', 'city': 'Greenville', 'age': 45, 'email': 'sophia.wilson@example.com', 'price_issue': True, 'quality_issue': True, 'service_issue': False, 'delivery_issue': False, 'description_issue': False, 'product_code': 'H', 'quarter': '2023-Q2'}, {'name': 'James Lee', 'street': '753 Ash Court', 'city': 'Springfield', 'age': 38, 'email': 'james.lee@example.com', 'price_issue': False, 'quality_issue': False, 'service_issue': True, 'delivery_issue': True, 'description_issue': False, 'product_code': 'E', 'quarter': '2023-Q3'}, {'name': 'David Green', 'street': '303 Cedar Court', 'city': 'River City', 'age': 29, 'email': 'david.green@example.com', 'price_issue': True, 'quality_issue': True, 'service_issue': False, 'delivery_issue': False, 'description_issue': False, 'product_code': 'F', 'quarter': '2022-Q2'}, {'name': 'Linda Green', 'street': '303 Cedar Court', 'city': 'River City', 'age': 27, 'email': 'linda.green@example.com', 'price_issue': False, 'quality_issue': True, 'service_issue': False, 'delivery_issue': True, 'description_issue': False, 'product_code': 'F', 'quarter': '2022-Q3'}, {'name': 'John Smith', 'street': '101 Maple Street', 'city': 'Springfield', 'age': 45, 'email': 'john.smith@example.com', 'price_issue': False, 'quality_issue': False, 'service_issue': True, 'delivery_issue': False, 'description_issue': False, 'product_code': 'A', 'quarter': '2021-Q4'}, {'name': 'Emily Johnson', 'street': '202 Oak Avenue', 'city': 'Greenfield', 'age': 34, 'email': 'emily.johnson@example.com', 'price_issue': True, 'quality_issue': False, 'service_issue': False, 'delivery_issue': True, 'description_issue': False, 'product_code': 'B', 'quarter': '2023-Q1'}, {'name': 'Michael Brown', 'street': '404 Pine Lane', 'city': 'Lakeside', 'age': 52, 'email': 'michael.brown@example.com', 'price_issue': False, 'quality_issue': True, 'service_issue': False, 'delivery_issue': False, 'description_issue': True, 'product_code': 'C', 'quarter': '2020-Q3'}, {'name': 'Sarah Davis', 'street': '505 Birch Boulevard', 'city': 'Hillside', 'age': 38, 'email': 'sarah.davis@example.com', 'price_issue': True, 'quality_issue': True, 'service_issue': False, 'delivery_issue': False, 'description_issue': False, 'product_code': 'D', 'quarter': '2021-Q2'}, {'name': 'Chris White', 'street': '606 Elm Street', 'city': 'Riverside', 'age': 29, 'email': 'chris.white@example.com', 'price_issue': False, 'quality_issue': False, 'service_issue': True, 'delivery_issue': True, 'description_issue': False, 'product_code': 'E', 'quarter': '2022-Q1'}, {'name': 'Jessica Taylor', 'street': '707 Willow Way', 'city': 'Brookside', 'age': 41, 'email': 'jessica.taylor@example.com', 'price_issue': False, 'quality_issue': False, 'service_issue': False, 'delivery_issue': True, 'description_issue': True, 'product_code': 'G', 'quarter': '2020-Q4'}, {'name': 'Brian Wilson', 'street': '808 Ash Road', 'city': 'Meadowville', 'age': 33, 'email': 'brian.wilson@example.com', 'price_issue': True, 'quality_issue': False, 'service_issue': False, 'delivery_issue': False, 'description_issue': True, 'product_code': 'H', 'quarter': '2023-Q2'}, {'name': 'Laura Martinez', 'street': '909 Cherry Circle', 'city': 'Sunnydale', 'age': 26, 'email': 'laura.martinez@example.com', 'price_issue': False, 'quality_issue': True, 'service_issue': True, 'delivery_issue': False, 'description_issue': False, 'product_code': 'E', 'quarter': '2021-Q1'}, {'name': 'Henry Oranges', 'street': '707 Elm Ave', 'city': 'Central City', 'age': 31, 'email': 'henry.oranges@example.com', 'price_issue': False, 'quality_issue': True, 'service_issue': False, 'delivery_issue': True, 'description_issue': True, 'product_code': 'B', 'quarter': '2022-Q1'}, {'name': 'Harriet Orange', 'street': '709 Elm Avenue', 'city': 'Central City', 'age': 29, 'email': 'harriet.orange@example.com', 'price_issue': False, 'quality_issue': True, 'service_issue': False, 'delivery_issue': True, 'description_issue': False, 'product_code': 'B', 'quarter': '2022-Q1'}, {'name': 'Alice Blue', 'street': '123 Maple Street', 'city': 'Springfield', 'age': 45, 'email': 'alice.blue@example.com', 'price_issue': True, 'quality_issue': False, 'service_issue': True, 'delivery_issue': False, 'description_issue': False, 'product_code': 'A', 'quarter': '2022-Q2'}, {'name': 'John Green', 'street': '456 Oak Road', 'city': 'Lakeside', 'age': 38, 'email': 'john.green@example.com', 'price_issue': False, 'quality_issue': False, 'service_issue': True, 'delivery_issue': True, 'description_issue': False, 'product_code': 'C', 'quarter': '2022-Q3'}, {'name': 'Emily Red', 'street': '789 Pine Lane', 'city': 'Riverside', 'age': 27, 'email': 'emily.red@example.com', 'price_issue': True, 'quality_issue': True, 'service_issue': False, 'delivery_issue': False, 'description_issue': False, 'product_code': 'D', 'quarter': '2022-Q4'}, {'name': 'Michael Yellow', 'street': '321 Birch Boulevard', 'city': 'Hilltown', 'age': 52, 'email': 'michael.yellow@example.com', 'price_issue': False, 'quality_issue': False, 'service_issue': True, 'delivery_issue': True, 'description_issue': True, 'product_code': 'E', 'quarter': '2023-Q1'}, {'name': 'Sophie Violet', 'street': '654 Cedar Court', 'city': 'Seaside', 'age': 34, 'email': 'sophie.violet@example.com', 'price_issue': True, 'quality_issue': True, 'service_issue': True, 'delivery_issue': False, 'description_issue': False, 'product_code': 'F', 'quarter': '2023-Q2'}, {'name': 'David Indigo', 'street': '987 Spruce Way', 'city': 'Mountainview', 'age': 41, 'email': 'david.indigo@example.com', 'price_issue': False, 'quality_issue': True, 'service_issue': False, 'delivery_issue': True, 'description_issue': True, 'product_code': 'G', 'quarter': '2023-Q3'}, {'name': 'Laura Brown', 'street': '159 Ash Alley', 'city': 'Valleytown', 'age': 36, 'email': 'laura.brown@example.com', 'price_issue': True, 'quality_issue': False, 'service_issue': True, 'delivery_issue': True, 'description_issue': False, 'product_code': 'H', 'quarter': '2023-Q4'}, {'name': 'James White', 'street': '753 Willow Drive', 'city': 'Forestville', 'age': 29, 'email': 'james.white@example.com', 'price_issue': False, 'quality_issue': False, 'service_issue': False, 'delivery_issue': True, 'description_issue': True, 'product_code': 'A', 'quarter': '2024-Q1'}, {'name': 'Jonathan Doe', 'street': '123 Elm St.', 'city': 'Springfield', 'age': 35, 'email': 'jonathan.doe@example.com', 'price_issue': True, 'quality_issue': False, 'service_issue': False, 'delivery_issue': False, 'description_issue': False, 'product_code': 'A', 'quarter': '2023-Q1'}, {'name': 'Jane Doe', 'street': '123 Elm Street', 'city': 'Springfield', 'age': 32, 'email': 'jane.doe@example.com', 'price_issue': False, 'quality_issue': True, 'service_issue': False, 'delivery_issue': False, 'description_issue': False, 'product_code': 'A', 'quarter': '2023-Q1'}, {'name': 'Alice Smith', 'street': '456 Oak Avenue', 'city': 'Shelbyville', 'age': 28, 'email': 'alice.smith@example.com', 'price_issue': False, 'quality_issue': True, 'service_issue': False, 'delivery_issue': False, 'description_issue': False, 'product_code': 'B', 'quarter': '2023-Q2'}, {'name': 'Bob Johnson', 'street': '789 Pine Road', 'city': 'Capital City', 'age': 42, 'email': 'bob.j@example.com', 'price_issue': True, 'quality_issue': False, 'service_issue': True, 'delivery_issue': False, 'description_issue': False, 'product_code': 'C', 'quarter': '2023-Q3'}, {'name': 'Charlie Brown', 'street': '321 Maple Street', 'city': 'Ogdenville', 'age': 37, 'email': 'charlie.b@example.com', 'price_issue': False, 'quality_issue': False, 'service_issue': True, 'delivery_issue': True, 'description_issue': False, 'product_code': 'D', 'quarter': '2023-Q4'}, {'name': 'Diana Prince', 'street': '654 Cedar Lane', 'city': 'North Haverbrook', 'age': 29, 'email': 'diana.p@example.com', 'price_issue': False, 'quality_issue': False, 'service_issue': False, 'delivery_issue': True, 'description_issue': True, 'product_code': 'E', 'quarter': '2023-Q1'}, {'name': 'Edward Nigma', 'street': '987 Birch Boulevard', 'city': 'Springfield', 'age': 45, 'email': 'edward.n@example.com', 'price_issue': False, 'quality_issue': True, 'service_issue': False, 'delivery_issue': False, 'description_issue': True, 'product_code': 'F', 'quarter': '2023-Q2'}, {'name': 'Fiona Gallagher', 'street': '159 Spruce Court', 'city': 'Shelbyville', 'age': 34, 'email': 'fiona.g@example.com', 'price_issue': True, 'quality_issue': False, 'service_issue': False, 'delivery_issue': True, 'description_issue': False, 'product_code': 'G', 'quarter': '2023-Q3'}, {'name': 'George Costanza', 'street': '753 Willow Way', 'city': 'Capital City', 'age': 39, 'email': 'george.c@example.com', 'price_issue': False, 'quality_issue': False, 'service_issue': True, 'delivery_issue': False, 'description_issue': True, 'product_code': 'H', 'quarter': '2023-Q4'}, {'name': 'Helen Parr', 'street': '852 Cypress Crescent', 'city': 'Ogdenville', 'age': 41, 'email': 'helen.p@example.com', 'price_issue': True, 'quality_issue': True, 'service_issue': False, 'delivery_issue': False, 'description_issue': False, 'product_code': 'A', 'quarter': '2023-Q2'}, {'name': 'Eva Black', 'street': '404 Willow Way', 'city': 'Gotham', 'age': 45, 'email': 'eva.black@example.com', 'price_issue': False, 'quality_issue': False, 'service_issue': True, 'delivery_issue': True, 'description_issue': False, 'product_code': 'G', 'quarter': '2021-Q1'}, {'name': 'Adam Black', 'street': '405 Willow Way', 'city': 'Gotham', 'age': 48, 'email': 'adam.black@example.com', 'price_issue': False, 'quality_issue': True, 'service_issue': True, 'delivery_issue': False, 'description_issue': False, 'product_code': 'G', 'quarter': '2021-Q2'}, {'name': 'John Doe', 'street': '123 Elm Street', 'city': 'Metropolis', 'age': 30, 'email': 'john.doe@example.com', 'price_issue': True, 'quality_issue': False, 'service_issue': False, 'delivery_issue': False, 'description_issue': False, 'product_code': 'A', 'quarter': '2021-Q3'}, {'name': 'Jane Smith', 'street': '456 Maple Avenue', 'city': 'Star City', 'age': 28, 'email': 'jane.smith@example.com', 'price_issue': False, 'quality_issue': True, 'service_issue': False, 'delivery_issue': True, 'description_issue': False, 'product_code': 'B', 'quarter': '2021-Q4'}, {'name': 'Robert Brown', 'street': '789 Oak Lane', 'city': 'Central City', 'age': 35, 'email': 'robert.brown@example.com', 'price_issue': False, 'quality_issue': False, 'service_issue': True, 'delivery_issue': False, 'description_issue': True, 'product_code': 'C', 'quarter': '2022-Q1'}, {'name': 'Emily White', 'street': '321 Pine Road', 'city': 'Coast City', 'age': 42, 'email': 'emily.white@example.com', 'price_issue': True, 'quality_issue': True, 'service_issue': False, 'delivery_issue': False, 'description_issue': False, 'product_code': 'D', 'quarter': '2022-Q2'}, {'name': 'Michael Green', 'street': '654 Cedar Drive', 'city': 'Bludhaven', 'age': 39, 'email': 'michael.green@example.com', 'price_issue': False, 'quality_issue': False, 'service_issue': False, 'delivery_issue': True, 'description_issue': True, 'product_code': 'E', 'quarter': '2022-Q3'}, {'name': 'Laura Blue', 'street': '987 Birch Boulevard', 'city': 'Keystone City', 'age': 50, 'email': 'laura.blue@example.com', 'price_issue': True, 'quality_issue': False, 'service_issue': True, 'delivery_issue': False, 'description_issue': False, 'product_code': 'F', 'quarter': '2022-Q4'}, {'name': 'Henry Silver', 'street': '159 Spruce Terrace', 'city': 'Smallville', 'age': 33, 'email': 'henry.silver@example.com', 'price_issue': False, 'quality_issue': True, 'service_issue': False, 'delivery_issue': True, 'description_issue': False, 'product_code': 'H', 'quarter': '2023-Q1'}, {'name': 'Olivia Gold', 'street': '753 Cherry Circle', 'city': 'National City', 'age': 37, 'email': 'olivia.gold@example.com', 'price_issue': True, 'quality_issue': False, 'service_issue': False, 'delivery_issue': True, 'description_issue': True, 'product_code': 'A', 'quarter': '2023-Q2'}]}\n"
     ]
    }
   ],
   "source": [
    "# Inspect the data as JSON\n",
    "print(gmd.json_object)"
   ]
  },
  {
   "cell_type": "code",
   "execution_count": 5,
   "metadata": {},
   "outputs": [
    {
     "name": "stdout",
     "output_type": "stream",
     "text": [
      "{'customer_complaints':              name               street           city  age  \\\n",
      "0        John Doe       123 Elm Street    Springfield   35   \n",
      "1      Jane Smith       456 Oak Avenue       Riverton   28   \n",
      "2   Alice Johnson        789 Pine Road       Laketown   42   \n",
      "3       Bob Brown     101 Maple Street    Hill Valley   50   \n",
      "4     Carol White       202 Birch Lane      Sunnydale   37   \n",
      "..            ...                  ...            ...  ...   \n",
      "95    Emily White        321 Pine Road     Coast City   42   \n",
      "96  Michael Green      654 Cedar Drive      Bludhaven   39   \n",
      "97     Laura Blue  987 Birch Boulevard  Keystone City   50   \n",
      "98   Henry Silver   159 Spruce Terrace     Smallville   33   \n",
      "99    Olivia Gold    753 Cherry Circle  National City   37   \n",
      "\n",
      "                        email  price_issue  quality_issue  service_issue  \\\n",
      "0        john.doe@example.com         True          False          False   \n",
      "1      jane.smith@example.com        False           True          False   \n",
      "2   alice.johnson@example.com        False          False           True   \n",
      "3       bob.brown@example.com        False          False          False   \n",
      "4     carol.white@example.com        False          False          False   \n",
      "..                        ...          ...            ...            ...   \n",
      "95    emily.white@example.com         True           True          False   \n",
      "96  michael.green@example.com        False          False          False   \n",
      "97     laura.blue@example.com         True          False           True   \n",
      "98   henry.silver@example.com        False           True          False   \n",
      "99    olivia.gold@example.com         True          False          False   \n",
      "\n",
      "    delivery_issue  description_issue product_code  quarter  \n",
      "0            False              False            A  2023-Q1  \n",
      "1            False              False            B  2022-Q4  \n",
      "2            False              False            C  2021-Q3  \n",
      "3             True              False            D  2020-Q2  \n",
      "4            False               True            E  2023-Q3  \n",
      "..             ...                ...          ...      ...  \n",
      "95           False              False            D  2022-Q2  \n",
      "96            True               True            E  2022-Q3  \n",
      "97           False              False            F  2022-Q4  \n",
      "98            True              False            H  2023-Q1  \n",
      "99            True               True            A  2023-Q2  \n",
      "\n",
      "[100 rows x 12 columns]}\n"
     ]
    }
   ],
   "source": [
    "# Inspect the data as dataframes (one per array field)\n",
    "print(gmd.array_dfs)"
   ]
  },
  {
   "cell_type": "code",
   "execution_count": 6,
   "metadata": {},
   "outputs": [
    {
     "name": "stderr",
     "output_type": "stream",
     "text": [
      "100%|██████████| 10/10 [00:09<00:00,  1.10it/s]"
     ]
    },
    {
     "name": "stdout",
     "output_type": "stream",
     "text": [
      "Generated text data\n"
     ]
    },
    {
     "name": "stderr",
     "output_type": "stream",
     "text": [
      "\n"
     ]
    }
   ],
   "source": [
    "# Use the customer_complaints dataframe to generate mock text data (first 10 records only)\n",
    "df = gmd.array_dfs[\"customer_complaints\"][:10]\n",
    "await gmd.generate_text_data(df)\n",
    "print(\"Generated text data\")"
   ]
  },
  {
   "cell_type": "code",
   "execution_count": 7,
   "metadata": {},
   "outputs": [
    {
     "name": "stdout",
     "output_type": "stream",
     "text": [
      "                                           mock_text\n",
      "0  **Customer Service Report**\\n\\n**Customer Info...\n",
      "1  **Customer Feedback Report**\\n\\n**Customer Inf...\n",
      "2  **Customer Service Report**\\n\\n**Customer Info...\n",
      "3  **Customer Feedback Report**\\n\\n**Customer Inf...\n",
      "4  ---\\n\\n**Customer Feedback Report**\\n\\n**Name:...\n",
      "5  **Customer Complaint Report**\\n\\n**Customer In...\n",
      "6  **Customer Service Report**\\n\\n**Customer Info...\n",
      "7  **Customer Feedback Report**\\n\\n**Customer Inf...\n",
      "8  **Customer Feedback Report**\\n\\n**Customer Inf...\n",
      "9  **Customer Feedback Report**\\n\\n**Customer Inf...\n"
     ]
    }
   ],
   "source": [
    "# Inspect texts as dataframe\n",
    "print(gmd.text_df)"
   ]
  }
 ],
 "metadata": {
  "kernelspec": {
   "display_name": "intelligence-toolkit",
   "language": "python",
   "name": "python3"
  },
  "language_info": {
   "codemirror_mode": {
    "name": "ipython",
    "version": 3
   },
   "file_extension": ".py",
   "mimetype": "text/x-python",
   "name": "python",
   "nbconvert_exporter": "python",
   "pygments_lexer": "ipython3",
   "version": "3.11.13"
  }
 },
 "nbformat": 4,
 "nbformat_minor": 2
}
