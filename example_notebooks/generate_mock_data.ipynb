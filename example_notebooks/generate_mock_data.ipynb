{
 "cells": [
  {
   "cell_type": "markdown",
   "metadata": {},
   "source": [
    "# Generate Mock Data\n",
    "\n",
    "Demonstrates use of the Intelligence Toolkit library to generate mock data, both structured records and unstructured texts.\n",
    "\n",
    "See [readme](https://github.com/microsoft/intelligence-toolkit/blob/main/app/workflows/generate_mock_data/README.md) for more details."
   ]
  },
  {
   "cell_type": "code",
   "execution_count": 1,
   "metadata": {},
   "outputs": [
    {
     "name": "stderr",
     "output_type": "stream",
     "text": [
      "c:\\Users\\daedge\\AppData\\Local\\pypoetry\\Cache\\virtualenvs\\intelligence-toolkit-lXFNld9n-py3.11\\Lib\\site-packages\\tqdm\\auto.py:21: TqdmWarning: IProgress not found. Please update jupyter and ipywidgets. See https://ipywidgets.readthedocs.io/en/stable/user_install.html\n",
      "  from .autonotebook import tqdm as notebook_tqdm\n"
     ]
    }
   ],
   "source": [
    "import sys\n",
    "sys.path.append(\"..\")\n",
    "import os\n",
    "from toolkit.generate_mock_data import GenerateMockData\n",
    "from toolkit.AI.openai_configuration import OpenAIConfiguration\n",
    "import pandas as pd\n",
    "import json"
   ]
  },
  {
   "cell_type": "code",
   "execution_count": 2,
   "metadata": {},
   "outputs": [
    {
     "name": "stdout",
     "output_type": "stream",
     "text": [
      "Loaded data schema\n",
      "{'$schema': 'http://json-schema.org/draft/2020-12/schema', 'title': 'Customer complaints', 'description': 'An example schema storing an array of customer complaints', 'type': 'object', 'properties': {'customer_complaints': {'type': 'array', 'description': 'The list of customers and their complaints', 'items': {'type': 'object', 'description': 'An object list item', 'properties': {'name': {'type': 'string', 'description': 'The name of the customer'}, 'street': {'type': 'string', 'description': 'The street of the customer, including property name/number'}, 'city': {'type': 'string', 'description': 'The city of the customer'}, 'age': {'type': 'number', 'description': 'The age of the customer'}, 'email': {'type': 'string', 'description': 'The email address of the customer'}, 'price_issue': {'type': 'boolean', 'description': 'The complaint is a price issue'}, 'quality_issue': {'type': 'boolean', 'description': 'The complaint is a quality issue'}, 'service_issue': {'type': 'boolean', 'description': 'The complaint is a service issue'}, 'delivery_issue': {'type': 'boolean', 'description': 'The complaint is a delivery issue'}, 'description_issue': {'type': 'boolean', 'description': 'The complaint is a description issue'}, 'product_code': {'type': 'string', 'description': 'The product code targeted by the complaint', 'enum': ['A', 'B', 'C', 'D', 'E', 'F', 'G', 'H']}, 'quarter': {'type': 'string', 'description': 'The quarter in which the complaint was made (since 2020-Q1)'}}, 'required': ['name', 'street', 'city', 'age', 'email', 'price_issue', 'quality_issue', 'service_issue', 'delivery_issue', 'description_issue', 'product_code', 'quarter'], 'additionalProperties': False}}}, 'required': ['customer_complaints'], 'additionalProperties': False}\n"
     ]
    }
   ],
   "source": [
    "# Create the workflow object\n",
    "gmd = GenerateMockData()\n",
    "# Set the AI configuration\n",
    "ai_configuration = OpenAIConfiguration(\n",
    "    {\n",
    "        \"api_type\": \"OpenAI\",\n",
    "        \"api_key\": os.environ[\"OPENAI_API_KEY\"],\n",
    "        \"model\": \"gpt-4o\",\n",
    "    }\n",
    ")\n",
    "gmd.set_ai_configuration(ai_configuration)\n",
    "# Load the data schema\n",
    "schema_path = \"../example_outputs/generate_mock_data/customer_complaints/customer_complaints_schema.json\"\n",
    "json_schema = json.loads(open(schema_path, \"r\").read())\n",
    "# Set the schema\n",
    "gmd.set_schema(json_schema)\n",
    "print(\"Loaded data schema\")\n",
    "print(json_schema)"
   ]
  },
  {
   "cell_type": "code",
   "execution_count": 3,
   "metadata": {},
   "outputs": [
    {
     "name": "stderr",
     "output_type": "stream",
     "text": [
      "100%|██████████| 10/10 [00:15<00:00,  1.60s/it]"
     ]
    },
    {
     "name": "stdout",
     "output_type": "stream",
     "text": [
      "Generated data records\n"
     ]
    },
    {
     "name": "stderr",
     "output_type": "stream",
     "text": [
      "\n"
     ]
    }
   ],
   "source": [
    "# Generate mock data records\n",
    "await gmd.generate_data_records(\n",
    "    num_records_overall=100,\n",
    "    records_per_batch=10,\n",
    "    duplicate_records_per_batch=1,\n",
    "    related_records_per_batch=1,\n",
    ")\n",
    "print(\"Generated data records\")"
   ]
  },
  {
   "cell_type": "code",
   "execution_count": 4,
   "metadata": {},
   "outputs": [
    {
     "name": "stdout",
     "output_type": "stream",
     "text": [
      "{'customer_complaints': [{'name': 'Alice Thomson', 'street': '123 Maple St.', 'city': 'Springfield', 'age': 34, 'email': 'alice.thomson@example.com', 'price_issue': False, 'quality_issue': True, 'service_issue': False, 'delivery_issue': False, 'description_issue': False, 'product_code': 'A', 'quarter': '2022-Q3'}, {'name': 'Bob Thompson', 'street': '124 Maple Street', 'city': 'Springfield', 'age': 36, 'email': 'bob.thompson@example.com', 'price_issue': False, 'quality_issue': True, 'service_issue': True, 'delivery_issue': False, 'description_issue': False, 'product_code': 'A', 'quarter': '2022-Q3'}, {'name': 'John Smith', 'street': '456 Oak Avenue', 'city': 'Riverton', 'age': 29, 'email': 'john.smith@example.com', 'price_issue': True, 'quality_issue': False, 'service_issue': False, 'delivery_issue': True, 'description_issue': False, 'product_code': 'B', 'quarter': '2022-Q2'}, {'name': 'Emma Johnson', 'street': '789 Pine Road', 'city': 'Lakeside', 'age': 42, 'email': 'emma.johnson@example.com', 'price_issue': False, 'quality_issue': False, 'service_issue': True, 'delivery_issue': False, 'description_issue': True, 'product_code': 'C', 'quarter': '2022-Q4'}, {'name': 'Michael Brown', 'street': '321 Birch Lane', 'city': 'Springfield', 'age': 50, 'email': 'michael.brown@example.com', 'price_issue': True, 'quality_issue': False, 'service_issue': False, 'delivery_issue': False, 'description_issue': True, 'product_code': 'D', 'quarter': '2023-Q1'}, {'name': 'Sarah Davis', 'street': '654 Cedar Street', 'city': 'Hilltown', 'age': 28, 'email': 'sarah.davis@example.com', 'price_issue': False, 'quality_issue': False, 'service_issue': True, 'delivery_issue': True, 'description_issue': False, 'product_code': 'E', 'quarter': '2023-Q2'}, {'name': 'David Wilson', 'street': '987 Elm Street', 'city': 'Brookfield', 'age': 37, 'email': 'david.wilson@example.com', 'price_issue': True, 'quality_issue': True, 'service_issue': False, 'delivery_issue': False, 'description_issue': False, 'product_code': 'F', 'quarter': '2023-Q3'}, {'name': 'Laura Martinez', 'street': '246 Walnut Avenue', 'city': 'Greenville', 'age': 31, 'email': 'laura.martinez@example.com', 'price_issue': False, 'quality_issue': False, 'service_issue': False, 'delivery_issue': True, 'description_issue': True, 'product_code': 'G', 'quarter': '2023-Q4'}, {'name': 'James Lee', 'street': '135 Chestnut Street', 'city': 'Springfield', 'age': 45, 'email': 'james.lee@example.com', 'price_issue': True, 'quality_issue': False, 'service_issue': True, 'delivery_issue': False, 'description_issue': False, 'product_code': 'H', 'quarter': '2023-Q1'}, {'name': 'Nancy Clark', 'street': '864 Willow Drive', 'city': 'Springfield', 'age': 39, 'email': 'nancy.clark@example.com', 'price_issue': False, 'quality_issue': True, 'service_issue': True, 'delivery_issue': False, 'description_issue': False, 'product_code': 'A', 'quarter': '2023-Q2'}, {'name': 'Jonathan Doe', 'street': '456 Oak Avenue', 'city': 'Rivertown', 'age': 45, 'email': 'jon.doe@samplemail.com', 'price_issue': True, 'quality_issue': False, 'service_issue': False, 'delivery_issue': False, 'description_issue': True, 'product_code': 'B', 'quarter': '2021-Q1'}, {'name': 'Jane Doe', 'street': '457 Oak Avenue', 'city': 'Rivertown', 'age': 42, 'email': 'jane.doe@samplemail.com', 'price_issue': False, 'quality_issue': False, 'service_issue': True, 'delivery_issue': False, 'description_issue': True, 'product_code': 'B', 'quarter': '2021-Q1'}, {'name': 'Alice Smith', 'street': '123 Elm Street', 'city': 'Mapleton', 'age': 30, 'email': 'alice.smith@domain.com', 'price_issue': True, 'quality_issue': False, 'service_issue': False, 'delivery_issue': True, 'description_issue': False, 'product_code': 'A', 'quarter': '2021-Q2'}, {'name': 'Bob Brown', 'street': '789 Pine Lane', 'city': 'Lakeside', 'age': 55, 'email': 'bob.brown@domain.com', 'price_issue': False, 'quality_issue': True, 'service_issue': False, 'delivery_issue': False, 'description_issue': False, 'product_code': 'C', 'quarter': '2021-Q3'}, {'name': 'Charlie Green', 'street': '321 Birch Road', 'city': 'Hilltown', 'age': 40, 'email': 'charlie.green@domain.com', 'price_issue': False, 'quality_issue': False, 'service_issue': True, 'delivery_issue': True, 'description_issue': False, 'product_code': 'D', 'quarter': '2021-Q4'}, {'name': 'Diana White', 'street': '654 Cedar Avenue', 'city': 'Forestville', 'age': 50, 'email': 'diana.white@domain.com', 'price_issue': True, 'quality_issue': True, 'service_issue': False, 'delivery_issue': False, 'description_issue': False, 'product_code': 'E', 'quarter': '2022-Q1'}, {'name': 'Edward Black', 'street': '987 Maple Street', 'city': 'Rivertown', 'age': 60, 'email': 'edward.black@domain.com', 'price_issue': False, 'quality_issue': True, 'service_issue': False, 'delivery_issue': True, 'description_issue': False, 'product_code': 'F', 'quarter': '2022-Q2'}, {'name': 'Fiona Blue', 'street': '159 Oak Avenue', 'city': 'Rivertown', 'age': 35, 'email': 'fiona.blue@domain.com', 'price_issue': False, 'quality_issue': False, 'service_issue': True, 'delivery_issue': False, 'description_issue': True, 'product_code': 'G', 'quarter': '2022-Q3'}, {'name': 'George Yellow', 'street': '753 Willow Way', 'city': 'Meadowland', 'age': 28, 'email': 'george.yellow@domain.com', 'price_issue': True, 'quality_issue': False, 'service_issue': False, 'delivery_issue': True, 'description_issue': True, 'product_code': 'H', 'quarter': '2022-Q4'}, {'name': 'Hannah Gray', 'street': '951 Spruce Street', 'city': 'Seaside', 'age': 48, 'email': 'hannah.gray@domain.com', 'price_issue': False, 'quality_issue': True, 'service_issue': True, 'delivery_issue': False, 'description_issue': False, 'product_code': 'A', 'quarter': '2023-Q1'}, {'name': 'Mary Johnston', 'street': '789 Pine Lane', 'city': 'Lakeside', 'age': 28, 'email': 'mary.johnston@example.com', 'price_issue': False, 'quality_issue': False, 'service_issue': True, 'delivery_issue': False, 'description_issue': False, 'product_code': 'C', 'quarter': '2023-Q2'}, {'name': 'John Johnson', 'street': '123 Maple Road', 'city': 'Lakeside', 'age': 32, 'email': 'john.johnson@example.com', 'price_issue': False, 'quality_issue': False, 'service_issue': True, 'delivery_issue': False, 'description_issue': False, 'product_code': 'C', 'quarter': '2023-Q2'}, {'name': 'Alice Smith', 'street': '456 Oak Avenue', 'city': 'Riverside', 'age': 45, 'email': 'alice.smith@example.com', 'price_issue': True, 'quality_issue': False, 'service_issue': False, 'delivery_issue': False, 'description_issue': False, 'product_code': 'A', 'quarter': '2023-Q1'}, {'name': 'Bob Brown', 'street': '789 Birch Street', 'city': 'Hilltop', 'age': 37, 'email': 'bob.brown@example.com', 'price_issue': False, 'quality_issue': True, 'service_issue': False, 'delivery_issue': False, 'description_issue': False, 'product_code': 'B', 'quarter': '2023-Q3'}, {'name': 'Clara Green', 'street': '101 Elm Street', 'city': 'Valleyview', 'age': 29, 'email': 'clara.green@example.com', 'price_issue': False, 'quality_issue': False, 'service_issue': False, 'delivery_issue': True, 'description_issue': False, 'product_code': 'D', 'quarter': '2023-Q2'}, {'name': 'David White', 'street': '202 Cedar Lane', 'city': 'Lakeside', 'age': 53, 'email': 'david.white@example.com', 'price_issue': False, 'quality_issue': False, 'service_issue': False, 'delivery_issue': False, 'description_issue': True, 'product_code': 'E', 'quarter': '2023-Q4'}, {'name': 'Eva Black', 'street': '303 Spruce Street', 'city': 'Riverside', 'age': 41, 'email': 'eva.black@example.com', 'price_issue': True, 'quality_issue': True, 'service_issue': False, 'delivery_issue': False, 'description_issue': False, 'product_code': 'F', 'quarter': '2023-Q2'}, {'name': 'Frank Blue', 'street': '404 Willow Road', 'city': 'Hilltop', 'age': 36, 'email': 'frank.blue@example.com', 'price_issue': False, 'quality_issue': False, 'service_issue': True, 'delivery_issue': False, 'description_issue': False, 'product_code': 'G', 'quarter': '2023-Q1'}, {'name': 'Grace Red', 'street': '505 Poplar Avenue', 'city': 'Valleyview', 'age': 60, 'email': 'grace.red@example.com', 'price_issue': False, 'quality_issue': False, 'service_issue': False, 'delivery_issue': True, 'description_issue': False, 'product_code': 'H', 'quarter': '2023-Q3'}, {'name': 'Henry Yellow', 'street': '606 Ash Boulevard', 'city': 'Lakeside', 'age': 27, 'email': 'henry.yellow@example.com', 'price_issue': True, 'quality_issue': False, 'service_issue': False, 'delivery_issue': False, 'description_issue': True, 'product_code': 'A', 'quarter': '2023-Q4'}, {'name': 'James S. Smith', 'street': '321 Birch Rd', 'city': 'Hilltown', 'age': 52, 'email': 'j.smith@example.com', 'price_issue': False, 'quality_issue': False, 'service_issue': False, 'delivery_issue': True, 'description_issue': False, 'product_code': 'D', 'quarter': '2020-Q4'}, {'name': 'Jamie Smith', 'street': '321 Birch Road', 'city': 'Hilltown', 'age': 25, 'email': 'jamie.smith25@example.com', 'price_issue': False, 'quality_issue': False, 'service_issue': True, 'delivery_issue': False, 'description_issue': False, 'product_code': 'D', 'quarter': '2021-Q1'}, {'name': 'Lisa Brown', 'street': '123 Oak Avenue', 'city': 'Rivertown', 'age': 34, 'email': 'lisa.brown@example.com', 'price_issue': True, 'quality_issue': False, 'service_issue': False, 'delivery_issue': False, 'description_issue': False, 'product_code': 'A', 'quarter': '2021-Q2'}, {'name': 'Michael Johnson', 'street': '456 Pine Street', 'city': 'Lakeview', 'age': 45, 'email': 'mjohnson@example.com', 'price_issue': False, 'quality_issue': True, 'service_issue': False, 'delivery_issue': False, 'description_issue': False, 'product_code': 'B', 'quarter': '2021-Q3'}, {'name': 'Emily Davis', 'street': '789 Maple Lane', 'city': 'Springfield', 'age': 29, 'email': 'emily.davis@example.com', 'price_issue': False, 'quality_issue': False, 'service_issue': True, 'delivery_issue': False, 'description_issue': True, 'product_code': 'C', 'quarter': '2021-Q4'}, {'name': 'Chris White', 'street': '321 Birch Road', 'city': 'Hilltown', 'age': 52, 'email': 'chris.white@example.com', 'price_issue': False, 'quality_issue': False, 'service_issue': False, 'delivery_issue': True, 'description_issue': False, 'product_code': 'E', 'quarter': '2020-Q4'}, {'name': 'Amanda Green', 'street': '654 Cedar Boulevard', 'city': 'Hilltown', 'age': 37, 'email': 'amanda.green@example.com', 'price_issue': True, 'quality_issue': True, 'service_issue': False, 'delivery_issue': False, 'description_issue': False, 'product_code': 'F', 'quarter': '2021-Q1'}, {'name': 'Robert Black', 'street': '987 Elm Street', 'city': 'Rivertown', 'age': 41, 'email': 'robert.black@example.com', 'price_issue': False, 'quality_issue': False, 'service_issue': False, 'delivery_issue': True, 'description_issue': True, 'product_code': 'G', 'quarter': '2021-Q2'}, {'name': 'Nancy Grey', 'street': '222 Willow Way', 'city': 'Meadowville', 'age': 50, 'email': 'nancy.grey@example.com', 'price_issue': False, 'quality_issue': True, 'service_issue': True, 'delivery_issue': False, 'description_issue': False, 'product_code': 'H', 'quarter': '2021-Q3'}, {'name': 'Oliver Blue', 'street': '333 Ash Drive', 'city': 'Hilltown', 'age': 60, 'email': 'oliver.blue@example.com', 'price_issue': True, 'quality_issue': False, 'service_issue': False, 'delivery_issue': False, 'description_issue': False, 'product_code': 'D', 'quarter': '2021-Q4'}, {'name': 'Patricia B.', 'street': '654 Cedar St.', 'city': 'Greenfield', 'age': 39, 'email': 'patricia.brown@example.com', 'price_issue': True, 'quality_issue': True, 'service_issue': False, 'delivery_issue': False, 'description_issue': False, 'product_code': 'E', 'quarter': '2021-Q3'}, {'name': 'Michael Brown', 'street': '654 Cedar Street', 'city': 'Greenfield', 'age': 42, 'email': 'michael.brown@example.com', 'price_issue': False, 'quality_issue': True, 'service_issue': True, 'delivery_issue': False, 'description_issue': False, 'product_code': 'E', 'quarter': '2021-Q3'}, {'name': 'Linda Smith', 'street': '123 Maple Avenue', 'city': 'Rivertown', 'age': 28, 'email': 'linda.smith@example.com', 'price_issue': True, 'quality_issue': False, 'service_issue': False, 'delivery_issue': True, 'description_issue': False, 'product_code': 'A', 'quarter': '2021-Q4'}, {'name': 'John Doe', 'street': '789 Pine Road', 'city': 'Lakeside', 'age': 35, 'email': 'john.doe@example.com', 'price_issue': False, 'quality_issue': True, 'service_issue': False, 'delivery_issue': False, 'description_issue': True, 'product_code': 'B', 'quarter': '2022-Q1'}, {'name': 'Emily Johnson', 'street': '456 Oak Lane', 'city': 'Hilltop', 'age': 47, 'email': 'emily.johnson@example.com', 'price_issue': True, 'quality_issue': True, 'service_issue': True, 'delivery_issue': False, 'description_issue': False, 'product_code': 'C', 'quarter': '2021-Q2'}, {'name': 'Robert Williams', 'street': '321 Birch Boulevard', 'city': 'Meadowvale', 'age': 52, 'email': 'robert.williams@example.com', 'price_issue': False, 'quality_issue': False, 'service_issue': True, 'delivery_issue': True, 'description_issue': False, 'product_code': 'D', 'quarter': '2020-Q4'}, {'name': 'Jessica Taylor', 'street': '987 Spruce Drive', 'city': 'Forest Hill', 'age': 31, 'email': 'jessica.taylor@example.com', 'price_issue': True, 'quality_issue': False, 'service_issue': False, 'delivery_issue': False, 'description_issue': True, 'product_code': 'F', 'quarter': '2022-Q2'}, {'name': 'David Anderson', 'street': '654 Cedar Street', 'city': 'Greenfield', 'age': 39, 'email': 'david.anderson@example.com', 'price_issue': False, 'quality_issue': False, 'service_issue': True, 'delivery_issue': True, 'description_issue': True, 'product_code': 'G', 'quarter': '2021-Q3'}, {'name': 'Sophia Martinez', 'street': '852 Elm Street', 'city': 'Riverbend', 'age': 25, 'email': 'sophia.martinez@example.com', 'price_issue': True, 'quality_issue': False, 'service_issue': True, 'delivery_issue': False, 'description_issue': False, 'product_code': 'H', 'quarter': '2022-Q3'}, {'name': 'James Lee', 'street': '963 Willow Way', 'city': 'Brookside', 'age': 44, 'email': 'james.lee@example.com', 'price_issue': False, 'quality_issue': True, 'service_issue': False, 'delivery_issue': True, 'description_issue': False, 'product_code': 'E', 'quarter': '2020-Q1'}, {'name': 'Michelle Davis', 'street': '987 Elm Avenue', 'city': 'Riverbend', 'age': 47, 'email': 'michelle.davis@example.com', 'price_issue': False, 'quality_issue': False, 'service_issue': True, 'delivery_issue': True, 'description_issue': False, 'product_code': 'F', 'quarter': '2022-Q1'}, {'name': 'Michael Davis Jr.', 'street': '123 Oak Street', 'city': 'Riverbend', 'age': 25, 'email': 'michael.davis.jr@example.com', 'price_issue': True, 'quality_issue': False, 'service_issue': False, 'delivery_issue': True, 'description_issue': False, 'product_code': 'F', 'quarter': '2022-Q2'}, {'name': 'Sarah Thompson', 'street': '456 Pine Road', 'city': 'Lakeside', 'age': 34, 'email': 'sarah.thompson@example.com', 'price_issue': True, 'quality_issue': False, 'service_issue': False, 'delivery_issue': False, 'description_issue': True, 'product_code': 'A', 'quarter': '2022-Q3'}, {'name': 'John Smith', 'street': '789 Maple Lane', 'city': 'Hillcrest', 'age': 52, 'email': 'john.smith@example.com', 'price_issue': False, 'quality_issue': True, 'service_issue': False, 'delivery_issue': False, 'description_issue': False, 'product_code': 'B', 'quarter': '2023-Q1'}, {'name': 'Emily Johnson', 'street': '321 Birch Street', 'city': 'Meadowville', 'age': 29, 'email': 'emily.johnson@example.com', 'price_issue': False, 'quality_issue': True, 'service_issue': True, 'delivery_issue': False, 'description_issue': False, 'product_code': 'C', 'quarter': '2023-Q2'}, {'name': 'Robert Brown', 'street': '654 Cedar Avenue', 'city': 'Springfield', 'age': 41, 'email': 'robert.brown@example.com', 'price_issue': True, 'quality_issue': False, 'service_issue': False, 'delivery_issue': True, 'description_issue': False, 'product_code': 'D', 'quarter': '2023-Q3'}, {'name': 'Jessica Lee', 'street': '987 Spruce Drive', 'city': 'Brookside', 'age': 37, 'email': 'jessica.lee@example.com', 'price_issue': False, 'quality_issue': True, 'service_issue': False, 'delivery_issue': True, 'description_issue': True, 'product_code': 'E', 'quarter': '2023-Q4'}, {'name': 'Daniel Wilson', 'street': '123 Willow Way', 'city': 'Greenfield', 'age': 45, 'email': 'daniel.wilson@example.com', 'price_issue': False, 'quality_issue': False, 'service_issue': True, 'delivery_issue': True, 'description_issue': False, 'product_code': 'G', 'quarter': '2022-Q4'}, {'name': 'Sophia Martinez', 'street': '456 Aspen Court', 'city': 'Sunnydale', 'age': 31, 'email': 'sophia.martinez@example.com', 'price_issue': True, 'quality_issue': True, 'service_issue': False, 'delivery_issue': False, 'description_issue': False, 'product_code': 'H', 'quarter': '2021-Q4'}, {'name': 'James Clark', 'street': '789 Cherry Avenue', 'city': 'Riverside', 'age': 50, 'email': 'james.clark@example.com', 'price_issue': False, 'quality_issue': False, 'service_issue': True, 'delivery_issue': False, 'description_issue': True, 'product_code': 'F', 'quarter': '2023-Q1'}, {'name': 'Jennifer Willson', 'street': '159 Spruce Blvd', 'city': 'Mountainview', 'age': 31, 'email': 'jennifer.willson@example.com', 'price_issue': False, 'quality_issue': False, 'service_issue': False, 'delivery_issue': False, 'description_issue': True, 'product_code': 'G', 'quarter': '2023-Q3'}, {'name': 'James Wilson', 'street': '160 Spruce Boulevard', 'city': 'Mountainview', 'age': 33, 'email': 'james.wilson@example.com', 'price_issue': False, 'quality_issue': True, 'service_issue': False, 'delivery_issue': False, 'description_issue': False, 'product_code': 'G', 'quarter': '2023-Q3'}, {'name': 'Emily Brown', 'street': '45 Maple Street', 'city': 'Lakeside', 'age': 28, 'email': 'emily.brown@example.com', 'price_issue': True, 'quality_issue': False, 'service_issue': False, 'delivery_issue': False, 'description_issue': False, 'product_code': 'A', 'quarter': '2023-Q2'}, {'name': 'Michael Smith', 'street': '78 Oak Avenue', 'city': 'Greenfield', 'age': 45, 'email': 'michael.smith@example.com', 'price_issue': False, 'quality_issue': True, 'service_issue': False, 'delivery_issue': False, 'description_issue': False, 'product_code': 'B', 'quarter': '2023-Q1'}, {'name': 'Sophia Johnson', 'street': '22 Pine Lane', 'city': 'Riverside', 'age': 39, 'email': 'sophia.johnson@example.com', 'price_issue': False, 'quality_issue': False, 'service_issue': True, 'delivery_issue': False, 'description_issue': False, 'product_code': 'C', 'quarter': '2023-Q3'}, {'name': 'Daniel Lee', 'street': '90 Birch Road', 'city': 'Summerville', 'age': 52, 'email': 'daniel.lee@example.com', 'price_issue': False, 'quality_issue': False, 'service_issue': False, 'delivery_issue': True, 'description_issue': False, 'product_code': 'D', 'quarter': '2023-Q2'}, {'name': 'Emma Davis', 'street': '12 Cedar Street', 'city': 'Hilltop', 'age': 29, 'email': 'emma.davis@example.com', 'price_issue': True, 'quality_issue': True, 'service_issue': False, 'delivery_issue': False, 'description_issue': False, 'product_code': 'E', 'quarter': '2023-Q1'}, {'name': 'Olivia Martinez', 'street': '34 Willow Drive', 'city': 'Brookville', 'age': 26, 'email': 'olivia.martinez@example.com', 'price_issue': False, 'quality_issue': False, 'service_issue': False, 'delivery_issue': True, 'description_issue': True, 'product_code': 'F', 'quarter': '2023-Q2'}, {'name': 'Liam Garcia', 'street': '56 Elm Street', 'city': 'Bayview', 'age': 41, 'email': 'liam.garcia@example.com', 'price_issue': True, 'quality_issue': False, 'service_issue': True, 'delivery_issue': False, 'description_issue': False, 'product_code': 'H', 'quarter': '2023-Q3'}, {'name': 'Ava Robinson', 'street': '88 Poplar Avenue', 'city': 'Stonebridge', 'age': 34, 'email': 'ava.robinson@example.com', 'price_issue': False, 'quality_issue': True, 'service_issue': False, 'delivery_issue': False, 'description_issue': True, 'product_code': 'G', 'quarter': '2023-Q4'}, {'name': 'Robert M. Martinez', 'street': '753 Willow Dr.', 'city': 'Brooksville', 'age': 58, 'email': 'robert.martinez1@example.com', 'price_issue': True, 'quality_issue': False, 'service_issue': True, 'delivery_issue': False, 'description_issue': False, 'product_code': 'H', 'quarter': '2020-Q2'}, {'name': 'Rebecca Martinez', 'street': '754 Willow Drive', 'city': 'Brooksville', 'age': 57, 'email': 'rebecca.martinez@example.com', 'price_issue': False, 'quality_issue': True, 'service_issue': True, 'delivery_issue': False, 'description_issue': False, 'product_code': 'H', 'quarter': '2020-Q2'}, {'name': 'Alice Johnson', 'street': '123 Oak Avenue', 'city': 'Springfield', 'age': 34, 'email': 'alice.johnson@example.com', 'price_issue': False, 'quality_issue': True, 'service_issue': False, 'delivery_issue': True, 'description_issue': False, 'product_code': 'A', 'quarter': '2021-Q1'}, {'name': 'Michael Smith', 'street': '456 Pine Street', 'city': 'Riverside', 'age': 45, 'email': 'michael.smith@example.com', 'price_issue': True, 'quality_issue': True, 'service_issue': False, 'delivery_issue': False, 'description_issue': False, 'product_code': 'B', 'quarter': '2021-Q3'}, {'name': 'Jessica Lee', 'street': '789 Maple Road', 'city': 'Greenville', 'age': 29, 'email': 'jessica.lee@example.com', 'price_issue': False, 'quality_issue': False, 'service_issue': True, 'delivery_issue': True, 'description_issue': True, 'product_code': 'C', 'quarter': '2022-Q2'}, {'name': 'David Brown', 'street': '321 Birch Lane', 'city': 'Hilltop', 'age': 52, 'email': 'david.brown@example.com', 'price_issue': False, 'quality_issue': True, 'service_issue': True, 'delivery_issue': False, 'description_issue': False, 'product_code': 'D', 'quarter': '2020-Q4'}, {'name': 'Emily Davis', 'street': '654 Cedar Court', 'city': 'Mapleton', 'age': 39, 'email': 'emily.davis@example.com', 'price_issue': True, 'quality_issue': False, 'service_issue': False, 'delivery_issue': True, 'description_issue': False, 'product_code': 'E', 'quarter': '2022-Q1'}, {'name': 'Daniel Wilson', 'street': '987 Walnut Street', 'city': 'Lakeview', 'age': 50, 'email': 'daniel.wilson@example.com', 'price_issue': False, 'quality_issue': True, 'service_issue': False, 'delivery_issue': False, 'description_issue': True, 'product_code': 'F', 'quarter': '2023-Q2'}, {'name': 'Sophia Moore', 'street': '159 Elm Drive', 'city': 'Riverbend', 'age': 27, 'email': 'sophia.moore@example.com', 'price_issue': True, 'quality_issue': False, 'service_issue': True, 'delivery_issue': False, 'description_issue': True, 'product_code': 'G', 'quarter': '2021-Q4'}, {'name': 'Oliver White', 'street': '753 Willow Drive', 'city': 'Brooksville', 'age': 58, 'email': 'oliver.white@example.com', 'price_issue': False, 'quality_issue': True, 'service_issue': True, 'delivery_issue': False, 'description_issue': False, 'product_code': 'H', 'quarter': '2020-Q3'}, {'name': 'Linda Andersen', 'street': '246 Poplar Ct', 'city': 'Seaside', 'age': 26, 'email': 'linda.andersen@example.com', 'price_issue': False, 'quality_issue': True, 'service_issue': False, 'delivery_issue': True, 'description_issue': False, 'product_code': 'A', 'quarter': '2021-Q4'}, {'name': 'Laura Anderson', 'street': '248 Poplar Court', 'city': 'Seaside', 'age': 28, 'email': 'laura.anderson@example.com', 'price_issue': False, 'quality_issue': True, 'service_issue': False, 'delivery_issue': False, 'description_issue': True, 'product_code': 'A', 'quarter': '2021-Q4'}, {'name': 'John Smith', 'street': '123 Maple Street', 'city': 'Riverside', 'age': 34, 'email': 'john.smith@example.com', 'price_issue': True, 'quality_issue': False, 'service_issue': False, 'delivery_issue': False, 'description_issue': False, 'product_code': 'B', 'quarter': '2022-Q1'}, {'name': 'Emily Johnson', 'street': '456 Oak Avenue', 'city': 'Hilltown', 'age': 41, 'email': 'emily.johnson@example.com', 'price_issue': False, 'quality_issue': True, 'service_issue': True, 'delivery_issue': False, 'description_issue': False, 'product_code': 'C', 'quarter': '2022-Q2'}, {'name': 'Michael Brown', 'street': '789 Pine Road', 'city': 'Lakeside', 'age': 22, 'email': 'michael.brown@example.com', 'price_issue': False, 'quality_issue': False, 'service_issue': True, 'delivery_issue': False, 'description_issue': True, 'product_code': 'D', 'quarter': '2021-Q3'}, {'name': 'Sarah Wilson', 'street': '101 Elm Street', 'city': 'Forestville', 'age': 29, 'email': 'sarah.wilson@example.com', 'price_issue': True, 'quality_issue': True, 'service_issue': False, 'delivery_issue': False, 'description_issue': False, 'product_code': 'E', 'quarter': '2022-Q4'}, {'name': 'David Lee', 'street': '202 Birch Lane', 'city': 'Meadowland', 'age': 36, 'email': 'david.lee@example.com', 'price_issue': False, 'quality_issue': False, 'service_issue': True, 'delivery_issue': True, 'description_issue': False, 'product_code': 'F', 'quarter': '2021-Q2'}, {'name': 'Jessica Martinez', 'street': '303 Cedar Boulevard', 'city': 'Springfield', 'age': 45, 'email': 'jessica.martinez@example.com', 'price_issue': True, 'quality_issue': False, 'service_issue': False, 'delivery_issue': True, 'description_issue': False, 'product_code': 'G', 'quarter': '2022-Q3'}, {'name': 'Daniel Garcia', 'street': '404 Walnut Drive', 'city': 'Brookfield', 'age': 33, 'email': 'daniel.garcia@example.com', 'price_issue': False, 'quality_issue': True, 'service_issue': False, 'delivery_issue': False, 'description_issue': True, 'product_code': 'H', 'quarter': '2022-Q2'}, {'name': 'Emma Davis', 'street': '505 Cherry Street', 'city': 'Rivertown', 'age': 27, 'email': 'emma.davis@example.com', 'price_issue': True, 'quality_issue': False, 'service_issue': True, 'delivery_issue': False, 'description_issue': False, 'product_code': 'A', 'quarter': '2021-Q1'}, {'name': 'William T. Taylor', 'street': '135 Chestnut Cir', 'city': 'Forestville', 'age': 42, 'email': 'william.taylor@sample.com', 'price_issue': False, 'quality_issue': False, 'service_issue': False, 'delivery_issue': False, 'description_issue': True, 'product_code': 'B', 'quarter': '2022-Q4'}, {'name': 'Emily Taylor', 'street': '135 Chestnut Circle', 'city': 'Forestville', 'age': 39, 'email': 'emily.taylor@example.com', 'price_issue': False, 'quality_issue': True, 'service_issue': False, 'delivery_issue': False, 'description_issue': False, 'product_code': 'B', 'quarter': '2022-Q3'}, {'name': 'John Smith', 'street': '22 Maple Avenue', 'city': 'Springfield', 'age': 30, 'email': 'john.smith@example.com', 'price_issue': True, 'quality_issue': False, 'service_issue': False, 'delivery_issue': False, 'description_issue': False, 'product_code': 'A', 'quarter': '2023-Q1'}, {'name': 'Sarah Johnson', 'street': '78 Oak Street', 'city': 'Riverside', 'age': 28, 'email': 'sarah.johnson@example.com', 'price_issue': False, 'quality_issue': True, 'service_issue': False, 'delivery_issue': False, 'description_issue': False, 'product_code': 'C', 'quarter': '2023-Q2'}, {'name': 'Michael Brown', 'street': '45 Pine Lane', 'city': 'Lakeside', 'age': 35, 'email': 'michael.brown@example.com', 'price_issue': False, 'quality_issue': False, 'service_issue': True, 'delivery_issue': False, 'description_issue': False, 'product_code': 'D', 'quarter': '2022-Q4'}, {'name': 'Jessica Davis', 'street': '90 Birch Road', 'city': 'Hilltop', 'age': 40, 'email': 'jessica.davis@example.com', 'price_issue': False, 'quality_issue': False, 'service_issue': False, 'delivery_issue': True, 'description_issue': False, 'product_code': 'E', 'quarter': '2023-Q3'}, {'name': 'Daniel Wilson', 'street': '12 Cedar Drive', 'city': 'Meadowvale', 'age': 50, 'email': 'daniel.wilson@example.com', 'price_issue': True, 'quality_issue': True, 'service_issue': False, 'delivery_issue': False, 'description_issue': False, 'product_code': 'F', 'quarter': '2023-Q2'}, {'name': 'Laura Martinez', 'street': '67 Ash Boulevard', 'city': 'Clearwater', 'age': 27, 'email': 'laura.martinez@example.com', 'price_issue': False, 'quality_issue': False, 'service_issue': False, 'delivery_issue': False, 'description_issue': True, 'product_code': 'G', 'quarter': '2023-Q1'}, {'name': 'Robert Lee', 'street': '33 Spruce Court', 'city': 'Brookfield', 'age': 45, 'email': 'robert.lee@example.com', 'price_issue': False, 'quality_issue': False, 'service_issue': True, 'delivery_issue': True, 'description_issue': False, 'product_code': 'H', 'quarter': '2022-Q3'}, {'name': 'Sophia White', 'street': '58 Elm Way', 'city': 'Greenville', 'age': 32, 'email': 'sophia.white@example.com', 'price_issue': True, 'quality_issue': False, 'service_issue': False, 'delivery_issue': True, 'description_issue': False, 'product_code': 'A', 'quarter': '2023-Q4'}]}\n"
     ]
    }
   ],
   "source": [
    "# Inspect the data as JSON\n",
    "print(gmd.json_object)"
   ]
  },
  {
   "cell_type": "code",
   "execution_count": 5,
   "metadata": {},
   "outputs": [
    {
     "name": "stdout",
     "output_type": "stream",
     "text": [
      "{'customer_complaints':               name            street         city  age  \\\n",
      "0    Alice Thomson     123 Maple St.  Springfield   34   \n",
      "1     Bob Thompson  124 Maple Street  Springfield   36   \n",
      "2       John Smith    456 Oak Avenue     Riverton   29   \n",
      "3     Emma Johnson     789 Pine Road     Lakeside   42   \n",
      "4    Michael Brown    321 Birch Lane  Springfield   50   \n",
      "..             ...               ...          ...  ...   \n",
      "95   Jessica Davis     90 Birch Road      Hilltop   40   \n",
      "96   Daniel Wilson    12 Cedar Drive   Meadowvale   50   \n",
      "97  Laura Martinez  67 Ash Boulevard   Clearwater   27   \n",
      "98      Robert Lee   33 Spruce Court   Brookfield   45   \n",
      "99    Sophia White        58 Elm Way   Greenville   32   \n",
      "\n",
      "                         email  price_issue  quality_issue  service_issue  \\\n",
      "0    alice.thomson@example.com        False           True          False   \n",
      "1     bob.thompson@example.com        False           True           True   \n",
      "2       john.smith@example.com         True          False          False   \n",
      "3     emma.johnson@example.com        False          False           True   \n",
      "4    michael.brown@example.com         True          False          False   \n",
      "..                         ...          ...            ...            ...   \n",
      "95   jessica.davis@example.com        False          False          False   \n",
      "96   daniel.wilson@example.com         True           True          False   \n",
      "97  laura.martinez@example.com        False          False          False   \n",
      "98      robert.lee@example.com        False          False           True   \n",
      "99    sophia.white@example.com         True          False          False   \n",
      "\n",
      "    delivery_issue  description_issue product_code  quarter  \n",
      "0            False              False            A  2022-Q3  \n",
      "1            False              False            A  2022-Q3  \n",
      "2             True              False            B  2022-Q2  \n",
      "3            False               True            C  2022-Q4  \n",
      "4            False               True            D  2023-Q1  \n",
      "..             ...                ...          ...      ...  \n",
      "95            True              False            E  2023-Q3  \n",
      "96           False              False            F  2023-Q2  \n",
      "97           False               True            G  2023-Q1  \n",
      "98            True              False            H  2022-Q3  \n",
      "99            True              False            A  2023-Q4  \n",
      "\n",
      "[100 rows x 12 columns]}\n"
     ]
    }
   ],
   "source": [
    "# Inspect the data as dataframes (one per array field)\n",
    "print(gmd.array_dfs)"
   ]
  },
  {
   "cell_type": "code",
   "execution_count": 6,
   "metadata": {},
   "outputs": [
    {
     "name": "stderr",
     "output_type": "stream",
     "text": [
      "100%|██████████| 10/10 [00:19<00:00,  1.91s/it]"
     ]
    },
    {
     "name": "stdout",
     "output_type": "stream",
     "text": [
      "Generated text data\n"
     ]
    },
    {
     "name": "stderr",
     "output_type": "stream",
     "text": [
      "\n"
     ]
    }
   ],
   "source": [
    "# Use the customer_complaints dataframe to generate mock text data (first 10 records only)\n",
    "df = gmd.array_dfs[\"customer_complaints\"][:10]\n",
    "await gmd.generate_text_data(df)\n",
    "print(\"Generated text data\")"
   ]
  },
  {
   "cell_type": "code",
   "execution_count": 7,
   "metadata": {},
   "outputs": [
    {
     "name": "stdout",
     "output_type": "stream",
     "text": [
      "                                           mock_text\n",
      "0  **Customer Feedback Report**\\n\\n**Customer Inf...\n",
      "1  **Customer Feedback Report**\\n\\n**Customer Inf...\n",
      "2  **Customer Complaint Report**\\n\\n**Customer In...\n",
      "3  **Customer Service Report**\\n\\n**Customer Info...\n",
      "4  ---\\n\\n**Customer Feedback Report**\\n\\n**Custo...\n",
      "5  **Customer Service Report**\\n\\n**Customer Info...\n",
      "6  **Customer Feedback Report**\\n\\n**Customer Det...\n",
      "7  ---\\n\\n**Customer Feedback Report**\\n\\n**Name:...\n",
      "8  **Customer Feedback Report**\\n\\n**Customer Inf...\n",
      "9  ---\\n\\n**Customer Feedback Report**\\n\\n**Custo...\n"
     ]
    }
   ],
   "source": [
    "# Inspect texts as dataframe\n",
    "print(gmd.text_df)"
   ]
  }
 ],
 "metadata": {
  "kernelspec": {
   "display_name": "intelligence-toolkit-lXFNld9n-py3.11",
   "language": "python",
   "name": "python3"
  },
  "language_info": {
   "codemirror_mode": {
    "name": "ipython",
    "version": 3
   },
   "file_extension": ".py",
   "mimetype": "text/x-python",
   "name": "python",
   "nbconvert_exporter": "python",
   "pygments_lexer": "ipython3",
   "version": "3.11.9"
  }
 },
 "nbformat": 4,
 "nbformat_minor": 2
}
