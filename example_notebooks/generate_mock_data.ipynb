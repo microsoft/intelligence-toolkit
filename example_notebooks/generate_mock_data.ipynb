{
 "cells": [
  {
   "cell_type": "markdown",
   "metadata": {},
   "source": [
    "# Generate Mock Data\n",
    "\n",
    "Demonstrates use of the Intelligence Toolkit library to generate mock data, both structured records and unstructured texts.\n",
    "\n",
    "See [readme](https://github.com/microsoft/intelligence-toolkit/blob/main/app/workflows/generate_mock_data/README.md) for more details."
   ]
  },
  {
   "cell_type": "code",
   "execution_count": null,
   "metadata": {},
   "outputs": [],
   "source": [
    "import sys\n",
    "\n",
    "sys.path.append(\"..\")\n",
    "import os\n",
    "from intelligence_toolkit.generate_mock_data.api import GenerateMockData\n",
    "from intelligence_toolkit.AI.openai_configuration import OpenAIConfiguration\n",
    "import json"
   ]
  },
  {
   "cell_type": "code",
   "execution_count": 3,
   "metadata": {},
   "outputs": [
    {
     "name": "stdout",
     "output_type": "stream",
     "text": [
      "Loaded data schema\n",
      "{'$schema': 'http://json-schema.org/draft/2020-12/schema', 'title': 'Customer complaints', 'description': 'An example schema storing an array of customer complaints', 'type': 'object', 'properties': {'customer_complaints': {'type': 'array', 'description': 'The list of customers and their complaints', 'items': {'type': 'object', 'properties': {'name': {'type': 'string', 'description': 'The name of the customer'}, 'street': {'type': 'string', 'description': 'The street of the customer, including property name/number'}, 'city': {'type': 'string', 'description': 'The city of the customer'}, 'age': {'type': 'number', 'description': 'The age of the customer'}, 'email': {'type': 'string', 'description': 'The email address of the customer'}, 'price_issue': {'type': 'boolean', 'description': 'The complaint is a price issue'}, 'quality_issue': {'type': 'boolean', 'description': 'The complaint is a quality issue'}, 'service_issue': {'type': 'boolean', 'description': 'The complaint is a service issue'}, 'delivery_issue': {'type': 'boolean', 'description': 'The complaint is a delivery issue'}, 'description_issue': {'type': 'boolean', 'description': 'The complaint is a description issue'}, 'product_code': {'type': 'string', 'description': 'The product code targeted by the complaint', 'enum': ['A', 'B', 'C', 'D', 'E', 'F', 'G', 'H']}, 'quarter': {'type': 'string', 'description': 'The quarter in which the complaint was made (since 2020-Q1)'}}, 'required': ['name', 'street', 'city', 'age', 'email', 'price_issue', 'quality_issue', 'service_issue', 'delivery_issue', 'description_issue', 'product_code', 'quarter'], 'additionalProperties': False}}}, 'required': ['customer_complaints'], 'additionalProperties': False}\n"
     ]
    }
   ],
   "source": [
    "# Create the workflow object\n",
    "gmd = GenerateMockData()\n",
    "# Set the AI configuration\n",
    "ai_configuration = OpenAIConfiguration(\n",
    "    {\n",
    "        \"api_type\": \"OpenAI\",\n",
    "        \"api_key\": os.environ[\"OPENAI_API_KEY\"],\n",
    "        \"model\": \"gpt-4o\",\n",
    "    }\n",
    ")\n",
    "gmd.set_ai_configuration(ai_configuration)\n",
    "# Load the data schema\n",
    "schema_path = \"../example_outputs/generate_mock_data/customer_complaints/customer_complaints_schema.json\"\n",
    "json_schema = json.loads(open(schema_path, \"r\").read())\n",
    "# Set the schema\n",
    "gmd.set_schema(json_schema)\n",
    "print(\"Loaded data schema\")\n",
    "print(json_schema)"
   ]
  },
  {
   "cell_type": "code",
   "execution_count": 4,
   "metadata": {},
   "outputs": [
    {
     "name": "stderr",
     "output_type": "stream",
     "text": [
      "100%|██████████| 10/10 [00:16<00:00,  1.63s/it]"
     ]
    },
    {
     "name": "stdout",
     "output_type": "stream",
     "text": [
      "Generated data records\n"
     ]
    },
    {
     "name": "stderr",
     "output_type": "stream",
     "text": [
      "\n"
     ]
    }
   ],
   "source": [
    "# Generate mock data records\n",
    "await gmd.generate_data_records(\n",
    "    num_records_overall=100,\n",
    "    records_per_batch=10,\n",
    "    duplicate_records_per_batch=1,\n",
    "    related_records_per_batch=1,\n",
    ")\n",
    "print(\"Generated data records\")"
   ]
  },
  {
   "cell_type": "code",
   "execution_count": 5,
   "metadata": {},
   "outputs": [
    {
     "name": "stdout",
     "output_type": "stream",
     "text": [
      "{'customer_complaints': [{'name': 'Alicia Johnson', 'street': '123 Maple St.', 'city': 'Springfield', 'age': 34, 'email': 'alicia.j@example.com', 'price_issue': False, 'quality_issue': True, 'service_issue': False, 'delivery_issue': False, 'description_issue': False, 'product_code': 'A', 'quarter': '2021-Q3'}, {'name': 'Bob Johnson', 'street': '125 Maple Street', 'city': 'Springfield', 'age': 36, 'email': 'bob.johnson@example.com', 'price_issue': False, 'quality_issue': True, 'service_issue': True, 'delivery_issue': False, 'description_issue': False, 'product_code': 'A', 'quarter': '2021-Q3'}, {'name': 'Charlie Brown', 'street': '456 Oak Avenue', 'city': 'Rivertown', 'age': 29, 'email': 'charlie.brown@example.com', 'price_issue': True, 'quality_issue': False, 'service_issue': False, 'delivery_issue': False, 'description_issue': True, 'product_code': 'B', 'quarter': '2021-Q4'}, {'name': 'Diana Prince', 'street': '789 Pine Road', 'city': 'Metropolis', 'age': 42, 'email': 'diana.prince@example.com', 'price_issue': False, 'quality_issue': False, 'service_issue': True, 'delivery_issue': True, 'description_issue': False, 'product_code': 'C', 'quarter': '2022-Q1'}, {'name': 'Ethan Hunt', 'street': '321 Birch Lane', 'city': 'Springfield', 'age': 37, 'email': 'ethan.hunt@example.com', 'price_issue': True, 'quality_issue': False, 'service_issue': False, 'delivery_issue': True, 'description_issue': False, 'product_code': 'D', 'quarter': '2022-Q2'}, {'name': 'Fiona Gallagher', 'street': '654 Cedar Street', 'city': 'Lakeview', 'age': 30, 'email': 'fiona.g@example.com', 'price_issue': False, 'quality_issue': False, 'service_issue': True, 'delivery_issue': False, 'description_issue': True, 'product_code': 'E', 'quarter': '2022-Q3'}, {'name': 'George Michael', 'street': '987 Walnut Avenue', 'city': 'Hilltown', 'age': 45, 'email': 'george.michael@example.com', 'price_issue': True, 'quality_issue': True, 'service_issue': False, 'delivery_issue': False, 'description_issue': False, 'product_code': 'F', 'quarter': '2022-Q4'}, {'name': 'Hannah Montana', 'street': '159 Elm Street', 'city': 'Rivertown', 'age': 28, 'email': 'hannah.m@example.com', 'price_issue': False, 'quality_issue': False, 'service_issue': False, 'delivery_issue': True, 'description_issue': True, 'product_code': 'G', 'quarter': '2023-Q1'}, {'name': 'Ian Malcolm', 'street': '753 Spruce Drive', 'city': 'Metropolis', 'age': 41, 'email': 'ian.malcolm@example.com', 'price_issue': True, 'quality_issue': False, 'service_issue': True, 'delivery_issue': False, 'description_issue': False, 'product_code': 'H', 'quarter': '2023-Q2'}, {'name': 'Jessica Jones', 'street': '852 Chestnut Boulevard', 'city': 'Lakeview', 'age': 33, 'email': 'jessica.jones@example.com', 'price_issue': False, 'quality_issue': True, 'service_issue': False, 'delivery_issue': True, 'description_issue': False, 'product_code': 'A', 'quarter': '2023-Q3'}, {'name': 'Robert Smith', 'street': '456 Oak Ave', 'city': 'Rivertown', 'age': 45, 'email': 'robert.smith@example.com', 'price_issue': True, 'quality_issue': False, 'service_issue': False, 'delivery_issue': False, 'description_issue': False, 'product_code': 'B', 'quarter': '2022-Q1'}, {'name': 'Alice Smith', 'street': '456 Oak Avenue', 'city': 'Rivertown', 'age': 42, 'email': 'alice.smith@example.com', 'price_issue': False, 'quality_issue': True, 'service_issue': False, 'delivery_issue': True, 'description_issue': False, 'product_code': 'B', 'quarter': '2022-Q2'}, {'name': 'John Doe', 'street': '789 Pine Street', 'city': 'Lakeside', 'age': 34, 'email': 'john.doe@example.com', 'price_issue': False, 'quality_issue': True, 'service_issue': True, 'delivery_issue': False, 'description_issue': False, 'product_code': 'C', 'quarter': '2021-Q4'}, {'name': 'Jane Roe', 'street': '123 Elm Street', 'city': 'Hilltown', 'age': 29, 'email': 'jane.roe@example.com', 'price_issue': True, 'quality_issue': False, 'service_issue': True, 'delivery_issue': False, 'description_issue': True, 'product_code': 'A', 'quarter': '2023-Q2'}, {'name': 'Michael Johnson', 'street': '321 Maple Avenue', 'city': 'Plainville', 'age': 53, 'email': 'michael.j@example.com', 'price_issue': False, 'quality_issue': False, 'service_issue': False, 'delivery_issue': True, 'description_issue': False, 'product_code': 'D', 'quarter': '2022-Q3'}, {'name': 'Emily Davis', 'street': '654 Birch Road', 'city': 'Greenville', 'age': 38, 'email': 'emily.davis@example.com', 'price_issue': True, 'quality_issue': True, 'service_issue': False, 'delivery_issue': False, 'description_issue': False, 'product_code': 'E', 'quarter': '2023-Q1'}, {'name': 'Chris Lee', 'street': '987 Cedar Lane', 'city': 'Springfield', 'age': 47, 'email': 'chris.lee@example.com', 'price_issue': False, 'quality_issue': False, 'service_issue': True, 'delivery_issue': True, 'description_issue': False, 'product_code': 'F', 'quarter': '2021-Q2'}, {'name': 'Patricia Brown', 'street': '159 Spruce Drive', 'city': 'Westfield', 'age': 60, 'email': 'patricia.brown@example.com', 'price_issue': True, 'quality_issue': True, 'service_issue': True, 'delivery_issue': False, 'description_issue': True, 'product_code': 'G', 'quarter': '2023-Q3'}, {'name': 'David Wilson', 'street': '753 Willow Way', 'city': 'Eastville', 'age': 41, 'email': 'david.wilson@example.com', 'price_issue': False, 'quality_issue': False, 'service_issue': False, 'delivery_issue': True, 'description_issue': True, 'product_code': 'H', 'quarter': '2020-Q4'}, {'name': 'Linda Martinez', 'street': '852 Chestnut Street', 'city': 'Northville', 'age': 36, 'email': 'linda.martinez@example.com', 'price_issue': True, 'quality_issue': False, 'service_issue': False, 'delivery_issue': False, 'description_issue': False, 'product_code': 'C', 'quarter': '2022-Q1'}, {'name': 'Carol W.', 'street': '789 Pine Rd', 'city': 'Lakeside', 'age': 29, 'email': 'carol.w@example.com', 'price_issue': False, 'quality_issue': False, 'service_issue': True, 'delivery_issue': False, 'description_issue': False, 'product_code': 'C', 'quarter': '2020-Q4'}, {'name': 'John White', 'street': '789 Pine Road', 'city': 'Lakeside', 'age': 34, 'email': 'john.white@example.com', 'price_issue': True, 'quality_issue': False, 'service_issue': False, 'delivery_issue': False, 'description_issue': False, 'product_code': 'C', 'quarter': '2021-Q1'}, {'name': 'Alice Brown', 'street': '123 Maple Street', 'city': 'Riverdale', 'age': 42, 'email': 'alice.brown@example.com', 'price_issue': False, 'quality_issue': True, 'service_issue': False, 'delivery_issue': False, 'description_issue': False, 'product_code': 'A', 'quarter': '2021-Q2'}, {'name': 'Bob Smith', 'street': '456 Oak Avenue', 'city': 'Hilltop', 'age': 37, 'email': 'bob.smith@example.com', 'price_issue': False, 'quality_issue': False, 'service_issue': False, 'delivery_issue': True, 'description_issue': False, 'product_code': 'B', 'quarter': '2020-Q3'}, {'name': 'Diana Prince', 'street': '987 Cedar Lane', 'city': 'Metropolis', 'age': 30, 'email': 'diana.prince@example.com', 'price_issue': False, 'quality_issue': False, 'service_issue': False, 'delivery_issue': False, 'description_issue': True, 'product_code': 'D', 'quarter': '2020-Q4'}, {'name': 'Eve Adams', 'street': '321 Birch Boulevard', 'city': 'Sunnyvale', 'age': 25, 'email': 'eve.adams@example.com', 'price_issue': True, 'quality_issue': False, 'service_issue': False, 'delivery_issue': True, 'description_issue': False, 'product_code': 'E', 'quarter': '2021-Q3'}, {'name': 'Frank Johnson', 'street': '654 Elm Street', 'city': 'Greenfield', 'age': 50, 'email': 'frank.johnson@example.com', 'price_issue': False, 'quality_issue': True, 'service_issue': True, 'delivery_issue': False, 'description_issue': False, 'product_code': 'F', 'quarter': '2021-Q4'}, {'name': 'Grace Lee', 'street': '789 Willow Way', 'city': 'Lakeside', 'age': 29, 'email': 'grace.lee@example.com', 'price_issue': False, 'quality_issue': False, 'service_issue': False, 'delivery_issue': True, 'description_issue': False, 'product_code': 'G', 'quarter': '2022-Q1'}, {'name': 'Henry Clark', 'street': '1010 Spruce Street', 'city': 'Brookside', 'age': 39, 'email': 'henry.clark@example.com', 'price_issue': True, 'quality_issue': False, 'service_issue': False, 'delivery_issue': False, 'description_issue': True, 'product_code': 'H', 'quarter': '2022-Q2'}, {'name': 'Ivy Green', 'street': '202 Pine Court', 'city': 'Hilltop', 'age': 27, 'email': 'ivy.green@example.com', 'price_issue': False, 'quality_issue': True, 'service_issue': False, 'delivery_issue': False, 'description_issue': False, 'product_code': 'A', 'quarter': '2022-Q3'}, {'name': 'David B.', 'street': '322 Birch Lane', 'city': 'Hillview', 'age': 52, 'email': 'david.b@example.com', 'price_issue': False, 'quality_issue': False, 'service_issue': False, 'delivery_issue': True, 'description_issue': False, 'product_code': 'D', 'quarter': '2023-Q2'}, {'name': 'Sarah Brown', 'street': '321 Birch Lane', 'city': 'Hillview', 'age': 50, 'email': 'sarah.brown@example.com', 'price_issue': False, 'quality_issue': False, 'service_issue': True, 'delivery_issue': False, 'description_issue': False, 'product_code': 'C', 'quarter': '2023-Q2'}, {'name': 'John Smith', 'street': '123 Oak Street', 'city': 'Greenfield', 'age': 34, 'email': 'john.smith@example.com', 'price_issue': True, 'quality_issue': False, 'service_issue': False, 'delivery_issue': False, 'description_issue': True, 'product_code': 'A', 'quarter': '2023-Q1'}, {'name': 'Emily Johnson', 'street': '456 Pine Avenue', 'city': 'Lakeside', 'age': 28, 'email': 'emily.johnson@example.com', 'price_issue': False, 'quality_issue': True, 'service_issue': False, 'delivery_issue': False, 'description_issue': False, 'product_code': 'B', 'quarter': '2023-Q3'}, {'name': 'Michael Williams', 'street': '789 Maple Drive', 'city': 'Riverside', 'age': 41, 'email': 'michael.williams@example.com', 'price_issue': False, 'quality_issue': False, 'service_issue': True, 'delivery_issue': False, 'description_issue': False, 'product_code': 'E', 'quarter': '2023-Q2'}, {'name': 'Jessica Lee', 'street': '101 Cedar Road', 'city': 'Springfield', 'age': 37, 'email': 'jessica.lee@example.com', 'price_issue': True, 'quality_issue': True, 'service_issue': False, 'delivery_issue': False, 'description_issue': False, 'product_code': 'F', 'quarter': '2023-Q4'}, {'name': 'Daniel Martinez', 'street': '202 Elm Street', 'city': 'Brookfield', 'age': 45, 'email': 'daniel.martinez@example.com', 'price_issue': False, 'quality_issue': False, 'service_issue': False, 'delivery_issue': True, 'description_issue': True, 'product_code': 'G', 'quarter': '2023-Q2'}, {'name': 'Sophia Garcia', 'street': '303 Walnut Lane', 'city': 'Meadowville', 'age': 30, 'email': 'sophia.garcia@example.com', 'price_issue': False, 'quality_issue': False, 'service_issue': True, 'delivery_issue': False, 'description_issue': False, 'product_code': 'H', 'quarter': '2023-Q1'}, {'name': 'James Anderson', 'street': '404 Cherry Circle', 'city': 'Hilltop', 'age': 60, 'email': 'james.anderson@example.com', 'price_issue': True, 'quality_issue': False, 'service_issue': False, 'delivery_issue': True, 'description_issue': False, 'product_code': 'D', 'quarter': '2023-Q3'}, {'name': 'Linda Thompson', 'street': '505 Spruce Way', 'city': 'Valleyview', 'age': 53, 'email': 'linda.thompson@example.com', 'price_issue': False, 'quality_issue': True, 'service_issue': False, 'delivery_issue': False, 'description_issue': True, 'product_code': 'C', 'quarter': '2023-Q2'}, {'name': 'Eva Black', 'street': '654 Cedar St', 'city': 'Greenville', 'age': 38, 'email': 'eva.black@example.com', 'price_issue': False, 'quality_issue': False, 'service_issue': False, 'delivery_issue': False, 'description_issue': True, 'product_code': 'E', 'quarter': '2021-Q1'}, {'name': 'Adam Black', 'street': '654 Cedar Street', 'city': 'Greenville', 'age': 40, 'email': 'adam.black@example.com', 'price_issue': False, 'quality_issue': False, 'service_issue': False, 'delivery_issue': True, 'description_issue': False, 'product_code': 'E', 'quarter': '2021-Q2'}, {'name': 'John Doe', 'street': '123 Maple Avenue', 'city': 'Springfield', 'age': 45, 'email': 'john.doe@example.com', 'price_issue': True, 'quality_issue': False, 'service_issue': False, 'delivery_issue': False, 'description_issue': False, 'product_code': 'A', 'quarter': '2020-Q4'}, {'name': 'Jane Smith', 'street': '456 Oak Road', 'city': 'Rivertown', 'age': 29, 'email': 'jane.smith@example.com', 'price_issue': False, 'quality_issue': True, 'service_issue': False, 'delivery_issue': False, 'description_issue': False, 'product_code': 'B', 'quarter': '2021-Q3'}, {'name': 'Michael Brown', 'street': '789 Pine Lane', 'city': 'Lakeside', 'age': 32, 'email': 'michael.brown@example.com', 'price_issue': False, 'quality_issue': False, 'service_issue': True, 'delivery_issue': False, 'description_issue': False, 'product_code': 'C', 'quarter': '2022-Q1'}, {'name': 'Sarah Johnson', 'street': '321 Birch Boulevard', 'city': 'Hilltown', 'age': 27, 'email': 'sarah.johnson@example.com', 'price_issue': False, 'quality_issue': False, 'service_issue': False, 'delivery_issue': True, 'description_issue': False, 'product_code': 'D', 'quarter': '2020-Q2'}, {'name': 'Chris Lee', 'street': '987 Elm Street', 'city': 'Forestville', 'age': 50, 'email': 'chris.lee@example.com', 'price_issue': True, 'quality_issue': False, 'service_issue': False, 'delivery_issue': False, 'description_issue': False, 'product_code': 'F', 'quarter': '2021-Q4'}, {'name': 'Patricia Green', 'street': '654 Cedar Street', 'city': 'Greenville', 'age': 34, 'email': 'patricia.green@example.com', 'price_issue': False, 'quality_issue': False, 'service_issue': False, 'delivery_issue': False, 'description_issue': True, 'product_code': 'E', 'quarter': '2022-Q2'}, {'name': 'Kevin White', 'street': '246 Willow Way', 'city': 'Brookside', 'age': 41, 'email': 'kevin.white@example.com', 'price_issue': False, 'quality_issue': True, 'service_issue': False, 'delivery_issue': False, 'description_issue': False, 'product_code': 'G', 'quarter': '2023-Q1'}, {'name': 'Laura Blue', 'street': '135 Spruce Terrace', 'city': 'Mountainview', 'age': 36, 'email': 'laura.blue@example.com', 'price_issue': False, 'quality_issue': False, 'service_issue': True, 'delivery_issue': False, 'description_issue': False, 'product_code': 'H', 'quarter': '2021-Q2'}, {'name': 'Frank Greene', 'street': '987 Willow Ave', 'city': 'Sunnydale', 'age': 41, 'email': 'frank.greene@example.com', 'price_issue': True, 'quality_issue': False, 'service_issue': False, 'delivery_issue': True, 'description_issue': False, 'product_code': 'F', 'quarter': '2022-Q4'}, {'name': 'Francine Green', 'street': '123 Elm Street', 'city': 'Sunnydale', 'age': 39, 'email': 'francine.green@example.com', 'price_issue': False, 'quality_issue': True, 'service_issue': True, 'delivery_issue': False, 'description_issue': False, 'product_code': 'F', 'quarter': '2022-Q4'}, {'name': 'Alice Johnson', 'street': '456 Maple Drive', 'city': 'Rivertown', 'age': 34, 'email': 'alice.johnson@example.com', 'price_issue': True, 'quality_issue': False, 'service_issue': True, 'delivery_issue': False, 'description_issue': True, 'product_code': 'A', 'quarter': '2022-Q3'}, {'name': 'Bob Smith', 'street': '789 Oak Lane', 'city': 'Lakeside', 'age': 28, 'email': 'bob.smith@example.com', 'price_issue': False, 'quality_issue': True, 'service_issue': False, 'delivery_issue': True, 'description_issue': False, 'product_code': 'B', 'quarter': '2022-Q2'}, {'name': 'Carol White', 'street': '321 Pine Street', 'city': 'Hilltop', 'age': 45, 'email': 'carol.white@example.com', 'price_issue': False, 'quality_issue': False, 'service_issue': True, 'delivery_issue': False, 'description_issue': True, 'product_code': 'C', 'quarter': '2022-Q1'}, {'name': 'David Brown', 'street': '654 Birch Road', 'city': 'Meadowville', 'age': 52, 'email': 'david.brown@example.com', 'price_issue': True, 'quality_issue': True, 'service_issue': False, 'delivery_issue': False, 'description_issue': False, 'product_code': 'D', 'quarter': '2023-Q1'}, {'name': 'Emily Black', 'street': '987 Spruce Avenue', 'city': 'Sunnydale', 'age': 37, 'email': 'emily.black@example.com', 'price_issue': False, 'quality_issue': False, 'service_issue': True, 'delivery_issue': True, 'description_issue': False, 'product_code': 'E', 'quarter': '2023-Q2'}, {'name': 'George King', 'street': '159 Cedar Street', 'city': 'Brookside', 'age': 60, 'email': 'george.king@example.com', 'price_issue': True, 'quality_issue': False, 'service_issue': True, 'delivery_issue': False, 'description_issue': True, 'product_code': 'G', 'quarter': '2023-Q3'}, {'name': 'Helen Queen', 'street': '753 Aspen Lane', 'city': 'Springfield', 'age': 47, 'email': 'helen.queen@example.com', 'price_issue': False, 'quality_issue': True, 'service_issue': False, 'delivery_issue': True, 'description_issue': True, 'product_code': 'H', 'quarter': '2023-Q4'}, {'name': 'Ian Wright', 'street': '852 Walnut Street', 'city': 'Riverside', 'age': 30, 'email': 'ian.wright@example.com', 'price_issue': True, 'quality_issue': True, 'service_issue': True, 'delivery_issue': False, 'description_issue': False, 'product_code': 'G', 'quarter': '2023-Q1'}, {'name': 'Grace Li', 'street': '246 Elm Blvd', 'city': 'Riverbend', 'age': 27, 'email': 'grace.li@example.com', 'price_issue': False, 'quality_issue': True, 'service_issue': False, 'delivery_issue': False, 'description_issue': True, 'product_code': 'G', 'quarter': '2020-Q2'}, {'name': 'George Lee', 'street': '248 Elm Boulevard', 'city': 'Riverbend', 'age': 29, 'email': 'george.lee@example.com', 'price_issue': False, 'quality_issue': True, 'service_issue': False, 'delivery_issue': False, 'description_issue': False, 'product_code': 'G', 'quarter': '2020-Q2'}, {'name': 'Alice Johnson', 'street': '123 Maple Street', 'city': 'Lakeside', 'age': 34, 'email': 'alice.j@example.com', 'price_issue': True, 'quality_issue': False, 'service_issue': False, 'delivery_issue': True, 'description_issue': False, 'product_code': 'A', 'quarter': '2021-Q1'}, {'name': 'Michael Brown', 'street': '789 Oak Avenue', 'city': 'Hilltop', 'age': 42, 'email': 'michael.brown@example.com', 'price_issue': False, 'quality_issue': False, 'service_issue': True, 'delivery_issue': False, 'description_issue': False, 'product_code': 'B', 'quarter': '2021-Q3'}, {'name': 'Sophia Green', 'street': '321 Pine Lane', 'city': 'Seaside', 'age': 28, 'email': 'sophia.green@example.com', 'price_issue': True, 'quality_issue': False, 'service_issue': False, 'delivery_issue': True, 'description_issue': True, 'product_code': 'C', 'quarter': '2022-Q2'}, {'name': 'Liam Smith', 'street': '456 Birch Road', 'city': 'Riverside', 'age': 31, 'email': 'liam.smith@example.com', 'price_issue': False, 'quality_issue': True, 'service_issue': False, 'delivery_issue': False, 'description_issue': False, 'product_code': 'D', 'quarter': '2022-Q4'}, {'name': 'Emma White', 'street': '654 Cedar Drive', 'city': 'Brookfield', 'age': 37, 'email': 'emma.white@example.com', 'price_issue': False, 'quality_issue': False, 'service_issue': True, 'delivery_issue': True, 'description_issue': False, 'product_code': 'E', 'quarter': '2023-Q1'}, {'name': 'Olivia Black', 'street': '987 Spruce Street', 'city': 'Meadowland', 'age': 45, 'email': 'olivia.black@example.com', 'price_issue': True, 'quality_issue': False, 'service_issue': False, 'delivery_issue': False, 'description_issue': True, 'product_code': 'F', 'quarter': '2023-Q3'}, {'name': 'Noah Taylor', 'street': '159 Willow Way', 'city': 'Greendale', 'age': 52, 'email': 'noah.taylor@example.com', 'price_issue': False, 'quality_issue': True, 'service_issue': False, 'delivery_issue': False, 'description_issue': True, 'product_code': 'H', 'quarter': '2023-Q2'}, {'name': 'Henry Adamson', 'street': '135 Oakwood Drive', 'city': 'Meadowville', 'age': 63, 'email': 'henry.adamson@example.com', 'price_issue': True, 'quality_issue': True, 'service_issue': False, 'delivery_issue': False, 'description_issue': False, 'product_code': 'H', 'quarter': '2023-Q1'}, {'name': 'Sarah Adams', 'street': '135 Oakwood Drive', 'city': 'Meadowville', 'age': 61, 'email': 'sarah.adams@example.com', 'price_issue': False, 'quality_issue': True, 'service_issue': True, 'delivery_issue': False, 'description_issue': False, 'product_code': 'H', 'quarter': '2023-Q1'}, {'name': 'John Smith', 'street': '47 Maple Avenue', 'city': 'Springfield', 'age': 45, 'email': 'john.smith@example.com', 'price_issue': True, 'quality_issue': False, 'service_issue': True, 'delivery_issue': False, 'description_issue': True, 'product_code': 'A', 'quarter': '2023-Q2'}, {'name': 'Emily Johnson', 'street': '22 Pine Street', 'city': 'Rivertown', 'age': 34, 'email': 'emily.johnson@example.com', 'price_issue': False, 'quality_issue': True, 'service_issue': False, 'delivery_issue': True, 'description_issue': False, 'product_code': 'B', 'quarter': '2023-Q1'}, {'name': 'Michael Brown', 'street': '89 Elm Road', 'city': 'Lakeside', 'age': 52, 'email': 'michael.brown@example.com', 'price_issue': False, 'quality_issue': False, 'service_issue': True, 'delivery_issue': True, 'description_issue': False, 'product_code': 'C', 'quarter': '2023-Q3'}, {'name': 'Jessica Taylor', 'street': '14 Cedar Lane', 'city': 'Hillview', 'age': 29, 'email': 'jessica.taylor@example.com', 'price_issue': True, 'quality_issue': False, 'service_issue': False, 'delivery_issue': False, 'description_issue': True, 'product_code': 'D', 'quarter': '2022-Q4'}, {'name': 'David Wilson', 'street': '58 Birch Boulevard', 'city': 'Riverbend', 'age': 40, 'email': 'david.wilson@example.com', 'price_issue': False, 'quality_issue': False, 'service_issue': True, 'delivery_issue': False, 'description_issue': True, 'product_code': 'E', 'quarter': '2023-Q1'}, {'name': 'Laura Martinez', 'street': '73 Oak Street', 'city': 'Greenfield', 'age': 37, 'email': 'laura.martinez@example.com', 'price_issue': True, 'quality_issue': True, 'service_issue': False, 'delivery_issue': False, 'description_issue': False, 'product_code': 'F', 'quarter': '2023-Q2'}, {'name': 'James Anderson', 'street': '9 Willow Way', 'city': 'Brookside', 'age': 55, 'email': 'james.anderson@example.com', 'price_issue': False, 'quality_issue': False, 'service_issue': False, 'delivery_issue': True, 'description_issue': True, 'product_code': 'G', 'quarter': '2023-Q3'}, {'name': 'Sophia Lee', 'street': '16 Spruce Avenue', 'city': 'Clearwater', 'age': 48, 'email': 'sophia.lee@example.com', 'price_issue': True, 'quality_issue': False, 'service_issue': True, 'delivery_issue': False, 'description_issue': False, 'product_code': 'H', 'quarter': '2022-Q4'}, {'name': 'Isabella King', 'street': '865 Maple Lane', 'city': 'Forest Hills', 'age': 50, 'email': 'isabella.king@example.com', 'price_issue': False, 'quality_issue': False, 'service_issue': True, 'delivery_issue': True, 'description_issue': False, 'product_code': 'A', 'quarter': '2021-Q4'}, {'name': 'Ian King', 'street': '864 Maple Lane', 'city': 'Forest Hills', 'age': 52, 'email': 'ian.king@example.com', 'price_issue': False, 'quality_issue': False, 'service_issue': True, 'delivery_issue': False, 'description_issue': False, 'product_code': 'A', 'quarter': '2021-Q4'}, {'name': 'Martha Green', 'street': '12 Oak Avenue', 'city': 'Springfield', 'age': 34, 'email': 'martha.green@example.com', 'price_issue': True, 'quality_issue': False, 'service_issue': False, 'delivery_issue': False, 'description_issue': False, 'product_code': 'B', 'quarter': '2022-Q1'}, {'name': 'John Doe', 'street': '45 Pine Street', 'city': 'Riverside', 'age': 29, 'email': 'john.doe@example.com', 'price_issue': False, 'quality_issue': True, 'service_issue': False, 'delivery_issue': False, 'description_issue': True, 'product_code': 'C', 'quarter': '2021-Q3'}, {'name': 'Emily Smith', 'street': '78 Birch Road', 'city': 'Lakeside', 'age': 42, 'email': 'emily.smith@example.com', 'price_issue': False, 'quality_issue': False, 'service_issue': True, 'delivery_issue': False, 'description_issue': False, 'product_code': 'D', 'quarter': '2020-Q2'}, {'name': 'Carlos Mendez', 'street': '23 Elm Street', 'city': 'Greenfield', 'age': 38, 'email': 'carlos.mendez@example.com', 'price_issue': True, 'quality_issue': True, 'service_issue': False, 'delivery_issue': False, 'description_issue': False, 'product_code': 'E', 'quarter': '2022-Q2'}, {'name': 'Sophie Brown', 'street': '90 Cedar Lane', 'city': 'Hilltop', 'age': 47, 'email': 'sophie.brown@example.com', 'price_issue': False, 'quality_issue': False, 'service_issue': False, 'delivery_issue': True, 'description_issue': True, 'product_code': 'F', 'quarter': '2021-Q4'}, {'name': 'Marcus Lee', 'street': '11 Willow Drive', 'city': 'Brookside', 'age': 53, 'email': 'marcus.lee@example.com', 'price_issue': True, 'quality_issue': False, 'service_issue': False, 'delivery_issue': True, 'description_issue': False, 'product_code': 'G', 'quarter': '2023-Q1'}, {'name': 'Laura White', 'street': '33 Spruce Avenue', 'city': 'Meadowland', 'age': 30, 'email': 'laura.white@example.com', 'price_issue': False, 'quality_issue': True, 'service_issue': False, 'delivery_issue': False, 'description_issue': False, 'product_code': 'H', 'quarter': '2020-Q4'}, {'name': 'David Johnson', 'street': '56 Fir Street', 'city': 'Sunnyvale', 'age': 45, 'email': 'david.johnson@example.com', 'price_issue': False, 'quality_issue': False, 'service_issue': True, 'delivery_issue': False, 'description_issue': True, 'product_code': 'A', 'quarter': '2022-Q3'}, {'name': 'Jackie Chen', 'street': '159 Spruce St.', 'city': 'Oceanview', 'age': 36, 'email': 'jackie.chen@example.com', 'price_issue': False, 'quality_issue': False, 'service_issue': False, 'delivery_issue': True, 'description_issue': True, 'product_code': 'B', 'quarter': '2022-Q2'}, {'name': 'Jamie Chan', 'street': '160 Spruce Street', 'city': 'Oceanview', 'age': 34, 'email': 'jamie.chan@example.com', 'price_issue': False, 'quality_issue': True, 'service_issue': False, 'delivery_issue': False, 'description_issue': False, 'product_code': 'B', 'quarter': '2022-Q2'}, {'name': 'Emily Brown', 'street': '45 Maple Avenue', 'city': 'Greenfield', 'age': 29, 'email': 'emily.brown@example.com', 'price_issue': True, 'quality_issue': False, 'service_issue': False, 'delivery_issue': False, 'description_issue': False, 'product_code': 'A', 'quarter': '2022-Q3'}, {'name': 'Michael Smith', 'street': '12 Oak Lane', 'city': 'Riverside', 'age': 42, 'email': 'michael.smith@example.com', 'price_issue': False, 'quality_issue': True, 'service_issue': True, 'delivery_issue': False, 'description_issue': False, 'product_code': 'C', 'quarter': '2022-Q1'}, {'name': 'Sarah Johnson', 'street': '78 Pine Street', 'city': 'Lakeside', 'age': 31, 'email': 'sarah.johnson@example.com', 'price_issue': False, 'quality_issue': False, 'service_issue': False, 'delivery_issue': True, 'description_issue': False, 'product_code': 'D', 'quarter': '2021-Q4'}, {'name': 'Daniel Lee', 'street': '23 Elm Street', 'city': 'Springfield', 'age': 39, 'email': 'daniel.lee@example.com', 'price_issue': True, 'quality_issue': False, 'service_issue': False, 'delivery_issue': False, 'description_issue': True, 'product_code': 'E', 'quarter': '2022-Q2'}, {'name': 'Laura Wilson', 'street': '89 Birch Lane', 'city': 'Seaview', 'age': 27, 'email': 'laura.wilson@example.com', 'price_issue': False, 'quality_issue': True, 'service_issue': False, 'delivery_issue': False, 'description_issue': True, 'product_code': 'F', 'quarter': '2021-Q3'}, {'name': 'James Martinez', 'street': '56 Cedar Avenue', 'city': 'Hilltop', 'age': 45, 'email': 'james.martinez@example.com', 'price_issue': False, 'quality_issue': False, 'service_issue': True, 'delivery_issue': False, 'description_issue': False, 'product_code': 'G', 'quarter': '2020-Q4'}, {'name': 'Olivia Davis', 'street': '34 Willow Road', 'city': 'Brookfield', 'age': 38, 'email': 'olivia.davis@example.com', 'price_issue': True, 'quality_issue': True, 'service_issue': False, 'delivery_issue': False, 'description_issue': False, 'product_code': 'H', 'quarter': '2022-Q1'}, {'name': 'Sophia Garcia', 'street': '67 Ash Street', 'city': 'Ridgewood', 'age': 33, 'email': 'sophia.garcia@example.com', 'price_issue': False, 'quality_issue': False, 'service_issue': True, 'delivery_issue': True, 'description_issue': False, 'product_code': 'A', 'quarter': '2021-Q2'}]}\n"
     ]
    }
   ],
   "source": [
    "# Inspect the data as JSON\n",
    "print(gmd.json_object)"
   ]
  },
  {
   "cell_type": "code",
   "execution_count": 6,
   "metadata": {},
   "outputs": [
    {
     "name": "stdout",
     "output_type": "stream",
     "text": [
      "{'customer_complaints':               name            street         city  age  \\\n",
      "0   Alicia Johnson     123 Maple St.  Springfield   34   \n",
      "1      Bob Johnson  125 Maple Street  Springfield   36   \n",
      "2    Charlie Brown    456 Oak Avenue    Rivertown   29   \n",
      "3     Diana Prince     789 Pine Road   Metropolis   42   \n",
      "4       Ethan Hunt    321 Birch Lane  Springfield   37   \n",
      "..             ...               ...          ...  ...   \n",
      "94      Daniel Lee     23 Elm Street  Springfield   39   \n",
      "95    Laura Wilson     89 Birch Lane      Seaview   27   \n",
      "96  James Martinez   56 Cedar Avenue      Hilltop   45   \n",
      "97    Olivia Davis    34 Willow Road   Brookfield   38   \n",
      "98   Sophia Garcia     67 Ash Street    Ridgewood   33   \n",
      "\n",
      "                         email  price_issue  quality_issue  service_issue  \\\n",
      "0         alicia.j@example.com        False           True          False   \n",
      "1      bob.johnson@example.com        False           True           True   \n",
      "2    charlie.brown@example.com         True          False          False   \n",
      "3     diana.prince@example.com        False          False           True   \n",
      "4       ethan.hunt@example.com         True          False          False   \n",
      "..                         ...          ...            ...            ...   \n",
      "94      daniel.lee@example.com         True          False          False   \n",
      "95    laura.wilson@example.com        False           True          False   \n",
      "96  james.martinez@example.com        False          False           True   \n",
      "97    olivia.davis@example.com         True           True          False   \n",
      "98   sophia.garcia@example.com        False          False           True   \n",
      "\n",
      "    delivery_issue  description_issue product_code  quarter  \n",
      "0            False              False            A  2021-Q3  \n",
      "1            False              False            A  2021-Q3  \n",
      "2            False               True            B  2021-Q4  \n",
      "3             True              False            C  2022-Q1  \n",
      "4             True              False            D  2022-Q2  \n",
      "..             ...                ...          ...      ...  \n",
      "94           False               True            E  2022-Q2  \n",
      "95           False               True            F  2021-Q3  \n",
      "96           False              False            G  2020-Q4  \n",
      "97           False              False            H  2022-Q1  \n",
      "98            True              False            A  2021-Q2  \n",
      "\n",
      "[99 rows x 12 columns]}\n"
     ]
    }
   ],
   "source": [
    "# Inspect the data as dataframes (one per array field)\n",
    "print(gmd.array_dfs)"
   ]
  },
  {
   "cell_type": "code",
   "execution_count": 7,
   "metadata": {},
   "outputs": [
    {
     "name": "stderr",
     "output_type": "stream",
     "text": [
      "100%|██████████| 10/10 [00:15<00:00,  1.57s/it]"
     ]
    },
    {
     "name": "stdout",
     "output_type": "stream",
     "text": [
      "Generated text data\n"
     ]
    },
    {
     "name": "stderr",
     "output_type": "stream",
     "text": [
      "\n"
     ]
    }
   ],
   "source": [
    "# Use the customer_complaints dataframe to generate mock text data (first 10 records only)\n",
    "df = gmd.array_dfs[\"customer_complaints\"][:10]\n",
    "await gmd.generate_text_data(df)\n",
    "print(\"Generated text data\")"
   ]
  },
  {
   "cell_type": "code",
   "execution_count": 8,
   "metadata": {},
   "outputs": [
    {
     "name": "stdout",
     "output_type": "stream",
     "text": [
      "                                           mock_text\n",
      "0  **Customer Feedback Report**\\n\\n**Customer Inf...\n",
      "1  **Customer Feedback Report**\\n\\n**Customer Inf...\n",
      "2  **Customer Complaint Report**\\n\\n**Customer In...\n",
      "3  **Customer Service Report**\\n\\n**Customer Info...\n",
      "4  **Customer Service Report**\\n\\n**Customer Info...\n",
      "5  **Customer Service Report**\\n\\n**Customer Info...\n",
      "6  **Customer Feedback Report**\\n\\n**Customer Inf...\n",
      "7  **Customer Feedback Report**\\n\\n**Customer Inf...\n",
      "8  **Customer Feedback Report**\\n\\n**Customer Inf...\n",
      "9  **Customer Feedback Report**\\n\\n**Customer Det...\n"
     ]
    }
   ],
   "source": [
    "# Inspect texts as dataframe\n",
    "print(gmd.text_df)"
   ]
  }
 ],
 "metadata": {
  "kernelspec": {
   "display_name": ".venv",
   "language": "python",
   "name": "python3"
  },
  "language_info": {
   "codemirror_mode": {
    "name": "ipython",
    "version": 3
   },
   "file_extension": ".py",
   "mimetype": "text/x-python",
   "name": "python",
   "nbconvert_exporter": "python",
   "pygments_lexer": "ipython3",
   "version": "3.11.9"
  }
 },
 "nbformat": 4,
 "nbformat_minor": 2
}
