{
 "cells": [
  {
   "cell_type": "markdown",
   "metadata": {},
   "source": [
    "# Compare Case Groups\n",
    "\n",
    "Demonstrates use of the Intelligence Toolkit library to compare groups in a dataset.\n",
    "\n",
    "See [readme](https://github.com/microsoft/intelligence-toolkit/blob/main/app/workflows/compare_case_groups/README.md) for more details."
   ]
  },
  {
   "cell_type": "code",
   "execution_count": 1,
   "metadata": {},
   "outputs": [
    {
     "name": "stderr",
     "output_type": "stream",
     "text": [
      "/home/ddesouza/Projects/intelligence-toolkit/.venv/lib/python3.12/site-packages/tqdm/auto.py:21: TqdmWarning: IProgress not found. Please update jupyter and ipywidgets. See https://ipywidgets.readthedocs.io/en/stable/user_install.html\n",
      "  from .autonotebook import tqdm as notebook_tqdm\n"
     ]
    }
   ],
   "source": [
    "import sys\n",
    "\n",
    "sys.path.append(\"..\")\n",
    "import polars as pl\n",
    "from intelligence_toolkit.compare_case_groups.api import CompareCaseGroups"
   ]
  },
  {
   "cell_type": "code",
   "execution_count": 2,
   "metadata": {},
   "outputs": [
    {
     "name": "stdout",
     "output_type": "stream",
     "text": [
      "Loaded data\n"
     ]
    }
   ],
   "source": [
    "# Create the workflow object\n",
    "import os\n",
    "from intelligence_toolkit.helpers import df_functions\n",
    "from intelligence_toolkit.AI.openai_configuration import OpenAIConfiguration\n",
    "import pandas as pd\n",
    "\n",
    "ccg = CompareCaseGroups()\n",
    "\n",
    "ai_configuration = OpenAIConfiguration(\n",
    "    {\n",
    "        \"api_type\": \"OpenAI\",\n",
    "        \"api_key\": os.environ[\"OPENAI_API_KEY\"],\n",
    "        \"model\": \"gpt-4o\",\n",
    "    }\n",
    ")\n",
    "ccg.set_ai_configuration(ai_configuration)\n",
    "\n",
    "data_path = \"../example_outputs/compare_case_groups/customer_complaints/customer_complaints_prepared.csv\"\n",
    "customer_cases = pd.read_csv(data_path)\n",
    "customer_cases = pl.from_pandas(df_functions.suppress_boolean_binary(customer_cases))\n",
    "print(\"Loaded data\")"
   ]
  },
  {
   "cell_type": "code",
   "execution_count": 3,
   "metadata": {},
   "outputs": [
    {
     "name": "stdout",
     "output_type": "stream",
     "text": [
      "Selected params for workflow\n"
     ]
    }
   ],
   "source": [
    "filters = []\n",
    "### If filtering, options here:\n",
    "# ccg.get_filter_options(customer_cases)\n",
    "\n",
    "groups = [\"city\"]\n",
    "aggregates = [\n",
    "    \"product_code\",\n",
    "    \"delivery_issue\",\n",
    "    \"description_issue\",\n",
    "    \"price_issue\",\n",
    "    \"quality_issue\",\n",
    "    \"service_issue\",\n",
    "]\n",
    "temporal = \"period\"\n",
    "print(\"Selected params for workflow\")"
   ]
  },
  {
   "cell_type": "code",
   "execution_count": 4,
   "metadata": {},
   "outputs": [
    {
     "name": "stdout",
     "output_type": "stream",
     "text": [
      "Created data summary\n"
     ]
    }
   ],
   "source": [
    "ccg.create_data_summary(\n",
    "    customer_cases,\n",
    "    [],\n",
    "    groups,\n",
    "    aggregates,\n",
    "    temporal,\n",
    ")\n",
    "print(\"Created data summary\")"
   ]
  },
  {
   "cell_type": "code",
   "execution_count": 5,
   "metadata": {},
   "outputs": [
    {
     "data": {
      "text/plain": [
       "9646"
      ]
     },
     "execution_count": 5,
     "metadata": {},
     "output_type": "execute_result"
    }
   ],
   "source": [
    "len(ccg.model_df)"
   ]
  },
  {
   "cell_type": "code",
   "execution_count": 6,
   "metadata": {},
   "outputs": [
    {
     "data": {
      "text/html": [
       "<div><style>\n",
       ".dataframe > thead > tr,\n",
       ".dataframe > tbody > tr {\n",
       "  text-align: right;\n",
       "  white-space: pre-wrap;\n",
       "}\n",
       "</style>\n",
       "<small>shape: (5, 10)</small><table border=\"1\" class=\"dataframe\"><thead><tr><th>city</th><th>group_count</th><th>group_rank</th><th>attribute_value</th><th>group_attribute_count</th><th>group_attribute_rank</th><th>period_window</th><th>period_window_count</th><th>period_window_rank</th><th>period_window_delta</th></tr><tr><td>str</td><td>u32</td><td>i32</td><td>str</td><td>u32</td><td>i32</td><td>str</td><td>u32</td><td>i32</td><td>i32</td></tr></thead><tbody><tr><td>&quot;Baytown&quot;</td><td>8</td><td>50</td><td>&quot;delivery_issue…</td><td>2</td><td>56</td><td>&quot;2020-H1&quot;</td><td>0</td><td>3</td><td>0</td></tr><tr><td>&quot;Baytown&quot;</td><td>8</td><td>50</td><td>&quot;description_is…</td><td>3</td><td>41</td><td>&quot;2020-H1&quot;</td><td>0</td><td>3</td><td>0</td></tr><tr><td>&quot;Baytown&quot;</td><td>8</td><td>50</td><td>&quot;price_issue:Tr…</td><td>3</td><td>50</td><td>&quot;2020-H1&quot;</td><td>0</td><td>2</td><td>0</td></tr><tr><td>&quot;Baytown&quot;</td><td>8</td><td>50</td><td>&quot;product_code:A…</td><td>1</td><td>38</td><td>&quot;2020-H1&quot;</td><td>0</td><td>2</td><td>0</td></tr><tr><td>&quot;Baytown&quot;</td><td>8</td><td>50</td><td>&quot;product_code:D…</td><td>2</td><td>27</td><td>&quot;2020-H1&quot;</td><td>0</td><td>2</td><td>0</td></tr></tbody></table></div>"
      ],
      "text/plain": [
       "shape: (5, 10)\n",
       "┌─────────┬────────────┬───────────┬───────────┬───┬───────────┬───────────┬───────────┬───────────┐\n",
       "│ city    ┆ group_coun ┆ group_ran ┆ attribute ┆ … ┆ period_wi ┆ period_wi ┆ period_wi ┆ period_wi │\n",
       "│ ---     ┆ t          ┆ k         ┆ _value    ┆   ┆ ndow      ┆ ndow_coun ┆ ndow_rank ┆ ndow_delt │\n",
       "│ str     ┆ ---        ┆ ---       ┆ ---       ┆   ┆ ---       ┆ t         ┆ ---       ┆ a         │\n",
       "│         ┆ u32        ┆ i32       ┆ str       ┆   ┆ str       ┆ ---       ┆ i32       ┆ ---       │\n",
       "│         ┆            ┆           ┆           ┆   ┆           ┆ u32       ┆           ┆ i32       │\n",
       "╞═════════╪════════════╪═══════════╪═══════════╪═══╪═══════════╪═══════════╪═══════════╪═══════════╡\n",
       "│ Baytown ┆ 8          ┆ 50        ┆ delivery_ ┆ … ┆ 2020-H1   ┆ 0         ┆ 3         ┆ 0         │\n",
       "│         ┆            ┆           ┆ issue:Tru ┆   ┆           ┆           ┆           ┆           │\n",
       "│         ┆            ┆           ┆ e         ┆   ┆           ┆           ┆           ┆           │\n",
       "│ Baytown ┆ 8          ┆ 50        ┆ descripti ┆ … ┆ 2020-H1   ┆ 0         ┆ 3         ┆ 0         │\n",
       "│         ┆            ┆           ┆ on_issue: ┆   ┆           ┆           ┆           ┆           │\n",
       "│         ┆            ┆           ┆ True      ┆   ┆           ┆           ┆           ┆           │\n",
       "│ Baytown ┆ 8          ┆ 50        ┆ price_iss ┆ … ┆ 2020-H1   ┆ 0         ┆ 2         ┆ 0         │\n",
       "│         ┆            ┆           ┆ ue:True   ┆   ┆           ┆           ┆           ┆           │\n",
       "│ Baytown ┆ 8          ┆ 50        ┆ product_c ┆ … ┆ 2020-H1   ┆ 0         ┆ 2         ┆ 0         │\n",
       "│         ┆            ┆           ┆ ode:A     ┆   ┆           ┆           ┆           ┆           │\n",
       "│ Baytown ┆ 8          ┆ 50        ┆ product_c ┆ … ┆ 2020-H1   ┆ 0         ┆ 2         ┆ 0         │\n",
       "│         ┆            ┆           ┆ ode:D     ┆   ┆           ┆           ┆           ┆           │\n",
       "└─────────┴────────────┴───────────┴───────────┴───┴───────────┴───────────┴───────────┴───────────┘"
      ]
     },
     "execution_count": 6,
     "metadata": {},
     "output_type": "execute_result"
    }
   ],
   "source": [
    "ccg.model_df.head()"
   ]
  },
  {
   "cell_type": "code",
   "execution_count": 7,
   "metadata": {},
   "outputs": [
    {
     "data": {
      "text/plain": [
       "'This table shows:\\n- A summary of all **2769** data records with values for all grouping attributes\\n- The **group_count** of records for all [**city**] groups, and corresponding **group_rank**\\n- The **group_attribute_count** of each **attribute_value** for all [**city**] groups, and corresponding **group_attribute_rank**\\n- The **period_window_count** of each **attribute_value** for each **period_window** for all [**city**] groups, and corresponding **period_window_rank**\\n- The **period_window_delta**, or change in the **attribute_value_count** for successive **period_window** values, within each [**city**] group'"
      ]
     },
     "execution_count": 7,
     "metadata": {},
     "output_type": "execute_result"
    }
   ],
   "source": [
    "ccg.get_summary_description()"
   ]
  },
  {
   "cell_type": "code",
   "execution_count": 8,
   "metadata": {},
   "outputs": [],
   "source": [
    "# Select groups to generate reports\n",
    "# By group name\n",
    "selected_groups = [{\"city\": \"Lakeside\"}]\n",
    "# OR\n",
    "# By top n groups\n",
    "top_group_ranks = 10\n",
    "\n",
    "report_data, filter_description = ccg.get_report_data(top_group_ranks=top_group_ranks)"
   ]
  },
  {
   "cell_type": "code",
   "execution_count": 9,
   "metadata": {},
   "outputs": [
    {
     "name": "stdout",
     "output_type": "stream",
     "text": [
      "# Group Comparison Report\n",
      "\n",
      "## Introduction\n",
      "\n",
      "This report provides a detailed analysis of the top 10 cities based on the number of records in the dataset. The dataset includes information on various issues and product codes across different time periods. The focus is on understanding the distribution and changes in these attributes over time for each city.\n",
      "\n",
      "## Data Summary\n",
      "\n",
      "The dataset consists of 2,769 records, filtered to include only the top 10 cities by record count. Each city is analyzed based on the number of records, the presence of specific issues (e.g., delivery, description, price, quality, service), and the distribution of product codes (A to H) over different time periods.\n",
      "\n",
      "## City Analysis\n",
      "\n",
      "### 1. Lakeside\n",
      "- **Total Records**: 349 (Rank 1)\n",
      "- **Key Issues**: Quality and service issues are the most prevalent, each with 123 occurrences.\n",
      "- **Product Codes**: Product code C is the most common with 102 occurrences.\n",
      "- **Trends**: There was a significant increase in quality issues in 2023-H2 (78 occurrences, +44 from 2023-H1).\n",
      "\n",
      "### 2. Springfield\n",
      "- **Total Records**: 265 (Rank 2)\n",
      "- **Key Issues**: Quality issues are the most frequent with 96 occurrences.\n",
      "- **Product Codes**: Product code A is the most common with 98 occurrences.\n",
      "- **Trends**: A notable increase in delivery issues in 2023-H1 (44 occurrences, +43 from 2022-H2).\n",
      "\n",
      "### 3. Hilltop\n",
      "- **Total Records**: 259 (Rank 3)\n",
      "- **Key Issues**: Delivery issues are the most frequent with 104 occurrences.\n",
      "- **Product Codes**: Product code D is the most common with 107 occurrences.\n",
      "- **Trends**: A significant rise in service issues in 2023-H2 (55 occurrences, +39 from 2023-H1).\n",
      "\n",
      "### 4. Rivertown\n",
      "- **Total Records**: 204 (Rank 4)\n",
      "- **Key Issues**: Quality issues are the most frequent with 92 occurrences.\n",
      "- **Product Codes**: Product code B is the most common with 79 occurrences.\n",
      "- **Trends**: A substantial increase in quality issues in 2023-H1 (40 occurrences, +23 from 2022-H2).\n",
      "\n",
      "### 5. Riverside\n",
      "- **Total Records**: 184 (Rank 5)\n",
      "- **Key Issues**: Price issues are the most frequent with 76 occurrences.\n",
      "- **Product Codes**: Product code A is the most common with 41 occurrences.\n",
      "- **Trends**: A notable rise in service issues in 2023-H2 (20 occurrences, +0 from 2023-H1).\n",
      "\n",
      "### 6. Seaside\n",
      "- **Total Records**: 127 (Rank 6)\n",
      "- **Key Issues**: Service issues are the most frequent with 44 occurrences.\n",
      "- **Product Codes**: Product code G is the most common with 25 occurrences.\n",
      "- **Trends**: A significant increase in delivery issues in 2023-H1 (23 occurrences, +18 from 2022-H2).\n",
      "\n",
      "### 7. Mountainview\n",
      "- **Total Records**: 119 (Rank 7)\n",
      "- **Key Issues**: Delivery issues are the most frequent with 58 occurrences.\n",
      "- **Product Codes**: Product code C is the most common with 54 occurrences.\n",
      "- **Trends**: A substantial rise in delivery issues in 2023-H1 (31 occurrences, +29 from 2022-H2).\n",
      "\n",
      "### 8. Brookside\n",
      "- **Total Records**: 111 (Rank 8)\n",
      "- **Key Issues**: Price issues are the most frequent with 45 occurrences.\n",
      "- **Product Codes**: Product code F is the most common with 23 occurrences.\n",
      "- **Trends**: A significant increase in price issues in 2023-H1 (27 occurrences, +27 from 2022-H2).\n",
      "\n",
      "### 9. Greenfield\n",
      "- **Total Records**: 104 (Rank 9)\n",
      "- **Key Issues**: Description issues are the most frequent with 38 occurrences.\n",
      "- **Product Codes**: Product code E is the most common with 25 occurrences.\n",
      "- **Trends**: A notable rise in description issues in 2023-H1 (20 occurrences, +19 from 2022-H2).\n",
      "\n",
      "### 10. Meadowville\n",
      "- **Total Records**: 94 (Rank 10)\n",
      "- **Key Issues**: Price issues are the most frequent with 30 occurrences.\n",
      "- **Product Codes**: Product code E is the most common with 33 occurrences.\n",
      "- **Trends**: A significant increase in delivery issues in 2023-H2 (17 occurrences, +11 from 2023-H1).\n",
      "\n",
      "## Conclusion\n",
      "\n",
      "The analysis highlights the variations in issue prevalence and product code distribution across the top 10 cities. Notable trends include significant increases in specific issues in recent periods, indicating potential areas for further investigation or intervention.\n"
     ]
    }
   ],
   "source": [
    "# Generates AI report on selected data\n",
    "explanation = ccg.generate_group_report(report_data, filter_description)\n",
    "print(explanation)"
   ]
  }
 ],
 "metadata": {
  "kernelspec": {
   "display_name": ".venv",
   "language": "python",
   "name": "python3"
  },
  "language_info": {
   "codemirror_mode": {
    "name": "ipython",
    "version": 3
   },
   "file_extension": ".py",
   "mimetype": "text/x-python",
   "name": "python",
   "nbconvert_exporter": "python",
   "pygments_lexer": "ipython3",
   "version": "3.11.9"
  }
 },
 "nbformat": 4,
 "nbformat_minor": 2
}
