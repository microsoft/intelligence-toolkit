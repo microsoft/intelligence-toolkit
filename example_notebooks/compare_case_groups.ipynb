{
 "cells": [
  {
   "cell_type": "markdown",
   "metadata": {},
   "source": [
    "# Compare Case Groups\n",
    "\n",
    "Demonstrates use of the Intelligence Toolkit library to compare groups in a dataset.\n",
    "\n",
    "See [readme](https://github.com/microsoft/intelligence-toolkit/blob/main/app/workflows/compare_case_groups/README.md) for more details."
   ]
  },
  {
   "cell_type": "code",
   "execution_count": 1,
   "metadata": {},
   "outputs": [
    {
     "name": "stderr",
     "output_type": "stream",
     "text": [
      "/home/ddesouza/Projects/intelligence-toolkit/.venv/lib/python3.11/site-packages/sentence_transformers/cross_encoder/CrossEncoder.py:13: TqdmWarning: IProgress not found. Please update jupyter and ipywidgets. See https://ipywidgets.readthedocs.io/en/stable/user_install.html\n",
      "  from tqdm.autonotebook import tqdm, trange\n"
     ]
    }
   ],
   "source": [
    "import sys\n",
    "\n",
    "sys.path.append(\"..\")\n",
    "import polars as pl\n",
    "from toolkit.compare_case_groups.api import CompareCaseGroups"
   ]
  },
  {
   "cell_type": "code",
   "execution_count": 2,
   "metadata": {},
   "outputs": [
    {
     "name": "stdout",
     "output_type": "stream",
     "text": [
      "Loaded data\n"
     ]
    }
   ],
   "source": [
    "# Create the workflow object\n",
    "import os\n",
    "from toolkit.helpers import df_functions\n",
    "from toolkit.AI.openai_configuration import OpenAIConfiguration\n",
    "import pandas as pd\n",
    "\n",
    "ccg = CompareCaseGroups()\n",
    "\n",
    "ai_configuration = OpenAIConfiguration(\n",
    "    {\n",
    "        \"api_type\": \"OpenAI\",\n",
    "        \"api_key\": os.environ[\"OPENAI_API_KEY\"],\n",
    "        \"model\": \"gpt-4o\",\n",
    "    }\n",
    ")\n",
    "ccg.set_ai_configuration(ai_configuration)\n",
    "\n",
    "data_path = \"../example_outputs/compare_case_groups/customer_complaints/customer_complaints_prepared.csv\"\n",
    "customer_cases = pd.read_csv(data_path)\n",
    "customer_cases = pl.from_pandas(df_functions.supress_boolean_binary(customer_cases))\n",
    "print(\"Loaded data\")"
   ]
  },
  {
   "cell_type": "code",
   "execution_count": 3,
   "metadata": {},
   "outputs": [
    {
     "name": "stdout",
     "output_type": "stream",
     "text": [
      "Selected params for workflow\n"
     ]
    }
   ],
   "source": [
    "filters = []\n",
    "### If filtering, options here:\n",
    "# ccg.get_filter_options(customer_cases)\n",
    "\n",
    "groups = [\"city\"]\n",
    "aggregates = [\n",
    "    \"product_code\",\n",
    "    \"delivery_issue\",\n",
    "    \"description_issue\",\n",
    "    \"price_issue\",\n",
    "    \"quality_issue\",\n",
    "    \"service_issue\",\n",
    "]\n",
    "temporal = \"period\"\n",
    "print(\"Selected params for workflow\")"
   ]
  },
  {
   "cell_type": "code",
   "execution_count": 4,
   "metadata": {},
   "outputs": [
    {
     "name": "stdout",
     "output_type": "stream",
     "text": [
      "Created data summary\n"
     ]
    }
   ],
   "source": [
    "ccg.create_data_summary(\n",
    "    customer_cases,\n",
    "    [],\n",
    "    groups,\n",
    "    aggregates,\n",
    "    temporal,\n",
    ")\n",
    "print(\"Created data summary\")"
   ]
  },
  {
   "cell_type": "code",
   "execution_count": 5,
   "metadata": {},
   "outputs": [
    {
     "data": {
      "text/plain": [
       "9646"
      ]
     },
     "execution_count": 5,
     "metadata": {},
     "output_type": "execute_result"
    }
   ],
   "source": [
    "len(ccg.model_df)"
   ]
  },
  {
   "cell_type": "code",
   "execution_count": 6,
   "metadata": {},
   "outputs": [
    {
     "data": {
      "text/html": [
       "<div><style>\n",
       ".dataframe > thead > tr,\n",
       ".dataframe > tbody > tr {\n",
       "  text-align: right;\n",
       "  white-space: pre-wrap;\n",
       "}\n",
       "</style>\n",
       "<small>shape: (5, 10)</small><table border=\"1\" class=\"dataframe\"><thead><tr><th>city</th><th>group_count</th><th>group_rank</th><th>attribute_value</th><th>attribute_count</th><th>attribute_rank</th><th>period_window</th><th>period_window_count</th><th>period_window_rank</th><th>period_window_delta</th></tr><tr><td>str</td><td>u32</td><td>i32</td><td>str</td><td>u32</td><td>i32</td><td>str</td><td>u32</td><td>i32</td><td>i32</td></tr></thead><tbody><tr><td>&quot;Baytown&quot;</td><td>8</td><td>50</td><td>&quot;delivery_issue…</td><td>2</td><td>56</td><td>&quot;2020-H1&quot;</td><td>0</td><td>3</td><td>0</td></tr><tr><td>&quot;Baytown&quot;</td><td>8</td><td>50</td><td>&quot;description_is…</td><td>3</td><td>41</td><td>&quot;2020-H1&quot;</td><td>0</td><td>3</td><td>0</td></tr><tr><td>&quot;Baytown&quot;</td><td>8</td><td>50</td><td>&quot;price_issue:Tr…</td><td>3</td><td>50</td><td>&quot;2020-H1&quot;</td><td>0</td><td>2</td><td>0</td></tr><tr><td>&quot;Baytown&quot;</td><td>8</td><td>50</td><td>&quot;product_code:A…</td><td>1</td><td>38</td><td>&quot;2020-H1&quot;</td><td>0</td><td>2</td><td>0</td></tr><tr><td>&quot;Baytown&quot;</td><td>8</td><td>50</td><td>&quot;product_code:D…</td><td>2</td><td>27</td><td>&quot;2020-H1&quot;</td><td>0</td><td>2</td><td>0</td></tr></tbody></table></div>"
      ],
      "text/plain": [
       "shape: (5, 10)\n",
       "┌─────────┬────────────┬───────────┬───────────┬───┬───────────┬───────────┬───────────┬───────────┐\n",
       "│ city    ┆ group_coun ┆ group_ran ┆ attribute ┆ … ┆ period_wi ┆ period_wi ┆ period_wi ┆ period_wi │\n",
       "│ ---     ┆ t          ┆ k         ┆ _value    ┆   ┆ ndow      ┆ ndow_coun ┆ ndow_rank ┆ ndow_delt │\n",
       "│ str     ┆ ---        ┆ ---       ┆ ---       ┆   ┆ ---       ┆ t         ┆ ---       ┆ a         │\n",
       "│         ┆ u32        ┆ i32       ┆ str       ┆   ┆ str       ┆ ---       ┆ i32       ┆ ---       │\n",
       "│         ┆            ┆           ┆           ┆   ┆           ┆ u32       ┆           ┆ i32       │\n",
       "╞═════════╪════════════╪═══════════╪═══════════╪═══╪═══════════╪═══════════╪═══════════╪═══════════╡\n",
       "│ Baytown ┆ 8          ┆ 50        ┆ delivery_ ┆ … ┆ 2020-H1   ┆ 0         ┆ 3         ┆ 0         │\n",
       "│         ┆            ┆           ┆ issue:Tru ┆   ┆           ┆           ┆           ┆           │\n",
       "│         ┆            ┆           ┆ e         ┆   ┆           ┆           ┆           ┆           │\n",
       "│ Baytown ┆ 8          ┆ 50        ┆ descripti ┆ … ┆ 2020-H1   ┆ 0         ┆ 3         ┆ 0         │\n",
       "│         ┆            ┆           ┆ on_issue: ┆   ┆           ┆           ┆           ┆           │\n",
       "│         ┆            ┆           ┆ True      ┆   ┆           ┆           ┆           ┆           │\n",
       "│ Baytown ┆ 8          ┆ 50        ┆ price_iss ┆ … ┆ 2020-H1   ┆ 0         ┆ 2         ┆ 0         │\n",
       "│         ┆            ┆           ┆ ue:True   ┆   ┆           ┆           ┆           ┆           │\n",
       "│ Baytown ┆ 8          ┆ 50        ┆ product_c ┆ … ┆ 2020-H1   ┆ 0         ┆ 2         ┆ 0         │\n",
       "│         ┆            ┆           ┆ ode:A     ┆   ┆           ┆           ┆           ┆           │\n",
       "│ Baytown ┆ 8          ┆ 50        ┆ product_c ┆ … ┆ 2020-H1   ┆ 0         ┆ 2         ┆ 0         │\n",
       "│         ┆            ┆           ┆ ode:D     ┆   ┆           ┆           ┆           ┆           │\n",
       "└─────────┴────────────┴───────────┴───────────┴───┴───────────┴───────────┴───────────┴───────────┘"
      ]
     },
     "execution_count": 6,
     "metadata": {},
     "output_type": "execute_result"
    }
   ],
   "source": [
    "ccg.model_df.head()"
   ]
  },
  {
   "cell_type": "code",
   "execution_count": 7,
   "metadata": {},
   "outputs": [
    {
     "data": {
      "text/plain": [
       "'This table shows:\\n- A summary of all **2769** data records with values for all grouping attributes\\n- The **group_count** of records for all [**city**] groups, and corresponding **group_rank**\\n- The **attribute_count** of each **attribute_value** for all [**city**] groups, and corresponding **attribute_rank**\\n- The **period_window_count** of each **attribute_value** for each **period_window** for all [**city**] groups, and corresponding **period_window_rank**\\n- The **period_window_delta**, or change in the **attribute_value_count** for successive **period_window** values, within each [**city**] group'"
      ]
     },
     "execution_count": 7,
     "metadata": {},
     "output_type": "execute_result"
    }
   ],
   "source": [
    "ccg.get_summary_description()"
   ]
  },
  {
   "cell_type": "code",
   "execution_count": 8,
   "metadata": {},
   "outputs": [],
   "source": [
    "# Select groups to generate reports\n",
    "# By group name\n",
    "selected_groups = [{\"city\": \"Lakeside\"}]\n",
    "# OR\n",
    "# By top n groups\n",
    "top_group_ranks = 10\n",
    "\n",
    "report_data, filter_description = ccg.get_report_data(top_group_ranks=top_group_ranks)"
   ]
  },
  {
   "cell_type": "code",
   "execution_count": 9,
   "metadata": {},
   "outputs": [
    {
     "name": "stdout",
     "output_type": "stream",
     "text": [
      "# Group Comparison Report\n",
      "\n",
      "## Introduction\n",
      "\n",
      "This report provides a detailed comparison of the top 10 city groups based on record count from a dataset containing 2769 records. The dataset includes information on various issues and product codes across different time periods. The focus is on analyzing the trends and changes in these attributes over time for each city group.\n",
      "\n",
      "## Group Filters\n",
      "\n",
      "The dataset is filtered to include only the top 10 city groups by record count. These groups are:\n",
      "\n",
      "1. Lakeside (349 records)\n",
      "2. Springfield (265 records)\n",
      "3. Hilltop (259 records)\n",
      "4. Rivertown (204 records)\n",
      "5. Riverside (184 records)\n",
      "6. Seaside (127 records)\n",
      "7. Mountainview (119 records)\n",
      "8. Brookside (111 records)\n",
      "9. Greenfield (104 records)\n",
      "10. Meadowville (94 records)\n",
      "\n",
      "## Key Findings\n",
      "\n",
      "### Lakeside\n",
      "\n",
      "- **Record Count**: Lakeside has the highest record count with 349 records.\n",
      "- **Top Issues**: Quality and service issues are the most frequent, each with 123 occurrences (rank 1).\n",
      "- **Product Codes**: Product code C is the most common with 102 occurrences (rank 1).\n",
      "- **Trends**: There was a significant increase in price issues in 2023-H1 (31 occurrences, delta +27) and a subsequent decrease in 2024-H1 (0 occurrences, delta -48).\n",
      "\n",
      "### Springfield\n",
      "\n",
      "- **Record Count**: Springfield ranks second with 265 records.\n",
      "- **Top Issues**: Quality issues are the most frequent with 96 occurrences (rank 2).\n",
      "- **Product Codes**: Product code A is the most common with 98 occurrences (rank 1).\n",
      "- **Trends**: There was a notable increase in delivery issues in 2023-H1 (44 occurrences, delta +43) followed by a decrease in 2024-H1 (0 occurrences, delta -38).\n",
      "\n",
      "### Hilltop\n",
      "\n",
      "- **Record Count**: Hilltop ranks third with 259 records.\n",
      "- **Top Issues**: Delivery issues are the most frequent with 104 occurrences (rank 1).\n",
      "- **Product Codes**: Product code D is the most common with 107 occurrences (rank 1).\n",
      "- **Trends**: There was a significant increase in service issues in 2023-H2 (55 occurrences, delta +39).\n",
      "\n",
      "### Rivertown\n",
      "\n",
      "- **Record Count**: Rivertown ranks fourth with 204 records.\n",
      "- **Top Issues**: Quality issues are the most frequent with 92 occurrences (rank 3).\n",
      "- **Product Codes**: Product code B is the most common with 79 occurrences (rank 1).\n",
      "- **Trends**: There was a substantial increase in price issues in 2023-H1 (39 occurrences, delta +35) followed by a decrease in 2023-H2 (17 occurrences, delta -22).\n",
      "\n",
      "### Riverside\n",
      "\n",
      "- **Record Count**: Riverside ranks fifth with 184 records.\n",
      "- **Top Issues**: Price issues are the most frequent with 76 occurrences (rank 3).\n",
      "- **Product Codes**: Product code A is the most common with 41 occurrences (rank 3).\n",
      "- **Trends**: There was a notable increase in description issues in 2023-H1 (39 occurrences, delta +37).\n",
      "\n",
      "### Seaside\n",
      "\n",
      "- **Record Count**: Seaside ranks sixth with 127 records.\n",
      "- **Top Issues**: Service issues are the most frequent with 44 occurrences (rank 6).\n",
      "- **Product Codes**: Product code G is the most common with 25 occurrences (rank 5).\n",
      "- **Trends**: There was a significant increase in delivery issues in 2023-H1 (23 occurrences, delta +18).\n",
      "\n",
      "### Mountainview\n",
      "\n",
      "- **Record Count**: Mountainview ranks seventh with 119 records.\n",
      "- **Top Issues**: Delivery issues are the most frequent with 58 occurrences (rank 4).\n",
      "- **Product Codes**: Product code C is the most common with 54 occurrences (rank 2).\n",
      "- **Trends**: There was a substantial increase in description issues in 2023-H1 (32 occurrences, delta +28).\n",
      "\n",
      "### Brookside\n",
      "\n",
      "- **Record Count**: Brookside ranks eighth with 111 records.\n",
      "- **Top Issues**: Price issues are the most frequent with 45 occurrences (rank 6).\n",
      "- **Product Codes**: Product code F is the most common with 23 occurrences (rank 4).\n",
      "- **Trends**: There was a significant increase in price issues in 2023-H1 (27 occurrences, delta +27).\n",
      "\n",
      "### Greenfield\n",
      "\n",
      "- **Record Count**: Greenfield ranks ninth with 104 records.\n",
      "- **Top Issues**: Description issues are the most frequent with 38 occurrences (rank 5).\n",
      "- **Product Codes**: Product code E is the most common with 25 occurrences (rank 4).\n",
      "- **Trends**: There was a notable increase in description issues in 2023-H1 (20 occurrences, delta +19).\n",
      "\n",
      "### Meadowville\n",
      "\n",
      "- **Record Count**: Meadowville ranks tenth with 94 records.\n",
      "- **Top Issues**: Price issues are the most frequent with 30 occurrences (rank 11).\n",
      "- **Product Codes**: Product code E is the most common with 33 occurrences (rank 1).\n",
      "- **Trends**: There was a significant increase in delivery issues in 2023-H2 (17 occurrences, delta +11).\n",
      "\n",
      "## Conclusion\n",
      "\n",
      "The analysis reveals distinct patterns and trends in issues and product codes across the top 10 city groups. Lakeside and Springfield show the highest record counts, with quality and service issues being prevalent. Significant changes in issue occurrences are observed in various periods, indicating potential areas for further investigation and improvement.\n"
     ]
    }
   ],
   "source": [
    "# Generates AI report on selected data\n",
    "explanation = ccg.generate_group_report(report_data, filter_description)\n",
    "print(explanation)"
   ]
  }
 ],
 "metadata": {
  "kernelspec": {
   "display_name": ".venv",
   "language": "python",
   "name": "python3"
  },
  "language_info": {
   "codemirror_mode": {
    "name": "ipython",
    "version": 3
   },
   "file_extension": ".py",
   "mimetype": "text/x-python",
   "name": "python",
   "nbconvert_exporter": "python",
   "pygments_lexer": "ipython3",
   "version": "3.11.9"
  }
 },
 "nbformat": 4,
 "nbformat_minor": 2
}
