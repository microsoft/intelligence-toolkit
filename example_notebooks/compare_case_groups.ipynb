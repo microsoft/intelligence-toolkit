{
 "cells": [
  {
   "cell_type": "markdown",
   "metadata": {},
   "source": [
    "# Compare Case Groups\n",
    "\n",
    "Demonstrates use of the Intelligence Toolkit library to compare groups in a dataset.\n",
    "\n",
    "See [readme](https://github.com/microsoft/intelligence-toolkit/blob/main/app/workflows/compare_case_groups/README.md) for more details."
   ]
  },
  {
   "cell_type": "code",
   "execution_count": 1,
   "metadata": {},
   "outputs": [
    {
     "name": "stderr",
     "output_type": "stream",
     "text": [
      "/home/ddesouza/Projects/intelligence-toolkit/.venv/lib/python3.11/site-packages/tqdm/auto.py:21: TqdmWarning: IProgress not found. Please update jupyter and ipywidgets. See https://ipywidgets.readthedocs.io/en/stable/user_install.html\n",
      "  from .autonotebook import tqdm as notebook_tqdm\n"
     ]
    }
   ],
   "source": [
    "import sys\n",
    "\n",
    "sys.path.append(\"..\")\n",
    "import polars as pl\n",
    "from toolkit.compare_case_groups.api import CompareCaseGroups"
   ]
  },
  {
   "cell_type": "code",
   "execution_count": 2,
   "metadata": {},
   "outputs": [
    {
     "name": "stdout",
     "output_type": "stream",
     "text": [
      "Loaded data\n"
     ]
    }
   ],
   "source": [
    "# Create the workflow object\n",
    "import os\n",
    "from toolkit.AI.openai_configuration import OpenAIConfiguration\n",
    "\n",
    "\n",
    "ccg = CompareCaseGroups()\n",
    "\n",
    "ai_configuration = OpenAIConfiguration(\n",
    "    {\n",
    "        \"api_type\": \"OpenAI\",\n",
    "        \"api_key\": os.environ[\"OPENAI_API_KEY\"],\n",
    "        \"model\": \"gpt-4o\",\n",
    "    }\n",
    ")\n",
    "ccg.set_ai_configuration(ai_configuration)\n",
    "\n",
    "data_path = \"../example_outputs/compare_case_groups/customer_complaints/customer_complaints_prepared.csv\"\n",
    "customer_cases = pl.read_csv(data_path)\n",
    "print(\"Loaded data\")"
   ]
  },
  {
   "cell_type": "code",
   "execution_count": 3,
   "metadata": {},
   "outputs": [
    {
     "name": "stdout",
     "output_type": "stream",
     "text": [
      "Selected params for workflow\n"
     ]
    }
   ],
   "source": [
    "filters = []\n",
    "groups = [\"city\"]\n",
    "aggregates = [\n",
    "    \"product_code\",\n",
    "    \"delivery_issue\",\n",
    "    \"description_issue\",\n",
    "    \"price_issue\",\n",
    "    \"quality_issue\",\n",
    "    \"service_issue\",\n",
    "]\n",
    "temporal = \"period\"\n",
    "print(\"Selected params for workflow\")"
   ]
  },
  {
   "cell_type": "code",
   "execution_count": 4,
   "metadata": {},
   "outputs": [
    {
     "name": "stdout",
     "output_type": "stream",
     "text": [
      "Created data summary\n"
     ]
    }
   ],
   "source": [
    "ccg.create_data_summary(\n",
    "    customer_cases,\n",
    "    filters,\n",
    "    groups,\n",
    "    aggregates,\n",
    "    temporal,\n",
    ")\n",
    "print(\"Created data summary\")"
   ]
  },
  {
   "cell_type": "code",
   "execution_count": 5,
   "metadata": {},
   "outputs": [
    {
     "data": {
      "text/html": [
       "<div><style>\n",
       ".dataframe > thead > tr,\n",
       ".dataframe > tbody > tr {\n",
       "  text-align: right;\n",
       "  white-space: pre-wrap;\n",
       "}\n",
       "</style>\n",
       "<small>shape: (5, 10)</small><table border=\"1\" class=\"dataframe\"><thead><tr><th>city</th><th>group_count</th><th>group_rank</th><th>attribute_value</th><th>attribute_count</th><th>attribute_rank</th><th>period_window</th><th>period_window_count</th><th>period_window_rank</th><th>period_window_delta</th></tr><tr><td>str</td><td>u32</td><td>i32</td><td>str</td><td>u32</td><td>i32</td><td>str</td><td>u32</td><td>i32</td><td>i32</td></tr></thead><tbody><tr><td>&quot;Baytown&quot;</td><td>8</td><td>50</td><td>&quot;delivery_issue…</td><td>6</td><td>49</td><td>&quot;2020-H1&quot;</td><td>1</td><td>4</td><td>0</td></tr><tr><td>&quot;Baytown&quot;</td><td>8</td><td>50</td><td>&quot;description_is…</td><td>5</td><td>56</td><td>&quot;2020-H1&quot;</td><td>1</td><td>4</td><td>0</td></tr><tr><td>&quot;Baytown&quot;</td><td>8</td><td>50</td><td>&quot;price_issue:fa…</td><td>5</td><td>56</td><td>&quot;2020-H1&quot;</td><td>1</td><td>4</td><td>0</td></tr><tr><td>&quot;Baytown&quot;</td><td>8</td><td>50</td><td>&quot;product_code:G…</td><td>1</td><td>44</td><td>&quot;2020-H1&quot;</td><td>1</td><td>3</td><td>0</td></tr><tr><td>&quot;Baytown&quot;</td><td>8</td><td>50</td><td>&quot;quality_issue:…</td><td>6</td><td>51</td><td>&quot;2020-H1&quot;</td><td>1</td><td>4</td><td>0</td></tr></tbody></table></div>"
      ],
      "text/plain": [
       "shape: (5, 10)\n",
       "┌─────────┬────────────┬───────────┬───────────┬───┬───────────┬───────────┬───────────┬───────────┐\n",
       "│ city    ┆ group_coun ┆ group_ran ┆ attribute ┆ … ┆ period_wi ┆ period_wi ┆ period_wi ┆ period_wi │\n",
       "│ ---     ┆ t          ┆ k         ┆ _value    ┆   ┆ ndow      ┆ ndow_coun ┆ ndow_rank ┆ ndow_delt │\n",
       "│ str     ┆ ---        ┆ ---       ┆ ---       ┆   ┆ ---       ┆ t         ┆ ---       ┆ a         │\n",
       "│         ┆ u32        ┆ i32       ┆ str       ┆   ┆ str       ┆ ---       ┆ i32       ┆ ---       │\n",
       "│         ┆            ┆           ┆           ┆   ┆           ┆ u32       ┆           ┆ i32       │\n",
       "╞═════════╪════════════╪═══════════╪═══════════╪═══╪═══════════╪═══════════╪═══════════╪═══════════╡\n",
       "│ Baytown ┆ 8          ┆ 50        ┆ delivery_ ┆ … ┆ 2020-H1   ┆ 1         ┆ 4         ┆ 0         │\n",
       "│         ┆            ┆           ┆ issue:fal ┆   ┆           ┆           ┆           ┆           │\n",
       "│         ┆            ┆           ┆ se        ┆   ┆           ┆           ┆           ┆           │\n",
       "│ Baytown ┆ 8          ┆ 50        ┆ descripti ┆ … ┆ 2020-H1   ┆ 1         ┆ 4         ┆ 0         │\n",
       "│         ┆            ┆           ┆ on_issue: ┆   ┆           ┆           ┆           ┆           │\n",
       "│         ┆            ┆           ┆ false     ┆   ┆           ┆           ┆           ┆           │\n",
       "│ Baytown ┆ 8          ┆ 50        ┆ price_iss ┆ … ┆ 2020-H1   ┆ 1         ┆ 4         ┆ 0         │\n",
       "│         ┆            ┆           ┆ ue:false  ┆   ┆           ┆           ┆           ┆           │\n",
       "│ Baytown ┆ 8          ┆ 50        ┆ product_c ┆ … ┆ 2020-H1   ┆ 1         ┆ 3         ┆ 0         │\n",
       "│         ┆            ┆           ┆ ode:G     ┆   ┆           ┆           ┆           ┆           │\n",
       "│ Baytown ┆ 8          ┆ 50        ┆ quality_i ┆ … ┆ 2020-H1   ┆ 1         ┆ 4         ┆ 0         │\n",
       "│         ┆            ┆           ┆ ssue:fals ┆   ┆           ┆           ┆           ┆           │\n",
       "│         ┆            ┆           ┆ e         ┆   ┆           ┆           ┆           ┆           │\n",
       "└─────────┴────────────┴───────────┴───────────┴───┴───────────┴───────────┴───────────┴───────────┘"
      ]
     },
     "execution_count": 5,
     "metadata": {},
     "output_type": "execute_result"
    }
   ],
   "source": [
    "ccg.model_df.head()"
   ]
  },
  {
   "cell_type": "code",
   "execution_count": 6,
   "metadata": {},
   "outputs": [
    {
     "data": {
      "text/plain": [
       "'This table shows:\\n- A summary of all **2769** data records with values for all grouping attributes\\n- The **group_count** of records for all [**city**] groups, and corresponding **group_rank**\\n- The **attribute_count** of each **attribute_value** for all [**city**] groups, and corresponding **attribute_rank**\\n- The **period_window_count** of each **attribute_value** for each **period_window** for all [**city**] groups, and corresponding **period_window_rank**\\n- The **period_window_delta**, or change in the **attribute_value_count** for successive **period_window** values, within each [**city**] group'"
      ]
     },
     "execution_count": 6,
     "metadata": {},
     "output_type": "execute_result"
    }
   ],
   "source": [
    "ccg.get_summary_description()"
   ]
  },
  {
   "cell_type": "code",
   "execution_count": 7,
   "metadata": {},
   "outputs": [],
   "source": [
    "# Select groups to generate reports\n",
    "# By group name\n",
    "groups = [\"Baytown\", \"Brookside\"]\n",
    "# OR\n",
    "# By top n groups\n",
    "top_groups = 4\n",
    "\n",
    "report_data, filter_description = ccg.get_report_data(top_group_ranks=top_groups)"
   ]
  },
  {
   "cell_type": "code",
   "execution_count": 8,
   "metadata": {},
   "outputs": [
    {
     "name": "stdout",
     "output_type": "stream",
     "text": [
      "# Group Comparison Report\n",
      "\n",
      "## Introduction\n",
      "\n",
      "This report provides a detailed comparison of the top four city groups based on record count from a dataset containing 2769 records. The cities included in this analysis are Lakeside, Springfield, Hilltop, and Rivertown. The report examines various attributes and their changes over different time periods.\n",
      "\n",
      "## City Groups Overview\n",
      "\n",
      "The dataset is filtered to include the top four cities by record count:\n",
      "\n",
      "1. **Lakeside**: 349 records\n",
      "2. **Springfield**: 265 records\n",
      "3. **Hilltop**: 259 records\n",
      "4. **Rivertown**: 204 records\n",
      "\n",
      "## Attribute Analysis\n",
      "\n",
      "### Lakeside\n",
      "\n",
      "- **Delivery Issues**: The majority of records indicate no delivery issues (274), ranking first in this category. There is a significant increase in records without delivery issues in 2023-H2 (124), a rise of 100 from the previous period.\n",
      "- **Description Issues**: Most records show no description issues (285), also ranking first. The count increased significantly in 2023-H2 (131), up by 91.\n",
      "- **Price Issues**: Records without price issues are prevalent (256), ranking first. There was a notable increase in 2023-H2 (116), up by 83.\n",
      "- **Quality Issues**: Records without quality issues are dominant (226), ranking first. The count rose to 86 in 2023-H2, an increase of 65.\n",
      "\n",
      "### Springfield\n",
      "\n",
      "- **Delivery Issues**: Records without delivery issues are common (177), ranking second. There was a substantial increase in 2023-H1 (85), up by 83.\n",
      "- **Description Issues**: Most records indicate no description issues (229), ranking second. The count increased to 110 in 2023-H1, a rise of 66.\n",
      "- **Price Issues**: Records without price issues are frequent (172), ranking third. The count rose to 80 in 2023-H1, an increase of 61.\n",
      "- **Quality Issues**: Records without quality issues are significant (169), ranking third. The count increased to 78 in 2023-H1, up by 77.\n",
      "\n",
      "### Hilltop\n",
      "\n",
      "- **Delivery Issues**: Records with delivery issues are notable (104), ranking first. There was a decrease in 2023-H2 (49), down by 52.\n",
      "- **Description Issues**: Most records show no description issues (206), ranking third. The count increased to 119 in 2023-H2, up by 70.\n",
      "- **Price Issues**: Records without price issues are significant (199), ranking second. The count rose to 108 in 2023-H2, an increase of 77.\n",
      "- **Quality Issues**: Records without quality issues are prevalent (184), ranking second. The count increased to 99 in 2023-H2, up by 65.\n",
      "\n",
      "### Rivertown\n",
      "\n",
      "- **Delivery Issues**: Records without delivery issues are common (159), ranking third. There was a significant increase in 2023-H1 (78), up by 76.\n",
      "- **Description Issues**: Most records indicate no description issues (172), ranking fourth. The count increased to 83 in 2023-H1, a rise of 61.\n",
      "- **Price Issues**: Records without price issues are frequent (138), ranking fourth. The count rose to 61 in 2023-H1, an increase of 44.\n",
      "- **Quality Issues**: Records without quality issues are notable (112), ranking fifth. The count increased to 60 in 2023-H1, up by 58.\n",
      "\n",
      "## Conclusion\n",
      "\n",
      "The analysis highlights the differences in attribute occurrences and changes over time across the top four city groups. Lakeside consistently ranks first in most categories, showing significant increases in records without issues over time. Springfield and Hilltop also show notable increases in records without issues, while Rivertown exhibits moderate growth. This report provides insights into the trends and patterns of issues across these cities, aiding in understanding and addressing potential areas of concern.\n"
     ]
    }
   ],
   "source": [
    "# Generates AI report on selected data\n",
    "explanation = ccg.generate_group_report(report_data, filter_description)\n",
    "print(explanation)"
   ]
  }
 ],
 "metadata": {
  "kernelspec": {
   "display_name": ".venv",
   "language": "python",
   "name": "python3"
  },
  "language_info": {
   "codemirror_mode": {
    "name": "ipython",
    "version": 3
   },
   "file_extension": ".py",
   "mimetype": "text/x-python",
   "name": "python",
   "nbconvert_exporter": "python",
   "pygments_lexer": "ipython3",
   "version": "3.11.9"
  }
 },
 "nbformat": 4,
 "nbformat_minor": 2
}
