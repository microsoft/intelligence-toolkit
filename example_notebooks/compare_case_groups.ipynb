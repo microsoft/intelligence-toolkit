{
 "cells": [
  {
   "cell_type": "markdown",
   "metadata": {},
   "source": [
    "# Compare Case Groups\n",
    "\n",
    "Demonstrates use of the Intelligence Toolkit library to compare groups in a dataset.\n",
    "\n",
    "See [readme](https://github.com/microsoft/intelligence-toolkit/blob/main/app/workflows/compare_case_groups/README.md) for more details."
   ]
  },
  {
   "cell_type": "code",
   "execution_count": 1,
   "metadata": {},
   "outputs": [
    {
     "name": "stderr",
     "output_type": "stream",
     "text": [
      "/home/ddesouza/Projects/intelligence-toolkit/.venv/lib/python3.11/site-packages/sentence_transformers/cross_encoder/CrossEncoder.py:13: TqdmWarning: IProgress not found. Please update jupyter and ipywidgets. See https://ipywidgets.readthedocs.io/en/stable/user_install.html\n",
      "  from tqdm.autonotebook import tqdm, trange\n"
     ]
    }
   ],
   "source": [
    "import sys\n",
    "\n",
    "sys.path.append(\"..\")\n",
    "import polars as pl\n",
    "from toolkit.compare_case_groups.api import CompareCaseGroups"
   ]
  },
  {
   "cell_type": "code",
   "execution_count": 2,
   "metadata": {},
   "outputs": [
    {
     "name": "stdout",
     "output_type": "stream",
     "text": [
      "Loaded data\n"
     ]
    }
   ],
   "source": [
    "# Create the workflow object\n",
    "import os\n",
    "from toolkit.AI.openai_configuration import OpenAIConfiguration\n",
    "\n",
    "\n",
    "ccg = CompareCaseGroups()\n",
    "\n",
    "ai_configuration = OpenAIConfiguration(\n",
    "    {\n",
    "        \"api_type\": \"OpenAI\",\n",
    "        \"api_key\": os.environ[\"OPENAI_API_KEY\"],\n",
    "        \"model\": \"gpt-4o\",\n",
    "    }\n",
    ")\n",
    "ccg.set_ai_configuration(ai_configuration)\n",
    "\n",
    "data_path = \"../example_outputs/compare_case_groups/customer_complaints/customer_complaints_prepared.csv\"\n",
    "customer_cases = pl.read_csv(data_path)\n",
    "print(\"Loaded data\")"
   ]
  },
  {
   "cell_type": "code",
   "execution_count": 3,
   "metadata": {},
   "outputs": [
    {
     "name": "stdout",
     "output_type": "stream",
     "text": [
      "Selected params for workflow\n"
     ]
    }
   ],
   "source": [
    "filters = []\n",
    "### If filtering, options here:\n",
    "# ccg.get_filter_options(customer_cases)\n",
    "\n",
    "groups = [\"city\"]\n",
    "aggregates = [\n",
    "    \"product_code\",\n",
    "    \"delivery_issue\",\n",
    "    \"description_issue\",\n",
    "    \"price_issue\",\n",
    "    \"quality_issue\",\n",
    "    \"service_issue\",\n",
    "]\n",
    "temporal = \"period\"\n",
    "print(\"Selected params for workflow\")"
   ]
  },
  {
   "cell_type": "code",
   "execution_count": 4,
   "metadata": {},
   "outputs": [
    {
     "name": "stdout",
     "output_type": "stream",
     "text": [
      "Created data summary\n"
     ]
    }
   ],
   "source": [
    "ccg.create_data_summary(\n",
    "    customer_cases,\n",
    "    [],\n",
    "    groups,\n",
    "    aggregates,\n",
    "    temporal,\n",
    ")\n",
    "print(\"Created data summary\")"
   ]
  },
  {
   "cell_type": "code",
   "execution_count": 5,
   "metadata": {},
   "outputs": [
    {
     "data": {
      "text/html": [
       "<div><style>\n",
       ".dataframe > thead > tr,\n",
       ".dataframe > tbody > tr {\n",
       "  text-align: right;\n",
       "  white-space: pre-wrap;\n",
       "}\n",
       "</style>\n",
       "<small>shape: (5, 10)</small><table border=\"1\" class=\"dataframe\"><thead><tr><th>city</th><th>group_count</th><th>group_rank</th><th>attribute_value</th><th>attribute_count</th><th>attribute_rank</th><th>period_window</th><th>period_window_count</th><th>period_window_rank</th><th>period_window_delta</th></tr><tr><td>str</td><td>u32</td><td>i32</td><td>str</td><td>u32</td><td>i32</td><td>str</td><td>u32</td><td>i32</td><td>i32</td></tr></thead><tbody><tr><td>&quot;Baytown&quot;</td><td>8</td><td>50</td><td>&quot;delivery_issue…</td><td>6</td><td>49</td><td>&quot;2020-H1&quot;</td><td>1</td><td>4</td><td>0</td></tr><tr><td>&quot;Baytown&quot;</td><td>8</td><td>50</td><td>&quot;delivery_issue…</td><td>2</td><td>56</td><td>&quot;2020-H1&quot;</td><td>0</td><td>3</td><td>0</td></tr><tr><td>&quot;Baytown&quot;</td><td>8</td><td>50</td><td>&quot;description_is…</td><td>5</td><td>56</td><td>&quot;2020-H1&quot;</td><td>1</td><td>4</td><td>0</td></tr><tr><td>&quot;Baytown&quot;</td><td>8</td><td>50</td><td>&quot;description_is…</td><td>3</td><td>41</td><td>&quot;2020-H1&quot;</td><td>0</td><td>3</td><td>0</td></tr><tr><td>&quot;Baytown&quot;</td><td>8</td><td>50</td><td>&quot;price_issue:fa…</td><td>5</td><td>56</td><td>&quot;2020-H1&quot;</td><td>1</td><td>4</td><td>0</td></tr></tbody></table></div>"
      ],
      "text/plain": [
       "shape: (5, 10)\n",
       "┌─────────┬────────────┬───────────┬───────────┬───┬───────────┬───────────┬───────────┬───────────┐\n",
       "│ city    ┆ group_coun ┆ group_ran ┆ attribute ┆ … ┆ period_wi ┆ period_wi ┆ period_wi ┆ period_wi │\n",
       "│ ---     ┆ t          ┆ k         ┆ _value    ┆   ┆ ndow      ┆ ndow_coun ┆ ndow_rank ┆ ndow_delt │\n",
       "│ str     ┆ ---        ┆ ---       ┆ ---       ┆   ┆ ---       ┆ t         ┆ ---       ┆ a         │\n",
       "│         ┆ u32        ┆ i32       ┆ str       ┆   ┆ str       ┆ ---       ┆ i32       ┆ ---       │\n",
       "│         ┆            ┆           ┆           ┆   ┆           ┆ u32       ┆           ┆ i32       │\n",
       "╞═════════╪════════════╪═══════════╪═══════════╪═══╪═══════════╪═══════════╪═══════════╪═══════════╡\n",
       "│ Baytown ┆ 8          ┆ 50        ┆ delivery_ ┆ … ┆ 2020-H1   ┆ 1         ┆ 4         ┆ 0         │\n",
       "│         ┆            ┆           ┆ issue:fal ┆   ┆           ┆           ┆           ┆           │\n",
       "│         ┆            ┆           ┆ se        ┆   ┆           ┆           ┆           ┆           │\n",
       "│ Baytown ┆ 8          ┆ 50        ┆ delivery_ ┆ … ┆ 2020-H1   ┆ 0         ┆ 3         ┆ 0         │\n",
       "│         ┆            ┆           ┆ issue:tru ┆   ┆           ┆           ┆           ┆           │\n",
       "│         ┆            ┆           ┆ e         ┆   ┆           ┆           ┆           ┆           │\n",
       "│ Baytown ┆ 8          ┆ 50        ┆ descripti ┆ … ┆ 2020-H1   ┆ 1         ┆ 4         ┆ 0         │\n",
       "│         ┆            ┆           ┆ on_issue: ┆   ┆           ┆           ┆           ┆           │\n",
       "│         ┆            ┆           ┆ false     ┆   ┆           ┆           ┆           ┆           │\n",
       "│ Baytown ┆ 8          ┆ 50        ┆ descripti ┆ … ┆ 2020-H1   ┆ 0         ┆ 3         ┆ 0         │\n",
       "│         ┆            ┆           ┆ on_issue: ┆   ┆           ┆           ┆           ┆           │\n",
       "│         ┆            ┆           ┆ true      ┆   ┆           ┆           ┆           ┆           │\n",
       "│ Baytown ┆ 8          ┆ 50        ┆ price_iss ┆ … ┆ 2020-H1   ┆ 1         ┆ 4         ┆ 0         │\n",
       "│         ┆            ┆           ┆ ue:false  ┆   ┆           ┆           ┆           ┆           │\n",
       "└─────────┴────────────┴───────────┴───────────┴───┴───────────┴───────────┴───────────┴───────────┘"
      ]
     },
     "execution_count": 5,
     "metadata": {},
     "output_type": "execute_result"
    }
   ],
   "source": [
    "ccg.model_df.head()"
   ]
  },
  {
   "cell_type": "code",
   "execution_count": 6,
   "metadata": {},
   "outputs": [
    {
     "data": {
      "text/plain": [
       "'This table shows:\\n- A summary of all **2769** data records with values for all grouping attributes\\n- The **group_count** of records for all [**city**] groups, and corresponding **group_rank**\\n- The **attribute_count** of each **attribute_value** for all [**city**] groups, and corresponding **attribute_rank**\\n- The **period_window_count** of each **attribute_value** for each **period_window** for all [**city**] groups, and corresponding **period_window_rank**\\n- The **period_window_delta**, or change in the **attribute_value_count** for successive **period_window** values, within each [**city**] group'"
      ]
     },
     "execution_count": 6,
     "metadata": {},
     "output_type": "execute_result"
    }
   ],
   "source": [
    "ccg.get_summary_description()"
   ]
  },
  {
   "cell_type": "code",
   "execution_count": 9,
   "metadata": {},
   "outputs": [],
   "source": [
    "# Select groups to generate reports\n",
    "# By group name\n",
    "selected_groups = [\"Lakeside\"]\n",
    "# OR\n",
    "# By top n groups\n",
    "top_group_ranks = 10\n",
    "\n",
    "report_data, filter_description = ccg.get_report_data(selected_groups=selected_groups)"
   ]
  },
  {
   "cell_type": "code",
   "execution_count": 10,
   "metadata": {},
   "outputs": [
    {
     "name": "stdout",
     "output_type": "stream",
     "text": [
      "# Group Comparison Report: Lakeside\n",
      "\n",
      "## Introduction\n",
      "\n",
      "This report focuses on the dataset filtered to include only the city group \"Lakeside.\" The dataset provides a comprehensive overview of various issues and product codes over different time periods, from the first half of 2020 to the second half of 2026. The analysis includes counts, ranks, and changes in these attributes over time.\n",
      "\n",
      "## Data Summary\n",
      "\n",
      "The dataset consists of 349 records for the city group \"Lakeside.\" The analysis covers several attributes, including delivery issues, description issues, price issues, product codes, quality issues, and service issues. Each attribute is evaluated for its occurrence and rank within the group, as well as its changes over successive time periods.\n",
      "\n",
      "## Key Findings\n",
      "\n",
      "### Delivery Issues\n",
      "\n",
      "- **False Delivery Issues**: The count of records without delivery issues is consistently high, with a peak in the second half of 2023 (124 records, rank 1). There is a significant increase in the first half of 2023 (76 records, delta +63) compared to the previous period.\n",
      "- **True Delivery Issues**: The count of records with delivery issues remains relatively low, with a notable increase in the second half of 2023 (40 records, rank 2, delta +22).\n",
      "\n",
      "### Description Issues\n",
      "\n",
      "- **False Description Issues**: The records without description issues show a similar pattern to delivery issues, with a peak in the second half of 2023 (131 records, rank 1). The first half of 2023 also shows a substantial increase (76 records, delta +63).\n",
      "- **True Description Issues**: The records with description issues increase in the second half of 2023 (33 records, rank 1, delta +15).\n",
      "\n",
      "### Price Issues\n",
      "\n",
      "- **False Price Issues**: The count of records without price issues peaks in the second half of 2023 (116 records, rank 1), with a significant increase in the first half of 2023 (63 records, delta +49).\n",
      "- **True Price Issues**: The records with price issues also increase in the second half of 2023 (48 records, rank 1, delta +17).\n",
      "\n",
      "### Product Codes\n",
      "\n",
      "- **Product Code A**: The count of records with product code A increases in the second half of 2023 (29 records, rank 1, delta +21).\n",
      "- **Product Code B**: The records with product code B show a steady increase, peaking in the second half of 2023 (26 records, rank 1, delta +2).\n",
      "- **Product Code C**: The count of records with product code C increases in the second half of 2023 (27 records, rank 2, delta +4).\n",
      "- **Product Code D**: The records with product code D show a significant increase in the second half of 2023 (35 records, rank 2, delta +28).\n",
      "\n",
      "### Quality Issues\n",
      "\n",
      "- **False Quality Issues**: The records without quality issues peak in the second half of 2023 (86 records, rank 2, delta +26).\n",
      "- **True Quality Issues**: The records with quality issues increase significantly in the second half of 2023 (78 records, rank 1, delta +44).\n",
      "\n",
      "### Service Issues\n",
      "\n",
      "- **False Service Issues**: The count of records without service issues peaks in the second half of 2023 (117 records, rank 1, delta +47).\n",
      "- **True Service Issues**: The records with service issues also increase significantly in the second half of 2023 (47 records, rank 2, delta +23).\n",
      "\n",
      "## Conclusion\n",
      "\n",
      "The analysis of the Lakeside group reveals significant trends in various issues and product codes over time. Notably, there are substantial increases in records without delivery, description, and price issues in the first half of 2023, followed by peaks in the second half of 2023. Similarly, records with true issues also show notable increases during these periods. The product codes exhibit varying trends, with some codes showing significant increases in the latter half of 2023. Overall, the data provides valuable insights into the dynamics of issues and product codes within the Lakeside group over the analyzed periods.\n"
     ]
    }
   ],
   "source": [
    "# Generates AI report on selected data\n",
    "explanation = ccg.generate_group_report(report_data, filter_description)\n",
    "print(explanation)"
   ]
  }
 ],
 "metadata": {
  "kernelspec": {
   "display_name": ".venv",
   "language": "python",
   "name": "python3"
  },
  "language_info": {
   "codemirror_mode": {
    "name": "ipython",
    "version": 3
   },
   "file_extension": ".py",
   "mimetype": "text/x-python",
   "name": "python",
   "nbconvert_exporter": "python",
   "pygments_lexer": "ipython3",
   "version": "3.11.9"
  }
 },
 "nbformat": 4,
 "nbformat_minor": 2
}
