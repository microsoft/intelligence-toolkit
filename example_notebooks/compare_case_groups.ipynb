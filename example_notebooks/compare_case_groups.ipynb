{
 "cells": [
  {
   "cell_type": "markdown",
   "metadata": {},
   "source": [
    "# Compare Case Groups\n",
    "\n",
    "Demonstrates use of the Intelligence Toolkit library to compare groups in a dataset.\n",
    "\n",
    "See [readme](https://github.com/microsoft/intelligence-toolkit/blob/main/app/workflows/compare_case_groups/README.md) for more details."
   ]
  },
  {
   "cell_type": "code",
   "execution_count": 16,
   "metadata": {},
   "outputs": [],
   "source": [
    "import sys\n",
    "\n",
    "sys.path.append(\"..\")\n",
    "import polars as pl\n",
    "from toolkit.compare_case_groups.api import CompareCaseGroups"
   ]
  },
  {
   "cell_type": "code",
   "execution_count": null,
   "metadata": {},
   "outputs": [],
   "source": [
    "# Create the workflow object\n",
    "import os\n",
    "from toolkit.AI.openai_configuration import OpenAIConfiguration\n",
    "\n",
    "\n",
    "ccg = CompareCaseGroups()\n",
    "\n",
    "ai_configuration = OpenAIConfiguration(\n",
    "    {\n",
    "        \"api_type\": \"OpenAI\",\n",
    "        \"api_key\": os.environ[\"OPENAI_API_KEY\"],\n",
    "        \"model\": \"gpt-4o\",\n",
    "    }\n",
    ")\n",
    "ccg.set_ai_configuration(ai_configuration)\n",
    "\n",
    "data_path = \"../example_outputs/compare_case_groups/customer_complaints/customer_complaints_prepared.csv\"\n",
    "customer_cases = pl.read_csv(data_path)\n",
    "print(\"Loaded data\")"
   ]
  },
  {
   "cell_type": "code",
   "execution_count": 18,
   "metadata": {},
   "outputs": [],
   "source": [
    "filters = []\n",
    "groups = [\"city\"]\n",
    "aggregates = [\n",
    "    \"product_code\",\n",
    "    \"delivery_issue\",\n",
    "    \"description_issue\",\n",
    "    \"price_issue\",\n",
    "    \"quality_issue\",\n",
    "    \"service_issue\",\n",
    "]\n",
    "temporal = \"period\""
   ]
  },
  {
   "cell_type": "code",
   "execution_count": 19,
   "metadata": {},
   "outputs": [],
   "source": [
    "ccg.create_data_summary(\n",
    "    customer_cases,\n",
    "    filters,\n",
    "    groups,\n",
    "    aggregates,\n",
    "    temporal,\n",
    ")"
   ]
  },
  {
   "cell_type": "code",
   "execution_count": null,
   "metadata": {},
   "outputs": [],
   "source": [
    "ccg.model_df.head()"
   ]
  },
  {
   "cell_type": "code",
   "execution_count": null,
   "metadata": {},
   "outputs": [],
   "source": [
    "ccg.get_summary_description()"
   ]
  },
  {
   "cell_type": "code",
   "execution_count": 24,
   "metadata": {},
   "outputs": [],
   "source": [
    "# Select groups to generate reports\n",
    "# By group name\n",
    "groups = [\"Baytown\", \"Brookside\"]\n",
    "# OR\n",
    "# By top n groups\n",
    "top_groups = 4\n",
    "\n",
    "report_data, filter_description = ccg.get_report_data(top_group_ranks=top_groups)"
   ]
  },
  {
   "cell_type": "code",
   "execution_count": null,
   "metadata": {},
   "outputs": [],
   "source": [
    "# # Explain the top-ranked pattern of longest length\n",
    "explanation = ccg.generate_group_report(report_data, filter_description)\n",
    "print(explanation)"
   ]
  }
 ],
 "metadata": {
  "kernelspec": {
   "display_name": ".venv",
   "language": "python",
   "name": "python3"
  },
  "language_info": {
   "codemirror_mode": {
    "name": "ipython",
    "version": 3
   },
   "file_extension": ".py",
   "mimetype": "text/x-python",
   "name": "python",
   "nbconvert_exporter": "python",
   "pygments_lexer": "ipython3",
   "version": "3.11.9"
  }
 },
 "nbformat": 4,
 "nbformat_minor": 2
}
