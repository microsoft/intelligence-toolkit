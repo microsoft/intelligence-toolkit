{
 "cells": [
  {
   "cell_type": "markdown",
   "metadata": {},
   "source": [
    "# Compare Case Groups\n",
    "\n",
    "Demonstrates use of the Intelligence Toolkit library to compare groups in a dataset.\n",
    "\n",
    "See [readme](https://github.com/microsoft/intelligence-toolkit/blob/main/app/workflows/compare_case_groups/README.md) for more details."
   ]
  },
  {
   "cell_type": "code",
   "execution_count": 1,
   "metadata": {},
   "outputs": [
    {
     "name": "stderr",
     "output_type": "stream",
     "text": [
      "/home/ddesouza/Projects/intelligence-toolkit/.venv/lib/python3.11/site-packages/sentence_transformers/cross_encoder/CrossEncoder.py:13: TqdmWarning: IProgress not found. Please update jupyter and ipywidgets. See https://ipywidgets.readthedocs.io/en/stable/user_install.html\n",
      "  from tqdm.autonotebook import tqdm, trange\n"
     ]
    }
   ],
   "source": [
    "import sys\n",
    "\n",
    "sys.path.append(\"..\")\n",
    "import polars as pl\n",
    "from intelligence_toolkit.compare_case_groups.api import CompareCaseGroups"
   ]
  },
  {
   "cell_type": "code",
   "execution_count": 2,
   "metadata": {},
   "outputs": [
    {
     "name": "stdout",
     "output_type": "stream",
     "text": [
      "Loaded data\n"
     ]
    }
   ],
   "source": [
    "# Create the workflow object\n",
    "import os\n",
    "from intelligence_toolkit.helpers import df_functions\n",
    "from intelligence_toolkit.AI.openai_configuration import OpenAIConfiguration\n",
    "import pandas as pd\n",
    "\n",
    "ccg = CompareCaseGroups()\n",
    "\n",
    "ai_configuration = OpenAIConfiguration(\n",
    "    {\n",
    "        \"api_type\": \"OpenAI\",\n",
    "        \"api_key\": os.environ[\"OPENAI_API_KEY\"],\n",
    "        \"model\": \"gpt-4o\",\n",
    "    }\n",
    ")\n",
    "ccg.set_ai_configuration(ai_configuration)\n",
    "\n",
    "data_path = \"../example_outputs/compare_case_groups/customer_complaints/customer_complaints_prepared.csv\"\n",
    "customer_cases = pd.read_csv(data_path)\n",
    "customer_cases = pl.from_pandas(df_functions.supress_boolean_binary(customer_cases))\n",
    "print(\"Loaded data\")"
   ]
  },
  {
   "cell_type": "code",
   "execution_count": 3,
   "metadata": {},
   "outputs": [
    {
     "name": "stdout",
     "output_type": "stream",
     "text": [
      "Selected params for workflow\n"
     ]
    }
   ],
   "source": [
    "filters = []\n",
    "### If filtering, options here:\n",
    "# ccg.get_filter_options(customer_cases)\n",
    "\n",
    "groups = [\"city\"]\n",
    "aggregates = [\n",
    "    \"product_code\",\n",
    "    \"delivery_issue\",\n",
    "    \"description_issue\",\n",
    "    \"price_issue\",\n",
    "    \"quality_issue\",\n",
    "    \"service_issue\",\n",
    "]\n",
    "temporal = \"period\"\n",
    "print(\"Selected params for workflow\")"
   ]
  },
  {
   "cell_type": "code",
   "execution_count": 4,
   "metadata": {},
   "outputs": [
    {
     "name": "stdout",
     "output_type": "stream",
     "text": [
      "Created data summary\n"
     ]
    }
   ],
   "source": [
    "ccg.create_data_summary(\n",
    "    customer_cases,\n",
    "    [],\n",
    "    groups,\n",
    "    aggregates,\n",
    "    temporal,\n",
    ")\n",
    "print(\"Created data summary\")"
   ]
  },
  {
   "cell_type": "code",
   "execution_count": 5,
   "metadata": {},
   "outputs": [
    {
     "data": {
      "text/plain": [
       "9646"
      ]
     },
     "execution_count": 5,
     "metadata": {},
     "output_type": "execute_result"
    }
   ],
   "source": [
    "len(ccg.model_df)"
   ]
  },
  {
   "cell_type": "code",
   "execution_count": 6,
   "metadata": {},
   "outputs": [
    {
     "data": {
      "text/html": [
       "<div><style>\n",
       ".dataframe > thead > tr,\n",
       ".dataframe > tbody > tr {\n",
       "  text-align: right;\n",
       "  white-space: pre-wrap;\n",
       "}\n",
       "</style>\n",
       "<small>shape: (5, 10)</small><table border=\"1\" class=\"dataframe\"><thead><tr><th>city</th><th>group_count</th><th>group_rank</th><th>attribute_value</th><th>attribute_count</th><th>attribute_rank</th><th>period_window</th><th>period_window_count</th><th>period_window_rank</th><th>period_window_delta</th></tr><tr><td>str</td><td>u32</td><td>i32</td><td>str</td><td>u32</td><td>i32</td><td>str</td><td>u32</td><td>i32</td><td>i32</td></tr></thead><tbody><tr><td>&quot;Baytown&quot;</td><td>8</td><td>50</td><td>&quot;delivery_issue…</td><td>2</td><td>56</td><td>&quot;2020-H1&quot;</td><td>0</td><td>3</td><td>0</td></tr><tr><td>&quot;Baytown&quot;</td><td>8</td><td>50</td><td>&quot;description_is…</td><td>3</td><td>41</td><td>&quot;2020-H1&quot;</td><td>0</td><td>3</td><td>0</td></tr><tr><td>&quot;Baytown&quot;</td><td>8</td><td>50</td><td>&quot;price_issue:Tr…</td><td>3</td><td>50</td><td>&quot;2020-H1&quot;</td><td>0</td><td>2</td><td>0</td></tr><tr><td>&quot;Baytown&quot;</td><td>8</td><td>50</td><td>&quot;product_code:A…</td><td>1</td><td>38</td><td>&quot;2020-H1&quot;</td><td>0</td><td>2</td><td>0</td></tr><tr><td>&quot;Baytown&quot;</td><td>8</td><td>50</td><td>&quot;product_code:D…</td><td>2</td><td>27</td><td>&quot;2020-H1&quot;</td><td>0</td><td>2</td><td>0</td></tr></tbody></table></div>"
      ],
      "text/plain": [
       "shape: (5, 10)\n",
       "┌─────────┬────────────┬───────────┬───────────┬───┬───────────┬───────────┬───────────┬───────────┐\n",
       "│ city    ┆ group_coun ┆ group_ran ┆ attribute ┆ … ┆ period_wi ┆ period_wi ┆ period_wi ┆ period_wi │\n",
       "│ ---     ┆ t          ┆ k         ┆ _value    ┆   ┆ ndow      ┆ ndow_coun ┆ ndow_rank ┆ ndow_delt │\n",
       "│ str     ┆ ---        ┆ ---       ┆ ---       ┆   ┆ ---       ┆ t         ┆ ---       ┆ a         │\n",
       "│         ┆ u32        ┆ i32       ┆ str       ┆   ┆ str       ┆ ---       ┆ i32       ┆ ---       │\n",
       "│         ┆            ┆           ┆           ┆   ┆           ┆ u32       ┆           ┆ i32       │\n",
       "╞═════════╪════════════╪═══════════╪═══════════╪═══╪═══════════╪═══════════╪═══════════╪═══════════╡\n",
       "│ Baytown ┆ 8          ┆ 50        ┆ delivery_ ┆ … ┆ 2020-H1   ┆ 0         ┆ 3         ┆ 0         │\n",
       "│         ┆            ┆           ┆ issue:Tru ┆   ┆           ┆           ┆           ┆           │\n",
       "│         ┆            ┆           ┆ e         ┆   ┆           ┆           ┆           ┆           │\n",
       "│ Baytown ┆ 8          ┆ 50        ┆ descripti ┆ … ┆ 2020-H1   ┆ 0         ┆ 3         ┆ 0         │\n",
       "│         ┆            ┆           ┆ on_issue: ┆   ┆           ┆           ┆           ┆           │\n",
       "│         ┆            ┆           ┆ True      ┆   ┆           ┆           ┆           ┆           │\n",
       "│ Baytown ┆ 8          ┆ 50        ┆ price_iss ┆ … ┆ 2020-H1   ┆ 0         ┆ 2         ┆ 0         │\n",
       "│         ┆            ┆           ┆ ue:True   ┆   ┆           ┆           ┆           ┆           │\n",
       "│ Baytown ┆ 8          ┆ 50        ┆ product_c ┆ … ┆ 2020-H1   ┆ 0         ┆ 2         ┆ 0         │\n",
       "│         ┆            ┆           ┆ ode:A     ┆   ┆           ┆           ┆           ┆           │\n",
       "│ Baytown ┆ 8          ┆ 50        ┆ product_c ┆ … ┆ 2020-H1   ┆ 0         ┆ 2         ┆ 0         │\n",
       "│         ┆            ┆           ┆ ode:D     ┆   ┆           ┆           ┆           ┆           │\n",
       "└─────────┴────────────┴───────────┴───────────┴───┴───────────┴───────────┴───────────┴───────────┘"
      ]
     },
     "execution_count": 6,
     "metadata": {},
     "output_type": "execute_result"
    }
   ],
   "source": [
    "ccg.model_df.head()"
   ]
  },
  {
   "cell_type": "code",
   "execution_count": 7,
   "metadata": {},
   "outputs": [
    {
     "data": {
      "text/plain": [
       "'This table shows:\\n- A summary of all **2769** data records with values for all grouping attributes\\n- The **group_count** of records for all [**city**] groups, and corresponding **group_rank**\\n- The **attribute_count** of each **attribute_value** for all [**city**] groups, and corresponding **attribute_rank**\\n- The **period_window_count** of each **attribute_value** for each **period_window** for all [**city**] groups, and corresponding **period_window_rank**\\n- The **period_window_delta**, or change in the **attribute_value_count** for successive **period_window** values, within each [**city**] group'"
      ]
     },
     "execution_count": 7,
     "metadata": {},
     "output_type": "execute_result"
    }
   ],
   "source": [
    "ccg.get_summary_description()"
   ]
  },
  {
   "cell_type": "code",
   "execution_count": 8,
   "metadata": {},
   "outputs": [],
   "source": [
    "# Select groups to generate reports\n",
    "# By group name\n",
    "selected_groups = [{\"city\": \"Lakeside\"}]\n",
    "# OR\n",
    "# By top n groups\n",
    "top_group_ranks = 10\n",
    "\n",
    "report_data, filter_description = ccg.get_report_data(top_group_ranks=top_group_ranks)"
   ]
  },
  {
   "cell_type": "code",
   "execution_count": 9,
   "metadata": {},
   "outputs": [
    {
     "name": "stdout",
     "output_type": "stream",
     "text": [
      "# Group Comparison Report\n",
      "\n",
      "## Introduction\n",
      "\n",
      "This report provides a detailed analysis of the top 10 city groups based on record count from a dataset of 2769 records. The dataset includes information on various issues and product codes across different time periods. The focus is on comparing these city groups in terms of the frequency and ranking of specific attributes and their changes over time.\n",
      "\n",
      "## Data Summary\n",
      "\n",
      "The dataset is filtered to include only the top 10 city groups by record count. These groups are:\n",
      "\n",
      "1. Lakeside (349 records)\n",
      "2. Springfield (265 records)\n",
      "3. Hilltop (259 records)\n",
      "4. Rivertown (204 records)\n",
      "5. Riverside (184 records)\n",
      "6. Seaside (127 records)\n",
      "7. Mountainview (119 records)\n",
      "8. Brookside (111 records)\n",
      "9. Greenfield (104 records)\n",
      "10. Meadowville (94 records)\n",
      "\n",
      "## Key Findings\n",
      "\n",
      "### Attribute Analysis\n",
      "\n",
      "- **Delivery Issues**: \n",
      "  - Hilltop has the highest count of delivery issues with 104 records, ranking 1st among all groups.\n",
      "  - Springfield follows with 88 records, ranking 2nd.\n",
      "  - Lakeside has 75 records, ranking 3rd.\n",
      "\n",
      "- **Description Issues**:\n",
      "  - Riverside and Lakeside both have 64 records, ranking 2nd.\n",
      "  - Springfield has 36 records, ranking 6th.\n",
      "\n",
      "- **Price Issues**:\n",
      "  - Springfield and Lakeside both have 93 records, ranking 2nd.\n",
      "  - Rivertown has 66 records, ranking 4th.\n",
      "\n",
      "- **Quality Issues**:\n",
      "  - Lakeside and Springfield both have 123 and 96 records respectively, ranking 1st and 2nd.\n",
      "\n",
      "### Product Code Analysis\n",
      "\n",
      "- **Product Code A**:\n",
      "  - Springfield has the highest count with 98 records, ranking 1st.\n",
      "  - Lakeside follows with 42 records, ranking 2nd.\n",
      "\n",
      "- **Product Code B**:\n",
      "  - Rivertown has the highest count with 79 records, ranking 1st.\n",
      "  - Lakeside follows with 54 records, ranking 2nd.\n",
      "\n",
      "- **Product Code C**:\n",
      "  - Lakeside has the highest count with 102 records, ranking 1st.\n",
      "  - Springfield follows with 49 records, ranking 3rd.\n",
      "\n",
      "### Period Window Analysis\n",
      "\n",
      "- **2023-H1 to 2023-H2 Changes**:\n",
      "  - Springfield saw a significant decrease in delivery issues from 44 to 38 records (-6).\n",
      "  - Rivertown experienced a decrease in price issues from 39 to 17 records (-22).\n",
      "  - Lakeside saw an increase in product code A from 8 to 29 records (+21).\n",
      "\n",
      "- **2024-H1 to 2024-H2 Changes**:\n",
      "  - Most cities saw stabilization with minimal changes in attribute counts.\n",
      "\n",
      "## Conclusion\n",
      "\n",
      "The analysis highlights significant variations in issue and product code occurrences across different city groups and time periods. Lakeside and Springfield consistently rank high in several categories, indicating potential areas for further investigation or improvement. The period window analysis reveals dynamic changes, particularly in 2023, suggesting shifts in operational or market conditions.\n"
     ]
    }
   ],
   "source": [
    "# Generates AI report on selected data\n",
    "explanation = ccg.generate_group_report(report_data, filter_description)\n",
    "print(explanation)"
   ]
  }
 ],
 "metadata": {
  "kernelspec": {
   "display_name": ".venv",
   "language": "python",
   "name": "python3"
  },
  "language_info": {
   "codemirror_mode": {
    "name": "ipython",
    "version": 3
   },
   "file_extension": ".py",
   "mimetype": "text/x-python",
   "name": "python",
   "nbconvert_exporter": "python",
   "pygments_lexer": "ipython3",
   "version": "3.11.9"
  }
 },
 "nbformat": 4,
 "nbformat_minor": 2
}
