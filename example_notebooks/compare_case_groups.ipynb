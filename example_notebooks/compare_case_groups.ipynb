{
 "cells": [
  {
   "cell_type": "markdown",
   "metadata": {},
   "source": [
    "# Compare Case Groups\n",
    "\n",
    "Demonstrates use of the Intelligence Toolkit library to compare groups in a dataset.\n",
    "\n",
    "See [readme](https://github.com/microsoft/intelligence-toolkit/blob/main/app/workflows/compare_case_groups/README.md) for more details."
   ]
  },
  {
   "cell_type": "code",
   "execution_count": 5,
   "metadata": {},
   "outputs": [],
   "source": [
    "import sys\n",
    "\n",
    "sys.path.append(\"..\")\n",
    "import polars as pl\n",
    "from toolkit.compare_case_groups.api import CompareCaseGroups"
   ]
  },
  {
   "cell_type": "code",
   "execution_count": 6,
   "metadata": {},
   "outputs": [
    {
     "name": "stdout",
     "output_type": "stream",
     "text": [
      "Loaded data\n"
     ]
    }
   ],
   "source": [
    "# Create the workflow object\n",
    "import os\n",
    "from toolkit.AI.openai_configuration import OpenAIConfiguration\n",
    "\n",
    "\n",
    "ccg = CompareCaseGroups()\n",
    "\n",
    "ai_configuration = OpenAIConfiguration(\n",
    "    {\n",
    "        \"api_type\": \"OpenAI\",\n",
    "        \"api_key\": os.environ[\"OPENAI_API_KEY\"],\n",
    "        \"model\": \"gpt-4o\",\n",
    "    }\n",
    ")\n",
    "ccg.set_ai_configuration(ai_configuration)\n",
    "\n",
    "data_path = \"../example_outputs/compare_case_groups/customer_complaints/customer_complaints_prepared.csv\"\n",
    "customer_cases = pl.read_csv(data_path)\n",
    "print(\"Loaded data\")"
   ]
  },
  {
   "cell_type": "code",
   "execution_count": 7,
   "metadata": {},
   "outputs": [
    {
     "name": "stdout",
     "output_type": "stream",
     "text": [
      "Selected params for workflow\n"
     ]
    }
   ],
   "source": [
    "filters = []\n",
    "### If filtering, options here:\n",
    "# ccg.get_filter_options(customer_cases)\n",
    "\n",
    "groups = [\"city\"]\n",
    "aggregates = [\n",
    "    \"product_code\",\n",
    "    \"delivery_issue\",\n",
    "    \"description_issue\",\n",
    "    \"price_issue\",\n",
    "    \"quality_issue\",\n",
    "    \"service_issue\",\n",
    "]\n",
    "temporal = \"period\"\n",
    "print(\"Selected params for workflow\")"
   ]
  },
  {
   "cell_type": "code",
   "execution_count": 8,
   "metadata": {},
   "outputs": [
    {
     "name": "stdout",
     "output_type": "stream",
     "text": [
      "Created data summary\n"
     ]
    }
   ],
   "source": [
    "ccg.create_data_summary(\n",
    "    customer_cases,\n",
    "    [\"product_code:H\"],\n",
    "    groups,\n",
    "    aggregates,\n",
    "    temporal,\n",
    ")\n",
    "print(\"Created data summary\")"
   ]
  },
  {
   "cell_type": "code",
   "execution_count": 9,
   "metadata": {},
   "outputs": [
    {
     "data": {
      "text/html": [
       "<div><style>\n",
       ".dataframe > thead > tr,\n",
       ".dataframe > tbody > tr {\n",
       "  text-align: right;\n",
       "  white-space: pre-wrap;\n",
       "}\n",
       "</style>\n",
       "<small>shape: (5, 10)</small><table border=\"1\" class=\"dataframe\"><thead><tr><th>city</th><th>group_count</th><th>group_rank</th><th>attribute_value</th><th>attribute_count</th><th>attribute_rank</th><th>period_window</th><th>period_window_count</th><th>period_window_rank</th><th>period_window_delta</th></tr><tr><td>str</td><td>u32</td><td>i32</td><td>str</td><td>u32</td><td>i32</td><td>str</td><td>u32</td><td>i32</td><td>i32</td></tr></thead><tbody><tr><td>&quot;Baytown&quot;</td><td>1</td><td>49</td><td>&quot;delivery_issue…</td><td>1</td><td>43</td><td>&quot;2025-H1&quot;</td><td>1</td><td>1</td><td>0</td></tr><tr><td>&quot;Baytown&quot;</td><td>1</td><td>49</td><td>&quot;description_is…</td><td>1</td><td>42</td><td>&quot;2025-H1&quot;</td><td>1</td><td>1</td><td>0</td></tr><tr><td>&quot;Baytown&quot;</td><td>1</td><td>49</td><td>&quot;price_issue:tr…</td><td>1</td><td>28</td><td>&quot;2025-H1&quot;</td><td>1</td><td>1</td><td>0</td></tr><tr><td>&quot;Baytown&quot;</td><td>1</td><td>49</td><td>&quot;product_code:H…</td><td>1</td><td>49</td><td>&quot;2025-H1&quot;</td><td>1</td><td>1</td><td>0</td></tr><tr><td>&quot;Baytown&quot;</td><td>1</td><td>49</td><td>&quot;quality_issue:…</td><td>1</td><td>37</td><td>&quot;2025-H1&quot;</td><td>1</td><td>1</td><td>0</td></tr></tbody></table></div>"
      ],
      "text/plain": [
       "shape: (5, 10)\n",
       "┌─────────┬────────────┬───────────┬───────────┬───┬───────────┬───────────┬───────────┬───────────┐\n",
       "│ city    ┆ group_coun ┆ group_ran ┆ attribute ┆ … ┆ period_wi ┆ period_wi ┆ period_wi ┆ period_wi │\n",
       "│ ---     ┆ t          ┆ k         ┆ _value    ┆   ┆ ndow      ┆ ndow_coun ┆ ndow_rank ┆ ndow_delt │\n",
       "│ str     ┆ ---        ┆ ---       ┆ ---       ┆   ┆ ---       ┆ t         ┆ ---       ┆ a         │\n",
       "│         ┆ u32        ┆ i32       ┆ str       ┆   ┆ str       ┆ ---       ┆ i32       ┆ ---       │\n",
       "│         ┆            ┆           ┆           ┆   ┆           ┆ u32       ┆           ┆ i32       │\n",
       "╞═════════╪════════════╪═══════════╪═══════════╪═══╪═══════════╪═══════════╪═══════════╪═══════════╡\n",
       "│ Baytown ┆ 1          ┆ 49        ┆ delivery_ ┆ … ┆ 2025-H1   ┆ 1         ┆ 1         ┆ 0         │\n",
       "│         ┆            ┆           ┆ issue:fal ┆   ┆           ┆           ┆           ┆           │\n",
       "│         ┆            ┆           ┆ se        ┆   ┆           ┆           ┆           ┆           │\n",
       "│ Baytown ┆ 1          ┆ 49        ┆ descripti ┆ … ┆ 2025-H1   ┆ 1         ┆ 1         ┆ 0         │\n",
       "│         ┆            ┆           ┆ on_issue: ┆   ┆           ┆           ┆           ┆           │\n",
       "│         ┆            ┆           ┆ false     ┆   ┆           ┆           ┆           ┆           │\n",
       "│ Baytown ┆ 1          ┆ 49        ┆ price_iss ┆ … ┆ 2025-H1   ┆ 1         ┆ 1         ┆ 0         │\n",
       "│         ┆            ┆           ┆ ue:true   ┆   ┆           ┆           ┆           ┆           │\n",
       "│ Baytown ┆ 1          ┆ 49        ┆ product_c ┆ … ┆ 2025-H1   ┆ 1         ┆ 1         ┆ 0         │\n",
       "│         ┆            ┆           ┆ ode:H     ┆   ┆           ┆           ┆           ┆           │\n",
       "│ Baytown ┆ 1          ┆ 49        ┆ quality_i ┆ … ┆ 2025-H1   ┆ 1         ┆ 1         ┆ 0         │\n",
       "│         ┆            ┆           ┆ ssue:fals ┆   ┆           ┆           ┆           ┆           │\n",
       "│         ┆            ┆           ┆ e         ┆   ┆           ┆           ┆           ┆           │\n",
       "└─────────┴────────────┴───────────┴───────────┴───┴───────────┴───────────┴───────────┴───────────┘"
      ]
     },
     "execution_count": 9,
     "metadata": {},
     "output_type": "execute_result"
    }
   ],
   "source": [
    "ccg.model_df.head()"
   ]
  },
  {
   "cell_type": "code",
   "execution_count": 10,
   "metadata": {},
   "outputs": [
    {
     "data": {
      "text/plain": [
       "'This table shows:\\n- A summary of **296** data records matching [**product_code\\\\:H**], representing **40.0%** of the overall dataset with values for all grouping attributes\\n- The **group_count** of records for all [**city**] groups, and corresponding **group_rank**\\n- The **attribute_count** of each **attribute_value** for all [**city**] groups, and corresponding **attribute_rank**\\n- The **period_window_count** of each **attribute_value** for each **period_window** for all [**city**] groups, and corresponding **period_window_rank**\\n- The **period_window_delta**, or change in the **attribute_value_count** for successive **period_window** values, within each [**city**] group'"
      ]
     },
     "execution_count": 10,
     "metadata": {},
     "output_type": "execute_result"
    }
   ],
   "source": [
    "ccg.get_summary_description()"
   ]
  },
  {
   "cell_type": "code",
   "execution_count": 11,
   "metadata": {},
   "outputs": [],
   "source": [
    "# Select groups to generate reports\n",
    "# By group name\n",
    "groups = [\"Baytown\", \"Brookside\"]\n",
    "# OR\n",
    "# By top n groups\n",
    "top_groups = 4\n",
    "\n",
    "report_data, filter_description = ccg.get_report_data(top_group_ranks=top_groups)"
   ]
  },
  {
   "cell_type": "code",
   "execution_count": 12,
   "metadata": {},
   "outputs": [
    {
     "name": "stdout",
     "output_type": "stream",
     "text": [
      "# Group Comparison Report\n",
      "\n",
      "## Introduction\n",
      "\n",
      "This report provides a detailed comparison of data records filtered by the product code \"H\" across different city groups. The dataset consists of 296 records, representing 40% of the overall dataset. The focus is on the top four city groups based on record count: Hilltop, Lakeside, Riverside, and Seaside. Each city group is analyzed in terms of various attributes and their changes over different time periods.\n",
      "\n",
      "## City Groups Overview\n",
      "\n",
      "### Hilltop\n",
      "\n",
      "- **Total Records**: 42 (Rank 1)\n",
      "- **Key Observations**:\n",
      "  - The most common issue is \"description_issue:false\" with 33 occurrences (Rank 1).\n",
      "  - \"Delivery_issue:true\" and \"quality_issue:true\" both have 16 occurrences, indicating some level of concern in these areas.\n",
      "  - Over the period from 2020-H1 to 2023-H2, there is a notable increase in \"product_code:H\" from 2 to 34 (Delta +19).\n",
      "  - \"Delivery_issue:false\" saw a significant increase in 2023-H2 with 21 occurrences (Delta +18).\n",
      "\n",
      "### Lakeside\n",
      "\n",
      "- **Total Records**: 30 (Rank 2)\n",
      "- **Key Observations**:\n",
      "  - \"Price_issue:false\" is the most frequent attribute with 28 occurrences (Rank 1).\n",
      "  - \"Quality_issue:true\" increased significantly in 2023-H2 with 15 occurrences (Delta +9).\n",
      "  - \"Delivery_issue:false\" also saw a substantial increase in 2023-H2 with 17 occurrences (Delta +15).\n",
      "\n",
      "### Riverside\n",
      "\n",
      "- **Total Records**: 28 (Rank 3)\n",
      "- **Key Observations**:\n",
      "  - \"Delivery_issue:false\" and \"description_issue:false\" are both common, each with 21 occurrences (Rank 3).\n",
      "  - \"Service_issue:true\" increased in 2023-H2 with 7 occurrences (Delta -1).\n",
      "  - \"Product_code:H\" saw an increase in 2023-H2 with 15 occurrences (Delta +12).\n",
      "\n",
      "### Seaside\n",
      "\n",
      "- **Total Records**: 19 (Rank 4)\n",
      "- **Key Observations**:\n",
      "  - \"Delivery_issue:false\" and \"description_issue:false\" are frequent, each with 14 occurrences (Rank 4).\n",
      "  - \"Product_code:H\" increased in 2023-H2 with 14 occurrences (Delta +10).\n",
      "  - \"Service_issue:true\" remained stable with 7 occurrences in 2023-H2.\n",
      "\n",
      "## Conclusion\n",
      "\n",
      "The analysis reveals that each city group has distinct patterns in terms of attribute occurrences and changes over time. Hilltop shows a significant increase in \"product_code:H\" and \"delivery_issue:false\" in recent periods. Lakeside and Riverside also exhibit notable increases in certain attributes, while Seaside maintains stability in some areas. These insights can help in understanding the specific challenges and trends within each city group.\n"
     ]
    }
   ],
   "source": [
    "# Generates AI report on selected data\n",
    "explanation = ccg.generate_group_report(report_data, filter_description)\n",
    "print(explanation)"
   ]
  }
 ],
 "metadata": {
  "kernelspec": {
   "display_name": ".venv",
   "language": "python",
   "name": "python3"
  },
  "language_info": {
   "codemirror_mode": {
    "name": "ipython",
    "version": 3
   },
   "file_extension": ".py",
   "mimetype": "text/x-python",
   "name": "python",
   "nbconvert_exporter": "python",
   "pygments_lexer": "ipython3",
   "version": "3.11.9"
  }
 },
 "nbformat": 4,
 "nbformat_minor": 2
}
