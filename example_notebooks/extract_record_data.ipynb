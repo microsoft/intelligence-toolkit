{
 "cells": [
  {
   "cell_type": "markdown",
   "metadata": {},
   "source": [
    "# Extract Record Data\n",
    "\n",
    "Demonstrates use of the Intelligence Toolkit library to extract schema-aligned data records from unstructured texts.\n",
    "\n",
    "See [readme](https://github.com/microsoft/intelligence-toolkit/blob/main/app/workflows/extract_data_records/README.md) for more details."
   ]
  },
  {
   "cell_type": "code",
   "execution_count": 1,
   "metadata": {},
   "outputs": [
    {
     "name": "stderr",
     "output_type": "stream",
     "text": [
      "c:\\Users\\daedge\\AppData\\Local\\pypoetry\\Cache\\virtualenvs\\intelligence-toolkit-lXFNld9n-py3.11\\Lib\\site-packages\\tqdm\\auto.py:21: TqdmWarning: IProgress not found. Please update jupyter and ipywidgets. See https://ipywidgets.readthedocs.io/en/stable/user_install.html\n",
      "  from .autonotebook import tqdm as notebook_tqdm\n"
     ]
    }
   ],
   "source": [
    "import sys\n",
    "sys.path.append(\"..\")\n",
    "import os\n",
    "from toolkit.extract_record_data import ExtractRecordData\n",
    "from toolkit.AI.openai_configuration import OpenAIConfiguration\n",
    "import pandas as pd\n",
    "import json"
   ]
  },
  {
   "cell_type": "code",
   "execution_count": 2,
   "metadata": {},
   "outputs": [
    {
     "name": "stdout",
     "output_type": "stream",
     "text": [
      "Loaded data schema\n",
      "{'$schema': 'http://json-schema.org/draft/2020-12/schema', 'title': 'Customer complaints', 'description': 'An example schema storing an array of customer complaints', 'type': 'object', 'properties': {'customer_complaints': {'type': 'array', 'description': 'The list of customers and their complaints', 'items': {'type': 'object', 'description': 'An object list item', 'properties': {'name': {'type': 'string', 'description': 'The name of the customer'}, 'street': {'type': 'string', 'description': 'The street of the customer, including property name/number'}, 'city': {'type': 'string', 'description': 'The city of the customer'}, 'age': {'type': 'number', 'description': 'The age of the customer'}, 'email': {'type': 'string', 'description': 'The email address of the customer'}, 'price_issue': {'type': 'boolean', 'description': 'The complaint is a price issue'}, 'quality_issue': {'type': 'boolean', 'description': 'The complaint is a quality issue'}, 'service_issue': {'type': 'boolean', 'description': 'The complaint is a service issue'}, 'delivery_issue': {'type': 'boolean', 'description': 'The complaint is a delivery issue'}, 'description_issue': {'type': 'boolean', 'description': 'The complaint is a description issue'}, 'product_code': {'type': 'string', 'description': 'The product code targeted by the complaint', 'enum': ['A', 'B', 'C', 'D', 'E', 'F', 'G', 'H']}, 'quarter': {'type': 'string', 'description': 'The quarter in which the complaint was made (since 2020-Q1)'}}, 'required': ['name', 'street', 'city', 'age', 'email', 'price_issue', 'quality_issue', 'service_issue', 'delivery_issue', 'description_issue', 'product_code', 'quarter'], 'additionalProperties': False}}}, 'required': ['customer_complaints'], 'additionalProperties': False}\n"
     ]
    }
   ],
   "source": [
    "# Create the workflow object\n",
    "erd = ExtractRecordData()\n",
    "# Set the AI configuration\n",
    "ai_configuration = OpenAIConfiguration(\n",
    "    {\n",
    "        \"api_type\": \"OpenAI\",\n",
    "        \"api_key\": os.environ[\"OPENAI_API_KEY\"],\n",
    "        \"model\": \"gpt-4o\",\n",
    "    }\n",
    ")\n",
    "erd.set_ai_configuration(ai_configuration)\n",
    "# Load the data schema\n",
    "schema_path = \"../example_outputs/extract_record_data/customer_complaints/customer_complaints_schema.json\"\n",
    "json_schema = json.loads(open(schema_path, \"r\").read())\n",
    "# Set the schema\n",
    "erd.set_schema(json_schema)\n",
    "print(\"Loaded data schema\")\n",
    "print(json_schema)"
   ]
  },
  {
   "cell_type": "code",
   "execution_count": 3,
   "metadata": {},
   "outputs": [
    {
     "name": "stdout",
     "output_type": "stream",
     "text": [
      "Loaded text data\n",
      "                                           mock_text\n",
      "0  **Customer Service Representative:** Good afte...\n",
      "1  **Customer Service Representative:** Good afte...\n",
      "2  **Customer Service Representative:** Good afte...\n",
      "3  **Customer Service Representative:** Good afte...\n",
      "4  **Customer Service Representative:** Good afte...\n",
      "5  **Customer Service Representative:** Good afte...\n",
      "6  **Customer Service Representative:** Good afte...\n",
      "7  **Customer Service Representative:** Good afte...\n",
      "8  **Customer Service Representative:** Good afte...\n",
      "9  **Customer Service Representative:** Good afte...\n"
     ]
    }
   ],
   "source": [
    "# Load the text data (first 10 texts only)\n",
    "text_data_path = \"../example_outputs/extract_record_data/customer_complaints/customer_complaints_texts.csv\"\n",
    "text_data = pd.read_csv(text_data_path)[:10]\n",
    "print(\"Loaded text data\")\n",
    "print(text_data)"
   ]
  },
  {
   "cell_type": "code",
   "execution_count": 4,
   "metadata": {},
   "outputs": [
    {
     "name": "stderr",
     "output_type": "stream",
     "text": [
      "100%|██████████| 10/10 [00:04<00:00,  2.34it/s]"
     ]
    },
    {
     "name": "stdout",
     "output_type": "stream",
     "text": [
      "Extracted data records\n"
     ]
    },
    {
     "name": "stderr",
     "output_type": "stream",
     "text": [
      "\n"
     ]
    }
   ],
   "source": [
    "# Extract data records\n",
    "await erd.extract_record_data(\n",
    "    input_texts=text_data['mock_text'].tolist()\n",
    ")\n",
    "print(\"Extracted data records\")"
   ]
  },
  {
   "cell_type": "code",
   "execution_count": 5,
   "metadata": {},
   "outputs": [
    {
     "name": "stdout",
     "output_type": "stream",
     "text": [
      "{'customer_complaints': [{'name': 'Bob Johnson', 'street': '123 Maple Street', 'city': 'Springfield', 'age': 36, 'email': 'bob.johnson@example.com', 'price_issue': False, 'quality_issue': True, 'service_issue': False, 'delivery_issue': False, 'description_issue': False, 'product_code': 'A', 'quarter': '2023-Q2'}, {'name': 'Alice Johnson', 'street': '456 Oak Avenue', 'city': 'Springfield', 'age': 0, 'email': 'alice.j@example.com', 'price_issue': False, 'quality_issue': True, 'service_issue': False, 'delivery_issue': True, 'description_issue': False, 'product_code': 'A', 'quarter': '2023-Q3'}, {'name': 'Alice Smith', 'street': '789 Pine Road', 'city': 'Springfield', 'age': 0, 'email': 'alice.smith@example.com', 'price_issue': False, 'quality_issue': True, 'service_issue': False, 'delivery_issue': False, 'description_issue': True, 'product_code': 'A', 'quarter': '2023-Q2'}, {'name': 'Alice Johnson', 'street': '123 Maple Street', 'city': 'Shelbyville', 'age': 0, 'email': 'alice.johnson@anothermail.com', 'price_issue': True, 'quality_issue': True, 'service_issue': False, 'delivery_issue': False, 'description_issue': True, 'product_code': 'A', 'quarter': '2023-Q2'}, {'name': 'Alice Johnson', 'street': '123 Maple Street', 'city': 'Springfield', 'age': 0, 'email': 'alice.johnson@samplemail.com', 'price_issue': False, 'quality_issue': True, 'service_issue': True, 'delivery_issue': False, 'description_issue': False, 'product_code': 'B', 'quarter': '2023-Q2'}, {'name': 'Charlie Brown', 'street': '321 Elm Street', 'city': 'Shelbyville', 'age': 0, 'email': 'charlie.brown@example.com', 'price_issue': True, 'quality_issue': False, 'service_issue': False, 'delivery_issue': False, 'description_issue': False, 'product_code': 'B', 'quarter': '2023-Q1'}, {'name': 'Diana Prince', 'street': '987 Cedar Lane', 'city': 'Metropolis', 'age': 0, 'email': 'diana.prince@example.com', 'price_issue': False, 'quality_issue': False, 'service_issue': True, 'delivery_issue': False, 'description_issue': False, 'product_code': 'C', 'quarter': '2023-Q2'}, {'name': 'Evan Wright', 'street': '654 Birch Boulevard', 'city': 'Gotham', 'age': 30, 'email': 'evan.wright@example.com', 'price_issue': False, 'quality_issue': False, 'service_issue': False, 'delivery_issue': True, 'description_issue': False, 'product_code': 'D', 'quarter': '2023-Q3'}, {'name': 'Fiona Apple', 'street': '111 Apple Street', 'city': 'Star City', 'age': 29, 'email': 'fiona.apple@example.com', 'price_issue': True, 'quality_issue': False, 'service_issue': False, 'delivery_issue': False, 'description_issue': True, 'product_code': 'E', 'quarter': '2023-Q4'}, {'name': 'George Martin', 'street': '222 Music Avenue', 'city': 'Central City', 'age': 0, 'email': 'george.martin@example.com', 'price_issue': False, 'quality_issue': True, 'service_issue': False, 'delivery_issue': False, 'description_issue': False, 'product_code': 'F', 'quarter': '2023-Q1'}]}\n"
     ]
    }
   ],
   "source": [
    "# Inspect the data as JSON\n",
    "print(erd.json_object)"
   ]
  },
  {
   "cell_type": "code",
   "execution_count": 6,
   "metadata": {},
   "outputs": [
    {
     "name": "stdout",
     "output_type": "stream",
     "text": [
      "{'customer_complaints':             name               street          city  age  \\\n",
      "0    Bob Johnson     123 Maple Street   Springfield   36   \n",
      "1  Alice Johnson       456 Oak Avenue   Springfield    0   \n",
      "2    Alice Smith        789 Pine Road   Springfield    0   \n",
      "3  Alice Johnson     123 Maple Street   Shelbyville    0   \n",
      "4  Alice Johnson     123 Maple Street   Springfield    0   \n",
      "5  Charlie Brown       321 Elm Street   Shelbyville    0   \n",
      "6   Diana Prince       987 Cedar Lane    Metropolis    0   \n",
      "7    Evan Wright  654 Birch Boulevard        Gotham   30   \n",
      "8    Fiona Apple     111 Apple Street     Star City   29   \n",
      "9  George Martin     222 Music Avenue  Central City    0   \n",
      "\n",
      "                           email  price_issue  quality_issue  service_issue  \\\n",
      "0        bob.johnson@example.com        False           True          False   \n",
      "1            alice.j@example.com        False           True          False   \n",
      "2        alice.smith@example.com        False           True          False   \n",
      "3  alice.johnson@anothermail.com         True           True          False   \n",
      "4   alice.johnson@samplemail.com        False           True           True   \n",
      "5      charlie.brown@example.com         True          False          False   \n",
      "6       diana.prince@example.com        False          False           True   \n",
      "7        evan.wright@example.com        False          False          False   \n",
      "8        fiona.apple@example.com         True          False          False   \n",
      "9      george.martin@example.com        False           True          False   \n",
      "\n",
      "   delivery_issue  description_issue product_code  quarter  \n",
      "0           False              False            A  2023-Q2  \n",
      "1            True              False            A  2023-Q3  \n",
      "2           False               True            A  2023-Q2  \n",
      "3           False               True            A  2023-Q2  \n",
      "4           False              False            B  2023-Q2  \n",
      "5           False              False            B  2023-Q1  \n",
      "6           False              False            C  2023-Q2  \n",
      "7            True              False            D  2023-Q3  \n",
      "8           False               True            E  2023-Q4  \n",
      "9           False              False            F  2023-Q1  }\n"
     ]
    }
   ],
   "source": [
    "# Inspect the data as dataframes (one per array field)\n",
    "print(erd.array_dfs)"
   ]
  }
 ],
 "metadata": {
  "kernelspec": {
   "display_name": "intelligence-toolkit-lXFNld9n-py3.11",
   "language": "python",
   "name": "python3"
  },
  "language_info": {
   "codemirror_mode": {
    "name": "ipython",
    "version": 3
   },
   "file_extension": ".py",
   "mimetype": "text/x-python",
   "name": "python",
   "nbconvert_exporter": "python",
   "pygments_lexer": "ipython3",
   "version": "3.11.9"
  }
 },
 "nbformat": 4,
 "nbformat_minor": 2
}
