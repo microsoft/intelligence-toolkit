{
 "cells": [
  {
   "cell_type": "markdown",
   "metadata": {},
   "source": [
    "# Match Entity Records\n",
    "\n",
    "Demonstrates use of the Intelligence Toolkit library to compare groups in a dataset.\n",
    "\n",
    "See [readme](https://github.com/microsoft/intelligence-toolkit/blob/main/app/workflows/match_entity_records/README.md) for more details."
   ]
  },
  {
   "cell_type": "code",
   "execution_count": 1,
   "metadata": {},
   "outputs": [
    {
     "name": "stderr",
     "output_type": "stream",
     "text": [
      "/home/ddesouza/Projects/intelligence-toolkit/.venv/lib/python3.11/site-packages/sentence_transformers/cross_encoder/CrossEncoder.py:13: TqdmWarning: IProgress not found. Please update jupyter and ipywidgets. See https://ipywidgets.readthedocs.io/en/stable/user_install.html\n",
      "  from tqdm.autonotebook import tqdm, trange\n"
     ]
    }
   ],
   "source": [
    "import sys\n",
    "\n",
    "sys.path.append(\"..\")\n",
    "import polars as pl\n",
    "from toolkit.match_entity_records import (\n",
    "    MatchEntityRecords,\n",
    "    RecordsModel,\n",
    "    AttributeToMatch,\n",
    ")"
   ]
  },
  {
   "cell_type": "code",
   "execution_count": 2,
   "metadata": {},
   "outputs": [
    {
     "name": "stdout",
     "output_type": "stream",
     "text": [
      "Loaded data\n"
     ]
    }
   ],
   "source": [
    "# Create the workflow object\n",
    "import os\n",
    "from toolkit.AI.openai_configuration import OpenAIConfiguration\n",
    "\n",
    "\n",
    "mer = MatchEntityRecords()\n",
    "\n",
    "ai_configuration = OpenAIConfiguration(\n",
    "    {\n",
    "        \"api_type\": \"OpenAI\",\n",
    "        \"api_key\": os.environ[\"OPENAI_API_KEY\"],\n",
    "        \"model\": \"gpt-4o\",\n",
    "    }\n",
    ")\n",
    "mer.set_ai_configuration(ai_configuration)\n",
    "\n",
    "data_1_file = \"../example_outputs/match_entity_records/company_grievances/company_grievances_input_data_1.csv\"\n",
    "data_2_file = \"../example_outputs/match_entity_records/company_grievances/company_grievances_input_data_2.csv\"\n",
    "data_1_df = pl.read_csv(data_1_file)\n",
    "data_2_df = pl.read_csv(data_2_file)\n",
    "print(\"Loaded data\")"
   ]
  },
  {
   "cell_type": "code",
   "execution_count": 3,
   "metadata": {},
   "outputs": [
    {
     "name": "stdout",
     "output_type": "stream",
     "text": [
      "Data model has **2** datasets with **4000** total records.\n"
     ]
    }
   ],
   "source": [
    "data_1_info = RecordsModel(\n",
    "    dataframe=data_1_df,\n",
    "    name_column=\"employer_name\",\n",
    "    columns=[\"sector\", \"address\", \"city\", \"country\", \"email\", \"phone\", \"owner\"],\n",
    "    dataframe_name=\"D1\",\n",
    "    id_column=\"employer_id\",\n",
    ")\n",
    "data_2_info = RecordsModel(\n",
    "    dataframe=data_2_df,\n",
    "    name_column=\"company_name\",\n",
    "    columns=[\n",
    "        \"industry_sector\",\n",
    "        \"street_address\",\n",
    "        \"city_address\",\n",
    "        \"country_address\",\n",
    "        \"email_address\",\n",
    "        \"phone_number\",\n",
    "        \"company_owner\",\n",
    "    ],\n",
    "    dataframe_name=\"D2\",\n",
    "    id_column=\"company_id\",\n",
    ")\n",
    "\n",
    "mer.add_df_to_model(data_1_info)\n",
    "mer.add_df_to_model(data_2_info)\n",
    "\n",
    "print(\n",
    "    f\"Data model has **{len(mer.model_dfs)}** datasets with **{mer.total_records()}** total records.\"\n",
    ")"
   ]
  },
  {
   "cell_type": "code",
   "execution_count": 4,
   "metadata": {},
   "outputs": [
    {
     "name": "stdout",
     "output_type": "stream",
     "text": [
      "Got 4000 existing texts\n",
      "Got 0 new texts\n"
     ]
    }
   ],
   "source": [
    "# Configure text embedding\n",
    "\n",
    "attributes = []\n",
    "attributes.append(AttributeToMatch({\"columns\": [\"address::D1\", \"street_address::D2\"]}))\n",
    "attributes.append(AttributeToMatch({\"columns\": [\"city::D1\", \"city_address::D2\"]}))\n",
    "attributes.append(AttributeToMatch({\"columns\": [\"country::D1\", \"country_address::D2\"]}))\n",
    "attributes.append(AttributeToMatch({\"columns\": [\"sector::D1\", \"industry_sector::D2\"]}))\n",
    "attributes.append(AttributeToMatch({\"columns\": [\"owner::D1\", \"company_owner::D2\"]}))\n",
    "attributes.append(AttributeToMatch({\"columns\": [\"phone::D1\", \"phone_number::D2\"]}))\n",
    "attributes.append(AttributeToMatch({\"columns\": [\"email::D1\", \"email_address::D2\"]}))\n",
    "\n",
    "# build model with datasets and columns\n",
    "mer.build_model_df(attributes)\n",
    "\n",
    "# embed sentences in model dataset\n",
    "await mer.embed_sentences()"
   ]
  },
  {
   "cell_type": "code",
   "execution_count": 5,
   "metadata": {},
   "outputs": [
    {
     "data": {
      "text/plain": [
       "'Identified **664** record groups.'"
      ]
     },
     "execution_count": 5,
     "metadata": {},
     "output_type": "execute_result"
    }
   ],
   "source": [
    "# set similarity thresholds\n",
    "embedding_threshold = 0.05\n",
    "jaccard_threshold = 0.03\n",
    "\n",
    "\n",
    "detected_model = mer.detect_record_groups(\n",
    "    embedding_threshold,\n",
    "    jaccard_threshold,\n",
    ")\n",
    "f\"Identified **{len(detected_model['Group ID'].unique())}** record groups.\""
   ]
  },
  {
   "cell_type": "code",
   "execution_count": 6,
   "metadata": {},
   "outputs": [
    {
     "data": {
      "text/html": [
       "<div><style>\n",
       ".dataframe > thead > tr,\n",
       ".dataframe > tbody > tr {\n",
       "  text-align: right;\n",
       "  white-space: pre-wrap;\n",
       "}\n",
       "</style>\n",
       "<small>shape: (5, 13)</small><table border=\"1\" class=\"dataframe\"><thead><tr><th>Group ID</th><th>Dataset</th><th>Entity ID</th><th>Entity name</th><th>address</th><th>city</th><th>company_owner</th><th>country</th><th>email</th><th>industry_sector</th><th>phone</th><th>Group size</th><th>Name similarity</th></tr><tr><td>i64</td><td>str</td><td>str</td><td>str</td><td>str</td><td>str</td><td>str</td><td>str</td><td>str</td><td>str</td><td>str</td><td>i64</td><td>f64</td></tr></thead><tbody><tr><td>696</td><td>&quot;D1&quot;</td><td>&quot;330&quot;</td><td>&quot;Casey Builders…</td><td>&quot;814 Builder St…</td><td>&quot;Constructopoli…</td><td>&quot;Jordan Casey&quot;</td><td>&quot;Buildland&quot;</td><td>&quot;contact@caseyb…</td><td>&quot;Construction&quot;</td><td>&quot;5566778899&quot;</td><td>2</td><td>0.75</td></tr><tr><td>696</td><td>&quot;D1&quot;</td><td>&quot;331&quot;</td><td>&quot;Casey Builders…</td><td>&quot;820 Builder Av…</td><td>&quot;Constructopoli…</td><td>&quot;Jamie Casey&quot;</td><td>&quot;Buildland&quot;</td><td>&quot;info@caseybuil…</td><td>&quot;Construction&quot;</td><td>&quot;5566778897&quot;</td><td>2</td><td>0.75</td></tr><tr><td>697</td><td>&quot;D1&quot;</td><td>&quot;436&quot;</td><td>&quot;Digital Dreams…</td><td>&quot;1400 Cyber St&quot;</td><td>&quot;Tech City&quot;</td><td>&quot;Taylor Digital…</td><td>&quot;Digitalia&quot;</td><td>&quot;info@digitaldr…</td><td>&quot;Technology&quot;</td><td>&quot;1012345678&quot;</td><td>2</td><td>0.75</td></tr><tr><td>697</td><td>&quot;D2&quot;</td><td>&quot;456&quot;</td><td>&quot;Digital Dreams…</td><td>&quot;88 Cyber Stree…</td><td>&quot;Tech City&quot;</td><td>&quot;Dream Weaver&quot;</td><td>&quot;Innovatia&quot;</td><td>&quot;support@digita…</td><td>&quot;Technology&quot;</td><td>&quot;5566778899&quot;</td><td>2</td><td>0.75</td></tr><tr><td>698</td><td>&quot;D1&quot;</td><td>&quot;518&quot;</td><td>&quot;EcoBuild Innov…</td><td>&quot;1414 Eco St&quot;</td><td>&quot;Green City&quot;</td><td>&quot;Sam Right&quot;</td><td>&quot;Constructia&quot;</td><td>&quot;contact@ecobui…</td><td>&quot;Construction&quot;</td><td>&quot;1122334455&quot;</td><td>2</td><td>0.75</td></tr></tbody></table></div>"
      ],
      "text/plain": [
       "shape: (5, 13)\n",
       "┌──────────┬─────────┬───────────┬─────────────┬───┬─────────────┬────────────┬───────┬────────────┐\n",
       "│ Group ID ┆ Dataset ┆ Entity ID ┆ Entity name ┆ … ┆ industry_se ┆ phone      ┆ Group ┆ Name       │\n",
       "│ ---      ┆ ---     ┆ ---       ┆ ---         ┆   ┆ ctor        ┆ ---        ┆ size  ┆ similarity │\n",
       "│ i64      ┆ str     ┆ str       ┆ str         ┆   ┆ ---         ┆ str        ┆ ---   ┆ ---        │\n",
       "│          ┆         ┆           ┆             ┆   ┆ str         ┆            ┆ i64   ┆ f64        │\n",
       "╞══════════╪═════════╪═══════════╪═════════════╪═══╪═════════════╪════════════╪═══════╪════════════╡\n",
       "│ 696      ┆ D1      ┆ 330       ┆ Casey       ┆ … ┆ Constructio ┆ 5566778899 ┆ 2     ┆ 0.75       │\n",
       "│          ┆         ┆           ┆ Builders    ┆   ┆ n           ┆            ┆       ┆            │\n",
       "│ 696      ┆ D1      ┆ 331       ┆ Casey       ┆ … ┆ Constructio ┆ 5566778897 ┆ 2     ┆ 0.75       │\n",
       "│          ┆         ┆           ┆ Builders    ┆   ┆ n           ┆            ┆       ┆            │\n",
       "│          ┆         ┆           ┆ Inc.        ┆   ┆             ┆            ┆       ┆            │\n",
       "│ 697      ┆ D1      ┆ 436       ┆ Digital     ┆ … ┆ Technology  ┆ 1012345678 ┆ 2     ┆ 0.75       │\n",
       "│          ┆         ┆           ┆ Dreams      ┆   ┆             ┆            ┆       ┆            │\n",
       "│ 697      ┆ D2      ┆ 456       ┆ Digital     ┆ … ┆ Technology  ┆ 5566778899 ┆ 2     ┆ 0.75       │\n",
       "│          ┆         ┆           ┆ Dreams Ltd. ┆   ┆             ┆            ┆       ┆            │\n",
       "│ 698      ┆ D1      ┆ 518       ┆ EcoBuild    ┆ … ┆ Constructio ┆ 1122334455 ┆ 2     ┆ 0.75       │\n",
       "│          ┆         ┆           ┆ Innovations ┆   ┆ n           ┆            ┆       ┆            │\n",
       "└──────────┴─────────┴───────────┴─────────────┴───┴─────────────┴────────────┴───────┴────────────┘"
      ]
     },
     "execution_count": 6,
     "metadata": {},
     "output_type": "execute_result"
    }
   ],
   "source": [
    "detected_model.head()"
   ]
  },
  {
   "cell_type": "code",
   "execution_count": 8,
   "metadata": {},
   "outputs": [
    {
     "ename": "ImportError",
     "evalue": "cannot import name 'LLMCallback' from 'toolkit.AI' (/home/ddesouza/Projects/intelligence-toolkit/example_notebooks/../toolkit/AI/__init__.py)",
     "output_type": "error",
     "traceback": [
      "\u001b[0;31m---------------------------------------------------------------------------\u001b[0m",
      "\u001b[0;31mImportError\u001b[0m                               Traceback (most recent call last)",
      "Cell \u001b[0;32mIn[8], line 2\u001b[0m\n\u001b[1;32m      1\u001b[0m \u001b[38;5;66;03m# Generates AI report on selected data\u001b[39;00m\n\u001b[0;32m----> 2\u001b[0m \u001b[38;5;28;01mfrom\u001b[39;00m \u001b[38;5;21;01mtoolkit\u001b[39;00m\u001b[38;5;21;01m.\u001b[39;00m\u001b[38;5;21;01mAI\u001b[39;00m \u001b[38;5;28;01mimport\u001b[39;00m LLMCallback\n\u001b[1;32m      5\u001b[0m \u001b[38;5;28;01mdef\u001b[39;00m \u001b[38;5;21mprint_new_token\u001b[39m(token):\n\u001b[1;32m      6\u001b[0m     \u001b[38;5;28mprint\u001b[39m(token)\n",
      "\u001b[0;31mImportError\u001b[0m: cannot import name 'LLMCallback' from 'toolkit.AI' (/home/ddesouza/Projects/intelligence-toolkit/example_notebooks/../toolkit/AI/__init__.py)"
     ]
    }
   ],
   "source": [
    "# Generates AI report on selected data\n",
    "report = mer.evaluate_groups()\n",
    "print(report)"
   ]
  }
 ],
 "metadata": {
  "kernelspec": {
   "display_name": ".venv",
   "language": "python",
   "name": "python3"
  },
  "language_info": {
   "codemirror_mode": {
    "name": "ipython",
    "version": 3
   },
   "file_extension": ".py",
   "mimetype": "text/x-python",
   "name": "python",
   "nbconvert_exporter": "python",
   "pygments_lexer": "ipython3",
   "version": "3.11.9"
  }
 },
 "nbformat": 4,
 "nbformat_minor": 2
}
