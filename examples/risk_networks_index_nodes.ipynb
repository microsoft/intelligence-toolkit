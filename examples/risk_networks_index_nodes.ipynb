{
    "cells": [
        {
            "cell_type": "markdown",
            "metadata": {},
            "source": [
                "Steps:\n",
                "\n",
                "\n",
                "1. Create data model\n",
                "    - attributes\n",
                "    - flags\n",
                "    - groups\n",
                "\n",
                "**2. Process data model**  \n",
                "    - **index nodes**  \n",
                "    - **infer nodes**  \n",
                "    - detect networks\n",
                "    \n",
                "3. Explore networks\n",
                "4. Generate AI reports"
            ]
        },
        {
            "cell_type": "markdown",
            "metadata": {},
            "source": [
                "# 2. Process data model"
            ]
        },
        {
            "cell_type": "code",
            "execution_count": null,
            "metadata": {},
            "outputs": [],
            "source": [
                "import sys\n",
                "sys.path.append(\"../\")"
            ]
        },
        {
            "cell_type": "markdown",
            "metadata": {},
            "source": [
                "## Index nodes (Optional)"
            ]
        },
        {
            "cell_type": "code",
            "execution_count": null,
            "metadata": {},
            "outputs": [],
            "source": [
                "from toolkit.risk_networks.main import build_model_with_attributes\n",
                "from toolkit.risk_networks.index_and_infer import index_nodes\n",
                "from toolkit.AI.openai_configuration import OpenAIConfiguration\n",
                "import os\n",
                "import polars as pl\n",
                "\n",
                "input_dataframe = pl.read_csv(\"./input/rn_test.csv\")\n",
                "\n",
                "entity_id_column = \"Country ISO\"\n",
                "columns_to_link = [\"Date\", \"Event Description\",\"Location Where Sexual Violence Was Committed\", \"Reported Perpetrator\"]\n",
                "main_graph = build_model_with_attributes(input_dataframe, entity_id_column, columns_to_link)\n",
                "\n",
                "\n",
                "openai_config = OpenAIConfiguration({\n",
                "    # \"api_type\": \"OpenAI\", #Azure OpenAI or OpenAI, (default: Azure OpenAI)\n",
                "    # \"api_key\": os.environ.get(\"OPENAI_API_KEY\"),\n",
                "    \"api_base\": os.environ.get(\"AZURE_OPENAI_ENDPOINT\"), # if Azure OpenAI\n",
                "    \"model\": os.environ.get(\"OPENAI_API_MODEL\", \"gpt-4o\")\n",
                "})\n",
                "\n",
                "\n",
                "columns_to_index = [\"Reported Perpetrator\", \"Event Description\"]\n",
                "(embedded_texts, nearest_text_distances, nearest_text_indices) = index_nodes(\n",
                "    columns_to_index,\n",
                "    main_graph,\n",
                "    openai_configuration=openai_config\n",
                ")\n",
                "\n",
                "print(f\"*Number of nodes indexed*: {len(embedded_texts)}\")\n"
            ]
        },
        {
            "cell_type": "code",
            "execution_count": null,
            "metadata": {},
            "outputs": [],
            "source": [
                "from toolkit.risk_networks.index_and_infer import infer_nodes, create_inferred_links, build_inferred_df\n",
                "\n",
                "similarity_threshold = 0.05\n",
                "\n",
                "inferred_links = infer_nodes(\n",
                "                    similarity_threshold,\n",
                "                    embedded_texts,\n",
                "                    nearest_text_indices,\n",
                "                    nearest_text_distances,\n",
                "                )\n",
                "\n",
                "inferred_links_list = create_inferred_links(inferred_links)\n",
                "\n",
                "print(f\"*Number of links inferred*: {len(inferred_links_list)}\")\n",
                "\n",
                "df_list = build_inferred_df(inferred_links_list)\n",
                "print(df_list.head())"
            ]
        }
    ],
    "metadata": {
        "kernelspec": {
            "display_name": ".venv",
            "language": "python",
            "name": "python3"
        },
        "language_info": {
            "codemirror_mode": {
                "name": "ipython",
                "version": 3
            },
            "file_extension": ".py",
            "mimetype": "text/x-python",
            "name": "python",
            "nbconvert_exporter": "python",
            "pygments_lexer": "ipython3",
            "version": "3.11.9"
        }
    },
    "nbformat": 4,
    "nbformat_minor": 2
}
