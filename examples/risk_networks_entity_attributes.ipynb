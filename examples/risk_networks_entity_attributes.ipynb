{
 "cells": [
  {
   "cell_type": "code",
   "execution_count": null,
   "metadata": {},
   "outputs": [],
   "source": [
    "# Prepare data\n",
    "import sys\n",
    "\n",
    "sys.path.append(\"../\")\n",
    "import pandas as pd\n",
    "\n",
    "from python.risk_networks import config\n",
    "from python.risk_networks.config import AttributeColumnType, LinkType\n",
    "from python.risk_networks.graph_functions import build_undirected_graph\n",
    "from python.risk_networks.model import prepare_entity_attribute\n",
    "from python.risk_networks.text_format import format_data_columns\n",
    "\n",
    "df = pd.read_csv(\"./input/rn_test.csv\")\n",
    "\n",
    "link_type = LinkType.EntityAttribute\n",
    "entity_id_column = \"ID\"\n",
    "attribute_type = AttributeColumnType.ColumnName\n",
    "attribute_name = \"\"\n",
    "columns_to_link = [\"Event Description\", \"Country\"]\n",
    "\n",
    "data_df = format_data_columns(df, columns_to_link, entity_id_column)\n",
    "attribute_links, node_types = prepare_entity_attribute(\n",
    "    data_df, entity_id_column, attribute_type, columns_to_link\n",
    ")\n",
    "overall_graph = build_undirected_graph(network_attribute_links=attribute_links)"
   ]
  },
  {
   "cell_type": "code",
   "execution_count": null,
   "metadata": {},
   "outputs": [],
   "source": [
    "all_nodes = overall_graph.nodes()\n",
    "\n",
    "entity_nodes = [node for node in all_nodes if node.startswith(config.entity_label)]\n",
    "\n",
    "attributes_list = [\n",
    "    node for node in all_nodes if not node.startswith(config.entity_label)\n",
    "]\n",
    "\n",
    "num_entities = len(entity_nodes)\n",
    "num_attributes = len(all_nodes) - num_entities\n",
    "num_edges = len(overall_graph.edges())\n",
    "\n",
    "original_df = pd.DataFrame(attributes_list, columns=[\"Attribute\"])\n",
    "\n",
    "attributes_renamed = []\n",
    "unique_names = original_df[\"Attribute\"].unique()\n",
    "for i, name in enumerate(unique_names, start=1):\n",
    "    name_format = name.split(\"==\")[0].strip()\n",
    "    attributes_renamed.append((\n",
    "        name,\n",
    "        f\"{name_format}=={name_format}_{i!s}\",\n",
    "    ))"
   ]
  },
  {
   "cell_type": "code",
   "execution_count": null,
   "metadata": {},
   "outputs": [],
   "source": [
    "if num_entities > 0:\n",
    "    print(\"##### Data model summary\")\n",
    "    print(f\"Number of entities*: {num_entities}\")\n",
    "    print(f\"Number of attributes*: {num_attributes}\")\n",
    "    print(f\"Number of links*: {num_edges}\")\n",
    "else:\n",
    "    print(\"No entities.\")\n",
    "\n",
    "\n",
    "# Attributes:\n",
    "print(\"##### Attributes\")\n",
    "pd.DataFrame(original_df)"
   ]
  }
 ],
 "metadata": {
  "kernelspec": {
   "display_name": "venv",
   "language": "python",
   "name": "python3"
  },
  "language_info": {
   "codemirror_mode": {
    "name": "ipython",
    "version": 3
   },
   "file_extension": ".py",
   "mimetype": "text/x-python",
   "name": "python",
   "nbconvert_exporter": "python",
   "pygments_lexer": "ipython3",
   "version": "3.11.9"
  }
 },
 "nbformat": 4,
 "nbformat_minor": 2
}
