{
 "cells": [
  {
   "cell_type": "code",
   "execution_count": null,
   "metadata": {},
   "outputs": [],
   "source": [
    "import sys\n",
    "import os\n",
    "\n",
    "sys.path.append(\"../\")\n",
    "\n",
    "from toolkit.AI.openai_configuration import OpenAIConfiguration\n",
    "from toolkit.AI.openai_embedder import OpenAIEmbedder\n",
    "\n",
    "ai_configuration = OpenAIConfiguration(\n",
    "    {\n",
    "        \"api_type\": \"OpenAI\",\n",
    "        \"api_key\": os.environ[\"OPENAI_API_KEY\"],\n",
    "        \"model\": \"gpt-4o-2024-08-06\",\n",
    "    }\n",
    ")\n",
    "\n",
    "text_embedder = OpenAIEmbedder(\n",
    "    configuration=ai_configuration,\n",
    ")"
   ]
  },
  {
   "cell_type": "code",
   "execution_count": null,
   "metadata": {},
   "outputs": [],
   "source": [
    "from faker import Faker\n",
    "\n",
    "fake = Faker()\n",
    "\n",
    "\n",
    "def build_texts(_range=100):\n",
    "    return [fake.text() for _ in range(_range)]"
   ]
  },
  {
   "cell_type": "code",
   "execution_count": null,
   "metadata": {},
   "outputs": [],
   "source": [
    "texts = build_texts(50)\n",
    "\n",
    "\n",
    "async def main():\n",
    "    return await text_embedder.embed_store_many_async(texts)\n",
    "\n",
    "\n",
    "# Run the main asynchronous function\n",
    "if __name__ == \"__main__\":\n",
    "    results = await main()\n",
    "    for result in results:\n",
    "        print(result)"
   ]
  }
 ],
 "metadata": {
  "kernelspec": {
   "display_name": "intelligence-toolkit-z4vJLTFP-py3.11",
   "language": "python",
   "name": "python3"
  },
  "language_info": {
   "codemirror_mode": {
    "name": "ipython",
    "version": 3
   },
   "file_extension": ".py",
   "mimetype": "text/x-python",
   "name": "python",
   "nbconvert_exporter": "python",
   "pygments_lexer": "ipython3",
   "version": "3.11.9"
  }
 },
 "nbformat": 4,
 "nbformat_minor": 2
}
