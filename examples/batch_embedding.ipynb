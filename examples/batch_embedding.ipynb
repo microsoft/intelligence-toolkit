{
 "cells": [
  {
   "cell_type": "code",
   "execution_count": null,
   "metadata": {},
   "outputs": [],
   "source": [
    "import sys\n",
    "import os\n",
    "sys.path.append(\"../\")\n",
    "\n",
    "from toolkit.AI.openai_configuration import OpenAIConfiguration\n",
    "from toolkit.AI.openai_embedder import OpenAIEmbedder\n",
    "\n",
    "ai_configuration = OpenAIConfiguration(\n",
    "    {\n",
    "        \"api_type\": \"OpenAI\",\n",
    "        \"api_key\": os.environ[\"OPENAI_API_KEY\"],\n",
    "        \"model\": \"gpt-4o-2024-08-06\",\n",
    "    }\n",
    ")\n",
    "\n",
    "text_embedder = OpenAIEmbedder(\n",
    "    configuration=ai_configuration,\n",
    ")"
   ]
  },
  {
   "cell_type": "code",
   "execution_count": null,
   "metadata": {},
   "outputs": [],
   "source": [
    "from faker import Faker\n",
    "\n",
    "fake = Faker()\n",
    "def build_texts(_range = 100):\n",
    "    return [fake.text() for _ in range(_range)]\n"
   ]
  },
  {
   "cell_type": "code",
   "execution_count": null,
   "metadata": {},
   "outputs": [],
   "source": [
    "import asyncio\n",
    "\n",
    "texts = build_texts(50)\n",
    "\n",
    "async def main():\n",
    "    # Asynchronously call the function for each prompt\n",
    "    tasks = [text_embedder.embed_store_one(text) for text in texts]\n",
    "    \n",
    "    # Gather and run the tasks concurrently\n",
    "    return await asyncio.gather(*tasks)\n",
    "    \n",
    "\n",
    "# Run the main asynchronous function\n",
    "if __name__ == \"__main__\":  \n",
    "    results = await main() \n",
    "    for result in results:\n",
    "        print(result)\n"
   ]
  }
 ],
 "metadata": {
  "kernelspec": {
   "display_name": "intelligence-toolkit-z4vJLTFP-py3.11",
   "language": "python",
   "name": "python3"
  },
  "language_info": {
   "codemirror_mode": {
    "name": "ipython",
    "version": 3
   },
   "file_extension": ".py",
   "mimetype": "text/x-python",
   "name": "python",
   "nbconvert_exporter": "python",
   "pygments_lexer": "ipython3",
   "version": "3.11.9"
  }
 },
 "nbformat": 4,
 "nbformat_minor": 2
}
