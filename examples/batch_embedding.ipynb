{
 "cells": [
  {
   "cell_type": "code",
   "execution_count": null,
   "metadata": {},
   "outputs": [],
   "source": [
    "import sys\n",
    "import os\n",
    "\n",
    "sys.path.append(\"../\")\n",
    "\n",
    "from faker import Faker\n",
    "\n",
    "fake = Faker()\n",
    "\n",
    "\n",
    "def build_texts(_range=100):\n",
    "    return [fake.text() for _ in range(_range)]"
   ]
  },
  {
   "cell_type": "markdown",
   "metadata": {},
   "source": [
    "# OpenAI"
   ]
  },
  {
   "cell_type": "code",
   "execution_count": null,
   "metadata": {},
   "outputs": [],
   "source": [
    "from toolkit.AI.openai_configuration import OpenAIConfiguration\n",
    "from toolkit.AI.openai_embedder import OpenAIEmbedder\n",
    "\n",
    "ai_configuration = OpenAIConfiguration(\n",
    "    {\n",
    "        \"api_type\": \"OpenAI\",\n",
    "        \"api_key\": os.environ[\"OPENAI_API_KEY\"],\n",
    "        \"model\": \"gpt-4o-2024-08-06\",\n",
    "    }\n",
    ")\n",
    "\n",
    "aoai_text_embedder = OpenAIEmbedder(\n",
    "    configuration=ai_configuration,\n",
    ")"
   ]
  },
  {
   "cell_type": "code",
   "execution_count": null,
   "metadata": {},
   "outputs": [],
   "source": [
    "texts = build_texts(1100)"
   ]
  },
  {
   "cell_type": "code",
   "execution_count": null,
   "metadata": {},
   "outputs": [],
   "source": [
    "def main():\n",
    "    return aoai_text_embedder.embed_store_many(texts)\n",
    "\n",
    "\n",
    "# Run the main asynchronous function\n",
    "if __name__ == \"__main__\":\n",
    "    results = await main()"
   ]
  },
  {
   "cell_type": "markdown",
   "metadata": {},
   "source": [
    "## Local"
   ]
  },
  {
   "cell_type": "code",
   "execution_count": null,
   "metadata": {},
   "outputs": [],
   "source": [
    "import sys\n",
    "\n",
    "sys.path.append(\"../\")\n",
    "\n",
    "from faker import Faker\n",
    "\n",
    "fake = Faker()\n",
    "\n",
    "\n",
    "def build_texts(_range=100):\n",
    "    return [fake.text() for _ in range(_range)]"
   ]
  },
  {
   "cell_type": "code",
   "execution_count": null,
   "metadata": {},
   "outputs": [],
   "source": [
    "texts4 = build_texts(2000)"
   ]
  },
  {
   "cell_type": "code",
   "execution_count": null,
   "metadata": {},
   "outputs": [],
   "source": [
    "from toolkit.helpers.progress_batch_callback import ProgressBatchCallback\n",
    "from toolkit.AI.local_embedder import LocalEmbedder\n",
    "\n",
    "text_embedder = LocalEmbedder()\n",
    "\n",
    "\n",
    "def on_embedding_batch_change(current, total, message=\"In progress....\"):\n",
    "    print(\n",
    "        f\"{message} {current} of {total}\",\n",
    "    )\n",
    "\n",
    "\n",
    "callback = ProgressBatchCallback()\n",
    "callback.on_batch_change = on_embedding_batch_change\n",
    "\n",
    "\n",
    "async def main():\n",
    "    return await text_embedder.embed_store_many(texts4, callback)\n",
    "\n",
    "\n",
    "if __name__ == \"__main__\":\n",
    "    results = await main()\n",
    "    print(len(results))"
   ]
  }
 ],
 "metadata": {
  "kernelspec": {
   "display_name": "intelligence-toolkit-z4vJLTFP-py3.11",
   "language": "python",
   "name": "python3"
  },
  "language_info": {
   "codemirror_mode": {
    "name": "ipython",
    "version": 3
   },
   "file_extension": ".py",
   "mimetype": "text/x-python",
   "name": "python",
   "nbconvert_exporter": "python",
   "pygments_lexer": "ipython3",
   "version": "3.11.9"
  }
 },
 "nbformat": 4,
 "nbformat_minor": 2
}
