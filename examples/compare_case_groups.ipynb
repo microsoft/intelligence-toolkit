{
 "cells": [
  {
   "cell_type": "code",
   "execution_count": null,
   "metadata": {},
   "outputs": [],
   "source": [
    "import pandas as pd\n",
    "import sys\n",
    "\n",
    "sys.path.append(\"../\")\n",
    "from toolkit.helpers.df_functions import fix_null_ints\n",
    "from toolkit.compare_case_groups.temporal_process import (\n",
    "    build_temporal_data,\n",
    "    create_window_df,\n",
    ")\n",
    "import polars as pl\n",
    "\n",
    "from toolkit.compare_case_groups.build_dataframes import (\n",
    "    build_attribute_df,\n",
    "    build_grouped_df,\n",
    "    build_ranked_df,\n",
    "    filter_df,\n",
    ")\n",
    "\n",
    "\n",
    "case_groups_model_df_pd = pd.read_csv(\n",
    "    \"../example_outputs/compare_case_groups/customer_complaints_prepared.csv\"\n",
    ")\n",
    "case_groups_model_df_pd[\"Subject ID\"] = [\n",
    "    str(x) for x in range(1, len(case_groups_model_df_pd) + 1)\n",
    "]\n",
    "filters = \"\"\n",
    "groups = [\"product_code\"]\n",
    "aggregates = [\"age\"]\n",
    "temporal = \"\"#quarter\n",
    "\n",
    "case_groups_model_df_pd = case_groups_model_df_pd.replace(\"\", None)\n",
    "\n",
    "case_groups_model_df_pd = fix_null_ints(case_groups_model_df_pd)\n",
    "\n",
    "filtered_df = filter_df(case_groups_model_df_pd, filters)\n",
    "\n",
    "# create group df\n",
    "grouped_df = build_grouped_df(filtered_df, groups)\n",
    "\n",
    "# create attribute df\n",
    "filtered_df_pl = pl.from_pandas(filtered_df)\n",
    "attributes_df = build_attribute_df(filtered_df_pl, groups, aggregates)\n",
    "\n",
    "temporal_df = pl.DataFrame()\n",
    "temporal_atts = []\n",
    "# create Window df\n",
    "if temporal != \"\":\n",
    "    temporal_df = create_window_df(\n",
    "        groups, temporal, aggregates, pl.from_pandas(filtered_df)\n",
    "    )\n",
    "\n",
    "    temporal_atts = sorted(case_groups_model_df_pd[temporal].astype(str).unique())\n",
    "\n",
    "    temporal_df = build_temporal_data(temporal_df, groups, temporal_atts, temporal)\n",
    "# Create overall df\n",
    "ranked_df = build_ranked_df(\n",
    "    temporal_df,\n",
    "    pl.from_pandas(grouped_df),\n",
    "    attributes_df,\n",
    "    temporal,\n",
    "    groups,\n",
    ")\n",
    "ranked_df = ranked_df.select(\n",
    "    *groups,\n",
    "    \"Group Count\",\n",
    "    \"Group Rank\",\n",
    "    \"Attribute Value\",\n",
    "    \"Attribute Count\",\n",
    "    \"Attribute Rank\",\n",
    ")\n",
    "print(len(ranked_df))"
   ]
  },
  {
   "cell_type": "code",
   "execution_count": null,
   "metadata": {},
   "outputs": [],
   "source": [
    "groups_text = f\"[{\", \".join([\"**\" + g + \"**\" for g in groups])}]\"\n",
    "description = \"This table shows:\"\n",
    "description += f\"A summary of all **{len(case_groups_model_df_pd)}** data records\"\n",
    "description += f\"\\n- The **Group Count** of records for all {groups_text} groups, and corresponding **Group Rank**\"\n",
    "description += f\"\\n- The **Attribute Count** of each **Attribute Value** for all {groups_text} groups, and corresponding **Attribute Rank**\"\n",
    "print(description)"
   ]
  },
  {
   "cell_type": "markdown",
   "metadata": {},
   "source": [
    "## Narrate by groups"
   ]
  },
  {
   "cell_type": "code",
   "execution_count": null,
   "metadata": {},
   "outputs": [],
   "source": [
    "# groups to narrate\n",
    "from toolkit.AI.utils import generate_messages\n",
    "from toolkit.compare_case_groups.prompts import user_prompt, report_prompt\n",
    "from toolkit.AI.metaprompts import do_not_harm\n",
    "\n",
    "groups_to_select = (\n",
    "    ranked_df.select(\n",
    "        groups\n",
    "    ).unique()  # Select the columns to group by  # Get unique combinations of these columns\n",
    ")\n",
    "\n",
    "selected_groups = groups_to_select[:5]\n",
    "selected_df = pl.DataFrame(selected_groups, schema=groups)\n",
    "\n",
    "# Filter the ranked_df to keep only the rows where the group keys are in selected_groups\n",
    "fdf = ranked_df.join(selected_df, on=groups, how=\"inner\")\n",
    "\n",
    "print(f\"##### Filtered data summary to narrate ({len(fdf)} rows)\")\n",
    "filter_description = f'Filtered to the following groups only: {\", \".join([str(s) for s in selected_groups])}'"
   ]
  },
  {
   "cell_type": "markdown",
   "metadata": {},
   "source": [
    "## Narrate by rank"
   ]
  },
  {
   "cell_type": "code",
   "execution_count": null,
   "metadata": {},
   "outputs": [],
   "source": [
    "# top_group_ranks = 5\n",
    "# fdf = ranked_df.filter(ranked_df[\"Group Rank\"] <= top_group_ranks)\n",
    "# filter_description = f\"Filtered to the top {top_group_ranks} groups by record count\"\n",
    "# filter_description"
   ]
  },
  {
   "cell_type": "code",
   "execution_count": 7,
   "metadata": {},
   "outputs": [],
   "source": [
    "variables = {\n",
    "    \"description\": description,\n",
    "    \"dataset\": fdf.write_csv(),\n",
    "    \"filters\": filter_description,\n",
    "}\n",
    "\n",
    "messages = generate_messages(user_prompt, report_prompt, variables, do_not_harm)"
   ]
  },
  {
   "cell_type": "code",
   "execution_count": null,
   "metadata": {},
   "outputs": [],
   "source": [
    "import os\n",
    "from toolkit.AI.openai_configuration import OpenAIConfiguration\n",
    "from toolkit.AI.client import OpenAIClient\n",
    "\n",
    "ai_configuration = OpenAIConfiguration(\n",
    "    {\n",
    "        \"api_type\": \"OpenAI\",\n",
    "        \"api_key\": os.getenv(\"OPENAI_API_KEY\"),\n",
    "        \"model\": \"gpt-4o-2024-08-06\",\n",
    "    }\n",
    ")\n",
    "response = OpenAIClient(ai_configuration).generate_chat(messages, stream=False)\n",
    "print(response)"
   ]
  }
 ],
 "metadata": {
  "kernelspec": {
   "display_name": ".venv",
   "language": "python",
   "name": "python3"
  },
  "language_info": {
   "codemirror_mode": {
    "name": "ipython",
    "version": 3
   },
   "file_extension": ".py",
   "mimetype": "text/x-python",
   "name": "python",
   "nbconvert_exporter": "python",
   "pygments_lexer": "ipython3",
   "version": "3.12.1"
  }
 },
 "nbformat": 4,
 "nbformat_minor": 2
}
