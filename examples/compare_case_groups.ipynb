{
 "cells": [
  {
   "cell_type": "code",
   "execution_count": null,
   "metadata": {},
   "outputs": [],
   "source": [
    "import pandas as pd\n",
    "import sys\n",
    "\n",
    "sys.path.append(\"../\")\n",
    "from toolkit.helpers.df_functions import fix_null_ints\n",
    "from toolkit.compare_case_groups.temporal_process import (\n",
    "    build_temporal_data,\n",
    "    create_window_df,\n",
    ")\n",
    "import polars as pl\n",
    "\n",
    "from toolkit.compare_case_groups.build_dataframes import (\n",
    "    build_attribute_df,\n",
    "    build_grouped_df,\n",
    "    build_ranked_df,\n",
    "    filter_df,\n",
    ")\n",
    "\n",
    "\n",
    "case_groups_model_df_pd = pd.read_csv(\n",
    "    \"../example_outputs/compare_case_groups/customer_complaints_prepared.csv\"\n",
    ")\n",
    "case_groups_model_df_pd[\"Subject ID\"] = [\n",
    "    str(x) for x in range(1, len(case_groups_model_df_pd) + 1)\n",
    "]\n",
    "filters = \"\"\n",
    "groups = [\"name\", \"age\", \"city\"]\n",
    "aggregates = [\"delivery_issue\"]\n",
    "temporal = \"\"\n",
    "\n",
    "case_groups_model_df_pd = case_groups_model_df_pd.replace(\"\", None)\n",
    "\n",
    "case_groups_model_df_pd = fix_null_ints(case_groups_model_df_pd)\n",
    "\n",
    "filtered_df = filter_df(case_groups_model_df_pd, filters)\n",
    "\n",
    "# create group df\n",
    "grouped_df = build_grouped_df(filtered_df, groups)\n",
    "\n",
    "# create attribute df\n",
    "filtered_df_pl = pl.from_pandas(filtered_df)\n",
    "attributes_df = build_attribute_df(filtered_df_pl, groups, aggregates=aggregates)\n",
    "\n",
    "temporal_df = pl.DataFrame()\n",
    "temporal_atts = []\n",
    "# create Window df\n",
    "if temporal != \"\":\n",
    "    temporal_df = create_window_df(\n",
    "        groups, temporal, aggregates, pl.from_pandas(filtered_df)\n",
    "    )\n",
    "\n",
    "    temporal_atts = sorted(case_groups_model_df_pd[temporal].astype(str).unique())\n",
    "\n",
    "    temporal_df = build_temporal_data(temporal_df, groups, temporal_atts, temporal)\n",
    "# Create overall df\n",
    "odf = build_ranked_df(\n",
    "    temporal_df,\n",
    "    pl.from_pandas(grouped_df),\n",
    "    attributes_df,\n",
    "    temporal,\n",
    "    groups,\n",
    ")\n",
    "print(len(odf))"
   ]
  },
  {
   "cell_type": "code",
   "execution_count": null,
   "metadata": {},
   "outputs": [],
   "source": [
    "odf.head()"
   ]
  },
  {
   "cell_type": "code",
   "execution_count": null,
   "metadata": {},
   "outputs": [],
   "source": [
    "groups_text = f\"[{\", \".join([\"**\" + g + \"**\" for g in groups])}]\"\n",
    "description = \"This table shows:\"\n",
    "description += f\"A summary of all **{len(case_groups_model_df_pd)}** data records\"\n",
    "description += f\"\\n- The **Group Count** of records for all {groups_text} groups, and corresponding **Group Rank**\"\n",
    "description += f\"\\n- The **Attribute Count** of each **Attribute Value** for all {groups_text} groups, and corresponding **Attribute Rank**\"\n",
    "print(description)"
   ]
  }
 ],
 "metadata": {
  "kernelspec": {
   "display_name": ".venv",
   "language": "python",
   "name": "python3"
  },
  "language_info": {
   "codemirror_mode": {
    "name": "ipython",
    "version": 3
   },
   "file_extension": ".py",
   "mimetype": "text/x-python",
   "name": "python",
   "nbconvert_exporter": "python",
   "pygments_lexer": "ipython3",
   "version": "3.12.1"
  }
 },
 "nbformat": 4,
 "nbformat_minor": 2
}
