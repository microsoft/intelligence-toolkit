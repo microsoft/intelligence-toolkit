{
    "cells": [
        {
            "cell_type": "markdown",
            "metadata": {},
            "source": [
                "Steps:\n",
                "\n",
                "\n",
                "1. Create data model\n",
                "    - attributes\n",
                "    - flags\n",
                "    - groups\n",
                "\n",
                "**2. Process data model**  \n",
                "    - index nodes <br>\n",
                "    - infer nodes <br>\n",
                "    - **detect networks**\n",
                "    \n",
                "3. Explore networks\n",
                "4. Generate AI reports"
            ]
        },
        {
            "cell_type": "markdown",
            "metadata": {},
            "source": [
                "# 2. Process data model"
            ]
        },
        {
            "cell_type": "markdown",
            "metadata": {},
            "source": [
                "## Detect networks"
            ]
        },
        {
            "cell_type": "code",
            "execution_count": null,
            "metadata": {},
            "outputs": [],
            "source": [
                "#%pip install ucimlrepo\n",
                "import sys\n",
                "from ucimlrepo import fetch_ucirepo\n",
                "import polars as pl\n",
                "sys.path.append(\"../..\")\n",
                "\n",
                "from toolkit.risk_networks.prepare_model import build_model_with_attributes\n",
                "\n",
                "\n",
                "computer_hardware  = fetch_ucirepo(id=29)\n",
                "\n",
                "\n",
                "input_dataframe = pl.DataFrame(computer_hardware.data.original)\n",
                "pl.Config.set_fmt_str_lengths(200)\n",
                "input_dataframe.head()\n",
                "\n",
                "entity_id_column = \"VendorName\"\n",
                "columns_to_link = [\"ModelName\", \"MYCT\", \"MMIN\", \"MMAX\", \"CACH\", \"CHMIN\", \"CHMAX\", \"PRP\", \"ERP\"]\n",
                "\n",
                "\n",
                "main_graph = build_model_with_attributes(input_dataframe, entity_id_column, columns_to_link)"
            ]
        },
        {
            "cell_type": "code",
            "execution_count": null,
            "metadata": {},
            "outputs": [],
            "source": [
                "max_attribute_degree = 10\n",
                "max_network_size=20\n",
                "supporting_attribute_types=[]\n",
                "inferred_links = set()\n",
                "integrated_flags = pl.DataFrame()\n",
                "additional_trimmed_attributes=[]"
            ]
        },
        {
            "cell_type": "code",
            "execution_count": null,
            "metadata": {},
            "outputs": [],
            "source": [
                "from toolkit.risk_networks.identify_networks import build_entity_records, build_networks, trim_nodeset\n",
                "\n",
                "\n",
                "(trimmed_degrees, trimmed_nodes) = trim_nodeset(\n",
                "    main_graph,\n",
                "    additional_trimmed_attributes,\n",
                "    max_attribute_degree,\n",
                ")\n",
                "\n",
                "(\n",
                "    community_nodes,\n",
                "    entity_to_community,\n",
                ") = build_networks(\n",
                "    main_graph,\n",
                "    trimmed_nodes,\n",
                "    inferred_links,\n",
                "    supporting_attribute_types,\n",
                "    max_network_size,\n",
                ")\n",
                "\n",
                "entity_records = build_entity_records(\n",
                "    community_nodes,\n",
                "    integrated_flags,\n",
                ")"
            ]
        },
        {
            "cell_type": "markdown",
            "metadata": {},
            "source": [
                "### Attributes removed because of high degree"
            ]
        },
        {
            "cell_type": "code",
            "execution_count": null,
            "metadata": {},
            "outputs": [],
            "source": [
                "print(\"Total: \", len(trimmed_degrees))\n",
                "pl.DataFrame(\n",
                "    list(trimmed_degrees),\n",
                "    schema=[\"Attribute\", \"Linked Entities\"],\n",
                ").sort(\"Linked Entities\", descending=True).head()"
            ]
        },
        {
            "cell_type": "code",
            "execution_count": null,
            "metadata": {},
            "outputs": [],
            "source": [
                "comm_count = len(community_nodes)\n",
                "\n",
                "if comm_count > 0:\n",
                "    comm_sizes = [\n",
                "        len(comm)\n",
                "        for comm in community_nodes\n",
                "        if len(comm) > 1\n",
                "    ]\n",
                "    max_comm_size = max(comm_sizes)\n",
                "    trimmed_atts = len(trimmed_degrees)\n",
                "    print(\n",
                "        f\"Networks identified: {comm_count} ({len(comm_sizes)} with multiple entities, maximum {max_comm_size})\"\n",
                "    )"
            ]
        }
    ],
    "metadata": {
        "kernelspec": {
            "display_name": ".venv",
            "language": "python",
            "name": "python3"
        },
        "language_info": {
            "codemirror_mode": {
                "name": "ipython",
                "version": 3
            },
            "file_extension": ".py",
            "mimetype": "text/x-python",
            "name": "python",
            "nbconvert_exporter": "python",
            "pygments_lexer": "ipython3",
            "version": "3.11.9"
        }
    },
    "nbformat": 4,
    "nbformat_minor": 2
}
