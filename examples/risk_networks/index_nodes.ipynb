{
    "cells": [
        {
            "cell_type": "markdown",
            "metadata": {},
            "source": [
                "Steps:\n",
                "\n",
                "\n",
                "1. Create data model\n",
                "    - attributes\n",
                "    - flags\n",
                "    - groups\n",
                "\n",
                "**2. Process data model**  \n",
                "    - **index nodes**  \n",
                "    - **infer nodes**  \n",
                "    - detect networks\n",
                "    \n",
                "3. Explore networks\n",
                "4. Generate AI reports"
            ]
        },
        {
            "cell_type": "markdown",
            "metadata": {},
            "source": [
                "# 2. Process data model"
            ]
        },
        {
            "cell_type": "code",
            "execution_count": null,
            "metadata": {},
            "outputs": [],
            "source": [
                "#%pip install ucimlrepo\n",
                "import sys\n",
                "from ucimlrepo import fetch_ucirepo\n",
                "import polars as pl\n",
                "\n",
                "\n",
                "sys.path.append(\"../..\")\n",
                "computer_hardware  = fetch_ucirepo(id=29)\n",
                "\n",
                "\n",
                "input_dataframe = pl.DataFrame(computer_hardware.data.original)\n",
                "pl.Config.set_fmt_str_lengths(200)\n",
                "input_dataframe.head()\n",
                "\n",
                "entity_id_column = \"VendorName\"\n",
                "columns_to_link = [\"ModelName\", \"MYCT\", \"MMIN\", \"MMAX\", \"CACH\", \"CHMIN\", \"CHMAX\", \"PRP\", \"ERP\"]"
            ]
        },
        {
            "cell_type": "code",
            "execution_count": null,
            "metadata": {},
            "outputs": [],
            "source": [
                "from toolkit.risk_networks.prepare_model import build_model_with_attributes\n",
                "\n",
                "main_graph = build_model_with_attributes(input_dataframe, entity_id_column, columns_to_link)"
            ]
        },
        {
            "cell_type": "markdown",
            "metadata": {},
            "source": [
                "## Index nodes (Optional)"
            ]
        },
        {
            "cell_type": "code",
            "execution_count": null,
            "metadata": {},
            "outputs": [],
            "source": [
                "\n",
                "import os\n",
                "from toolkit.AI.openai_configuration import OpenAIConfiguration\n",
                "from toolkit.risk_networks.index_and_infer import index_and_infer, build_inferred_df\n",
                "\n",
                "\n",
                "ai_configuration = OpenAIConfiguration({\n",
                "    \"api_type\": \"OpenAI\",\n",
                "    \"api_key\": os.getenv(\"OPENAI_API_KEY\"),\n",
                "    \"model\": \"gpt-4o-2024-08-06\",\n",
                "})\n",
                "\n",
                "\n",
                "columns_to_index = [\"ModelName\"]\n",
                "\n",
                "similarity_threshold = 0.05\n",
                "\n",
                "inferred_links_list, embedded_texts_count = index_and_infer(\n",
                "                    columns_to_index,\n",
                "                    main_graph,\n",
                "                    similarity_threshold,\n",
                "                    openai_configuration=ai_configuration\n",
                "                )\n"
            ]
        },
        {
            "cell_type": "code",
            "execution_count": null,
            "metadata": {},
            "outputs": [],
            "source": [
                "\n",
                "print(f\"*Number of nodes indexed*: {embedded_texts_count}\")\n",
                "print(f\"*Number of links inferred*: {len(inferred_links_list)}\")\n",
                "\n",
                "df_list = build_inferred_df(inferred_links_list)\n",
                "print(df_list.head())"
            ]
        }
    ],
    "metadata": {
        "kernelspec": {
            "display_name": ".venv",
            "language": "python",
            "name": "python3"
        },
        "language_info": {
            "codemirror_mode": {
                "name": "ipython",
                "version": 3
            },
            "file_extension": ".py",
            "mimetype": "text/x-python",
            "name": "python",
            "nbconvert_exporter": "python",
            "pygments_lexer": "ipython3",
            "version": "3.11.9"
        }
    },
    "nbformat": 4,
    "nbformat_minor": 2
}
