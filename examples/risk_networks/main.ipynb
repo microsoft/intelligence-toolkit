{
    "cells": [
        {
            "cell_type": "markdown",
            "metadata": {},
            "source": [
                "Steps:\n",
                "\n",
                "\n",
                "1. Create data model\n",
                "    - attributes\n",
                "    - flags\n",
                "    - groups\n",
                "\n",
                "2. Process data model\n",
                "    - index nodes \n",
                "    - infer nodes \n",
                "    - detect networks\n",
                "    \n",
                "**3. Explore networks**\n",
                "\n",
                "4. Generate AI reports"
            ]
        },
        {
            "cell_type": "markdown",
            "metadata": {},
            "source": [
                "# 3. Explore networks"
            ]
        },
        {
            "cell_type": "code",
            "execution_count": null,
            "metadata": {},
            "outputs": [],
            "source": [
                "%pip install ucimlrepo\n",
                "import sys\n",
                "from ucimlrepo import fetch_ucirepo\n",
                "import polars as pl\n",
                "\n",
                "sys.path.append(\"../..\")\n",
                "\n",
                "computer_hardware  = fetch_ucirepo(id=29)\n",
                "\n",
                "\n",
                "input_dataframe = pl.DataFrame(computer_hardware.data.original)\n",
                "pl.Config.set_fmt_str_lengths(200)\n",
                "input_dataframe.head()\n",
                "\n",
                "entity_id_column = \"VendorName\"\n",
                "columns_to_link = [\"ModelName\", \"MYCT\", \"MMIN\", \"MMAX\", \"CACH\", \"CHMIN\", \"CHMAX\", \"PRP\", \"ERP\"]\n",
                "pl.Config.set_fmt_str_lengths(200)\n"
            ]
        },
        {
            "cell_type": "markdown",
            "metadata": {},
            "source": [
                "## Detect networks"
            ]
        },
        {
            "cell_type": "code",
            "execution_count": null,
            "metadata": {},
            "outputs": [],
            "source": [
                "# get native-country and randomly put flags for them\n",
                "names = input_dataframe[\"VendorName\"].unique().to_list()\n",
                "\n",
                "# random numbers between 0 and 5 in a dataframe with id, flags and value\n",
                "n = 500\n",
                "df = pl.DataFrame(\n",
                "    {\n",
                "        \"id\": pl.Series(\"id\", list(range(n))),\n",
                "        \"flags\": pl.Series(\"flags\", [names[i % len(names)] for i in range(n)]),\n",
                "        \"value\": pl.Series(\"value\", [i % 5 for i in range(n)]),\n",
                "    }\n",
                ")"
            ]
        },
        {
            "cell_type": "markdown",
            "metadata": {},
            "source": [
                "## Network data by Entity "
            ]
        },
        {
            "cell_type": "code",
            "execution_count": null,
            "metadata": {},
            "outputs": [],
            "source": [
                "from toolkit.risk_networks.main import build_simple_network_data\n",
                "\n",
                "\n",
                "entity_records, nodes, edges = build_simple_network_data(input_dataframe, entity_id_column, columns_to_link)"
            ]
        },
        {
            "cell_type": "code",
            "execution_count": null,
            "metadata": {},
            "outputs": [],
            "source": [
                "entity_df = pl.DataFrame(\n",
                "                    entity_records,\n",
                "                    schema=[\n",
                "                        \"Entity ID\",\n",
                "                        \"Entity Flags\",\n",
                "                        \"Network ID\",\n",
                "                        \"Network Entities\",\n",
                "                        \"Network Flags\",\n",
                "                        \"Flagged\",\n",
                "                        \"Flags/Entity\",\n",
                "                        \"Flagged/Unflagged\",\n",
                "                    ],\n",
                "                ).sort(\"Flagged/Unflagged\", descending=True)\n",
                "\n",
                "entity_df.head()"
            ]
        },
        {
            "cell_type": "code",
            "execution_count": null,
            "metadata": {},
            "outputs": [],
            "source": [
                "nodes_df = pl.DataFrame(\n",
                "                    nodes,\n",
                "                    schema=[\n",
                "                        \"title\",\n",
                "                        \"id\",\n",
                "                    ],\n",
                "                )\n",
                "nodes_df.head()"
            ]
        }
    ],
    "metadata": {
        "kernelspec": {
            "display_name": ".venv",
            "language": "python",
            "name": "python3"
        },
        "language_info": {
            "codemirror_mode": {
                "name": "ipython",
                "version": 3
            },
            "file_extension": ".py",
            "mimetype": "text/x-python",
            "name": "python",
            "nbconvert_exporter": "python",
            "pygments_lexer": "ipython3",
            "version": "3.11.9"
        }
    },
    "nbformat": 4,
    "nbformat_minor": 2
}
