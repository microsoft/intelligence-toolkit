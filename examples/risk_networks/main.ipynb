{
    "cells": [
        {
            "cell_type": "markdown",
            "metadata": {},
            "source": [
                "Steps:\n",
                "\n",
                "\n",
                "1. Create data model\n",
                "    - attributes\n",
                "    - flags\n",
                "    - groups\n",
                "\n",
                "2. Process data model\n",
                "    - index nodes \n",
                "    - infer nodes \n",
                "    - detect networks\n",
                "    \n",
                "**3. Explore networks**\n",
                "\n",
                "4. Generate AI reports"
            ]
        },
        {
            "cell_type": "markdown",
            "metadata": {},
            "source": [
                "# 3. Explore networks"
            ]
        },
        {
            "cell_type": "code",
            "execution_count": null,
            "metadata": {},
            "outputs": [],
            "source": [
                "import sys\n",
                "\n",
                "sys.path.append(\"../..\")\n",
                "\n",
                "import polars as pl\n",
                "import pandas as pd\n",
                "\n",
                "# Download an example dataset\n",
                "column_names = [\n",
                "    \"age\",\n",
                "    \"workclass\",\n",
                "    \"fnlwgt\",\n",
                "    \"education\",\n",
                "    \"education-num\",\n",
                "    \"marital-status\",\n",
                "    \"occupation\",\n",
                "    \"relationship\",\n",
                "    \"race\",\n",
                "    \"sex\",\n",
                "    \"capital-gain\",\n",
                "    \"capital-loss\",\n",
                "    \"hours-per-week\",\n",
                "    \"native-country\",\n",
                "]\n",
                "url = \"https://archive.ics.uci.edu/ml/machine-learning-databases/adult/adult.data\"\n",
                "\n",
                "_df = pd.read_csv(url, names=column_names, nrows=5000, index_col=False)\n",
                "\n",
                "# Convert the pandas DataFrame to a Polars DataFrame\n",
                "input_dataframe = pl.from_pandas(_df)\n",
                "pl.Config.set_fmt_str_lengths(200)\n"
            ]
        },
        {
            "cell_type": "markdown",
            "metadata": {},
            "source": [
                "## Detect networks"
            ]
        },
        {
            "cell_type": "code",
            "execution_count": null,
            "metadata": {},
            "outputs": [],
            "source": [
                "entity_id_column = \"native-country\"\n",
                "columns_to_link = [\"marital-status\", \"workclass\", \"education\"]"
            ]
        },
        {
            "cell_type": "markdown",
            "metadata": {},
            "source": [
                "## Network data by Entity "
            ]
        },
        {
            "cell_type": "code",
            "execution_count": null,
            "metadata": {},
            "outputs": [],
            "source": [
                "from toolkit.risk_networks.main import build_simple_network_data\n",
                "\n",
                "\n",
                "entity_records, nodes, edges = build_simple_network_data(input_dataframe, entity_id_column, columns_to_link)"
            ]
        },
        {
            "cell_type": "code",
            "execution_count": null,
            "metadata": {},
            "outputs": [],
            "source": [
                "entity_df = pl.DataFrame(\n",
                "                    entity_records,\n",
                "                    schema=[\n",
                "                        \"Entity ID\",\n",
                "                        \"Entity Flags\",\n",
                "                        \"Network ID\",\n",
                "                        \"Network Entities\",\n",
                "                        \"Network Flags\",\n",
                "                        \"Flagged\",\n",
                "                        \"Flags/Entity\",\n",
                "                        \"Flagged/Unflagged\",\n",
                "                    ],\n",
                "                ).sort(\"Flagged/Unflagged\", descending=True)\n",
                "\n",
                "entity_df.head()"
            ]
        },
        {
            "cell_type": "code",
            "execution_count": null,
            "metadata": {},
            "outputs": [],
            "source": [
                "#dataframe with nodes and edges\n",
                "nodes_df = pl.DataFrame(\n",
                "                    nodes,\n",
                "                    schema=[\n",
                "                        \"title\",\n",
                "                        \"id\",\n",
                "                    ],\n",
                "                )\n",
                "nodes_df.head()"
            ]
        }
    ],
    "metadata": {
        "kernelspec": {
            "display_name": ".venv",
            "language": "python",
            "name": "python3"
        },
        "language_info": {
            "codemirror_mode": {
                "name": "ipython",
                "version": 3
            },
            "file_extension": ".py",
            "mimetype": "text/x-python",
            "name": "python",
            "nbconvert_exporter": "python",
            "pygments_lexer": "ipython3",
            "version": "3.11.9"
        }
    },
    "nbformat": 4,
    "nbformat_minor": 2
}
