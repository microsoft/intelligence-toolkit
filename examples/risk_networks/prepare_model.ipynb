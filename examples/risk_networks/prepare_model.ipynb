{
    "cells": [
        {
            "cell_type": "markdown",
            "metadata": {},
            "source": [
                "Steps:\n",
                "\n",
                "\n",
                "**1. Create data model**  \n",
                "    - **attributes**  \n",
                "    - **flags**  \n",
                "    - **groups** \n",
                "\n",
                "2. Process data model\n",
                "3. Explore networks\n",
                "4. Generate AI reports"
            ]
        },
        {
            "cell_type": "markdown",
            "metadata": {},
            "source": [
                "# 1. Create data model"
            ]
        },
        {
            "cell_type": "code",
            "execution_count": null,
            "metadata": {},
            "outputs": [],
            "source": [
                "import sys\n",
                "sys.path.append(\"../..\")"
            ]
        },
        {
            "cell_type": "markdown",
            "metadata": {},
            "source": [
                "## Add Entity-Attributes"
            ]
        },
        {
            "cell_type": "code",
            "execution_count": null,
            "metadata": {},
            "outputs": [],
            "source": [
                "import polars as pl\n",
                "\n",
                "input_dataframe = pl.read_csv(\"./input/rn_test.csv\")\n",
                "\n",
                "entity_id_column = \"Country ISO\"\n",
                "columns_to_link = [\"Date\", \"Event Description\",\"Location Where Sexual Violence Was Committed\", \"Reported Perpetrator\"]"
            ]
        },
        {
            "cell_type": "code",
            "execution_count": null,
            "metadata": {},
            "outputs": [],
            "source": [
                "from toolkit.risk_networks import config\n",
                "from toolkit.risk_networks.prepare_model import build_model_with_attributes\n",
                "from toolkit.risk_networks.config import ENTITY_LABEL\n",
                "\n",
                "graph = build_model_with_attributes(input_dataframe, entity_id_column, columns_to_link)\n",
                "all_nodes = graph.nodes()\n",
                "entity_nodes = [\n",
                "    node for node in all_nodes if node.startswith(ENTITY_LABEL)\n",
                "]\n",
                "\n",
                "num_entities = len(entity_nodes)\n",
                "num_attributes = len(all_nodes) - num_entities\n",
                "num_edges = len(graph.edges())\n",
                "\n",
                "print(\n",
                "    f\"*Number of entities*: {num_entities}\\n*Number of attributes*: {num_attributes}\\n*Number of links*: {num_edges}\"\n",
                ")\n"
            ]
        },
        {
            "cell_type": "markdown",
            "metadata": {},
            "source": [
                "## Add flags (Optional)"
            ]
        },
        {
            "cell_type": "code",
            "execution_count": null,
            "metadata": {},
            "outputs": [],
            "source": [
                "from toolkit.risk_networks.config import FlagAggregatorType\n",
                "from toolkit.risk_networks.prepare_model import get_flags\n",
                "\n",
                "\n",
                "entity_col = \"Country ISO\"\n",
                "flag_agg = FlagAggregatorType.Instance.value\n",
                "value_cols = [\"FLAGS\"]\n",
                "\n",
                "flags_dataframe = pl.read_csv(\"./input/rn_test_flags.csv\")\n",
                "\n",
                "(integrated_flags, max_entity_flags, mean_flagged_flags) = get_flags(flags_dataframe, entity_col, flag_agg, value_cols)\n",
                "\n",
                "num_flags = len(integrated_flags)\n",
                "print(f\"*Number of flags*: {num_flags}\")\n",
                "\n"
            ]
        },
        {
            "cell_type": "markdown",
            "metadata": {},
            "source": [
                "## Add groups (Optional)"
            ]
        },
        {
            "cell_type": "code",
            "execution_count": null,
            "metadata": {},
            "outputs": [],
            "source": [
                "from toolkit.risk_networks.prepare_model import build_groups\n",
                "from toolkit.helpers.constants import ATTRIBUTE_VALUE_SEPARATOR\n",
                "\n",
                "entity_col = \"Country ISO\"\n",
                "flag_agg = FlagAggregatorType.Instance.value\n",
                "value_cols = [\"GROUP\"]\n",
                "\n",
                "groups_dataframe = pl.read_csv(\"./input/rn_test_groups.csv\")\n",
                "\n",
                "group_links = build_groups(\n",
                "                            value_cols,\n",
                "                            groups_dataframe,\n",
                "                            entity_col,\n",
                "                        )\n",
                "\n",
                "groups = set()\n",
                "for link_list in group_links:\n",
                "    for link in link_list:\n",
                "        groups.add(f\"{link[1]}{ATTRIBUTE_VALUE_SEPARATOR}{link[2]}\")\n",
                "\n",
                "num_groups = len(groups)\n",
                "print(f\"*Number of groups*: {num_groups}\")\n"
            ]
        },
        {
            "cell_type": "markdown",
            "metadata": {},
            "source": [
                "### Summary"
            ]
        },
        {
            "cell_type": "code",
            "execution_count": null,
            "metadata": {},
            "outputs": [],
            "source": [
                "print(f\"*Number of entities*: {num_entities}\\n*Number of attributes*: {num_attributes}\\n*Number of links*: {num_edges}\\n*Number of flags*: {num_flags}\\n*Number of groups*: {num_groups}\")\n"
            ]
        }
    ],
    "metadata": {
        "kernelspec": {
            "display_name": ".venv",
            "language": "python",
            "name": "python3"
        },
        "language_info": {
            "codemirror_mode": {
                "name": "ipython",
                "version": 3
            },
            "file_extension": ".py",
            "mimetype": "text/x-python",
            "name": "python",
            "nbconvert_exporter": "python",
            "pygments_lexer": "ipython3",
            "version": "3.11.9"
        }
    },
    "nbformat": 4,
    "nbformat_minor": 2
}
