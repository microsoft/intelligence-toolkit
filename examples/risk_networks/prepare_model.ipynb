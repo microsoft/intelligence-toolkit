{
    "cells": [
        {
            "cell_type": "markdown",
            "metadata": {},
            "source": [
                "Steps:\n",
                "\n",
                "\n",
                "**1. Create data model**  \n",
                "    - **attributes**  \n",
                "    - **flags**  \n",
                "    - **groups** \n",
                "\n",
                "2. Process data model\n",
                "3. Explore networks\n",
                "4. Generate AI reports"
            ]
        },
        {
            "cell_type": "markdown",
            "metadata": {},
            "source": [
                "# 1. Create data model"
            ]
        },
        {
            "cell_type": "code",
            "execution_count": null,
            "metadata": {},
            "outputs": [],
            "source": [
                "#%pip install ucimlrepo\n",
                "import sys\n",
                "from ucimlrepo import fetch_ucirepo\n",
                "import polars as pl\n",
                "\n",
                "\n",
                "sys.path.append(\"../..\")\n",
                "computer_hardware  = fetch_ucirepo(id=29)\n",
                "\n",
                "\n",
                "input_dataframe = pl.DataFrame(computer_hardware.data.original)\n",
                "pl.Config.set_fmt_str_lengths(200)\n",
                "input_dataframe.head()\n",
                "\n",
                "entity_id_column = \"VendorName\"\n",
                "columns_to_link = [\"ModelName\", \"MYCT\", \"MMIN\", \"MMAX\", \"CACH\", \"CHMIN\", \"CHMAX\", \"PRP\", \"ERP\"]"
            ]
        },
        {
            "cell_type": "markdown",
            "metadata": {},
            "source": [
                "## Add Entity-Attributes"
            ]
        },
        {
            "cell_type": "code",
            "execution_count": null,
            "metadata": {},
            "outputs": [],
            "source": [
                "from toolkit.risk_networks.prepare_model import build_model_with_attributes\n",
                "from toolkit.risk_networks.config import ENTITY_LABEL\n",
                "\n",
                "graph = build_model_with_attributes(input_dataframe, entity_id_column, columns_to_link)\n",
                "all_nodes = graph.nodes()\n",
                "entity_nodes = [\n",
                "    node for node in all_nodes if node.startswith(ENTITY_LABEL)\n",
                "]\n",
                "\n",
                "num_entities = len(entity_nodes)\n",
                "num_attributes = len(all_nodes) - num_entities\n",
                "num_edges = len(graph.edges())\n",
                "\n",
                "print(\n",
                "    f\"*Number of entities*: {num_entities}\\n*Number of attributes*: {num_attributes}\\n*Number of links*: {num_edges}\"\n",
                ")\n"
            ]
        },
        {
            "cell_type": "markdown",
            "metadata": {},
            "source": [
                "## Add flags (Optional)"
            ]
        },
        {
            "cell_type": "code",
            "execution_count": null,
            "metadata": {},
            "outputs": [],
            "source": [
                "import numpy as np\n",
                "unique_entities = input_dataframe[entity_id_column].unique().to_list()\n",
                "\n",
                "flags_df = pl.DataFrame({\n",
                "    \"VendorName\": pl.Series(unique_entities),\n",
                "    \"Flags\": pl.Series(np.random.randint(0, 2, len(unique_entities))),\n",
                "})\n"
            ]
        },
        {
            "cell_type": "code",
            "execution_count": null,
            "metadata": {},
            "outputs": [],
            "source": [
                "from toolkit.risk_networks.config import FlagAggregatorType\n",
                "from toolkit.risk_networks.prepare_model import get_flags\n",
                "\n",
                "\n",
                "flag_agg = FlagAggregatorType.Count.value\n",
                "value_cols = [\"Flags\"]\n",
                "\n",
                "(integrated_flags, max_entity_flags, mean_flagged_flags) = get_flags(flags_df, entity_id_column, flag_agg, value_cols)\n",
                "\n",
                "num_flags = len(integrated_flags)\n",
                "print(f\"*Number of flags*: {num_flags}\")\n",
                "\n"
            ]
        },
        {
            "cell_type": "markdown",
            "metadata": {},
            "source": [
                "### Summary"
            ]
        },
        {
            "cell_type": "code",
            "execution_count": null,
            "metadata": {},
            "outputs": [],
            "source": [
                "num_groups=0\n",
                "print(f\"*Number of entities*: {num_entities}\\n*Number of attributes*: {num_attributes}\\n*Number of links*: {num_edges}\\n*Number of flags*: {num_flags}\\n*Number of groups*: {num_groups}\")\n"
            ]
        }
    ],
    "metadata": {
        "kernelspec": {
            "display_name": ".venv",
            "language": "python",
            "name": "python3"
        },
        "language_info": {
            "codemirror_mode": {
                "name": "ipython",
                "version": 3
            },
            "file_extension": ".py",
            "mimetype": "text/x-python",
            "name": "python",
            "nbconvert_exporter": "python",
            "pygments_lexer": "ipython3",
            "version": "3.11.9"
        }
    },
    "nbformat": 4,
    "nbformat_minor": 2
}
