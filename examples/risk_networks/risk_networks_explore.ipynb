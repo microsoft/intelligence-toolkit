{
    "cells": [
        {
            "cell_type": "markdown",
            "metadata": {},
            "source": [
                "Steps:\n",
                "\n",
                "\n",
                "1. Create data model\n",
                "    - attributes\n",
                "    - flags\n",
                "    - groups\n",
                "\n",
                "2. Process data model\n",
                "    - index nodes \n",
                "    - infer nodes \n",
                "    - detect networks\n",
                "    \n",
                "**3. Explore networks**\n",
                "\n",
                "4. Generate AI reports"
            ]
        },
        {
            "cell_type": "markdown",
            "metadata": {},
            "source": [
                "# 3. Explore networks"
            ]
        },
        {
            "cell_type": "code",
            "execution_count": null,
            "metadata": {},
            "outputs": [],
            "source": [
                "import sys\n",
                "sys.path.append(\"../..\")"
            ]
        },
        {
            "cell_type": "markdown",
            "metadata": {},
            "source": [
                "## Detect networks"
            ]
        },
        {
            "cell_type": "code",
            "execution_count": null,
            "metadata": {},
            "outputs": [],
            "source": [
                "from toolkit.risk_networks.prepare_model import build_model_with_attributes\n",
                "import polars as pl\n",
                "\n",
                "# Prepare\n",
                "input_dataframe = pl.read_csv(\"./input/rn_test.csv\")\n",
                "\n",
                "entity_id_column = \"Country ISO\"\n",
                "columns_to_link = [\"Date\", \"Location Where Sexual Violence Was Committed\", \"Reported Perpetrator\"]\n",
                "main_graph = build_model_with_attributes(input_dataframe, entity_id_column, columns_to_link)\n"
            ]
        },
        {
            "cell_type": "code",
            "execution_count": null,
            "metadata": {},
            "outputs": [],
            "source": [
                "from collections import defaultdict\n",
                "\n",
                "\n",
                "max_attribute_degree = 10\n",
                "max_network_size=50\n",
                "supporting_attribute_types=[]\n",
                "inferred_links = defaultdict(set)\n",
                "additional_trimmed_attributes=[]\n",
                "integrated_flags = pl.DataFrame()\n",
                "group_links = []"
            ]
        },
        {
            "cell_type": "code",
            "execution_count": null,
            "metadata": {},
            "outputs": [],
            "source": [
                "#Identify\n",
                "from toolkit.risk_networks.identify_networks import build_entity_records, build_networks, trim_nodeset\n",
                "\n",
                "\n",
                "(trimmed_degrees, trimmed_nodes) = trim_nodeset(\n",
                "    main_graph,\n",
                "    additional_trimmed_attributes,\n",
                "    max_attribute_degree,\n",
                ")\n",
                "\n",
                "(\n",
                "    community_nodes,\n",
                "    entity_to_community,\n",
                ") = build_networks(\n",
                "    main_graph,\n",
                "    trimmed_nodes,\n",
                "    inferred_links,\n",
                "    supporting_attribute_types,\n",
                "    max_network_size,\n",
                ")\n",
                "\n",
                "entity_records = build_entity_records(\n",
                "    community_nodes,\n",
                "    integrated_flags,\n",
                ")"
            ]
        },
        {
            "cell_type": "markdown",
            "metadata": {},
            "source": [
                "## Network data by Entity "
            ]
        },
        {
            "cell_type": "code",
            "execution_count": null,
            "metadata": {},
            "outputs": [],
            "source": [
                "entity_df = pl.DataFrame(\n",
                "                    entity_records,\n",
                "                    schema=[\n",
                "                        \"Entity ID\",\n",
                "                        \"Entity Flags\",\n",
                "                        \"Network ID\",\n",
                "                        \"Network Entities\",\n",
                "                        \"Network Flags\",\n",
                "                        \"Flagged\",\n",
                "                        \"Flags/Entity\",\n",
                "                        \"Flagged/Unflagged\",\n",
                "                    ],\n",
                "                ).sort(\"Flagged/Unflagged\", descending=True)\n",
                "\n",
                "#To remove entities from table\n",
                "# entity_df = (\n",
                "#     entity_df.drop([\"Entity ID\", \"Entity Flags\"])\n",
                "#     .unique()\n",
                "# )\n",
                "    \n",
                "entity_df.head()"
            ]
        },
        {
            "cell_type": "markdown",
            "metadata": {},
            "source": [
                "## Network data by Group"
            ]
        },
        {
            "cell_type": "code",
            "execution_count": null,
            "metadata": {},
            "outputs": [],
            "source": [
                "for group in group_links:\n",
                "    print(group)\n",
                "    # Convert to Polars DataFrame and replace \"nan\" with \"\"\n",
                "    selected_df = pl.DataFrame(\n",
                "                            group, schema=[\"Entity ID\", \"Group\", \"Value\"]\n",
                "                        )\n",
                "    # # Filter out rows where \"Value\" is empty\n",
                "    selected_df = selected_df.filter(pl.col(\"Value\") != \"\")\n",
                "    selected_df = selected_df.filter(pl.col(\"Value\") != \"nan\")\n",
                "\n",
                "    # Use group values as columns with values in them\n",
                "    selected_df = selected_df.pivot(  # noqa: PD010\n",
                "        values=\"Value\", index=\"Entity ID\", columns=\"Group\", aggregate_function=\"first\"\n",
                "    )\n",
                "\n",
                "    # Merge with entity_df\n",
                "    entity_df = entity_df.join(selected_df, on=\"Entity ID\", how=\"left\", suffix=\"_right\")\n",
                "\n",
                "entity_df = (\n",
                "    entity_df.drop([\"Entity ID\", \"Entity Flags\"])\n",
                "    .unique()\n",
                ")\n",
                "\n",
                "print(entity_df.head())"
            ]
        },
        {
            "cell_type": "code",
            "execution_count": null,
            "metadata": {},
            "outputs": [],
            "source": [
                "from toolkit.risk_networks.explore_networks import build_network_from_entities, get_entity_graph\n",
                "import toolkit.risk_networks.config as config\n",
                "\n",
                "# Select a network\n",
                "selected_network_id = entity_df.select(pl.col(\"Network ID\").first()).item()\n",
                "\n",
                "c_nodes = community_nodes[selected_network_id]\n",
                "network_entities_graph = build_network_from_entities(\n",
                "    main_graph,\n",
                "    entity_to_community,\n",
                "    integrated_flags,\n",
                "    trimmed_degrees,\n",
                "    inferred_links,\n",
                "    c_nodes,\n",
                ")\n",
                "\n",
                "entity_selected=\"\"\n",
                "\n",
                "columns_to_link.append(config.entity_label)\n",
                "nodes, edges = get_entity_graph(\n",
                "    network_entities_graph,\n",
                "    entity_selected,\n",
                "    columns_to_link,\n",
                ")"
            ]
        },
        {
            "cell_type": "code",
            "execution_count": null,
            "metadata": {},
            "outputs": [],
            "source": [
                "nodes_list = []\n",
                "for node in nodes:\n",
                "    nodes_list.append((node['id'], node))\n",
                "edges_list = []\n",
                "for edge in edges:\n",
                "    edges_list.append((edge['source'], edge['target']))\n",
                "    "
            ]
        },
        {
            "cell_type": "code",
            "execution_count": null,
            "metadata": {},
            "outputs": [],
            "source": [
                "import networkx as nx\n",
                "\n",
                "graph1 = nx.Graph()\n",
                "graph1.add_nodes_from(nodes_list)\n",
                "graph1.add_edges_from(edges_list)\n",
                "  \n",
                "nx.draw(graph1)"
            ]
        },
        {
            "cell_type": "code",
            "execution_count": null,
            "metadata": {},
            "outputs": [],
            "source": [
                "# nx.write_gexf(graph1, \"network.gexf\")\n"
            ]
        }
    ],
    "metadata": {
        "kernelspec": {
            "display_name": ".venv",
            "language": "python",
            "name": "python3"
        },
        "language_info": {
            "codemirror_mode": {
                "name": "ipython",
                "version": 3
            },
            "file_extension": ".py",
            "mimetype": "text/x-python",
            "name": "python",
            "nbconvert_exporter": "python",
            "pygments_lexer": "ipython3",
            "version": "3.11.9"
        }
    },
    "nbformat": 4,
    "nbformat_minor": 2
}
