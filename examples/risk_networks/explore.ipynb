{
    "cells": [
        {
            "cell_type": "markdown",
            "metadata": {},
            "source": [
                "Steps:\n",
                "\n",
                "\n",
                "1. Create data model\n",
                "    - attributes\n",
                "    - flags\n",
                "    - groups\n",
                "\n",
                "2. Process data model\n",
                "    - index nodes \n",
                "    - infer nodes \n",
                "    - detect networks\n",
                "    \n",
                "**3. Explore networks**\n",
                "\n",
                "4. Generate AI reports"
            ]
        },
        {
            "cell_type": "markdown",
            "metadata": {},
            "source": [
                "# 3. Explore networks"
            ]
        },
        {
            "cell_type": "markdown",
            "metadata": {},
            "source": [
                "## Detect networks"
            ]
        },
        {
            "cell_type": "code",
            "execution_count": null,
            "metadata": {},
            "outputs": [],
            "source": [
                "#%pip install ucimlrepo\n",
                "import sys\n",
                "from ucimlrepo import fetch_ucirepo\n",
                "import polars as pl\n",
                "\n",
                "sys.path.append(\"../..\")\n",
                "\n",
                "from toolkit.risk_networks.prepare_model import build_model_with_attributes\n",
                "\n",
                "\n",
                "computer_hardware  = fetch_ucirepo(id=29)\n",
                "\n",
                "\n",
                "input_dataframe = pl.DataFrame(computer_hardware.data.original)\n",
                "pl.Config.set_fmt_str_lengths(200)\n",
                "input_dataframe.head()\n",
                "\n",
                "entity_id_column = \"VendorName\"\n",
                "columns_to_link = [\"ModelName\", \"MYCT\", \"MMIN\", \"MMAX\", \"CACH\", \"CHMIN\", \"CHMAX\", \"PRP\", \"ERP\"]\n",
                "\n",
                "\n",
                "main_graph = build_model_with_attributes(input_dataframe, entity_id_column, columns_to_link)"
            ]
        },
        {
            "cell_type": "code",
            "execution_count": null,
            "metadata": {},
            "outputs": [],
            "source": [
                "from collections import defaultdict\n",
                "\n",
                "\n",
                "max_attribute_degree = 10\n",
                "max_network_size=20\n",
                "supporting_attribute_types=[]\n",
                "inferred_links = defaultdict(set)\n",
                "additional_trimmed_attributes=[]\n",
                "integrated_flags = pl.DataFrame()\n",
                "group_links = []"
            ]
        },
        {
            "cell_type": "code",
            "execution_count": null,
            "metadata": {},
            "outputs": [],
            "source": [
                "#Identify\n",
                "from toolkit.risk_networks.identify_networks import build_entity_records, build_networks, trim_nodeset\n",
                "\n",
                "\n",
                "(trimmed_degrees, trimmed_nodes) = trim_nodeset(\n",
                "    main_graph,\n",
                "    additional_trimmed_attributes,\n",
                "    max_attribute_degree,\n",
                ")\n",
                "\n",
                "(\n",
                "    community_nodes,\n",
                "    entity_to_community,\n",
                ") = build_networks(\n",
                "    main_graph,\n",
                "    trimmed_nodes,\n",
                "    inferred_links,\n",
                "    supporting_attribute_types,\n",
                "    max_network_size,\n",
                ")\n",
                "\n",
                "entity_records = build_entity_records(\n",
                "    community_nodes,\n",
                "    integrated_flags,\n",
                ")"
            ]
        },
        {
            "cell_type": "markdown",
            "metadata": {},
            "source": [
                "## Network data by Entity "
            ]
        },
        {
            "cell_type": "code",
            "execution_count": null,
            "metadata": {},
            "outputs": [],
            "source": [
                "entity_df = pl.DataFrame(\n",
                "                    entity_records,\n",
                "                    schema=[\n",
                "                        \"Entity ID\",\n",
                "                        \"Entity Flags\",\n",
                "                        \"Network ID\",\n",
                "                        \"Network Entities\",\n",
                "                        \"Network Flags\",\n",
                "                        \"Flagged\",\n",
                "                        \"Flags/Entity\",\n",
                "                        \"Flagged/Unflagged\",\n",
                "                    ],\n",
                "                ).sort(\"Flagged/Unflagged\", descending=True)\n",
                "\n",
                "entity_df.head()"
            ]
        },
        {
            "cell_type": "code",
            "execution_count": null,
            "metadata": {},
            "outputs": [],
            "source": [
                "from toolkit.risk_networks.explore_networks import build_network_from_entities, get_entity_graph\n",
                "from toolkit.risk_networks.config import ENTITY_LABEL\n",
                "\n",
                "# Select a network\n",
                "selected_network_id = entity_df.select(pl.col(\"Network ID\").first()).item()\n",
                "\n",
                "c_nodes = community_nodes[selected_network_id]\n",
                "network_entities_graph = build_network_from_entities(\n",
                "    main_graph,\n",
                "    entity_to_community,\n",
                "    integrated_flags,\n",
                "    trimmed_degrees,\n",
                "    inferred_links,\n",
                "    c_nodes,\n",
                ")\n",
                "\n",
                "entity_selected=\"\"\n",
                "\n",
                "columns_to_link.append(ENTITY_LABEL)\n",
                "nodes, edges = get_entity_graph(\n",
                "    network_entities_graph,\n",
                "    entity_selected,\n",
                "    columns_to_link,\n",
                ")"
            ]
        },
        {
            "cell_type": "code",
            "execution_count": null,
            "metadata": {},
            "outputs": [],
            "source": [
                "pl.DataFrame(nodes).head()"
            ]
        },
        {
            "cell_type": "code",
            "execution_count": null,
            "metadata": {},
            "outputs": [],
            "source": [
                "pl.DataFrame(edges).head()"
            ]
        }
    ],
    "metadata": {
        "kernelspec": {
            "display_name": ".venv",
            "language": "python",
            "name": "python3"
        },
        "language_info": {
            "codemirror_mode": {
                "name": "ipython",
                "version": 3
            },
            "file_extension": ".py",
            "mimetype": "text/x-python",
            "name": "python",
            "nbconvert_exporter": "python",
            "pygments_lexer": "ipython3",
            "version": "3.11.9"
        }
    },
    "nbformat": 4,
    "nbformat_minor": 2
}
