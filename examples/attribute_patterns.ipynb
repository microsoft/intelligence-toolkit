{
    "cells": [
        {
            "cell_type": "markdown",
            "metadata": {},
            "source": [
                "# Attribute Patterns"
            ]
        },
        {
            "cell_type": "markdown",
            "metadata": {},
            "source": [
                "Steps:\n",
                "1. Prepare Data\n",
                "2. Generate Graph Model with Dataset\n",
                "3. Detect patterns\n",
                "    1. Prepare Graph\n",
                "    2. Generate Embedding\n",
                "    3. Detect Patterns"
            ]
        },
        {
            "cell_type": "markdown",
            "metadata": {},
            "source": [
                "## 1. Prepare Data"
            ]
        },
        {
            "cell_type": "code",
            "execution_count": 3,
            "metadata": {},
            "outputs": [],
            "source": [
                "#%pip install ucimlrepo\n",
                "\n",
                "import sys\n",
                "from ucimlrepo import fetch_ucirepo\n",
                "\n",
                "sys.path.append(\"..\")\n",
                "ozone_level_detection = fetch_ucirepo(id=172)"
            ]
        },
        {
            "cell_type": "code",
            "execution_count": 4,
            "metadata": {},
            "outputs": [],
            "source": [
                "import pandas as pd\n",
                "\n",
                "\n",
                "input_dataframe = pd.DataFrame(ozone_level_detection.data.original)\n",
                "input_dataframe = input_dataframe.head(1000)\n",
                "\n",
                "#transform date info yearly only\n",
                "input_dataframe[\"Date\"] = pd.to_datetime(input_dataframe[\"Date\"])\n",
                "input_dataframe[\"Date\"] = input_dataframe[\"Date\"].dt.year\n",
                "\n",
                "#only columns Date, WSR0  WSR1  WSR2  WSR3  WSR4\n",
                "input_dataframe = input_dataframe[[\"Dataset\",\"Date\", \"WSR0\", \"WSR1\", \"WSR2\", \"WSR3\", \"WSR4\"]]\n"
            ]
        },
        {
            "cell_type": "code",
            "execution_count": null,
            "metadata": {},
            "outputs": [],
            "source": [
                "# Prepare data\n",
                "\n",
                "from toolkit.attribute_patterns.model import prepare_data\n",
                "\n",
                "data_prepared = prepare_data(input_dataframe)"
            ]
        },
        {
            "cell_type": "markdown",
            "metadata": {},
            "source": [
                "## 1. Generate Graph Model with Dataset"
            ]
        },
        {
            "cell_type": "code",
            "execution_count": null,
            "metadata": {},
            "outputs": [],
            "source": [
                "from toolkit.attribute_patterns.model import generate_graph_model\n",
                "\n",
                "period_col = \"Date\"\n",
                "model = generate_graph_model(data_prepared, period_col)\n",
                "print(\n",
                "    f'Graph model has **{len(model)}** links spanning **{len(model[\"Subject ID\"].unique())}** cases, **{len(model[\"Full Attribute\"].unique())}** attributes, and **{len(model[\"Period\"].unique())}** periods.'\n",
                ")"
            ]
        },
        {
            "cell_type": "markdown",
            "metadata": {},
            "source": [
                "## 2. Detect Pattern Steps"
            ]
        },
        {
            "cell_type": "markdown",
            "metadata": {},
            "source": [
                "### 1.Prepare Graph"
            ]
        },
        {
            "cell_type": "code",
            "execution_count": null,
            "metadata": {},
            "outputs": [],
            "source": [
                "from toolkit.attribute_patterns.model import prepare_graph\n",
                "\n",
                "graph_df, time_to_graph = prepare_graph(model)\n",
                "print(graph_df)\n",
                "print(time_to_graph)"
            ]
        },
        {
            "cell_type": "markdown",
            "metadata": {},
            "source": [
                "### 2. Generate Embedding"
            ]
        },
        {
            "cell_type": "code",
            "execution_count": null,
            "metadata": {},
            "outputs": [],
            "source": [
                "from toolkit.attribute_patterns.embedding import generate_embedding\n",
                "\n",
                "embedding_df, node_to_centroid, period_embeddings = generate_embedding(\n",
                "    graph_df, time_to_graph\n",
                ")"
            ]
        },
        {
            "cell_type": "markdown",
            "metadata": {},
            "source": [
                "### 3. Detect Patterns"
            ]
        },
        {
            "cell_type": "code",
            "execution_count": null,
            "metadata": {},
            "outputs": [],
            "source": [
                "from toolkit.attribute_patterns.model import detect_patterns\n",
                "\n",
                "min_pattern_count = 15\n",
                "max_pattern_length = 10\n",
                "\n",
                "pattern_df, close_pairs, all_pairs = detect_patterns(\n",
                "    node_to_centroid, period_embeddings, model, min_pattern_count, max_pattern_length\n",
                ")\n",
                "print(pattern_df.head(10))"
            ]
        },
        {
            "cell_type": "code",
            "execution_count": null,
            "metadata": {},
            "outputs": [],
            "source": [
                "period_count = len(pattern_df[\"period\"].unique())\n",
                "pattern_count = len(pattern_df)\n",
                "unique_count = len(pattern_df[\"pattern\"].unique())\n",
                "print(\n",
                "    f\"Over **{period_count}** periods, detected **{pattern_count}** attribute patterns (**{unique_count}** unique) from **{close_pairs}**/**{all_pairs}** converging attribute pairs (**{round(close_pairs / all_pairs * 100, 2) if all_pairs > 0 else 0}%**). Patterns ranked by ```overall_score = normalize(length * ln(count) * z_score * detections)```.\"\n",
                ")"
            ]
        },
        {
            "cell_type": "markdown",
            "metadata": {},
            "source": [
                "## Generate AI Report"
            ]
        },
        {
            "cell_type": "code",
            "execution_count": null,
            "metadata": {},
            "outputs": [],
            "source": [
                "import os\n",
                "from toolkit.AI.openai_configuration import OpenAIConfiguration\n",
                "from toolkit.AI.client import OpenAIClient\n",
                "from toolkit.attribute_patterns.model import (\n",
                "    compute_attribute_counts,\n",
                "    create_time_series_df,\n",
                "    prepare_for_ai_report,\n",
                ")\n",
                "\n",
                "# chose a pattern\n",
                "pattern_row = pattern_df.iloc[0]\n",
                "pattern = pattern_row[\"pattern\"]\n",
                "period = pattern_row[\"period\"]\n",
                "\n",
                "time_series = create_time_series_df(model, pattern_df)\n",
                "\n",
                "att_counts = compute_attribute_counts(input_dataframe, pattern, period_col, period)\n",
                "\n",
                "messages = prepare_for_ai_report(pattern, period, time_series, att_counts)\n",
                "print(messages)\n",
                "\n",
                "ai_configuration = OpenAIConfiguration({\n",
                "    \"api_type\": \"OpenAI\",\n",
                "    \"api_key\": os.getenv(\"OPENAI_API_KEY\"),\n",
                "    \"model\": \"gpt-4o-2024-08-06\",\n",
                "})\n",
                "\n",
                "report = OpenAIClient(ai_configuration).generate_chat(messages, stream=False)\n",
                "print(report)"
            ]
        }
    ],
    "metadata": {
        "kernelspec": {
            "display_name": "venv",
            "language": "python",
            "name": "python3"
        },
        "language_info": {
            "codemirror_mode": {
                "name": "ipython",
                "version": 3
            },
            "file_extension": ".py",
            "mimetype": "text/x-python",
            "name": "python",
            "nbconvert_exporter": "python",
            "pygments_lexer": "ipython3",
            "version": "3.12.1"
        }
    },
    "nbformat": 4,
    "nbformat_minor": 2
}
